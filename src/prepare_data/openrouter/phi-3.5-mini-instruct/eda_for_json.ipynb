{
 "cells": [
  {
   "cell_type": "markdown",
   "metadata": {},
   "source": [
    "# JSON Question Data NaN Values Analysis\n",
    "\n",
    "Comprehensive analysis of missing values in question data."
   ]
  },
  {
   "cell_type": "code",
   "execution_count": 19,
   "metadata": {},
   "outputs": [],
   "source": [
    "# Import required libraries\n",
    "import json\n",
    "import pandas as pd\n",
    "import numpy as np\n",
    "import matplotlib.pyplot as plt\n",
    "import seaborn as sns"
   ]
  },
  {
   "cell_type": "code",
   "execution_count": 25,
   "metadata": {},
   "outputs": [
    {
     "name": "stdout",
     "output_type": "stream",
     "text": [
      "Total number of items: 1576\n",
      "\n",
      "Structure of first item:\n",
      "{\n",
      "  \"folder\": \"IC-353\",\n",
      "  \"content\": \"{{knowledge objective\\n|Identifiant=OIC-353-08-A\\n|Item_parent=Suicidal risk and behaviour in children, adolescents and adults: identification and management\\n|Item_parent_short=Suicidal risk and behaviour in children, adolescents and adults: identification and management\\n|Rank=A\\n|Title=Knowing what to do in an emergency\\n|Description=None\\n|Rubric=Management\\n|Contributors=Pierre Vandel\\n|Order=8}}\\nFor people in a suicidal crisis or in the immediate aftermath of a suicide attack.\\n\\nA quiet welcome.\\n\\nKeeping the patient safe.\\n\\nA doctor must decide whether to admit the patient to hospital.\\n\\n'''Systematic psychiatric opinion:'''\\n\\nOnce her non-psychiatric clinical condition has stabilised\\n\\nPurpose of the psychiatric interview :\\n\\n* Assess the potential for suicidal crisis (risk/urgency/dangerousness), evaluate associated psychiatric disorders and guide treatment.\\n* Decide on the indication for medicinal treatment\\n** sedative or anxiolytic in case of agitation or severe anxiety;\\n** hypnotic in the case of severe transient insomnia.\\n** prescription for symptomatic purposes, limited in time.\",\n",
      "  \"question\": {\n",
      "    \"question\": \"What is the primary purpose of a psychiatric interview in the context of a suicidal crisis?\",\n",
      "    \"option_a\": \"To decide on the indication for medicinal treatment, such as sedatives or anxiolytics\",\n",
      "    \"option_b\": \"To assess the potential for suicidal crisis, evaluate associated psychiatric disorders, and guide treatment\",\n",
      "    \"option_c\": \"To determine the need for hospital admission and develop a treatment plan\",\n",
      "    \"option_d\": \"To provide a quiet welcome and keep the patient safe\",\n",
      "    \"correct_option\": \"B\"\n",
      "  }\n",
      "}\n"
     ]
    }
   ],
   "source": [
    "# Load the JSON file\n",
    "# Replace 'your_file.json' with the path to your actual JSON file\n",
    "#with open('test_generated_questions.json', 'r', encoding='utf-8') as file:\n",
    "with open('test_generated_questions-filtered.json', 'r', encoding='utf-8') as file:\n",
    "    data = json.load(file)\n",
    "\n",
    "# Detailed data inspection\n",
    "print(\"Total number of items:\", len(data))\n",
    "print(\"\\nStructure of first item:\")\n",
    "print(json.dumps(data[0], indent=2))"
   ]
  },
  {
   "cell_type": "code",
   "execution_count": 26,
   "metadata": {},
   "outputs": [
    {
     "name": "stdout",
     "output_type": "stream",
     "text": [
      "Flattened DataFrame Columns:\n",
      "Index(['folder', 'content', 'question', 'option_a', 'option_b', 'option_c',\n",
      "       'option_d', 'correct_option'],\n",
      "      dtype='object')\n"
     ]
    }
   ],
   "source": [
    "# Flatten the nested JSON structure\n",
    "def flatten_json_data(data):\n",
    "    \"\"\"\n",
    "    Flatten nested JSON data with specific columns\n",
    "    \n",
    "    Parameters:\n",
    "    data (list): List of nested JSON objects\n",
    "    \n",
    "    Returns:\n",
    "    pandas.DataFrame: Flattened DataFrame\n",
    "    \"\"\"\n",
    "    flattened_data = []\n",
    "    for item in data:\n",
    "        # Extract question data with default to NaN if not present\n",
    "        question_data = item.get('question', {})\n",
    "        \n",
    "        flattened_item = {\n",
    "            'folder': item.get('folder', np.nan),\n",
    "            'content': item.get('content', np.nan),\n",
    "            'question': question_data.get('question', np.nan),\n",
    "            'option_a': question_data.get('option_a', np.nan),\n",
    "            'option_b': question_data.get('option_b', np.nan),\n",
    "            'option_c': question_data.get('option_c', np.nan),\n",
    "            'option_d': question_data.get('option_d', np.nan),\n",
    "            'correct_option': question_data.get('correct_option', np.nan)\n",
    "        }\n",
    "        \n",
    "        flattened_data.append(flattened_item)\n",
    "    \n",
    "    return pd.DataFrame(flattened_data)\n",
    "\n",
    "# Convert to DataFrame\n",
    "df_flat = flatten_json_data(data)\n",
    "\n",
    "print(\"Flattened DataFrame Columns:\")\n",
    "print(df_flat.columns)"
   ]
  },
  {
   "cell_type": "code",
   "execution_count": 27,
   "metadata": {},
   "outputs": [
    {
     "name": "stdout",
     "output_type": "stream",
     "text": [
      "NaN Values Analysis:\n",
      "                Total_Rows  NaN_Count  NaN_Percentage Data_Type\n",
      "folder                1576          0             0.0    object\n",
      "content               1576          0             0.0    object\n",
      "question              1576          0             0.0    object\n",
      "option_a              1576          0             0.0    object\n",
      "option_b              1576          0             0.0    object\n",
      "option_c              1576          0             0.0    object\n",
      "option_d              1576          0             0.0    object\n",
      "correct_option        1576          0             0.0    object\n"
     ]
    }
   ],
   "source": [
    "# NaN Analysis Function\n",
    "def analyze_nan_values(dataframe):\n",
    "    \"\"\"\n",
    "    Analyze NaN values in a DataFrame.\n",
    "    \n",
    "    Parameters:\n",
    "    dataframe (pandas.DataFrame): Input dataframe\n",
    "    \n",
    "    Returns:\n",
    "    pandas.DataFrame: A summary of NaN values for each column\n",
    "    \"\"\"\n",
    "    # Calculate total number of rows\n",
    "    total_rows = len(dataframe)\n",
    "    \n",
    "    # Create a summary dataframe of NaN values\n",
    "    nan_summary = pd.DataFrame({\n",
    "        'Total_Rows': total_rows,\n",
    "        'NaN_Count': dataframe.isna().sum(),\n",
    "        'NaN_Percentage': (dataframe.isna().sum() / total_rows * 100).round(2),\n",
    "        'Data_Type': dataframe.dtypes\n",
    "    })\n",
    "    \n",
    "    # Sort the summary by NaN percentage in descending order\n",
    "    nan_summary = nan_summary.sort_values('NaN_Percentage', ascending=False)\n",
    "    \n",
    "    return nan_summary\n",
    "\n",
    "# Perform NaN analysis\n",
    "nan_analysis = analyze_nan_values(df_flat)\n",
    "print(\"NaN Values Analysis:\")\n",
    "print(nan_analysis)"
   ]
  },
  {
   "cell_type": "code",
   "execution_count": null,
   "metadata": {},
   "outputs": [],
   "source": [
    "# Visualize NaN distribution\n",
    "plt.figure(figsize=(15, 8))\n",
    "sns.heatmap(df_flat.isna(), yticklabels=False, cbar=False, cmap='viridis')\n",
    "plt.title('NaN Value Distribution Across Columns')\n",
    "plt.xlabel('Columns')\n",
    "plt.ylabel('Rows')\n",
    "plt.xticks(rotation=90, ha='right')\n",
    "plt.tight_layout()\n",
    "plt.show()"
   ]
  },
  {
   "cell_type": "code",
   "execution_count": null,
   "metadata": {},
   "outputs": [],
   "source": [
    "# Bar plot of NaN percentages\n",
    "plt.figure(figsize=(15, 8))\n",
    "nan_analysis['NaN_Percentage'].plot(kind='bar')\n",
    "plt.title('Percentage of NaN Values by Column')\n",
    "plt.xlabel('Columns')\n",
    "plt.ylabel('NaN Percentage')\n",
    "plt.xticks(rotation=90, ha='right')\n",
    "plt.tight_layout()\n",
    "plt.show()"
   ]
  },
  {
   "cell_type": "code",
   "execution_count": null,
   "metadata": {},
   "outputs": [],
   "source": [
    "# Detailed NaN analysis\n",
    "# In-depth analysis of columns with NaN values\n",
    "columns_with_nan = nan_analysis[nan_analysis['NaN_Count'] > 0]\n",
    "print(\"\\nColumns with NaN Values:\")\n",
    "print(columns_with_nan)\n",
    "\n",
    "# Calculate overall NaN coverage\n",
    "total_nan = nan_analysis['NaN_Count'].sum()\n",
    "total_cells = len(df_flat) * len(df_flat.columns)\n",
    "overall_nan_percentage = (total_nan / total_cells * 100).round(2)\n",
    "print(f\"\\nOverall NaN coverage: {overall_nan_percentage}%\")"
   ]
  },
  {
   "cell_type": "code",
   "execution_count": null,
   "metadata": {},
   "outputs": [],
   "source": [
    "# Export results for further analysis\n",
    "# Export NaN analysis to CSV\n",
    "nan_analysis.to_csv('nan_analysis_summary.csv')\n",
    "\n",
    "# Export rows with NaN values\n",
    "df_with_nan = df_flat[df_flat.isna().any(axis=1)]\n",
    "df_with_nan.to_csv('rows_with_nan.csv', index=False)\n",
    "\n",
    "print(\"Analysis results exported to CSV files.\")"
   ]
  },
  {
   "cell_type": "markdown",
   "metadata": {},
   "source": [
    "## Insights and Recommendations\n",
    "\n",
    "1. Review columns with high NaN percentages\n",
    "2. Understand the context of missing data\n",
    "3. Consider data collection or preprocessing improvements\n",
    "4. Check exported CSV files for detailed NaN information"
   ]
  }
 ],
 "metadata": {
  "kernelspec": {
   "display_name": "Python 3 (ipykernel)",
   "language": "python",
   "name": "python3"
  },
  "language_info": {
   "codemirror_mode": {
    "name": "ipython",
    "version": 3
   },
   "file_extension": ".py",
   "mimetype": "text/x-python",
   "name": "python",
   "nbconvert_exporter": "python",
   "pygments_lexer": "ipython3",
   "version": "3.11.9"
  }
 },
 "nbformat": 4,
 "nbformat_minor": 4
}
