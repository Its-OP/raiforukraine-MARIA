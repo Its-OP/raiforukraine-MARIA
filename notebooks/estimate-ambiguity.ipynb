{
 "cells": [
  {
   "cell_type": "markdown",
   "id": "32fe0dd8",
   "metadata": {
    "papermill": {
     "duration": 0.004234,
     "end_time": "2024-11-30T20:22:23.568115",
     "exception": false,
     "start_time": "2024-11-30T20:22:23.563881",
     "status": "completed"
    },
    "tags": []
   },
   "source": [
    "# Prepare Data"
   ]
  },
  {
   "cell_type": "code",
   "execution_count": 1,
   "id": "a161153c",
   "metadata": {
    "execution": {
     "iopub.execute_input": "2024-11-30T20:22:23.577621Z",
     "iopub.status.busy": "2024-11-30T20:22:23.576800Z",
     "iopub.status.idle": "2024-11-30T20:22:24.435627Z",
     "shell.execute_reply": "2024-11-30T20:22:24.434492Z"
    },
    "executionInfo": {
     "elapsed": 7737,
     "status": "ok",
     "timestamp": 1732542913903,
     "user": {
      "displayName": "Viacheslav",
      "userId": "07081484444793876006"
     },
     "user_tz": -120
    },
    "id": "qOAdy3hsYTYB",
    "outputId": "3adfc313-3dbd-4110-c80b-dd57fed87fa8",
    "papermill": {
     "duration": 0.866301,
     "end_time": "2024-11-30T20:22:24.438154",
     "exception": false,
     "start_time": "2024-11-30T20:22:23.571853",
     "status": "completed"
    },
    "tags": []
   },
   "outputs": [],
   "source": [
    "import os\n",
    "import pandas as pd\n",
    "import json"
   ]
  },
  {
   "cell_type": "code",
   "execution_count": 2,
   "id": "29de08de",
   "metadata": {
    "execution": {
     "iopub.execute_input": "2024-11-30T20:22:24.447221Z",
     "iopub.status.busy": "2024-11-30T20:22:24.446697Z",
     "iopub.status.idle": "2024-11-30T20:22:24.573460Z",
     "shell.execute_reply": "2024-11-30T20:22:24.572353Z"
    },
    "id": "yUrbHaLOdUXm",
    "papermill": {
     "duration": 0.133918,
     "end_time": "2024-11-30T20:22:24.575972",
     "exception": false,
     "start_time": "2024-11-30T20:22:24.442054",
     "status": "completed"
    },
    "tags": []
   },
   "outputs": [],
   "source": [
    "dataframes = []\n",
    "for root, dirs, _ in os.walk('/kaggle/input/finetuned-mcqs'):\n",
    "    for dir in dirs:\n",
    "        subfolder_path = os.path.join(root, dir)\n",
    "        with open(f'{subfolder_path}/mcqs.json', 'r') as file:\n",
    "            json_data = json.load(file)\n",
    "            decoded_data = [json.loads(item) for item in json_data]\n",
    "            df = pd.json_normalize(decoded_data)\n",
    "            dataframes.append((dir, df))"
   ]
  },
  {
   "cell_type": "markdown",
   "id": "ff313199",
   "metadata": {
    "papermill": {
     "duration": 0.003285,
     "end_time": "2024-11-30T20:22:24.582900",
     "exception": false,
     "start_time": "2024-11-30T20:22:24.579615",
     "status": "completed"
    },
    "tags": []
   },
   "source": [
    "# Prepare the estimator-model"
   ]
  },
  {
   "cell_type": "code",
   "execution_count": 3,
   "id": "1cccc635",
   "metadata": {
    "execution": {
     "iopub.execute_input": "2024-11-30T20:22:24.592005Z",
     "iopub.status.busy": "2024-11-30T20:22:24.591178Z",
     "iopub.status.idle": "2024-11-30T20:22:37.480831Z",
     "shell.execute_reply": "2024-11-30T20:22:37.479601Z"
    },
    "papermill": {
     "duration": 12.897102,
     "end_time": "2024-11-30T20:22:37.483513",
     "exception": false,
     "start_time": "2024-11-30T20:22:24.586411",
     "status": "completed"
    },
    "tags": []
   },
   "outputs": [
    {
     "name": "stdout",
     "output_type": "stream",
     "text": [
      "Collecting openai\r\n",
      "  Downloading openai-1.55.3-py3-none-any.whl.metadata (24 kB)\r\n",
      "Requirement already satisfied: anyio<5,>=3.5.0 in /opt/conda/lib/python3.10/site-packages (from openai) (4.4.0)\r\n",
      "Requirement already satisfied: distro<2,>=1.7.0 in /opt/conda/lib/python3.10/site-packages (from openai) (1.9.0)\r\n",
      "Requirement already satisfied: httpx<1,>=0.23.0 in /opt/conda/lib/python3.10/site-packages (from openai) (0.27.0)\r\n",
      "Collecting jiter<1,>=0.4.0 (from openai)\r\n",
      "  Downloading jiter-0.8.0-cp310-cp310-manylinux_2_17_x86_64.manylinux2014_x86_64.whl.metadata (5.2 kB)\r\n",
      "Requirement already satisfied: pydantic<3,>=1.9.0 in /opt/conda/lib/python3.10/site-packages (from openai) (2.9.2)\r\n",
      "Requirement already satisfied: sniffio in /opt/conda/lib/python3.10/site-packages (from openai) (1.3.1)\r\n",
      "Requirement already satisfied: tqdm>4 in /opt/conda/lib/python3.10/site-packages (from openai) (4.66.4)\r\n",
      "Requirement already satisfied: typing-extensions<5,>=4.11 in /opt/conda/lib/python3.10/site-packages (from openai) (4.12.2)\r\n",
      "Requirement already satisfied: idna>=2.8 in /opt/conda/lib/python3.10/site-packages (from anyio<5,>=3.5.0->openai) (3.7)\r\n",
      "Requirement already satisfied: exceptiongroup>=1.0.2 in /opt/conda/lib/python3.10/site-packages (from anyio<5,>=3.5.0->openai) (1.2.0)\r\n",
      "Requirement already satisfied: certifi in /opt/conda/lib/python3.10/site-packages (from httpx<1,>=0.23.0->openai) (2024.8.30)\r\n",
      "Requirement already satisfied: httpcore==1.* in /opt/conda/lib/python3.10/site-packages (from httpx<1,>=0.23.0->openai) (1.0.5)\r\n",
      "Requirement already satisfied: h11<0.15,>=0.13 in /opt/conda/lib/python3.10/site-packages (from httpcore==1.*->httpx<1,>=0.23.0->openai) (0.14.0)\r\n",
      "Requirement already satisfied: annotated-types>=0.6.0 in /opt/conda/lib/python3.10/site-packages (from pydantic<3,>=1.9.0->openai) (0.7.0)\r\n",
      "Requirement already satisfied: pydantic-core==2.23.4 in /opt/conda/lib/python3.10/site-packages (from pydantic<3,>=1.9.0->openai) (2.23.4)\r\n",
      "Downloading openai-1.55.3-py3-none-any.whl (389 kB)\r\n",
      "\u001b[2K   \u001b[90m━━━━━━━━━━━━━━━━━━━━━━━━━━━━━━━━━━━━━━━━\u001b[0m \u001b[32m389.6/389.6 kB\u001b[0m \u001b[31m7.9 MB/s\u001b[0m eta \u001b[36m0:00:00\u001b[0m\r\n",
      "\u001b[?25hDownloading jiter-0.8.0-cp310-cp310-manylinux_2_17_x86_64.manylinux2014_x86_64.whl (343 kB)\r\n",
      "\u001b[2K   \u001b[90m━━━━━━━━━━━━━━━━━━━━━━━━━━━━━━━━━━━━━━━━\u001b[0m \u001b[32m343.6/343.6 kB\u001b[0m \u001b[31m16.8 MB/s\u001b[0m eta \u001b[36m0:00:00\u001b[0m\r\n",
      "\u001b[?25hInstalling collected packages: jiter, openai\r\n",
      "Successfully installed jiter-0.8.0 openai-1.55.3\r\n"
     ]
    }
   ],
   "source": [
    "!pip install openai"
   ]
  },
  {
   "cell_type": "code",
   "execution_count": 4,
   "id": "2f36c748",
   "metadata": {
    "execution": {
     "iopub.execute_input": "2024-11-30T20:22:37.495171Z",
     "iopub.status.busy": "2024-11-30T20:22:37.493993Z",
     "iopub.status.idle": "2024-11-30T20:22:38.543567Z",
     "shell.execute_reply": "2024-11-30T20:22:38.542590Z"
    },
    "papermill": {
     "duration": 1.057991,
     "end_time": "2024-11-30T20:22:38.546143",
     "exception": false,
     "start_time": "2024-11-30T20:22:37.488152",
     "status": "completed"
    },
    "tags": []
   },
   "outputs": [],
   "source": [
    "from openai import OpenAI\n",
    "from kaggle_secrets import UserSecretsClient"
   ]
  },
  {
   "cell_type": "code",
   "execution_count": 5,
   "id": "54bf98b5",
   "metadata": {
    "execution": {
     "iopub.execute_input": "2024-11-30T20:22:38.557461Z",
     "iopub.status.busy": "2024-11-30T20:22:38.556426Z",
     "iopub.status.idle": "2024-11-30T20:22:38.847209Z",
     "shell.execute_reply": "2024-11-30T20:22:38.846286Z"
    },
    "id": "2Mq9aewWYV1C",
    "papermill": {
     "duration": 0.298973,
     "end_time": "2024-11-30T20:22:38.849740",
     "exception": false,
     "start_time": "2024-11-30T20:22:38.550767",
     "status": "completed"
    },
    "tags": []
   },
   "outputs": [],
   "source": [
    "OPENAI_KEY = UserSecretsClient().get_secret(\"OPENAI_KEY\")\n",
    "client = OpenAI(api_key = OPENAI_KEY)\n",
    "\n",
    "def call_openai_api(system_prompt, user_prompt):\n",
    "    try:\n",
    "        response = client.chat.completions.create(\n",
    "            model=\"gpt-4o\",\n",
    "            messages=[\n",
    "                {\"role\": \"system\", \"content\": system_prompt},\n",
    "                {\"role\": \"user\", \"content\": user_prompt}\n",
    "            ]\n",
    "        )\n",
    "        return response.choices[0].message.content\n",
    "    except Exception as e:\n",
    "        print(f\"Error occurred: {e}\")\n",
    "        return None"
   ]
  },
  {
   "cell_type": "code",
   "execution_count": 6,
   "id": "6e7f2eb0",
   "metadata": {
    "execution": {
     "iopub.execute_input": "2024-11-30T20:22:38.860531Z",
     "iopub.status.busy": "2024-11-30T20:22:38.860108Z",
     "iopub.status.idle": "2024-11-30T20:22:38.865445Z",
     "shell.execute_reply": "2024-11-30T20:22:38.864458Z"
    },
    "id": "QdNlUEzfTg5M",
    "papermill": {
     "duration": 0.013069,
     "end_time": "2024-11-30T20:22:38.867305",
     "exception": false,
     "start_time": "2024-11-30T20:22:38.854236",
     "status": "completed"
    },
    "tags": []
   },
   "outputs": [],
   "source": [
    "system_prompt = \"\"\"You are tasked with evaluating the ambiguity of a multiple-choice question intended for use in a medical institution exam. Please assess the quality of ambiguity on a scale of 1 to 5, where:\n",
    "1 indicates that the question has no meaningful ambiguity, with options that are either irrelevant, too obvious, or completely unrelated to the question.\n",
    "5 indicates that the question has excellent ambiguity, with distractors that are plausible, logically related to the question, and reflective of common misconceptions or misunderstandings.\n",
    "Provide only a score from 1 to 5.\n",
    "\"\"\""
   ]
  },
  {
   "cell_type": "markdown",
   "id": "25661b5b",
   "metadata": {
    "papermill": {
     "duration": 0.004223,
     "end_time": "2024-11-30T20:22:38.876949",
     "exception": false,
     "start_time": "2024-11-30T20:22:38.872726",
     "status": "completed"
    },
    "tags": []
   },
   "source": [
    "# Helper Functions"
   ]
  },
  {
   "cell_type": "code",
   "execution_count": 7,
   "id": "37948fba",
   "metadata": {
    "execution": {
     "iopub.execute_input": "2024-11-30T20:22:38.887503Z",
     "iopub.status.busy": "2024-11-30T20:22:38.887058Z",
     "iopub.status.idle": "2024-11-30T20:22:38.904350Z",
     "shell.execute_reply": "2024-11-30T20:22:38.903528Z"
    },
    "executionInfo": {
     "elapsed": 483786,
     "status": "ok",
     "timestamp": 1732543421981,
     "user": {
      "displayName": "Viacheslav",
      "userId": "07081484444793876006"
     },
     "user_tz": -120
    },
    "id": "V8awbqiFapfC",
    "outputId": "f4a93fb8-e26b-4d63-f8e2-c69a3e839892",
    "papermill": {
     "duration": 0.025314,
     "end_time": "2024-11-30T20:22:38.906655",
     "exception": false,
     "start_time": "2024-11-30T20:22:38.881341",
     "status": "completed"
    },
    "tags": []
   },
   "outputs": [],
   "source": [
    "from tqdm import tqdm\n",
    "import numpy as np\n",
    "\n",
    "tqdm.pandas()\n",
    "\n",
    "def generate_prompt_for_question(row):\n",
    "    question_text = row['question']\n",
    "    options = f\"a) {row['option_a']}\\nb) {row['option_b']}\\nc) {row['option_c']}\\nd) {row['option_d']}\"\n",
    "    user_prompt = f\"\"\"Question:\\n{question_text}\\nOptions:\\n{options}\"\"\"\n",
    "    try:\n",
    "        return call_openai_api(system_prompt, user_prompt)\n",
    "    except Exception as e:\n",
    "        print(f\"Error processing question at index {row.id}: {e}\")\n",
    "        return None"
   ]
  },
  {
   "cell_type": "code",
   "execution_count": 8,
   "id": "5f8a8592",
   "metadata": {
    "execution": {
     "iopub.execute_input": "2024-11-30T20:22:38.917814Z",
     "iopub.status.busy": "2024-11-30T20:22:38.916804Z",
     "iopub.status.idle": "2024-11-30T20:22:38.922644Z",
     "shell.execute_reply": "2024-11-30T20:22:38.921648Z"
    },
    "papermill": {
     "duration": 0.013451,
     "end_time": "2024-11-30T20:22:38.924606",
     "exception": false,
     "start_time": "2024-11-30T20:22:38.911155",
     "status": "completed"
    },
    "tags": []
   },
   "outputs": [],
   "source": [
    "def process_dataframe(model_name, df):\n",
    "    try:\n",
    "        df['rank'] = df.progress_apply(generate_prompt_for_question, axis=1)\n",
    "        # Save the processed batch to a file\n",
    "        df.to_csv(f'/kaggle/working/results_of_{model_name}.csv', index=False)\n",
    "    except Exception as e:\n",
    "        print(f\"Error occurred for model {model_name}: {e}\")\n",
    "        "
   ]
  },
  {
   "cell_type": "markdown",
   "id": "184738d2",
   "metadata": {
    "papermill": {
     "duration": 0.004139,
     "end_time": "2024-11-30T20:22:38.933242",
     "exception": false,
     "start_time": "2024-11-30T20:22:38.929103",
     "status": "completed"
    },
    "tags": []
   },
   "source": [
    "# Orchestration"
   ]
  },
  {
   "cell_type": "code",
   "execution_count": 9,
   "id": "6cddd905",
   "metadata": {
    "execution": {
     "iopub.execute_input": "2024-11-30T20:22:38.944075Z",
     "iopub.status.busy": "2024-11-30T20:22:38.943212Z",
     "iopub.status.idle": "2024-11-30T20:34:42.620156Z",
     "shell.execute_reply": "2024-11-30T20:34:42.618948Z"
    },
    "papermill": {
     "duration": 723.685178,
     "end_time": "2024-11-30T20:34:42.622819",
     "exception": false,
     "start_time": "2024-11-30T20:22:38.937641",
     "status": "completed"
    },
    "tags": []
   },
   "outputs": [
    {
     "name": "stdout",
     "output_type": "stream",
     "text": [
      "Processing results of model checkpoint-60\n"
     ]
    },
    {
     "name": "stderr",
     "output_type": "stream",
     "text": [
      "100%|██████████| 131/131 [01:09<00:00,  1.88it/s]\n"
     ]
    },
    {
     "name": "stdout",
     "output_type": "stream",
     "text": [
      "Processing results of model checkpoint-50\n"
     ]
    },
    {
     "name": "stderr",
     "output_type": "stream",
     "text": [
      "100%|██████████| 131/131 [01:06<00:00,  1.98it/s]\n"
     ]
    },
    {
     "name": "stdout",
     "output_type": "stream",
     "text": [
      "Processing results of model checkpoint-80\n"
     ]
    },
    {
     "name": "stderr",
     "output_type": "stream",
     "text": [
      "100%|██████████| 131/131 [01:08<00:00,  1.91it/s]\n"
     ]
    },
    {
     "name": "stdout",
     "output_type": "stream",
     "text": [
      "Processing results of model checkpoint-70\n"
     ]
    },
    {
     "name": "stderr",
     "output_type": "stream",
     "text": [
      "100%|██████████| 131/131 [01:02<00:00,  2.11it/s]\n"
     ]
    },
    {
     "name": "stdout",
     "output_type": "stream",
     "text": [
      "Processing results of model checkpoint-30\n"
     ]
    },
    {
     "name": "stderr",
     "output_type": "stream",
     "text": [
      "100%|██████████| 131/131 [01:03<00:00,  2.07it/s]\n"
     ]
    },
    {
     "name": "stdout",
     "output_type": "stream",
     "text": [
      "Processing results of model checkpoint-40\n"
     ]
    },
    {
     "name": "stderr",
     "output_type": "stream",
     "text": [
      "100%|██████████| 131/131 [01:03<00:00,  2.06it/s]\n"
     ]
    },
    {
     "name": "stdout",
     "output_type": "stream",
     "text": [
      "Processing results of model checkpoint-10\n"
     ]
    },
    {
     "name": "stderr",
     "output_type": "stream",
     "text": [
      "100%|██████████| 131/131 [01:04<00:00,  2.04it/s]\n"
     ]
    },
    {
     "name": "stdout",
     "output_type": "stream",
     "text": [
      "Processing results of model checkpoint-100\n"
     ]
    },
    {
     "name": "stderr",
     "output_type": "stream",
     "text": [
      "100%|██████████| 131/131 [01:04<00:00,  2.03it/s]\n"
     ]
    },
    {
     "name": "stdout",
     "output_type": "stream",
     "text": [
      "Processing results of model checkpoint-90\n"
     ]
    },
    {
     "name": "stderr",
     "output_type": "stream",
     "text": [
      "100%|██████████| 131/131 [01:05<00:00,  1.99it/s]\n"
     ]
    },
    {
     "name": "stdout",
     "output_type": "stream",
     "text": [
      "Processing results of model checkpoint-20\n"
     ]
    },
    {
     "name": "stderr",
     "output_type": "stream",
     "text": [
      "100%|██████████| 131/131 [01:08<00:00,  1.91it/s]\n"
     ]
    },
    {
     "name": "stdout",
     "output_type": "stream",
     "text": [
      "Processing results of model best_model\n"
     ]
    },
    {
     "name": "stderr",
     "output_type": "stream",
     "text": [
      "100%|██████████| 131/131 [01:07<00:00,  1.94it/s]\n"
     ]
    }
   ],
   "source": [
    "for model_name, df in dataframes:\n",
    "    print(f\"Processing results of model {model_name}\")\n",
    "    process_dataframe(model_name, df)"
   ]
  },
  {
   "cell_type": "code",
   "execution_count": 10,
   "id": "e753b263",
   "metadata": {
    "execution": {
     "iopub.execute_input": "2024-11-30T20:34:42.789412Z",
     "iopub.status.busy": "2024-11-30T20:34:42.788498Z",
     "iopub.status.idle": "2024-11-30T20:34:42.794252Z",
     "shell.execute_reply": "2024-11-30T20:34:42.793060Z"
    },
    "papermill": {
     "duration": 0.091542,
     "end_time": "2024-11-30T20:34:42.796506",
     "exception": false,
     "start_time": "2024-11-30T20:34:42.704964",
     "status": "completed"
    },
    "tags": []
   },
   "outputs": [],
   "source": [
    "# json_array =[\"{\\\"question\\\":\\\"What is the main purpose of an orthotic device classified under 'O. de d\\\\u00e9charge ou de semi-d\\\\u00e9charge'?\\\",\\\"option_a\\\":\\\"To improve mobility in the lower limbs.\\\",\\\"option_b\\\":\\\"To download and/or partially support the lower limbs.\\\",\\\"option_c\\\":\\\"To stabilize a limb joint.\\\",\\\"option_d\\\":\\\"To correct spinal deformity.\\\",\\\"correct_option\\\":\\\"b\\\",\\\"id\\\":\\\"OIC-328-06-B\\\"}\",\n",
    "#     \"{\\\"question\\\":\\\"What is the recommended indication for spa treatment that has shown validated clinical effectiveness according to AFRETH's clinical trials?\\\",\\\"option_a\\\":\\\"Dermatological conditions\\\",\\\"option_b\\\":\\\"Respiratory tract diseases\\\",\\\"option_c\\\":\\\"Rheumatological conditions\\\",\\\"option_d\\\":\\\"Psychosomatic disorders\\\",\\\"correct_option\\\":\\\"C\\\",\\\"id\\\":\\\"OIC-328-12-B\\\"}\",\n",
    "#     \"{\\\"question\\\":\\\"Which of the following is NOT an objective of orthotic treatment?\\\",\\\"option_a\\\":\\\"Stabilization\\\",\\\"option_b\\\":\\\"Correction\\\",\\\"option_c\\\":\\\"Downtime\\\",\\\"option_d\\\":\\\"Muscle strengthening\\\",\\\"correct_option\\\":\\\"D\\\",\\\"id\\\":\\\"OIC-328-05-A\\\"}\"]\n",
    "\n",
    "# decoded_data = [json.loads(item) for item in json_array]\n",
    "# df = pd.json_normalize(decoded_data)\n",
    "# df.head()"
   ]
  },
  {
   "cell_type": "code",
   "execution_count": 11,
   "id": "51f9323a",
   "metadata": {
    "execution": {
     "iopub.execute_input": "2024-11-30T20:34:42.960449Z",
     "iopub.status.busy": "2024-11-30T20:34:42.959411Z",
     "iopub.status.idle": "2024-11-30T20:34:42.964642Z",
     "shell.execute_reply": "2024-11-30T20:34:42.963651Z"
    },
    "papermill": {
     "duration": 0.088319,
     "end_time": "2024-11-30T20:34:42.966903",
     "exception": false,
     "start_time": "2024-11-30T20:34:42.878584",
     "status": "completed"
    },
    "tags": []
   },
   "outputs": [],
   "source": [
    "# process_dataframe('test', df)"
   ]
  }
 ],
 "metadata": {
  "colab": {
   "provenance": [
    {
     "file_id": "1Lexi7LPJt8ytz2Annd81NpBEWd2-OPPR",
     "timestamp": 1732995884579
    }
   ]
  },
  "kaggle": {
   "accelerator": "none",
   "dataSources": [
    {
     "datasetId": 6200465,
     "sourceId": 10061505,
     "sourceType": "datasetVersion"
    }
   ],
   "dockerImageVersionId": 30786,
   "isGpuEnabled": false,
   "isInternetEnabled": true,
   "language": "python",
   "sourceType": "notebook"
  },
  "kernelspec": {
   "display_name": "Python 3",
   "language": "python",
   "name": "python3"
  },
  "language_info": {
   "codemirror_mode": {
    "name": "ipython",
    "version": 3
   },
   "file_extension": ".py",
   "mimetype": "text/x-python",
   "name": "python",
   "nbconvert_exporter": "python",
   "pygments_lexer": "ipython3",
   "version": "3.10.14"
  },
  "papermill": {
   "default_parameters": {},
   "duration": 743.118084,
   "end_time": "2024-11-30T20:34:43.768890",
   "environment_variables": {},
   "exception": null,
   "input_path": "__notebook__.ipynb",
   "output_path": "__notebook__.ipynb",
   "parameters": {},
   "start_time": "2024-11-30T20:22:20.650806",
   "version": "2.6.0"
  }
 },
 "nbformat": 4,
 "nbformat_minor": 5
}
