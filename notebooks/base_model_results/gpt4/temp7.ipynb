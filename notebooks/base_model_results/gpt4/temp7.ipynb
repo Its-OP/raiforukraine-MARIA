{
 "nbformat": 4,
 "nbformat_minor": 0,
 "metadata": {
  "colab": {
   "provenance": []
  },
  "kernelspec": {
   "name": "python3",
   "display_name": "Python 3 (ipykernel)",
   "language": "python"
  },
  "language_info": {
   "name": "python"
  }
 },
 "cells": [
  {
   "cell_type": "code",
   "metadata": {
    "id": "XTL8_cenjf7a",
    "ExecuteTime": {
     "end_time": "2025-03-10T20:33:09.406505Z",
     "start_time": "2025-03-10T20:32:50.484146Z"
    }
   },
   "source": [
    "import pandas as pd\n",
    "import json\n",
    "import os\n",
    "import ast\n",
    "import matplotlib.pyplot as plt"
   ],
   "outputs": [],
   "execution_count": 2
  },
  {
   "cell_type": "code",
   "source": [
    "df = pd.read_csv('../../../data/base_models/gpt4/temperature7_eval.csv')\n",
    "df.head()"
   ],
   "metadata": {
    "id": "AKWrq07-lwD7",
    "colab": {
     "base_uri": "https://localhost:8080/",
     "height": 573
    },
    "outputId": "95c768d3-841c-4ec4-c118-e99d9b08cc91",
    "ExecuteTime": {
     "end_time": "2025-03-10T20:33:10.378633Z",
     "start_time": "2025-03-10T20:33:09.419281Z"
    }
   },
   "outputs": [
    {
     "data": {
      "text/plain": [
       "             id                                           mcq_json  \\\n",
       "0  OIC-360-01-A  {'question': 'What is the primary characterist...   \n",
       "1  OIC-360-08-A  {'question': 'What is a key consideration when...   \n",
       "2  OIC-360-03-A  {'question': 'What is essential for confirming...   \n",
       "3  OIC-360-11-B  {'question': 'What is a recommended measure to...   \n",
       "4  OIC-360-10-B  {'question': 'What is an indication for pleura...   \n",
       "\n",
       "               rubric                                           question  \\\n",
       "0          Definition  What is the primary characteristic of a pneumo...   \n",
       "1                 NaN  What is a key consideration when evaluating th...   \n",
       "2  Positive diagnosis  What is essential for confirming a diagnosis o...   \n",
       "3                 NaN  What is a recommended measure to prevent the r...   \n",
       "4          Management  What is an indication for pleural drainage in ...   \n",
       "\n",
       "                                            option_a  \\\n",
       "0                 Gas effusion in the pleural cavity   \n",
       "1  The size of the pneumothorax directly correlat...   \n",
       "2                         Physical examination alone   \n",
       "3                         Increase physical activity   \n",
       "4  Primary pneumothorax with successful exsufflation   \n",
       "\n",
       "                                            option_b  \\\n",
       "0                    Fluid accumulation in the lungs   \n",
       "1  Only respiratory signs are important for asses...   \n",
       "2                             Laboratory blood tests   \n",
       "3                                  Smoking cessation   \n",
       "4  Secondary pneumothorax with a quick pleural br...   \n",
       "\n",
       "                                            option_c  \\\n",
       "0                  Solid mass formation in the chest   \n",
       "1  Haemodynamic signs like shock can indicate sev...   \n",
       "2                                   Thoracic imaging   \n",
       "3                             High altitude exposure   \n",
       "4      Primary pneumothorax with failed exsufflation   \n",
       "\n",
       "                                            option_d correct_option  \\\n",
       "0         Excessive blood flow in the pleural cavity              a   \n",
       "1   A partial pneumothorax is always well tolerated.              c   \n",
       "2                                    Patient history              c   \n",
       "3                              Increased salt intake              b   \n",
       "4  Secondary pneumothorax without any pleural breach              c   \n",
       "\n",
       "                                         content_gpt  originality  \\\n",
       "0  **Item Parent:** Pneumothorax  \\n**Title:** De...     1.000000   \n",
       "1  **Item Parent:** Pneumothorax  \\n**Title:** Kn...     1.000000   \n",
       "2  **Item Parent:** Pneumothorax  \\n**Title:** Kn...     1.000000   \n",
       "3  **Item Parent:** Pneumothorax  \\n**Title:** Kn...     0.333333   \n",
       "4  **Item Parent:** Pneumothorax  \\n**Title:** Kn...     1.000000   \n",
       "\n",
       "   readability  starts_with_negation  is_question  relevance  ambiguity  \\\n",
       "0    12.605000                 False         True   0.719928   0.737606   \n",
       "1    13.673333                 False         True   0.787061   0.710479   \n",
       "2    16.462500                 False         True   0.777840   0.557716   \n",
       "3    13.372727                 False         True   0.826552   0.496496   \n",
       "4    12.690000                 False         True   0.863942   0.818946   \n",
       "\n",
       "  gpt_answer  disclosure  difficulty  \n",
       "0          a       False           5  \n",
       "1          c       False           2  \n",
       "2          c       False           4  \n",
       "3          b        True           5  \n",
       "4          c       False           2  "
      ],
      "text/html": [
       "<div>\n",
       "<style scoped>\n",
       "    .dataframe tbody tr th:only-of-type {\n",
       "        vertical-align: middle;\n",
       "    }\n",
       "\n",
       "    .dataframe tbody tr th {\n",
       "        vertical-align: top;\n",
       "    }\n",
       "\n",
       "    .dataframe thead th {\n",
       "        text-align: right;\n",
       "    }\n",
       "</style>\n",
       "<table border=\"1\" class=\"dataframe\">\n",
       "  <thead>\n",
       "    <tr style=\"text-align: right;\">\n",
       "      <th></th>\n",
       "      <th>id</th>\n",
       "      <th>mcq_json</th>\n",
       "      <th>rubric</th>\n",
       "      <th>question</th>\n",
       "      <th>option_a</th>\n",
       "      <th>option_b</th>\n",
       "      <th>option_c</th>\n",
       "      <th>option_d</th>\n",
       "      <th>correct_option</th>\n",
       "      <th>content_gpt</th>\n",
       "      <th>originality</th>\n",
       "      <th>readability</th>\n",
       "      <th>starts_with_negation</th>\n",
       "      <th>is_question</th>\n",
       "      <th>relevance</th>\n",
       "      <th>ambiguity</th>\n",
       "      <th>gpt_answer</th>\n",
       "      <th>disclosure</th>\n",
       "      <th>difficulty</th>\n",
       "    </tr>\n",
       "  </thead>\n",
       "  <tbody>\n",
       "    <tr>\n",
       "      <th>0</th>\n",
       "      <td>OIC-360-01-A</td>\n",
       "      <td>{'question': 'What is the primary characterist...</td>\n",
       "      <td>Definition</td>\n",
       "      <td>What is the primary characteristic of a pneumo...</td>\n",
       "      <td>Gas effusion in the pleural cavity</td>\n",
       "      <td>Fluid accumulation in the lungs</td>\n",
       "      <td>Solid mass formation in the chest</td>\n",
       "      <td>Excessive blood flow in the pleural cavity</td>\n",
       "      <td>a</td>\n",
       "      <td>**Item Parent:** Pneumothorax  \\n**Title:** De...</td>\n",
       "      <td>1.000000</td>\n",
       "      <td>12.605000</td>\n",
       "      <td>False</td>\n",
       "      <td>True</td>\n",
       "      <td>0.719928</td>\n",
       "      <td>0.737606</td>\n",
       "      <td>a</td>\n",
       "      <td>False</td>\n",
       "      <td>5</td>\n",
       "    </tr>\n",
       "    <tr>\n",
       "      <th>1</th>\n",
       "      <td>OIC-360-08-A</td>\n",
       "      <td>{'question': 'What is a key consideration when...</td>\n",
       "      <td>NaN</td>\n",
       "      <td>What is a key consideration when evaluating th...</td>\n",
       "      <td>The size of the pneumothorax directly correlat...</td>\n",
       "      <td>Only respiratory signs are important for asses...</td>\n",
       "      <td>Haemodynamic signs like shock can indicate sev...</td>\n",
       "      <td>A partial pneumothorax is always well tolerated.</td>\n",
       "      <td>c</td>\n",
       "      <td>**Item Parent:** Pneumothorax  \\n**Title:** Kn...</td>\n",
       "      <td>1.000000</td>\n",
       "      <td>13.673333</td>\n",
       "      <td>False</td>\n",
       "      <td>True</td>\n",
       "      <td>0.787061</td>\n",
       "      <td>0.710479</td>\n",
       "      <td>c</td>\n",
       "      <td>False</td>\n",
       "      <td>2</td>\n",
       "    </tr>\n",
       "    <tr>\n",
       "      <th>2</th>\n",
       "      <td>OIC-360-03-A</td>\n",
       "      <td>{'question': 'What is essential for confirming...</td>\n",
       "      <td>Positive diagnosis</td>\n",
       "      <td>What is essential for confirming a diagnosis o...</td>\n",
       "      <td>Physical examination alone</td>\n",
       "      <td>Laboratory blood tests</td>\n",
       "      <td>Thoracic imaging</td>\n",
       "      <td>Patient history</td>\n",
       "      <td>c</td>\n",
       "      <td>**Item Parent:** Pneumothorax  \\n**Title:** Kn...</td>\n",
       "      <td>1.000000</td>\n",
       "      <td>16.462500</td>\n",
       "      <td>False</td>\n",
       "      <td>True</td>\n",
       "      <td>0.777840</td>\n",
       "      <td>0.557716</td>\n",
       "      <td>c</td>\n",
       "      <td>False</td>\n",
       "      <td>4</td>\n",
       "    </tr>\n",
       "    <tr>\n",
       "      <th>3</th>\n",
       "      <td>OIC-360-11-B</td>\n",
       "      <td>{'question': 'What is a recommended measure to...</td>\n",
       "      <td>NaN</td>\n",
       "      <td>What is a recommended measure to prevent the r...</td>\n",
       "      <td>Increase physical activity</td>\n",
       "      <td>Smoking cessation</td>\n",
       "      <td>High altitude exposure</td>\n",
       "      <td>Increased salt intake</td>\n",
       "      <td>b</td>\n",
       "      <td>**Item Parent:** Pneumothorax  \\n**Title:** Kn...</td>\n",
       "      <td>0.333333</td>\n",
       "      <td>13.372727</td>\n",
       "      <td>False</td>\n",
       "      <td>True</td>\n",
       "      <td>0.826552</td>\n",
       "      <td>0.496496</td>\n",
       "      <td>b</td>\n",
       "      <td>True</td>\n",
       "      <td>5</td>\n",
       "    </tr>\n",
       "    <tr>\n",
       "      <th>4</th>\n",
       "      <td>OIC-360-10-B</td>\n",
       "      <td>{'question': 'What is an indication for pleura...</td>\n",
       "      <td>Management</td>\n",
       "      <td>What is an indication for pleural drainage in ...</td>\n",
       "      <td>Primary pneumothorax with successful exsufflation</td>\n",
       "      <td>Secondary pneumothorax with a quick pleural br...</td>\n",
       "      <td>Primary pneumothorax with failed exsufflation</td>\n",
       "      <td>Secondary pneumothorax without any pleural breach</td>\n",
       "      <td>c</td>\n",
       "      <td>**Item Parent:** Pneumothorax  \\n**Title:** Kn...</td>\n",
       "      <td>1.000000</td>\n",
       "      <td>12.690000</td>\n",
       "      <td>False</td>\n",
       "      <td>True</td>\n",
       "      <td>0.863942</td>\n",
       "      <td>0.818946</td>\n",
       "      <td>c</td>\n",
       "      <td>False</td>\n",
       "      <td>2</td>\n",
       "    </tr>\n",
       "  </tbody>\n",
       "</table>\n",
       "</div>"
      ]
     },
     "execution_count": 3,
     "metadata": {},
     "output_type": "execute_result"
    }
   ],
   "execution_count": 3
  },
  {
   "metadata": {
    "ExecuteTime": {
     "end_time": "2025-03-10T20:33:10.413418Z",
     "start_time": "2025-03-10T20:33:10.382664Z"
    }
   },
   "cell_type": "code",
   "source": [
    "# normalize correct_option\n",
    "df['correct_option'] = df['correct_option'].replace({'option_b': 'b', 'option_c': 'c', 'option_d': 'd'}) "
   ],
   "outputs": [],
   "execution_count": 4
  },
  {
   "cell_type": "markdown",
   "metadata": {
    "id": "HG-SVqoPmO1B"
   },
   "source": [
    "# Question mark"
   ]
  },
  {
   "cell_type": "code",
   "metadata": {
    "execution": {
     "iopub.execute_input": "2024-11-12T12:14:38.446623Z",
     "iopub.status.busy": "2024-11-12T12:14:38.445718Z",
     "iopub.status.idle": "2024-11-12T12:14:38.456114Z",
     "shell.execute_reply": "2024-11-12T12:14:38.455017Z",
     "shell.execute_reply.started": "2024-11-12T12:14:38.446566Z"
    },
    "id": "LC9P1ozSmO1B",
    "colab": {
     "base_uri": "https://localhost:8080/"
    },
    "outputId": "905eaa0f-b6dd-4cd7-8f39-f895b347cb4d",
    "ExecuteTime": {
     "end_time": "2025-03-10T20:33:10.448545Z",
     "start_time": "2025-03-10T20:33:10.425862Z"
    }
   },
   "source": [
    "# We want to maximize 'True'\n",
    "question_count = {\n",
    "    'True': df['is_question'].sum(),\n",
    "    'False': len(df) - df['is_question'].sum()\n",
    "}\n",
    "\n",
    "question_count"
   ],
   "outputs": [
    {
     "data": {
      "text/plain": [
       "{'True': np.int64(4693), 'False': np.int64(0)}"
      ]
     },
     "execution_count": 5,
     "metadata": {},
     "output_type": "execute_result"
    }
   ],
   "execution_count": 5
  },
  {
   "cell_type": "markdown",
   "source": [
    "# Negation"
   ],
   "metadata": {
    "id": "gL6ogPiJszsC"
   }
  },
  {
   "cell_type": "code",
   "source": [
    "# We want to minimze 'True'\n",
    "starts_with_negation_count = {\n",
    "    'True': df['starts_with_negation'].sum(),\n",
    "    'False': len(df) - df['starts_with_negation'].sum()\n",
    "}\n",
    "\n",
    "starts_with_negation_count"
   ],
   "metadata": {
    "colab": {
     "base_uri": "https://localhost:8080/"
    },
    "id": "zlz17fiUs4MX",
    "outputId": "3715ec13-d620-4c01-d748-c62bb72b12f3",
    "ExecuteTime": {
     "end_time": "2025-03-10T20:33:10.520067Z",
     "start_time": "2025-03-10T20:33:10.456545Z"
    }
   },
   "outputs": [
    {
     "data": {
      "text/plain": [
       "{'True': np.int64(0), 'False': np.int64(4693)}"
      ]
     },
     "execution_count": 6,
     "metadata": {},
     "output_type": "execute_result"
    }
   ],
   "execution_count": 6
  },
  {
   "cell_type": "markdown",
   "source": [
    "# Originality"
   ],
   "metadata": {
    "id": "xb4mzA8Zw1je"
   }
  },
  {
   "cell_type": "code",
   "source": [
    "plt.figure(figsize=(10, 6))\n",
    "counts, bins, patches = plt.hist(df['originality'], bins=10, range=(0, 1), edgecolor='black')\n",
    "\n",
    "plt.xticks([round(x * 0.1, 1) for x in range(11)])\n",
    "\n",
    "for count, patch in zip(counts, patches):\n",
    "    if count > 0:\n",
    "        plt.text(patch.get_x() + patch.get_width() / 2, count, int(count),\n",
    "                 ha='center', va='bottom')\n",
    "\n",
    "plt.xlabel('Originality score')\n",
    "plt.ylabel('Frequency')\n",
    "plt.show()"
   ],
   "metadata": {
    "colab": {
     "base_uri": "https://localhost:8080/",
     "height": 0
    },
    "id": "IFhbkFGGz7Ky",
    "outputId": "39cd0c34-6386-4da8-8cc1-07891b1d470d",
    "ExecuteTime": {
     "end_time": "2025-03-10T20:33:11.866505Z",
     "start_time": "2025-03-10T20:33:10.535183Z"
    }
   },
   "outputs": [
    {
     "data": {
      "text/plain": [
       "<Figure size 1000x600 with 1 Axes>"
      ],
      "image/png": "[encoded data removed]"
     },
     "metadata": {},
     "output_type": "display_data"
    }
   ],
   "execution_count": 7
  },
  {
   "cell_type": "markdown",
   "source": [
    "# Readability"
   ],
   "metadata": {
    "id": "rAmz_WnJqoo0"
   }
  },
  {
   "cell_type": "code",
   "source": [
    "plt.figure(figsize=(10, 6))\n",
    "counts, bins, patches = plt.hist(df['readability'], bins=range(0, 19, 1), edgecolor='black')\n",
    "\n",
    "# Set x-axis ticks from 0 to 18\n",
    "plt.xticks(range(0, 19))\n",
    "\n",
    "# Add frequency labels on top of each bar where frequency > 0\n",
    "for count, patch in zip(counts, patches):\n",
    "    if count > 0:\n",
    "        plt.text(patch.get_x() + patch.get_width() / 2, count, int(count),\n",
    "                 ha='center', va='bottom')\n",
    "plt.xlabel('Readability Score')\n",
    "plt.ylabel('Frequency')\n",
    "plt.title('Histogram of Readability Scores')\n",
    "plt.show()"
   ],
   "metadata": {
    "colab": {
     "base_uri": "https://localhost:8080/",
     "height": 564
    },
    "id": "d8x1qyWJtQXd",
    "outputId": "8282eee8-7623-42d9-c6f0-5d69ac0381f8",
    "ExecuteTime": {
     "end_time": "2025-03-10T20:33:13.615620Z",
     "start_time": "2025-03-10T20:33:11.869520Z"
    }
   },
   "outputs": [
    {
     "data": {
      "text/plain": [
       "<Figure size 1000x600 with 1 Axes>"
      ],
      "image/png": "[encoded data removed]"
     },
     "metadata": {},
     "output_type": "display_data"
    }
   ],
   "execution_count": 8
  },
  {
   "cell_type": "markdown",
   "source": [
    "# Answer Length"
   ],
   "metadata": {
    "id": "DzfadWMVtSy5"
   }
  },
  {
   "cell_type": "code",
   "source": [
    "option_cols = ['option_a', 'option_b', 'option_c', 'option_d']\n",
    "\n",
    "# Create new columns with word counts for each option column\n",
    "for col in option_cols:\n",
    "    df[f'{col}_word_count'] = df[col].astype(str).apply(lambda x: len(x.split()))"
   ],
   "metadata": {
    "id": "dbNhxSY_ugcf",
    "ExecuteTime": {
     "end_time": "2025-03-10T20:33:21.116676Z",
     "start_time": "2025-03-10T20:33:13.620633Z"
    }
   },
   "outputs": [
    {
     "ename": "AttributeError",
     "evalue": "module 'numpy' has no attribute 'matrix'",
     "output_type": "error",
     "traceback": [
      "\u001B[31m---------------------------------------------------------------------------\u001B[39m",
      "\u001B[31mKeyError\u001B[39m                                  Traceback (most recent call last)",
      "\u001B[36mFile \u001B[39m\u001B[32mC:\\!University\\RAI_research\\raiforukraine-MARIA\\src\\.venv\\Lib\\site-packages\\pandas\\core\\indexes\\base.py:3805\u001B[39m, in \u001B[36mIndex.get_loc\u001B[39m\u001B[34m(self, key)\u001B[39m\n\u001B[32m   3804\u001B[39m \u001B[38;5;28;01mtry\u001B[39;00m:\n\u001B[32m-> \u001B[39m\u001B[32m3805\u001B[39m     \u001B[38;5;28;01mreturn\u001B[39;00m \u001B[38;5;28;43mself\u001B[39;49m\u001B[43m.\u001B[49m\u001B[43m_engine\u001B[49m\u001B[43m.\u001B[49m\u001B[43mget_loc\u001B[49m\u001B[43m(\u001B[49m\u001B[43mcasted_key\u001B[49m\u001B[43m)\u001B[49m\n\u001B[32m   3806\u001B[39m \u001B[38;5;28;01mexcept\u001B[39;00m \u001B[38;5;167;01mKeyError\u001B[39;00m \u001B[38;5;28;01mas\u001B[39;00m err:\n",
      "\u001B[36mFile \u001B[39m\u001B[32mindex.pyx:167\u001B[39m, in \u001B[36mpandas._libs.index.IndexEngine.get_loc\u001B[39m\u001B[34m()\u001B[39m\n",
      "\u001B[36mFile \u001B[39m\u001B[32mindex.pyx:196\u001B[39m, in \u001B[36mpandas._libs.index.IndexEngine.get_loc\u001B[39m\u001B[34m()\u001B[39m\n",
      "\u001B[36mFile \u001B[39m\u001B[32mpandas\\\\_libs\\\\hashtable_class_helper.pxi:7081\u001B[39m, in \u001B[36mpandas._libs.hashtable.PyObjectHashTable.get_item\u001B[39m\u001B[34m()\u001B[39m\n",
      "\u001B[36mFile \u001B[39m\u001B[32mpandas\\\\_libs\\\\hashtable_class_helper.pxi:7089\u001B[39m, in \u001B[36mpandas._libs.hashtable.PyObjectHashTable.get_item\u001B[39m\u001B[34m()\u001B[39m\n",
      "\u001B[31mKeyError\u001B[39m: 'option_a_word_count'",
      "\nThe above exception was the direct cause of the following exception:\n",
      "\u001B[31mKeyError\u001B[39m                                  Traceback (most recent call last)",
      "\u001B[36mFile \u001B[39m\u001B[32mC:\\!University\\RAI_research\\raiforukraine-MARIA\\src\\.venv\\Lib\\site-packages\\pandas\\core\\frame.py:4485\u001B[39m, in \u001B[36mDataFrame._set_item_mgr\u001B[39m\u001B[34m(self, key, value, refs)\u001B[39m\n\u001B[32m   4484\u001B[39m \u001B[38;5;28;01mtry\u001B[39;00m:\n\u001B[32m-> \u001B[39m\u001B[32m4485\u001B[39m     loc = \u001B[38;5;28;43mself\u001B[39;49m\u001B[43m.\u001B[49m\u001B[43m_info_axis\u001B[49m\u001B[43m.\u001B[49m\u001B[43mget_loc\u001B[49m\u001B[43m(\u001B[49m\u001B[43mkey\u001B[49m\u001B[43m)\u001B[49m\n\u001B[32m   4486\u001B[39m \u001B[38;5;28;01mexcept\u001B[39;00m \u001B[38;5;167;01mKeyError\u001B[39;00m:\n\u001B[32m   4487\u001B[39m     \u001B[38;5;66;03m# This item wasn't present, just insert at end\u001B[39;00m\n",
      "\u001B[36mFile \u001B[39m\u001B[32mC:\\!University\\RAI_research\\raiforukraine-MARIA\\src\\.venv\\Lib\\site-packages\\pandas\\core\\indexes\\base.py:3812\u001B[39m, in \u001B[36mIndex.get_loc\u001B[39m\u001B[34m(self, key)\u001B[39m\n\u001B[32m   3811\u001B[39m         \u001B[38;5;28;01mraise\u001B[39;00m InvalidIndexError(key)\n\u001B[32m-> \u001B[39m\u001B[32m3812\u001B[39m     \u001B[38;5;28;01mraise\u001B[39;00m \u001B[38;5;167;01mKeyError\u001B[39;00m(key) \u001B[38;5;28;01mfrom\u001B[39;00m\u001B[38;5;250m \u001B[39m\u001B[34;01merr\u001B[39;00m\n\u001B[32m   3813\u001B[39m \u001B[38;5;28;01mexcept\u001B[39;00m \u001B[38;5;167;01mTypeError\u001B[39;00m:\n\u001B[32m   3814\u001B[39m     \u001B[38;5;66;03m# If we have a listlike key, _check_indexing_error will raise\u001B[39;00m\n\u001B[32m   3815\u001B[39m     \u001B[38;5;66;03m#  InvalidIndexError. Otherwise we fall through and re-raise\u001B[39;00m\n\u001B[32m   3816\u001B[39m     \u001B[38;5;66;03m#  the TypeError.\u001B[39;00m\n",
      "\u001B[31mKeyError\u001B[39m: 'option_a_word_count'",
      "\nDuring handling of the above exception, another exception occurred:\n",
      "\u001B[31mAttributeError\u001B[39m                            Traceback (most recent call last)",
      "\u001B[36mCell\u001B[39m\u001B[36m \u001B[39m\u001B[32mIn[9]\u001B[39m\u001B[32m, line 5\u001B[39m\n\u001B[32m      3\u001B[39m \u001B[38;5;66;03m# Create new columns with word counts for each option column\u001B[39;00m\n\u001B[32m      4\u001B[39m \u001B[38;5;28;01mfor\u001B[39;00m col \u001B[38;5;129;01min\u001B[39;00m option_cols:\n\u001B[32m----> \u001B[39m\u001B[32m5\u001B[39m     \u001B[43mdf\u001B[49m\u001B[43m[\u001B[49m\u001B[33;43mf\u001B[39;49m\u001B[33;43m'\u001B[39;49m\u001B[38;5;132;43;01m{\u001B[39;49;00m\u001B[43mcol\u001B[49m\u001B[38;5;132;43;01m}\u001B[39;49;00m\u001B[33;43m_word_count\u001B[39;49m\u001B[33;43m'\u001B[39;49m\u001B[43m]\u001B[49m = df[col].astype(\u001B[38;5;28mstr\u001B[39m).apply(\u001B[38;5;28;01mlambda\u001B[39;00m x: \u001B[38;5;28mlen\u001B[39m(x.split()))\n",
      "\u001B[36mFile \u001B[39m\u001B[32mC:\\!University\\RAI_research\\raiforukraine-MARIA\\src\\.venv\\Lib\\site-packages\\pandas\\core\\frame.py:4311\u001B[39m, in \u001B[36mDataFrame.__setitem__\u001B[39m\u001B[34m(self, key, value)\u001B[39m\n\u001B[32m   4308\u001B[39m     \u001B[38;5;28mself\u001B[39m._setitem_array([key], value)\n\u001B[32m   4309\u001B[39m \u001B[38;5;28;01melse\u001B[39;00m:\n\u001B[32m   4310\u001B[39m     \u001B[38;5;66;03m# set column\u001B[39;00m\n\u001B[32m-> \u001B[39m\u001B[32m4311\u001B[39m     \u001B[38;5;28;43mself\u001B[39;49m\u001B[43m.\u001B[49m\u001B[43m_set_item\u001B[49m\u001B[43m(\u001B[49m\u001B[43mkey\u001B[49m\u001B[43m,\u001B[49m\u001B[43m \u001B[49m\u001B[43mvalue\u001B[49m\u001B[43m)\u001B[49m\n",
      "\u001B[36mFile \u001B[39m\u001B[32mC:\\!University\\RAI_research\\raiforukraine-MARIA\\src\\.venv\\Lib\\site-packages\\pandas\\core\\frame.py:4538\u001B[39m, in \u001B[36mDataFrame._set_item\u001B[39m\u001B[34m(self, key, value)\u001B[39m\n\u001B[32m   4535\u001B[39m             value = np.tile(value, (\u001B[38;5;28mlen\u001B[39m(existing_piece.columns), \u001B[32m1\u001B[39m)).T\n\u001B[32m   4536\u001B[39m             refs = \u001B[38;5;28;01mNone\u001B[39;00m\n\u001B[32m-> \u001B[39m\u001B[32m4538\u001B[39m \u001B[38;5;28;43mself\u001B[39;49m\u001B[43m.\u001B[49m\u001B[43m_set_item_mgr\u001B[49m\u001B[43m(\u001B[49m\u001B[43mkey\u001B[49m\u001B[43m,\u001B[49m\u001B[43m \u001B[49m\u001B[43mvalue\u001B[49m\u001B[43m,\u001B[49m\u001B[43m \u001B[49m\u001B[43mrefs\u001B[49m\u001B[43m)\u001B[49m\n",
      "\u001B[36mFile \u001B[39m\u001B[32mC:\\!University\\RAI_research\\raiforukraine-MARIA\\src\\.venv\\Lib\\site-packages\\pandas\\core\\frame.py:4488\u001B[39m, in \u001B[36mDataFrame._set_item_mgr\u001B[39m\u001B[34m(self, key, value, refs)\u001B[39m\n\u001B[32m   4485\u001B[39m     loc = \u001B[38;5;28mself\u001B[39m._info_axis.get_loc(key)\n\u001B[32m   4486\u001B[39m \u001B[38;5;28;01mexcept\u001B[39;00m \u001B[38;5;167;01mKeyError\u001B[39;00m:\n\u001B[32m   4487\u001B[39m     \u001B[38;5;66;03m# This item wasn't present, just insert at end\u001B[39;00m\n\u001B[32m-> \u001B[39m\u001B[32m4488\u001B[39m     \u001B[38;5;28;43mself\u001B[39;49m\u001B[43m.\u001B[49m\u001B[43m_mgr\u001B[49m\u001B[43m.\u001B[49m\u001B[43minsert\u001B[49m\u001B[43m(\u001B[49m\u001B[38;5;28;43mlen\u001B[39;49m\u001B[43m(\u001B[49m\u001B[38;5;28;43mself\u001B[39;49m\u001B[43m.\u001B[49m\u001B[43m_info_axis\u001B[49m\u001B[43m)\u001B[49m\u001B[43m,\u001B[49m\u001B[43m \u001B[49m\u001B[43mkey\u001B[49m\u001B[43m,\u001B[49m\u001B[43m \u001B[49m\u001B[43mvalue\u001B[49m\u001B[43m,\u001B[49m\u001B[43m \u001B[49m\u001B[43mrefs\u001B[49m\u001B[43m)\u001B[49m\n\u001B[32m   4489\u001B[39m \u001B[38;5;28;01melse\u001B[39;00m:\n\u001B[32m   4490\u001B[39m     \u001B[38;5;28mself\u001B[39m._iset_item_mgr(loc, value, refs=refs)\n",
      "\u001B[36mFile \u001B[39m\u001B[32mC:\\!University\\RAI_research\\raiforukraine-MARIA\\src\\.venv\\Lib\\site-packages\\pandas\\core\\internals\\managers.py:1385\u001B[39m, in \u001B[36mBlockManager.insert\u001B[39m\u001B[34m(self, loc, item, value, refs)\u001B[39m\n\u001B[32m   1383\u001B[39m \u001B[38;5;28;01melse\u001B[39;00m:\n\u001B[32m   1384\u001B[39m     \u001B[38;5;28mself\u001B[39m._insert_update_mgr_locs(loc)\n\u001B[32m-> \u001B[39m\u001B[32m1385\u001B[39m     \u001B[38;5;28;43mself\u001B[39;49m\u001B[43m.\u001B[49m\u001B[43m_insert_update_blklocs_and_blknos\u001B[49m\u001B[43m(\u001B[49m\u001B[43mloc\u001B[49m\u001B[43m)\u001B[49m\n\u001B[32m   1387\u001B[39m \u001B[38;5;28mself\u001B[39m.axes[\u001B[32m0\u001B[39m] = new_axis\n\u001B[32m   1388\u001B[39m \u001B[38;5;28mself\u001B[39m.blocks += (block,)\n",
      "\u001B[36mFile \u001B[39m\u001B[32mC:\\!University\\RAI_research\\raiforukraine-MARIA\\src\\.venv\\Lib\\site-packages\\pandas\\core\\internals\\managers.py:1421\u001B[39m, in \u001B[36mBlockManager._insert_update_blklocs_and_blknos\u001B[39m\u001B[34m(self, loc)\u001B[39m\n\u001B[32m   1418\u001B[39m \u001B[38;5;66;03m# Accessing public blklocs ensures the public versions are initialized\u001B[39;00m\n\u001B[32m   1419\u001B[39m \u001B[38;5;28;01mif\u001B[39;00m loc == \u001B[38;5;28mself\u001B[39m.blklocs.shape[\u001B[32m0\u001B[39m]:\n\u001B[32m   1420\u001B[39m     \u001B[38;5;66;03m# np.append is a lot faster, let's use it if we can.\u001B[39;00m\n\u001B[32m-> \u001B[39m\u001B[32m1421\u001B[39m     \u001B[38;5;28mself\u001B[39m._blklocs = \u001B[43mnp\u001B[49m\u001B[43m.\u001B[49m\u001B[43mappend\u001B[49m\u001B[43m(\u001B[49m\u001B[38;5;28;43mself\u001B[39;49m\u001B[43m.\u001B[49m\u001B[43m_blklocs\u001B[49m\u001B[43m,\u001B[49m\u001B[43m \u001B[49m\u001B[32;43m0\u001B[39;49m\u001B[43m)\u001B[49m\n\u001B[32m   1422\u001B[39m     \u001B[38;5;28mself\u001B[39m._blknos = np.append(\u001B[38;5;28mself\u001B[39m._blknos, \u001B[38;5;28mlen\u001B[39m(\u001B[38;5;28mself\u001B[39m.blocks))\n\u001B[32m   1423\u001B[39m \u001B[38;5;28;01melif\u001B[39;00m loc == \u001B[32m0\u001B[39m:\n\u001B[32m   1424\u001B[39m     \u001B[38;5;66;03m# np.append is a lot faster, let's use it if we can.\u001B[39;00m\n",
      "\u001B[36mFile \u001B[39m\u001B[32mC:\\!University\\RAI_research\\raiforukraine-MARIA\\src\\.venv\\Lib\\site-packages\\numpy\\lib\\_function_base_impl.py:5709\u001B[39m, in \u001B[36mappend\u001B[39m\u001B[34m(arr, values, axis)\u001B[39m\n\u001B[32m   5707\u001B[39m     \u001B[38;5;28;01mif\u001B[39;00m arr.ndim != \u001B[32m1\u001B[39m:\n\u001B[32m   5708\u001B[39m         arr = arr.ravel()\n\u001B[32m-> \u001B[39m\u001B[32m5709\u001B[39m     values = \u001B[43mravel\u001B[49m\u001B[43m(\u001B[49m\u001B[43mvalues\u001B[49m\u001B[43m)\u001B[49m\n\u001B[32m   5710\u001B[39m     axis = arr.ndim-\u001B[32m1\u001B[39m\n\u001B[32m   5711\u001B[39m \u001B[38;5;28;01mreturn\u001B[39;00m concatenate((arr, values), axis=axis)\n",
      "\u001B[36mFile \u001B[39m\u001B[32mC:\\!University\\RAI_research\\raiforukraine-MARIA\\src\\.venv\\Lib\\site-packages\\numpy\\_core\\fromnumeric.py:2008\u001B[39m, in \u001B[36mravel\u001B[39m\u001B[34m(a, order)\u001B[39m\n\u001B[32m   1904\u001B[39m \u001B[38;5;129m@array_function_dispatch\u001B[39m(_ravel_dispatcher)\n\u001B[32m   1905\u001B[39m \u001B[38;5;28;01mdef\u001B[39;00m\u001B[38;5;250m \u001B[39m\u001B[34mravel\u001B[39m(a, order=\u001B[33m'\u001B[39m\u001B[33mC\u001B[39m\u001B[33m'\u001B[39m):\n\u001B[32m   1906\u001B[39m \u001B[38;5;250m    \u001B[39m\u001B[33;03m\"\"\"Return a contiguous flattened array.\u001B[39;00m\n\u001B[32m   1907\u001B[39m \n\u001B[32m   1908\u001B[39m \u001B[33;03m    A 1-D array, containing the elements of the input, is returned.  A copy is\u001B[39;00m\n\u001B[32m   (...)\u001B[39m\u001B[32m   2006\u001B[39m \n\u001B[32m   2007\u001B[39m \u001B[33;03m    \"\"\"\u001B[39;00m\n\u001B[32m-> \u001B[39m\u001B[32m2008\u001B[39m     \u001B[38;5;28;01mif\u001B[39;00m \u001B[38;5;28misinstance\u001B[39m(a, \u001B[43mnp\u001B[49m\u001B[43m.\u001B[49m\u001B[43mmatrix\u001B[49m):\n\u001B[32m   2009\u001B[39m         \u001B[38;5;28;01mreturn\u001B[39;00m asarray(a).ravel(order=order)\n\u001B[32m   2010\u001B[39m     \u001B[38;5;28;01melse\u001B[39;00m:\n",
      "\u001B[31mAttributeError\u001B[39m: module 'numpy' has no attribute 'matrix'"
     ]
    }
   ],
   "execution_count": 9
  },
  {
   "cell_type": "code",
   "source": [
    "def get_correct_option_rank(row):\n",
    "    # Get the original word counts for each option\n",
    "    counts = [\n",
    "        row['option_a_word_count'],\n",
    "        row['option_b_word_count'],\n",
    "        row['option_c_word_count'],\n",
    "        row['option_d_word_count']\n",
    "    ]\n",
    "\n",
    "    # Map correct_option letter to its index (0 for A, 1 for B, etc.)\n",
    "    letter_to_index = {'A': 0, 'a':0, 'B': 1, 'b':1, 'C': 2, 'c':2, 'D': 3, 'd':3}\n",
    "    correct_idx = letter_to_index[row['correct_option']]\n",
    "\n",
    "    # Determine the word count of the correct option\n",
    "    correct_count = counts[correct_idx]\n",
    "\n",
    "    # Create an effective counts list:\n",
    "    # For non-correct options, if their word count equals the correct option's word count,\n",
    "    # treat them as if they had one extra word.\n",
    "    effective_counts = []\n",
    "    for i, count in enumerate(counts):\n",
    "        if i != correct_idx and count == correct_count:\n",
    "            effective_counts.append(count + 1)\n",
    "        else:\n",
    "            effective_counts.append(count)\n",
    "\n",
    "    # Sort the option indices by descending effective count.\n",
    "    ordering = sorted(range(4), key=lambda i: effective_counts[i], reverse=True)\n",
    "\n",
    "    # Compute the rank as the 1-indexed position of the correct option in the ordering.\n",
    "    rank = ordering.index(correct_idx) + 1\n",
    "    return rank"
   ],
   "metadata": {
    "id": "6znWPWARt6NU",
    "ExecuteTime": {
     "end_time": "2025-03-10T20:33:21.139281Z",
     "start_time": "2025-03-10T20:33:21.138282Z"
    }
   },
   "outputs": [],
   "execution_count": null
  },
  {
   "cell_type": "code",
   "source": [
    "def get_rank_distribution(df):\n",
    "  rank_distribution = df['correct_option_rank'].value_counts().sort_index()\n",
    "  rank_distribution = round(rank_distribution / len(df), 2) * 100\n",
    "\n",
    "  plt.figure(figsize=(8, 6))\n",
    "  plt.bar(rank_distribution.index, rank_distribution.values, color='skyblue', edgecolor='black')\n",
    "  plt.xlabel('N (1 = Longest, 4 = Shortest)')\n",
    "  plt.ylabel('Frequency, %')\n",
    "  plt.title('How often the correct option is N`th longest')\n",
    "  plt.xticks([1, 2, 3, 4])\n",
    "  plt.show()"
   ],
   "metadata": {
    "id": "blakrAIIt8gZ",
    "ExecuteTime": {
     "end_time": "2025-03-10T20:33:21.147096Z",
     "start_time": "2025-03-10T20:33:21.140281Z"
    }
   },
   "outputs": [],
   "execution_count": null
  },
  {
   "cell_type": "code",
   "source": [
    "df['correct_option_rank'] = df.apply(get_correct_option_rank, axis=1)\n",
    "get_rank_distribution(df)"
   ],
   "metadata": {
    "colab": {
     "base_uri": "https://localhost:8080/",
     "height": 565
    },
    "id": "Y9bKBBcut-tv",
    "outputId": "14514fb0-399c-4dfa-bbbd-46e6379e133a",
    "ExecuteTime": {
     "end_time": "2025-03-10T20:33:21.160363Z",
     "start_time": "2025-03-10T20:33:21.151364Z"
    }
   },
   "outputs": [],
   "execution_count": null
  },
  {
   "cell_type": "markdown",
   "source": [
    "# Disclosure"
   ],
   "metadata": {
    "id": "klcHFsMjzp3m"
   }
  },
  {
   "metadata": {
    "ExecuteTime": {
     "end_time": "2025-03-10T20:33:21.169722Z",
     "start_time": "2025-03-10T20:33:21.163364Z"
    }
   },
   "cell_type": "code",
   "source": [
    "disclosure_count = {\n",
    "    'True': df['disclosure'].sum(),\n",
    "    'False': len(df) - df['disclosure'].sum()\n",
    "}\n",
    "\n",
    "disclosure_count"
   ],
   "outputs": [],
   "execution_count": null
  },
  {
   "cell_type": "markdown",
   "metadata": {
    "id": "nb_L81b9mO1C"
   },
   "source": [
    "# Relevance to the input material"
   ]
  },
  {
   "cell_type": "code",
   "metadata": {
    "execution": {
     "iopub.execute_input": "2024-11-18T20:39:21.545396Z",
     "iopub.status.busy": "2024-11-18T20:39:21.54466Z",
     "iopub.status.idle": "2024-11-18T20:39:29.033346Z",
     "shell.execute_reply": "2024-11-18T20:39:29.032397Z",
     "shell.execute_reply.started": "2024-11-18T20:39:21.54536Z"
    },
    "id": "EbIfjd7ImO1C",
    "colab": {
     "base_uri": "https://localhost:8080/",
     "height": 542
    },
    "outputId": "dfd2992e-b57c-446f-ab97-5495b6cdc984"
   },
   "source": [
    "plt.figure(figsize=(10, 6))\n",
    "counts, bins, patches = plt.hist(df['relevance'], bins=10, range=(0, 1), edgecolor='black')\n",
    "\n",
    "plt.xticks([round(x * 0.1, 1) for x in range(11)])\n",
    "\n",
    "for count, patch in zip(counts, patches):\n",
    "    if count > 0:\n",
    "        plt.text(patch.get_x() + patch.get_width() / 2, count, int(count),\n",
    "                 ha='center', va='bottom')\n",
    "\n",
    "plt.xlabel('Relevance Score')\n",
    "plt.ylabel('Frequency')\n",
    "plt.show()"
   ],
   "outputs": [],
   "execution_count": null
  },
  {
   "cell_type": "markdown",
   "source": "# Ambiguity (cosine similarity)",
   "metadata": {
    "id": "6ue_cVZzrpi4"
   }
  },
  {
   "metadata": {},
   "cell_type": "code",
   "source": [
    "plt.figure(figsize=(8, 6))\n",
    "plt.hist(df['ambiguity'], bins=10, edgecolor='black', alpha=0.7)\n",
    "\n",
    "plt.xlabel(\"Score\")\n",
    "plt.ylabel(\"Frequency\")\n",
    "plt.title(\"Distribution of Ambiguity\")"
   ],
   "outputs": [],
   "execution_count": null
  },
  {
   "metadata": {},
   "cell_type": "markdown",
   "source": "# Difficulty (judge LLM)"
  },
  {
   "metadata": {},
   "cell_type": "code",
   "source": [
    "import numpy as np\n",
    "\n",
    "plt.figure(figsize=(8, 6))\n",
    "plt.hist(df['difficulty'], bins=np.arange(1, 7)-0.5, edgecolor='black', alpha=0.7)\n",
    "\n",
    "plt.xlabel(\"Score\")\n",
    "plt.ylabel(\"Frequency\")\n",
    "plt.title(\"Distribution of Syntactic Ambiguity\")\n",
    "plt.xticks(range(1, 6))\n",
    "\n",
    "# Show the plot\n",
    "plt.show()"
   ],
   "outputs": [],
   "execution_count": null
  },
  {
   "cell_type": "markdown",
   "source": [
    "# Answerability\n",
    "can judge model answer the generated question with context provided?"
   ],
   "metadata": {
    "id": "rLiUkNeToPYR"
   }
  },
  {
   "cell_type": "code",
   "source": [
    "df['gpt_answer'].unique()"
   ],
   "metadata": {
    "colab": {
     "base_uri": "https://localhost:8080/"
    },
    "id": "RsEaI2fOplIU",
    "outputId": "ce5328c5-852e-419a-809d-e6595d2f8943"
   },
   "outputs": [],
   "execution_count": null
  },
  {
   "cell_type": "code",
   "source": [
    "df['correct_option'].unique()"
   ],
   "metadata": {
    "colab": {
     "base_uri": "https://localhost:8080/"
    },
    "id": "vjj90iEfp-TV",
    "outputId": "d1b4812f-8e29-45a7-baf8-d8ce96c9315b"
   },
   "outputs": [],
   "execution_count": null
  },
  {
   "cell_type": "code",
   "source": [
    "answerability_count = {\n",
    "    'True': (df['correct_option'] == df['gpt_answer']).sum(),\n",
    "    'False': len(df) - (df['correct_option'] == df['gpt_answer']).sum()\n",
    "}\n",
    "\n",
    "answerability_count"
   ],
   "metadata": {
    "colab": {
     "base_uri": "https://localhost:8080/"
    },
    "id": "sP21LFtNqBYO",
    "outputId": "85a9df9b-0448-4d93-e063-f5c66f5d17df"
   },
   "outputs": [],
   "execution_count": null
  },
  {
   "metadata": {},
   "cell_type": "code",
   "source": "",
   "outputs": [],
   "execution_count": null
  }
 ]
}
