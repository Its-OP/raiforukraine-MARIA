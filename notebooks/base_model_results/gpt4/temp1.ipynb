{
 "nbformat": 4,
 "nbformat_minor": 0,
 "metadata": {
  "colab": {
   "provenance": []
  },
  "kernelspec": {
   "name": "python3",
   "display_name": "Python 3 (ipykernel)",
   "language": "python"
  },
  "language_info": {
   "name": "python"
  }
 },
 "cells": [
  {
   "cell_type": "code",
   "metadata": {
    "id": "XTL8_cenjf7a",
    "ExecuteTime": {
     "end_time": "2025-03-24T20:21:53.573429Z",
     "start_time": "2025-03-24T20:21:53.567673Z"
    }
   },
   "source": [
    "import pandas as pd\n",
    "import json\n",
    "import os\n",
    "import ast\n",
    "import matplotlib.pyplot as plt"
   ],
   "outputs": [],
   "execution_count": 30
  },
  {
   "metadata": {
    "ExecuteTime": {
     "end_time": "2025-03-24T20:21:53.696404Z",
     "start_time": "2025-03-24T20:21:53.692222Z"
    }
   },
   "cell_type": "code",
   "source": [
    "with open(\"../../../data/train_test_split/test_folders.json\", \"r\") as train_file:\n",
    "    test_folders = json.load(train_file)"
   ],
   "outputs": [],
   "execution_count": 31
  },
  {
   "cell_type": "code",
   "source": [
    "df = pd.read_csv('../../../data/base_models/gpt4/temperature1_eval.csv')\n",
    "lisa_sheets = pd.read_csv('../../../data/lisa_sheets.csv')\n",
    "df = pd.merge(df, lisa_sheets[['id', 'folder']], how='left', on='id')\n",
    "df = df[df['folder'].isin(test_folders)]\n",
    "df.head()"
   ],
   "metadata": {
    "id": "AKWrq07-lwD7",
    "colab": {
     "base_uri": "https://localhost:8080/",
     "height": 573
    },
    "outputId": "95c768d3-841c-4ec4-c118-e99d9b08cc91",
    "ExecuteTime": {
     "end_time": "2025-03-24T20:21:54.031185Z",
     "start_time": "2025-03-24T20:21:53.725409Z"
    }
   },
   "outputs": [
    {
     "data": {
      "text/plain": [
       "              id                                           mcq_json  \\\n",
       "31  OIC-328-06-B  {'question': 'Which type of orthosis is primar...   \n",
       "32  OIC-328-12-B  {'question': 'What distinguishes thermal medic...   \n",
       "33  OIC-328-05-A  {'question': 'What is the primary purpose of a...   \n",
       "34  OIC-328-08-A  {'question': 'What is the primary purpose of a...   \n",
       "35  OIC-328-02-A  {'question': 'What is the principal intended a...   \n",
       "\n",
       "                 rubric                                           question  \\\n",
       "31  Management of costs  Which type of orthosis is primarily used to im...   \n",
       "32           Definition  What distinguishes thermal medicine from hydro...   \n",
       "33           Definition  What is the primary purpose of an orthosis in ...   \n",
       "34           Definition  What is the primary purpose of a limb prosthesis?   \n",
       "35           Definition  What is the principal intended action of a med...   \n",
       "\n",
       "                                             option_a  \\\n",
       "31                            Immobilisation Orthoses   \n",
       "32  Thermal medicine uses seawater without medical...   \n",
       "33                           To enhance muscle growth   \n",
       "34    To enhance the aesthetic appearance of the limb   \n",
       "35                              Pharmacological means   \n",
       "\n",
       "                                             option_b  \\\n",
       "31                             Stabilisation Orthoses   \n",
       "32  Hydrotherapy involves the external use of any ...   \n",
       "33            To supplement a deficient limb or spine   \n",
       "34          To replace a missing limb or limb segment   \n",
       "35                                Immunological means   \n",
       "\n",
       "                                             option_c  \\\n",
       "31                                  Function Orthoses   \n",
       "32  Thalassotherapy is recognized and reimbursed b...   \n",
       "33                          To replace a missing limb   \n",
       "34      To provide a temporary solution for limb loss   \n",
       "35                                    Metabolic means   \n",
       "\n",
       "                                             option_d correct_option  \\\n",
       "31                                  Cervical Orthoses              a   \n",
       "32  Thermal medicine involves therapies applied du...              d   \n",
       "33                             To provide pain relief              b   \n",
       "34                       To prevent further limb loss              b   \n",
       "35                          Non-pharmacological means              d   \n",
       "\n",
       "                                          content_gpt  ...  \\\n",
       "31  **Item_parent:** Non-drug therapies and medica...  ...   \n",
       "32  **Item_parent:** Non-drug therapies and medica...  ...   \n",
       "33  **Item Parent:** Non-drug therapies and medica...  ...   \n",
       "34  **Item Parent:** Non-drug therapies and medica...  ...   \n",
       "35  **Item Parent:** Non-drug therapies and medica...  ...   \n",
       "\n",
       "    starts_with_negation  is_question  relevance  ambiguity  gpt_answer  \\\n",
       "31                 False         True   0.691449   0.881794           a   \n",
       "32                 False         True   0.800510   0.620973           d   \n",
       "33                 False         True   0.784810   0.754803           b   \n",
       "34                 False         True   0.769470   0.774903           b   \n",
       "35                 False         True   0.726440   0.689839           d   \n",
       "\n",
       "    disclosure difficulty  min_distractor_quality  avg_distractor_quality  \\\n",
       "31       False          5                       2                       3   \n",
       "32       False          4                       1                       3   \n",
       "33       False          4                       1                       3   \n",
       "34        True          5                       1                       3   \n",
       "35       False          4                       1                       3   \n",
       "\n",
       "    folder  \n",
       "31  IC-328  \n",
       "32  IC-328  \n",
       "33  IC-328  \n",
       "34  IC-328  \n",
       "35  IC-328  \n",
       "\n",
       "[5 rows x 22 columns]"
      ],
      "text/html": [
       "<div>\n",
       "<style scoped>\n",
       "    .dataframe tbody tr th:only-of-type {\n",
       "        vertical-align: middle;\n",
       "    }\n",
       "\n",
       "    .dataframe tbody tr th {\n",
       "        vertical-align: top;\n",
       "    }\n",
       "\n",
       "    .dataframe thead th {\n",
       "        text-align: right;\n",
       "    }\n",
       "</style>\n",
       "<table border=\"1\" class=\"dataframe\">\n",
       "  <thead>\n",
       "    <tr style=\"text-align: right;\">\n",
       "      <th></th>\n",
       "      <th>id</th>\n",
       "      <th>mcq_json</th>\n",
       "      <th>rubric</th>\n",
       "      <th>question</th>\n",
       "      <th>option_a</th>\n",
       "      <th>option_b</th>\n",
       "      <th>option_c</th>\n",
       "      <th>option_d</th>\n",
       "      <th>correct_option</th>\n",
       "      <th>content_gpt</th>\n",
       "      <th>...</th>\n",
       "      <th>starts_with_negation</th>\n",
       "      <th>is_question</th>\n",
       "      <th>relevance</th>\n",
       "      <th>ambiguity</th>\n",
       "      <th>gpt_answer</th>\n",
       "      <th>disclosure</th>\n",
       "      <th>difficulty</th>\n",
       "      <th>min_distractor_quality</th>\n",
       "      <th>avg_distractor_quality</th>\n",
       "      <th>folder</th>\n",
       "    </tr>\n",
       "  </thead>\n",
       "  <tbody>\n",
       "    <tr>\n",
       "      <th>31</th>\n",
       "      <td>OIC-328-06-B</td>\n",
       "      <td>{'question': 'Which type of orthosis is primar...</td>\n",
       "      <td>Management of costs</td>\n",
       "      <td>Which type of orthosis is primarily used to im...</td>\n",
       "      <td>Immobilisation Orthoses</td>\n",
       "      <td>Stabilisation Orthoses</td>\n",
       "      <td>Function Orthoses</td>\n",
       "      <td>Cervical Orthoses</td>\n",
       "      <td>a</td>\n",
       "      <td>**Item_parent:** Non-drug therapies and medica...</td>\n",
       "      <td>...</td>\n",
       "      <td>False</td>\n",
       "      <td>True</td>\n",
       "      <td>0.691449</td>\n",
       "      <td>0.881794</td>\n",
       "      <td>a</td>\n",
       "      <td>False</td>\n",
       "      <td>5</td>\n",
       "      <td>2</td>\n",
       "      <td>3</td>\n",
       "      <td>IC-328</td>\n",
       "    </tr>\n",
       "    <tr>\n",
       "      <th>32</th>\n",
       "      <td>OIC-328-12-B</td>\n",
       "      <td>{'question': 'What distinguishes thermal medic...</td>\n",
       "      <td>Definition</td>\n",
       "      <td>What distinguishes thermal medicine from hydro...</td>\n",
       "      <td>Thermal medicine uses seawater without medical...</td>\n",
       "      <td>Hydrotherapy involves the external use of any ...</td>\n",
       "      <td>Thalassotherapy is recognized and reimbursed b...</td>\n",
       "      <td>Thermal medicine involves therapies applied du...</td>\n",
       "      <td>d</td>\n",
       "      <td>**Item_parent:** Non-drug therapies and medica...</td>\n",
       "      <td>...</td>\n",
       "      <td>False</td>\n",
       "      <td>True</td>\n",
       "      <td>0.800510</td>\n",
       "      <td>0.620973</td>\n",
       "      <td>d</td>\n",
       "      <td>False</td>\n",
       "      <td>4</td>\n",
       "      <td>1</td>\n",
       "      <td>3</td>\n",
       "      <td>IC-328</td>\n",
       "    </tr>\n",
       "    <tr>\n",
       "      <th>33</th>\n",
       "      <td>OIC-328-05-A</td>\n",
       "      <td>{'question': 'What is the primary purpose of a...</td>\n",
       "      <td>Definition</td>\n",
       "      <td>What is the primary purpose of an orthosis in ...</td>\n",
       "      <td>To enhance muscle growth</td>\n",
       "      <td>To supplement a deficient limb or spine</td>\n",
       "      <td>To replace a missing limb</td>\n",
       "      <td>To provide pain relief</td>\n",
       "      <td>b</td>\n",
       "      <td>**Item Parent:** Non-drug therapies and medica...</td>\n",
       "      <td>...</td>\n",
       "      <td>False</td>\n",
       "      <td>True</td>\n",
       "      <td>0.784810</td>\n",
       "      <td>0.754803</td>\n",
       "      <td>b</td>\n",
       "      <td>False</td>\n",
       "      <td>4</td>\n",
       "      <td>1</td>\n",
       "      <td>3</td>\n",
       "      <td>IC-328</td>\n",
       "    </tr>\n",
       "    <tr>\n",
       "      <th>34</th>\n",
       "      <td>OIC-328-08-A</td>\n",
       "      <td>{'question': 'What is the primary purpose of a...</td>\n",
       "      <td>Definition</td>\n",
       "      <td>What is the primary purpose of a limb prosthesis?</td>\n",
       "      <td>To enhance the aesthetic appearance of the limb</td>\n",
       "      <td>To replace a missing limb or limb segment</td>\n",
       "      <td>To provide a temporary solution for limb loss</td>\n",
       "      <td>To prevent further limb loss</td>\n",
       "      <td>b</td>\n",
       "      <td>**Item Parent:** Non-drug therapies and medica...</td>\n",
       "      <td>...</td>\n",
       "      <td>False</td>\n",
       "      <td>True</td>\n",
       "      <td>0.769470</td>\n",
       "      <td>0.774903</td>\n",
       "      <td>b</td>\n",
       "      <td>True</td>\n",
       "      <td>5</td>\n",
       "      <td>1</td>\n",
       "      <td>3</td>\n",
       "      <td>IC-328</td>\n",
       "    </tr>\n",
       "    <tr>\n",
       "      <th>35</th>\n",
       "      <td>OIC-328-02-A</td>\n",
       "      <td>{'question': 'What is the principal intended a...</td>\n",
       "      <td>Definition</td>\n",
       "      <td>What is the principal intended action of a med...</td>\n",
       "      <td>Pharmacological means</td>\n",
       "      <td>Immunological means</td>\n",
       "      <td>Metabolic means</td>\n",
       "      <td>Non-pharmacological means</td>\n",
       "      <td>d</td>\n",
       "      <td>**Item Parent:** Non-drug therapies and medica...</td>\n",
       "      <td>...</td>\n",
       "      <td>False</td>\n",
       "      <td>True</td>\n",
       "      <td>0.726440</td>\n",
       "      <td>0.689839</td>\n",
       "      <td>d</td>\n",
       "      <td>False</td>\n",
       "      <td>4</td>\n",
       "      <td>1</td>\n",
       "      <td>3</td>\n",
       "      <td>IC-328</td>\n",
       "    </tr>\n",
       "  </tbody>\n",
       "</table>\n",
       "<p>5 rows × 22 columns</p>\n",
       "</div>"
      ]
     },
     "execution_count": 32,
     "metadata": {},
     "output_type": "execute_result"
    }
   ],
   "execution_count": 32
  },
  {
   "metadata": {
    "ExecuteTime": {
     "end_time": "2025-03-24T20:21:54.039136Z",
     "start_time": "2025-03-24T20:21:54.031185Z"
    }
   },
   "cell_type": "code",
   "source": "len(df)",
   "outputs": [
    {
     "data": {
      "text/plain": [
       "1524"
      ]
     },
     "execution_count": 33,
     "metadata": {},
     "output_type": "execute_result"
    }
   ],
   "execution_count": 33
  },
  {
   "metadata": {
    "ExecuteTime": {
     "end_time": "2025-03-24T20:21:54.060346Z",
     "start_time": "2025-03-24T20:21:54.039652Z"
    }
   },
   "cell_type": "code",
   "source": "df['correct_option'].unique()",
   "outputs": [
    {
     "data": {
      "text/plain": [
       "array(['a', 'd', 'b', 'c', 'option_b', 'option_c'], dtype=object)"
      ]
     },
     "execution_count": 34,
     "metadata": {},
     "output_type": "execute_result"
    }
   ],
   "execution_count": 34
  },
  {
   "metadata": {
    "ExecuteTime": {
     "end_time": "2025-03-24T20:21:54.071634Z",
     "start_time": "2025-03-24T20:21:54.060346Z"
    }
   },
   "cell_type": "code",
   "source": [
    "# normalize correct_option\n",
    "df['correct_option'] = df['correct_option'].replace({'option_b': 'b', 'option_c': 'c', 'option_d': 'd', 'option_a': 'a'}) "
   ],
   "outputs": [],
   "execution_count": 35
  },
  {
   "cell_type": "markdown",
   "metadata": {
    "id": "HG-SVqoPmO1B"
   },
   "source": [
    "# Question mark"
   ]
  },
  {
   "cell_type": "code",
   "metadata": {
    "execution": {
     "iopub.execute_input": "2024-11-12T12:14:38.446623Z",
     "iopub.status.busy": "2024-11-12T12:14:38.445718Z",
     "iopub.status.idle": "2024-11-12T12:14:38.456114Z",
     "shell.execute_reply": "2024-11-12T12:14:38.455017Z",
     "shell.execute_reply.started": "2024-11-12T12:14:38.446566Z"
    },
    "id": "LC9P1ozSmO1B",
    "colab": {
     "base_uri": "https://localhost:8080/"
    },
    "outputId": "905eaa0f-b6dd-4cd7-8f39-f895b347cb4d",
    "ExecuteTime": {
     "end_time": "2025-03-24T20:21:54.085937Z",
     "start_time": "2025-03-24T20:21:54.071634Z"
    }
   },
   "source": [
    "# We want to maximize 'True'\n",
    "question_freqs = {\n",
    "    'True': round(df['is_question'].sum()/ len(df) * 100, 2),\n",
    "    'False': round((len(df) - df['is_question'].sum()) / len(df) * 100, 2)\n",
    "}\n",
    "\n",
    "question_freqs"
   ],
   "outputs": [
    {
     "data": {
      "text/plain": [
       "{'True': np.float64(100.0), 'False': np.float64(0.0)}"
      ]
     },
     "execution_count": 36,
     "metadata": {},
     "output_type": "execute_result"
    }
   ],
   "execution_count": 36
  },
  {
   "cell_type": "markdown",
   "source": [
    "# Negation"
   ],
   "metadata": {
    "id": "gL6ogPiJszsC"
   }
  },
  {
   "cell_type": "code",
   "source": [
    "# We want to minimze 'True'\n",
    "starts_with_negation_freqs = {\n",
    "    'True': round(df['starts_with_negation'].sum() / len(df) * 100, 2),\n",
    "    'False': round((len(df) - df['starts_with_negation'].sum()) / len(df) * 100, 2)\n",
    "}\n",
    "\n",
    "starts_with_negation_freqs"
   ],
   "metadata": {
    "colab": {
     "base_uri": "https://localhost:8080/"
    },
    "id": "zlz17fiUs4MX",
    "outputId": "3715ec13-d620-4c01-d748-c62bb72b12f3",
    "ExecuteTime": {
     "end_time": "2025-03-24T20:21:54.098621Z",
     "start_time": "2025-03-24T20:21:54.085937Z"
    }
   },
   "outputs": [
    {
     "data": {
      "text/plain": [
       "{'True': np.float64(0.0), 'False': np.float64(100.0)}"
      ]
     },
     "execution_count": 37,
     "metadata": {},
     "output_type": "execute_result"
    }
   ],
   "execution_count": 37
  },
  {
   "cell_type": "markdown",
   "source": [
    "# Readability"
   ],
   "metadata": {
    "id": "rAmz_WnJqoo0"
   }
  },
  {
   "cell_type": "code",
   "source": [
    "plt.figure(figsize=(10, 6))\n",
    "counts, bins, patches = plt.hist(df['readability'], bins=range(0, 19, 1), edgecolor='black')\n",
    "\n",
    "# Set x-axis ticks from 0 to 18\n",
    "plt.xticks(range(0, 19))\n",
    "\n",
    "# Add frequency labels on top of each bar where frequency > 0\n",
    "for count, patch in zip(counts, patches):\n",
    "    if count > 0:\n",
    "        plt.text(patch.get_x() + patch.get_width() / 2, count, int(count),\n",
    "                 ha='center', va='bottom')\n",
    "plt.xlabel('Readability Score')\n",
    "plt.ylabel('Frequency')\n",
    "plt.title('Histogram of Readability Scores')\n",
    "plt.show()"
   ],
   "metadata": {
    "colab": {
     "base_uri": "https://localhost:8080/",
     "height": 564
    },
    "id": "d8x1qyWJtQXd",
    "outputId": "8282eee8-7623-42d9-c6f0-5d69ac0381f8",
    "ExecuteTime": {
     "end_time": "2025-03-24T20:21:54.232961Z",
     "start_time": "2025-03-24T20:21:54.098621Z"
    }
   },
   "outputs": [
    {
     "data": {
      "text/plain": [
       "<Figure size 1000x600 with 1 Axes>"
      ],
      "image/png": "[encoded data removed]"
     },
     "metadata": {},
     "output_type": "display_data"
    }
   ],
   "execution_count": 38
  },
  {
   "metadata": {
    "ExecuteTime": {
     "end_time": "2025-03-24T20:21:54.240831Z",
     "start_time": "2025-03-24T20:21:54.232961Z"
    }
   },
   "cell_type": "code",
   "source": "df['readability'].describe()",
   "outputs": [
    {
     "data": {
      "text/plain": [
       "count    1524.000000\n",
       "mean       13.366749\n",
       "std         3.392141\n",
       "min         3.653333\n",
       "25%        11.130000\n",
       "50%        13.372727\n",
       "75%        15.518182\n",
       "max        27.355000\n",
       "Name: readability, dtype: float64"
      ]
     },
     "execution_count": 39,
     "metadata": {},
     "output_type": "execute_result"
    }
   ],
   "execution_count": 39
  },
  {
   "metadata": {},
   "cell_type": "markdown",
   "source": "# Originality"
  },
  {
   "metadata": {
    "ExecuteTime": {
     "end_time": "2025-03-24T20:21:54.337157Z",
     "start_time": "2025-03-24T20:21:54.240831Z"
    }
   },
   "cell_type": "code",
   "source": [
    "plt.figure(figsize=(10, 6))\n",
    "counts, bins, patches = plt.hist(df['originality'], bins=10, range=(0, 1), edgecolor='black')\n",
    "\n",
    "plt.xticks([round(x * 0.1, 1) for x in range(11)])\n",
    "\n",
    "for count, patch in zip(counts, patches):\n",
    "    if count > 0:\n",
    "        plt.text(patch.get_x() + patch.get_width() / 2, count, int(count),\n",
    "                 ha='center', va='bottom')\n",
    "\n",
    "plt.xlabel('Originality score')\n",
    "plt.ylabel('Frequency')\n",
    "plt.show()"
   ],
   "outputs": [
    {
     "data": {
      "text/plain": [
       "<Figure size 1000x600 with 1 Axes>"
      ],
      "image/png": "[encoded data removed]"
     },
     "metadata": {},
     "output_type": "display_data"
    }
   ],
   "execution_count": 40
  },
  {
   "metadata": {
    "ExecuteTime": {
     "end_time": "2025-03-24T20:21:54.346146Z",
     "start_time": "2025-03-24T20:21:54.339398Z"
    }
   },
   "cell_type": "code",
   "source": "df['originality'].describe()",
   "outputs": [
    {
     "data": {
      "text/plain": [
       "count    1524.000000\n",
       "mean        0.761208\n",
       "std         0.243331\n",
       "min         0.000000\n",
       "25%         0.622596\n",
       "50%         0.800000\n",
       "75%         1.000000\n",
       "max         1.000000\n",
       "Name: originality, dtype: float64"
      ]
     },
     "execution_count": 41,
     "metadata": {},
     "output_type": "execute_result"
    }
   ],
   "execution_count": 41
  },
  {
   "metadata": {},
   "cell_type": "markdown",
   "source": "# Answer Length"
  },
  {
   "cell_type": "code",
   "source": [
    "option_cols = ['option_a', 'option_b', 'option_c', 'option_d']\n",
    "\n",
    "# Create new columns with word counts for each option column\n",
    "for col in option_cols:\n",
    "    df[f'{col}_word_count'] = df[col].astype(str).apply(lambda x: len(x.split()))"
   ],
   "metadata": {
    "id": "dbNhxSY_ugcf",
    "ExecuteTime": {
     "end_time": "2025-03-24T20:21:54.361262Z",
     "start_time": "2025-03-24T20:21:54.346146Z"
    }
   },
   "outputs": [],
   "execution_count": 42
  },
  {
   "cell_type": "code",
   "source": [
    "def get_correct_option_rank(row):\n",
    "    # Get the original word counts for each option\n",
    "    counts = [\n",
    "        row['option_a_word_count'],\n",
    "        row['option_b_word_count'],\n",
    "        row['option_c_word_count'],\n",
    "        row['option_d_word_count']\n",
    "    ]\n",
    "\n",
    "    # Map correct_option letter to its index (0 for A, 1 for B, etc.)\n",
    "    letter_to_index = {'A': 0, 'a':0, 'B': 1, 'b':1, 'C': 2, 'c':2, 'D': 3, 'd':3}\n",
    "    correct_idx = letter_to_index[row['correct_option']]\n",
    "\n",
    "    # Determine the word count of the correct option\n",
    "    correct_count = counts[correct_idx]\n",
    "\n",
    "    # Create an effective counts list:\n",
    "    # For non-correct options, if their word count equals the correct option's word count,\n",
    "    # treat them as if they had one extra word.\n",
    "    effective_counts = []\n",
    "    for i, count in enumerate(counts):\n",
    "        if i != correct_idx and count == correct_count:\n",
    "            effective_counts.append(count + 1)\n",
    "        else:\n",
    "            effective_counts.append(count)\n",
    "\n",
    "    # Sort the option indices by descending effective count.\n",
    "    ordering = sorted(range(4), key=lambda i: effective_counts[i], reverse=True)\n",
    "\n",
    "    # Compute the rank as the 1-indexed position of the correct option in the ordering.\n",
    "    rank = ordering.index(correct_idx) + 1\n",
    "    return rank"
   ],
   "metadata": {
    "id": "6znWPWARt6NU",
    "ExecuteTime": {
     "end_time": "2025-03-24T20:21:54.374384Z",
     "start_time": "2025-03-24T20:21:54.361262Z"
    }
   },
   "outputs": [],
   "execution_count": 43
  },
  {
   "cell_type": "code",
   "source": [
    "def get_rank_distribution(df):\n",
    "  rank_distribution = df['correct_option_rank'].value_counts().sort_index()\n",
    "  rank_distribution = round(rank_distribution / len(df), 2) * 100\n",
    "\n",
    "  plt.figure(figsize=(8, 6))\n",
    "  plt.bar(rank_distribution.index, rank_distribution.values, color='skyblue', edgecolor='black')\n",
    "  plt.xlabel('N (1 = Longest, 4 = Shortest)')\n",
    "  plt.ylabel('Frequency, %')\n",
    "  plt.title('How often the correct option is N`th longest')\n",
    "  plt.xticks([1, 2, 3, 4])\n",
    "  plt.show()"
   ],
   "metadata": {
    "id": "blakrAIIt8gZ",
    "ExecuteTime": {
     "end_time": "2025-03-24T20:21:54.387829Z",
     "start_time": "2025-03-24T20:21:54.374887Z"
    }
   },
   "outputs": [],
   "execution_count": 44
  },
  {
   "cell_type": "code",
   "source": [
    "df['correct_option_rank'] = df.apply(get_correct_option_rank, axis=1)\n",
    "get_rank_distribution(df)"
   ],
   "metadata": {
    "colab": {
     "base_uri": "https://localhost:8080/",
     "height": 565
    },
    "id": "Y9bKBBcut-tv",
    "outputId": "14514fb0-399c-4dfa-bbbd-46e6379e133a",
    "ExecuteTime": {
     "end_time": "2025-03-24T20:21:54.487176Z",
     "start_time": "2025-03-24T20:21:54.387829Z"
    }
   },
   "outputs": [
    {
     "data": {
      "text/plain": [
       "<Figure size 800x600 with 1 Axes>"
      ],
      "image/png": "[encoded data removed]"
     },
     "metadata": {},
     "output_type": "display_data"
    }
   ],
   "execution_count": 45
  },
  {
   "cell_type": "markdown",
   "source": [
    "# Disclosure"
   ],
   "metadata": {
    "id": "klcHFsMjzp3m"
   }
  },
  {
   "metadata": {
    "ExecuteTime": {
     "end_time": "2025-03-24T20:21:54.491774Z",
     "start_time": "2025-03-24T20:21:54.487176Z"
    }
   },
   "cell_type": "code",
   "source": [
    "disclosure_freqs = {\n",
    "    'True': round((df['disclosure'].sum() / len(df)) * 100, 2),\n",
    "    'False': round((len(df) - df['disclosure'].sum()) / len(df) * 100, 2)\n",
    "}\n",
    "\n",
    "disclosure_freqs"
   ],
   "outputs": [
    {
     "data": {
      "text/plain": [
       "{'True': np.float64(10.37), 'False': np.float64(89.63)}"
      ]
     },
     "execution_count": 46,
     "metadata": {},
     "output_type": "execute_result"
    }
   ],
   "execution_count": 46
  },
  {
   "cell_type": "markdown",
   "metadata": {
    "id": "nb_L81b9mO1C"
   },
   "source": [
    "# Relevance to the input material"
   ]
  },
  {
   "cell_type": "code",
   "metadata": {
    "execution": {
     "iopub.execute_input": "2024-11-18T20:39:21.545396Z",
     "iopub.status.busy": "2024-11-18T20:39:21.54466Z",
     "iopub.status.idle": "2024-11-18T20:39:29.033346Z",
     "shell.execute_reply": "2024-11-18T20:39:29.032397Z",
     "shell.execute_reply.started": "2024-11-18T20:39:21.54536Z"
    },
    "id": "EbIfjd7ImO1C",
    "colab": {
     "base_uri": "https://localhost:8080/",
     "height": 542
    },
    "outputId": "dfd2992e-b57c-446f-ab97-5495b6cdc984",
    "ExecuteTime": {
     "end_time": "2025-03-24T20:21:54.597151Z",
     "start_time": "2025-03-24T20:21:54.491774Z"
    }
   },
   "source": [
    "plt.figure(figsize=(10, 6))\n",
    "counts, bins, patches = plt.hist(df['relevance'], bins=10, range=(0, 1), edgecolor='black')\n",
    "\n",
    "plt.xticks([round(x * 0.1, 1) for x in range(11)])\n",
    "\n",
    "for count, patch in zip(counts, patches):\n",
    "    if count > 0:\n",
    "        plt.text(patch.get_x() + patch.get_width() / 2, count, int(count),\n",
    "                 ha='center', va='bottom')\n",
    "\n",
    "plt.xlabel('Relevance Score')\n",
    "plt.ylabel('Frequency')\n",
    "plt.show()"
   ],
   "outputs": [
    {
     "data": {
      "text/plain": [
       "<Figure size 1000x600 with 1 Axes>"
      ],
      "image/png": "[encoded data removed]"
     },
     "metadata": {},
     "output_type": "display_data"
    }
   ],
   "execution_count": 47
  },
  {
   "metadata": {
    "ExecuteTime": {
     "end_time": "2025-03-24T20:21:54.606520Z",
     "start_time": "2025-03-24T20:21:54.597151Z"
    }
   },
   "cell_type": "code",
   "source": "df['relevance'].describe()",
   "outputs": [
    {
     "data": {
      "text/plain": [
       "count    1524.000000\n",
       "mean        0.790685\n",
       "std         0.046347\n",
       "min         0.611226\n",
       "25%         0.762342\n",
       "50%         0.793469\n",
       "75%         0.823016\n",
       "max         0.935077\n",
       "Name: relevance, dtype: float64"
      ]
     },
     "execution_count": 48,
     "metadata": {},
     "output_type": "execute_result"
    }
   ],
   "execution_count": 48
  },
  {
   "cell_type": "markdown",
   "source": "# Ambiguity (cosine similarity)",
   "metadata": {
    "id": "6ue_cVZzrpi4"
   }
  },
  {
   "metadata": {
    "ExecuteTime": {
     "end_time": "2025-03-24T20:21:54.754932Z",
     "start_time": "2025-03-24T20:21:54.606520Z"
    }
   },
   "cell_type": "code",
   "source": [
    "plt.figure(figsize=(8, 6))\n",
    "plt.hist(df['ambiguity'], bins=10, edgecolor='black', alpha=0.7)\n",
    "\n",
    "plt.xlabel(\"Score\")\n",
    "plt.ylabel(\"Frequency\")\n",
    "plt.title(\"Distribution of Ambiguity\")"
   ],
   "outputs": [
    {
     "data": {
      "text/plain": [
       "Text(0.5, 1.0, 'Distribution of Ambiguity')"
      ]
     },
     "execution_count": 49,
     "metadata": {},
     "output_type": "execute_result"
    },
    {
     "data": {
      "text/plain": [
       "<Figure size 800x600 with 1 Axes>"
      ],
      "image/png": "[encoded data removed]"
     },
     "metadata": {},
     "output_type": "display_data"
    }
   ],
   "execution_count": 49
  },
  {
   "metadata": {
    "ExecuteTime": {
     "end_time": "2025-03-24T20:21:54.765145Z",
     "start_time": "2025-03-24T20:21:54.754932Z"
    }
   },
   "cell_type": "code",
   "source": "df['ambiguity'].describe()",
   "outputs": [
    {
     "data": {
      "text/plain": [
       "count    1524.000000\n",
       "mean        0.632848\n",
       "std         0.105204\n",
       "min         0.000000\n",
       "25%         0.564952\n",
       "50%         0.622128\n",
       "75%         0.690870\n",
       "max         0.994638\n",
       "Name: ambiguity, dtype: float64"
      ]
     },
     "execution_count": 50,
     "metadata": {},
     "output_type": "execute_result"
    }
   ],
   "execution_count": 50
  },
  {
   "metadata": {},
   "cell_type": "markdown",
   "source": "# Difficulty (judge LLM)"
  },
  {
   "metadata": {
    "ExecuteTime": {
     "end_time": "2025-03-24T20:21:54.838819Z",
     "start_time": "2025-03-24T20:21:54.765145Z"
    }
   },
   "cell_type": "code",
   "source": [
    "import numpy as np\n",
    "\n",
    "plt.figure(figsize=(8, 6))\n",
    "plt.hist(df['difficulty'], bins=np.arange(1, 6), edgecolor='black', alpha=0.7)\n",
    "\n",
    "plt.xlabel(\"Score\")\n",
    "plt.ylabel(\"Frequency\")\n",
    "plt.title(\"Distribution of Syntactic Ambiguity\")\n",
    "plt.xticks(range(1, 6))\n",
    "\n",
    "# Show the plot\n",
    "plt.show()"
   ],
   "outputs": [
    {
     "data": {
      "text/plain": [
       "<Figure size 800x600 with 1 Axes>"
      ],
      "image/png": "[encoded data removed]"
     },
     "metadata": {},
     "output_type": "display_data"
    }
   ],
   "execution_count": 51
  },
  {
   "metadata": {
    "ExecuteTime": {
     "end_time": "2025-03-24T20:21:54.844424Z",
     "start_time": "2025-03-24T20:21:54.838819Z"
    }
   },
   "cell_type": "code",
   "source": "df['difficulty'].describe()",
   "outputs": [
    {
     "data": {
      "text/plain": [
       "count    1524.000000\n",
       "mean        2.953412\n",
       "std         1.286245\n",
       "min         1.000000\n",
       "25%         2.000000\n",
       "50%         2.000000\n",
       "75%         4.000000\n",
       "max         5.000000\n",
       "Name: difficulty, dtype: float64"
      ]
     },
     "execution_count": 52,
     "metadata": {},
     "output_type": "execute_result"
    }
   ],
   "execution_count": 52
  },
  {
   "cell_type": "markdown",
   "source": [
    "# Answerability\n",
    "can judge model answer the generated question with context provided?"
   ],
   "metadata": {
    "id": "rLiUkNeToPYR"
   }
  },
  {
   "cell_type": "code",
   "source": [
    "df['gpt_answer'].unique()"
   ],
   "metadata": {
    "colab": {
     "base_uri": "https://localhost:8080/"
    },
    "id": "RsEaI2fOplIU",
    "outputId": "ce5328c5-852e-419a-809d-e6595d2f8943",
    "ExecuteTime": {
     "end_time": "2025-03-24T20:21:54.854674Z",
     "start_time": "2025-03-24T20:21:54.844424Z"
    }
   },
   "outputs": [
    {
     "data": {
      "text/plain": [
       "array(['a', 'd', 'b', 'c'], dtype=object)"
      ]
     },
     "execution_count": 53,
     "metadata": {},
     "output_type": "execute_result"
    }
   ],
   "execution_count": 53
  },
  {
   "cell_type": "code",
   "source": [
    "df['correct_option'].unique()"
   ],
   "metadata": {
    "colab": {
     "base_uri": "https://localhost:8080/"
    },
    "id": "vjj90iEfp-TV",
    "outputId": "d1b4812f-8e29-45a7-baf8-d8ce96c9315b",
    "ExecuteTime": {
     "end_time": "2025-03-24T20:21:54.867965Z",
     "start_time": "2025-03-24T20:21:54.854674Z"
    }
   },
   "outputs": [
    {
     "data": {
      "text/plain": [
       "array(['a', 'd', 'b', 'c'], dtype=object)"
      ]
     },
     "execution_count": 54,
     "metadata": {},
     "output_type": "execute_result"
    }
   ],
   "execution_count": 54
  },
  {
   "cell_type": "code",
   "source": [
    "answerability_freqs = {\n",
    "    'True': round((df['correct_option'] == df['gpt_answer']).sum() / len(df) * 100, 2), \n",
    "    'False': round((len(df) - (df['correct_option'] == df['gpt_answer']).sum()) / len(df) * 100, 2)\n",
    "}\n",
    "\n",
    "answerability_freqs"
   ],
   "metadata": {
    "colab": {
     "base_uri": "https://localhost:8080/"
    },
    "id": "sP21LFtNqBYO",
    "outputId": "85a9df9b-0448-4d93-e063-f5c66f5d17df",
    "ExecuteTime": {
     "end_time": "2025-03-24T20:21:54.882740Z",
     "start_time": "2025-03-24T20:21:54.867965Z"
    }
   },
   "outputs": [
    {
     "data": {
      "text/plain": [
       "{'True': np.float64(99.74), 'False': np.float64(0.26)}"
      ]
     },
     "execution_count": 55,
     "metadata": {},
     "output_type": "execute_result"
    }
   ],
   "execution_count": 55
  },
  {
   "metadata": {},
   "cell_type": "markdown",
   "source": ""
  },
  {
   "metadata": {},
   "cell_type": "markdown",
   "source": "# Distractors Quality"
  },
  {
   "metadata": {
    "ExecuteTime": {
     "end_time": "2025-03-24T20:21:54.965489Z",
     "start_time": "2025-03-24T20:21:54.882740Z"
    }
   },
   "cell_type": "code",
   "source": [
    "import numpy as np\n",
    "\n",
    "plt.figure(figsize=(8, 6))\n",
    "plt.hist(df['min_distractor_quality'], bins=np.arange(1, 7), edgecolor='black', alpha=0.7)\n",
    "\n",
    "plt.xlabel(\"Score\")\n",
    "plt.ylabel(\"Frequency\")\n",
    "plt.title(\"Distribution of Distractors Quality\")\n",
    "plt.xticks(range(1, 7))\n",
    "\n",
    "# Show the plot\n",
    "plt.show()"
   ],
   "outputs": [
    {
     "data": {
      "text/plain": [
       "<Figure size 800x600 with 1 Axes>"
      ],
      "image/png": "[encoded data removed]"
     },
     "metadata": {},
     "output_type": "display_data"
    }
   ],
   "execution_count": 56
  },
  {
   "metadata": {
    "ExecuteTime": {
     "end_time": "2025-03-24T20:21:54.972287Z",
     "start_time": "2025-03-24T20:21:54.965489Z"
    }
   },
   "cell_type": "code",
   "source": "df['min_distractor_quality'].describe()",
   "outputs": [
    {
     "data": {
      "text/plain": [
       "count    1524.000000\n",
       "mean        1.646325\n",
       "std         0.757700\n",
       "min         1.000000\n",
       "25%         1.000000\n",
       "50%         1.000000\n",
       "75%         2.000000\n",
       "max         5.000000\n",
       "Name: min_distractor_quality, dtype: float64"
      ]
     },
     "execution_count": 57,
     "metadata": {},
     "output_type": "execute_result"
    }
   ],
   "execution_count": 57
  },
  {
   "metadata": {
    "ExecuteTime": {
     "end_time": "2025-03-24T20:21:55.048062Z",
     "start_time": "2025-03-24T20:21:54.972287Z"
    }
   },
   "cell_type": "code",
   "source": [
    "import numpy as np\n",
    "\n",
    "plt.figure(figsize=(8, 6))\n",
    "plt.hist(df['avg_distractor_quality'], bins=np.arange(1, 7), edgecolor='black', alpha=0.7)\n",
    "\n",
    "plt.xlabel(\"Score\")\n",
    "plt.ylabel(\"Frequency\")\n",
    "plt.title(\"Distribution of Distractors Quality\")\n",
    "plt.xticks(range(1, 7))\n",
    "\n",
    "# Show the plot\n",
    "plt.show()"
   ],
   "outputs": [
    {
     "data": {
      "text/plain": [
       "<Figure size 800x600 with 1 Axes>"
      ],
      "image/png": "[encoded data removed]"
     },
     "metadata": {},
     "output_type": "display_data"
    }
   ],
   "execution_count": 58
  },
  {
   "metadata": {
    "ExecuteTime": {
     "end_time": "2025-03-24T20:21:55.057698Z",
     "start_time": "2025-03-24T20:21:55.048062Z"
    }
   },
   "cell_type": "code",
   "source": "df['avg_distractor_quality'].describe()",
   "outputs": [
    {
     "data": {
      "text/plain": [
       "count    1524.000000\n",
       "mean        2.894357\n",
       "std         0.641113\n",
       "min         1.000000\n",
       "25%         3.000000\n",
       "50%         3.000000\n",
       "75%         3.000000\n",
       "max         5.000000\n",
       "Name: avg_distractor_quality, dtype: float64"
      ]
     },
     "execution_count": 59,
     "metadata": {},
     "output_type": "execute_result"
    }
   ],
   "execution_count": 59
  }
 ]
}
