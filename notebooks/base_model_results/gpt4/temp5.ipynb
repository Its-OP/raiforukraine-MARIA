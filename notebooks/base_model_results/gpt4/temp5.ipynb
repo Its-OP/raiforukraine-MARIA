{
 "nbformat": 4,
 "nbformat_minor": 0,
 "metadata": {
  "colab": {
   "provenance": []
  },
  "kernelspec": {
   "name": "python3",
   "display_name": "Python 3 (ipykernel)",
   "language": "python"
  },
  "language_info": {
   "name": "python"
  }
 },
 "cells": [
  {
   "cell_type": "code",
   "metadata": {
    "id": "XTL8_cenjf7a",
    "ExecuteTime": {
     "end_time": "2025-03-24T20:44:27.342555Z",
     "start_time": "2025-03-24T20:44:26.601729Z"
    }
   },
   "source": [
    "import pandas as pd\n",
    "import json\n",
    "import os\n",
    "import ast\n",
    "import matplotlib.pyplot as plt"
   ],
   "outputs": [],
   "execution_count": 1
  },
  {
   "metadata": {
    "ExecuteTime": {
     "end_time": "2025-03-24T20:44:27.348307Z",
     "start_time": "2025-03-24T20:44:27.343619Z"
    }
   },
   "cell_type": "code",
   "source": [
    "with open(\"../../../data/train_test_split/test_folders.json\", \"r\") as train_file:\n",
    "    test_folders = json.load(train_file)"
   ],
   "outputs": [],
   "execution_count": 2
  },
  {
   "cell_type": "code",
   "source": [
    "df = pd.read_csv('../../../data/base_models/gpt4/temperature5_eval.csv')\n",
    "lisa_sheets = pd.read_csv('../../../data/lisa_sheets.csv')\n",
    "df = pd.merge(df, lisa_sheets[['id', 'folder']], how='left', on='id')\n",
    "df = df[df['folder'].isin(test_folders)]\n",
    "df.head()"
   ],
   "metadata": {
    "id": "AKWrq07-lwD7",
    "colab": {
     "base_uri": "https://localhost:8080/",
     "height": 573
    },
    "outputId": "95c768d3-841c-4ec4-c118-e99d9b08cc91",
    "ExecuteTime": {
     "end_time": "2025-03-24T20:44:27.643642Z",
     "start_time": "2025-03-24T20:44:27.349328Z"
    }
   },
   "outputs": [
    {
     "data": {
      "text/plain": [
       "              id                                           mcq_json  \\\n",
       "31  OIC-328-06-B  {'question': 'Which type of orthosis is primar...   \n",
       "32  OIC-328-12-B  {'question': 'What is the main difference betw...   \n",
       "33  OIC-328-05-A  {'question': 'What is the primary purpose of a...   \n",
       "34  OIC-328-08-A  {'question': 'What is the primary purpose of a...   \n",
       "35  OIC-328-02-A  {'question': 'What is the primary purpose of t...   \n",
       "\n",
       "                 rubric                                           question  \\\n",
       "31  Management of costs  Which type of orthosis is primarily used to im...   \n",
       "32           Definition  What is the main difference between thermal me...   \n",
       "33           Definition  What is the primary purpose of an orthosis in ...   \n",
       "34           Definition  What is the primary purpose of a limb prosthes...   \n",
       "35           Definition  What is the primary purpose of the EU regulati...   \n",
       "\n",
       "                                             option_a  \\\n",
       "31                            Immobilisation Orthoses   \n",
       "32  Thermal medicine uses seawater, while thalasso...   \n",
       "33                     To assist in surgical recovery   \n",
       "34                    To enhance aesthetic appearance   \n",
       "35         To regulate the prices of medical devices.   \n",
       "\n",
       "                                             option_b  \\\n",
       "31                                  Function Orthoses   \n",
       "32  Thalassotherapy is systematically supervised b...   \n",
       "33           To enhance the mobility of healthy limbs   \n",
       "34                            For functional purposes   \n",
       "35  To standardize the marketing and commissioning...   \n",
       "\n",
       "                                             option_c  \\\n",
       "31                                   Posture Orthoses   \n",
       "32  Thermal medicine involves the use of mineral w...   \n",
       "33  To stabilize or correct a deficient limb or spine   \n",
       "34                      To prevent further amputation   \n",
       "35  To control the reimbursement of medical device...   \n",
       "\n",
       "                                             option_d correct_option  \\\n",
       "31                                  Cervical Orthoses              b   \n",
       "32  Thalassotherapy treatments are reimbursed by H...              c   \n",
       "33                           To replace missing limbs              c   \n",
       "34                        To increase muscle strength              b   \n",
       "35  To define medical devices as products of human...              b   \n",
       "\n",
       "                                          content_gpt  ...  \\\n",
       "31  **Item_parent:** Non-drug therapies and medica...  ...   \n",
       "32  **Item_parent:** Non-drug therapies and medica...  ...   \n",
       "33  **Item Parent:** Non-drug therapies and medica...  ...   \n",
       "34  **Item Parent:** Non-drug therapies and medica...  ...   \n",
       "35  **Item Parent:** Non-drug therapies and medica...  ...   \n",
       "\n",
       "    starts_with_negation  is_question  relevance  ambiguity  gpt_answer  \\\n",
       "31                 False         True   0.704742   0.837635           b   \n",
       "32                 False         True   0.733706   0.888077           c   \n",
       "33                 False         True   0.759086   0.751152           c   \n",
       "34                 False         True   0.787791   0.660847           b   \n",
       "35                 False         True   0.776859   0.752327           b   \n",
       "\n",
       "    disclosure difficulty  avg_distractor_quality  min_distractor_quality  \\\n",
       "31       False          2                       3                       1   \n",
       "32       False          4                       3                       1   \n",
       "33       False          5                       3                       1   \n",
       "34       False          5                       3                       1   \n",
       "35       False          5                       3                       1   \n",
       "\n",
       "    folder  \n",
       "31  IC-328  \n",
       "32  IC-328  \n",
       "33  IC-328  \n",
       "34  IC-328  \n",
       "35  IC-328  \n",
       "\n",
       "[5 rows x 22 columns]"
      ],
      "text/html": [
       "<div>\n",
       "<style scoped>\n",
       "    .dataframe tbody tr th:only-of-type {\n",
       "        vertical-align: middle;\n",
       "    }\n",
       "\n",
       "    .dataframe tbody tr th {\n",
       "        vertical-align: top;\n",
       "    }\n",
       "\n",
       "    .dataframe thead th {\n",
       "        text-align: right;\n",
       "    }\n",
       "</style>\n",
       "<table border=\"1\" class=\"dataframe\">\n",
       "  <thead>\n",
       "    <tr style=\"text-align: right;\">\n",
       "      <th></th>\n",
       "      <th>id</th>\n",
       "      <th>mcq_json</th>\n",
       "      <th>rubric</th>\n",
       "      <th>question</th>\n",
       "      <th>option_a</th>\n",
       "      <th>option_b</th>\n",
       "      <th>option_c</th>\n",
       "      <th>option_d</th>\n",
       "      <th>correct_option</th>\n",
       "      <th>content_gpt</th>\n",
       "      <th>...</th>\n",
       "      <th>starts_with_negation</th>\n",
       "      <th>is_question</th>\n",
       "      <th>relevance</th>\n",
       "      <th>ambiguity</th>\n",
       "      <th>gpt_answer</th>\n",
       "      <th>disclosure</th>\n",
       "      <th>difficulty</th>\n",
       "      <th>avg_distractor_quality</th>\n",
       "      <th>min_distractor_quality</th>\n",
       "      <th>folder</th>\n",
       "    </tr>\n",
       "  </thead>\n",
       "  <tbody>\n",
       "    <tr>\n",
       "      <th>31</th>\n",
       "      <td>OIC-328-06-B</td>\n",
       "      <td>{'question': 'Which type of orthosis is primar...</td>\n",
       "      <td>Management of costs</td>\n",
       "      <td>Which type of orthosis is primarily used to im...</td>\n",
       "      <td>Immobilisation Orthoses</td>\n",
       "      <td>Function Orthoses</td>\n",
       "      <td>Posture Orthoses</td>\n",
       "      <td>Cervical Orthoses</td>\n",
       "      <td>b</td>\n",
       "      <td>**Item_parent:** Non-drug therapies and medica...</td>\n",
       "      <td>...</td>\n",
       "      <td>False</td>\n",
       "      <td>True</td>\n",
       "      <td>0.704742</td>\n",
       "      <td>0.837635</td>\n",
       "      <td>b</td>\n",
       "      <td>False</td>\n",
       "      <td>2</td>\n",
       "      <td>3</td>\n",
       "      <td>1</td>\n",
       "      <td>IC-328</td>\n",
       "    </tr>\n",
       "    <tr>\n",
       "      <th>32</th>\n",
       "      <td>OIC-328-12-B</td>\n",
       "      <td>{'question': 'What is the main difference betw...</td>\n",
       "      <td>Definition</td>\n",
       "      <td>What is the main difference between thermal me...</td>\n",
       "      <td>Thermal medicine uses seawater, while thalasso...</td>\n",
       "      <td>Thalassotherapy is systematically supervised b...</td>\n",
       "      <td>Thermal medicine involves the use of mineral w...</td>\n",
       "      <td>Thalassotherapy treatments are reimbursed by H...</td>\n",
       "      <td>c</td>\n",
       "      <td>**Item_parent:** Non-drug therapies and medica...</td>\n",
       "      <td>...</td>\n",
       "      <td>False</td>\n",
       "      <td>True</td>\n",
       "      <td>0.733706</td>\n",
       "      <td>0.888077</td>\n",
       "      <td>c</td>\n",
       "      <td>False</td>\n",
       "      <td>4</td>\n",
       "      <td>3</td>\n",
       "      <td>1</td>\n",
       "      <td>IC-328</td>\n",
       "    </tr>\n",
       "    <tr>\n",
       "      <th>33</th>\n",
       "      <td>OIC-328-05-A</td>\n",
       "      <td>{'question': 'What is the primary purpose of a...</td>\n",
       "      <td>Definition</td>\n",
       "      <td>What is the primary purpose of an orthosis in ...</td>\n",
       "      <td>To assist in surgical recovery</td>\n",
       "      <td>To enhance the mobility of healthy limbs</td>\n",
       "      <td>To stabilize or correct a deficient limb or spine</td>\n",
       "      <td>To replace missing limbs</td>\n",
       "      <td>c</td>\n",
       "      <td>**Item Parent:** Non-drug therapies and medica...</td>\n",
       "      <td>...</td>\n",
       "      <td>False</td>\n",
       "      <td>True</td>\n",
       "      <td>0.759086</td>\n",
       "      <td>0.751152</td>\n",
       "      <td>c</td>\n",
       "      <td>False</td>\n",
       "      <td>5</td>\n",
       "      <td>3</td>\n",
       "      <td>1</td>\n",
       "      <td>IC-328</td>\n",
       "    </tr>\n",
       "    <tr>\n",
       "      <th>34</th>\n",
       "      <td>OIC-328-08-A</td>\n",
       "      <td>{'question': 'What is the primary purpose of a...</td>\n",
       "      <td>Definition</td>\n",
       "      <td>What is the primary purpose of a limb prosthes...</td>\n",
       "      <td>To enhance aesthetic appearance</td>\n",
       "      <td>For functional purposes</td>\n",
       "      <td>To prevent further amputation</td>\n",
       "      <td>To increase muscle strength</td>\n",
       "      <td>b</td>\n",
       "      <td>**Item Parent:** Non-drug therapies and medica...</td>\n",
       "      <td>...</td>\n",
       "      <td>False</td>\n",
       "      <td>True</td>\n",
       "      <td>0.787791</td>\n",
       "      <td>0.660847</td>\n",
       "      <td>b</td>\n",
       "      <td>False</td>\n",
       "      <td>5</td>\n",
       "      <td>3</td>\n",
       "      <td>1</td>\n",
       "      <td>IC-328</td>\n",
       "    </tr>\n",
       "    <tr>\n",
       "      <th>35</th>\n",
       "      <td>OIC-328-02-A</td>\n",
       "      <td>{'question': 'What is the primary purpose of t...</td>\n",
       "      <td>Definition</td>\n",
       "      <td>What is the primary purpose of the EU regulati...</td>\n",
       "      <td>To regulate the prices of medical devices.</td>\n",
       "      <td>To standardize the marketing and commissioning...</td>\n",
       "      <td>To control the reimbursement of medical device...</td>\n",
       "      <td>To define medical devices as products of human...</td>\n",
       "      <td>b</td>\n",
       "      <td>**Item Parent:** Non-drug therapies and medica...</td>\n",
       "      <td>...</td>\n",
       "      <td>False</td>\n",
       "      <td>True</td>\n",
       "      <td>0.776859</td>\n",
       "      <td>0.752327</td>\n",
       "      <td>b</td>\n",
       "      <td>False</td>\n",
       "      <td>5</td>\n",
       "      <td>3</td>\n",
       "      <td>1</td>\n",
       "      <td>IC-328</td>\n",
       "    </tr>\n",
       "  </tbody>\n",
       "</table>\n",
       "<p>5 rows × 22 columns</p>\n",
       "</div>"
      ]
     },
     "execution_count": 3,
     "metadata": {},
     "output_type": "execute_result"
    }
   ],
   "execution_count": 3
  },
  {
   "metadata": {
    "ExecuteTime": {
     "end_time": "2025-03-24T20:44:27.651401Z",
     "start_time": "2025-03-24T20:44:27.644752Z"
    }
   },
   "cell_type": "code",
   "source": "len(df)",
   "outputs": [
    {
     "data": {
      "text/plain": [
       "1524"
      ]
     },
     "execution_count": 4,
     "metadata": {},
     "output_type": "execute_result"
    }
   ],
   "execution_count": 4
  },
  {
   "metadata": {
    "ExecuteTime": {
     "end_time": "2025-03-24T20:44:27.675669Z",
     "start_time": "2025-03-24T20:44:27.653049Z"
    }
   },
   "cell_type": "code",
   "source": "df['correct_option'].unique()",
   "outputs": [
    {
     "data": {
      "text/plain": [
       "array(['b', 'c', 'a', 'd', 'option_c', 'option_d', 'option_b'],\n",
       "      dtype=object)"
      ]
     },
     "execution_count": 5,
     "metadata": {},
     "output_type": "execute_result"
    }
   ],
   "execution_count": 5
  },
  {
   "metadata": {
    "ExecuteTime": {
     "end_time": "2025-03-24T20:44:27.690972Z",
     "start_time": "2025-03-24T20:44:27.676676Z"
    }
   },
   "cell_type": "code",
   "source": [
    "# normalize correct_option\n",
    "df['correct_option'] = df['correct_option'].replace({'option_b': 'b', 'option_c': 'c', 'option_d': 'd', 'option_a': 'a'}) "
   ],
   "outputs": [],
   "execution_count": 6
  },
  {
   "cell_type": "markdown",
   "metadata": {
    "id": "HG-SVqoPmO1B"
   },
   "source": [
    "# Question mark"
   ]
  },
  {
   "cell_type": "code",
   "metadata": {
    "execution": {
     "iopub.execute_input": "2024-11-12T12:14:38.446623Z",
     "iopub.status.busy": "2024-11-12T12:14:38.445718Z",
     "iopub.status.idle": "2024-11-12T12:14:38.456114Z",
     "shell.execute_reply": "2024-11-12T12:14:38.455017Z",
     "shell.execute_reply.started": "2024-11-12T12:14:38.446566Z"
    },
    "id": "LC9P1ozSmO1B",
    "colab": {
     "base_uri": "https://localhost:8080/"
    },
    "outputId": "905eaa0f-b6dd-4cd7-8f39-f895b347cb4d",
    "ExecuteTime": {
     "end_time": "2025-03-24T20:44:27.706336Z",
     "start_time": "2025-03-24T20:44:27.691981Z"
    }
   },
   "source": [
    "# We want to maximize 'True'\n",
    "question_freqs = {\n",
    "    'True': round(df['is_question'].sum()/ len(df) * 100, 2),\n",
    "    'False': round((len(df) - df['is_question'].sum()) / len(df) * 100, 2)\n",
    "}\n",
    "\n",
    "question_freqs"
   ],
   "outputs": [
    {
     "data": {
      "text/plain": [
       "{'True': np.float64(100.0), 'False': np.float64(0.0)}"
      ]
     },
     "execution_count": 7,
     "metadata": {},
     "output_type": "execute_result"
    }
   ],
   "execution_count": 7
  },
  {
   "cell_type": "markdown",
   "source": [
    "# Negation"
   ],
   "metadata": {
    "id": "gL6ogPiJszsC"
   }
  },
  {
   "cell_type": "code",
   "source": [
    "# We want to minimze 'True'\n",
    "starts_with_negation_freqs = {\n",
    "    'True': round(df['starts_with_negation'].sum() / len(df) * 100, 2),\n",
    "    'False': round((len(df) - df['starts_with_negation'].sum()) / len(df) * 100, 2)\n",
    "}\n",
    "\n",
    "starts_with_negation_freqs"
   ],
   "metadata": {
    "colab": {
     "base_uri": "https://localhost:8080/"
    },
    "id": "zlz17fiUs4MX",
    "outputId": "3715ec13-d620-4c01-d748-c62bb72b12f3",
    "ExecuteTime": {
     "end_time": "2025-03-24T20:44:27.742703Z",
     "start_time": "2025-03-24T20:44:27.707343Z"
    }
   },
   "outputs": [
    {
     "data": {
      "text/plain": [
       "{'True': np.float64(0.0), 'False': np.float64(100.0)}"
      ]
     },
     "execution_count": 8,
     "metadata": {},
     "output_type": "execute_result"
    }
   ],
   "execution_count": 8
  },
  {
   "cell_type": "markdown",
   "source": [
    "# Readability"
   ],
   "metadata": {
    "id": "rAmz_WnJqoo0"
   }
  },
  {
   "cell_type": "code",
   "source": [
    "plt.figure(figsize=(10, 6))\n",
    "counts, bins, patches = plt.hist(df['readability'], bins=range(0, 19, 1), edgecolor='black')\n",
    "\n",
    "# Set x-axis ticks from 0 to 18\n",
    "plt.xticks(range(0, 19))\n",
    "\n",
    "# Add frequency labels on top of each bar where frequency > 0\n",
    "for count, patch in zip(counts, patches):\n",
    "    if count > 0:\n",
    "        plt.text(patch.get_x() + patch.get_width() / 2, count, int(count),\n",
    "                 ha='center', va='bottom')\n",
    "plt.xlabel('Readability Score')\n",
    "plt.ylabel('Frequency')\n",
    "plt.title('Histogram of Readability Scores')\n",
    "plt.show()"
   ],
   "metadata": {
    "colab": {
     "base_uri": "https://localhost:8080/",
     "height": 564
    },
    "id": "d8x1qyWJtQXd",
    "outputId": "8282eee8-7623-42d9-c6f0-5d69ac0381f8",
    "ExecuteTime": {
     "end_time": "2025-03-24T20:44:27.894242Z",
     "start_time": "2025-03-24T20:44:27.743711Z"
    }
   },
   "outputs": [
    {
     "data": {
      "text/plain": [
       "<Figure size 1000x600 with 1 Axes>"
      ],
      "image/png": "[encoded data removed]"
     },
     "metadata": {},
     "output_type": "display_data"
    }
   ],
   "execution_count": 9
  },
  {
   "metadata": {
    "ExecuteTime": {
     "end_time": "2025-03-24T20:44:27.906590Z",
     "start_time": "2025-03-24T20:44:27.895769Z"
    }
   },
   "cell_type": "code",
   "source": "df['readability'].describe()",
   "outputs": [
    {
     "data": {
      "text/plain": [
       "count    1524.000000\n",
       "mean       13.442463\n",
       "std         3.503400\n",
       "min         2.342222\n",
       "25%        11.130000\n",
       "50%        13.372727\n",
       "75%        15.640000\n",
       "max        32.654286\n",
       "Name: readability, dtype: float64"
      ]
     },
     "execution_count": 10,
     "metadata": {},
     "output_type": "execute_result"
    }
   ],
   "execution_count": 10
  },
  {
   "metadata": {},
   "cell_type": "markdown",
   "source": "# Originality"
  },
  {
   "metadata": {
    "ExecuteTime": {
     "end_time": "2025-03-24T20:44:28.003923Z",
     "start_time": "2025-03-24T20:44:27.907106Z"
    }
   },
   "cell_type": "code",
   "source": [
    "plt.figure(figsize=(10, 6))\n",
    "counts, bins, patches = plt.hist(df['originality'], bins=10, range=(0, 1), edgecolor='black')\n",
    "\n",
    "plt.xticks([round(x * 0.1, 1) for x in range(11)])\n",
    "\n",
    "for count, patch in zip(counts, patches):\n",
    "    if count > 0:\n",
    "        plt.text(patch.get_x() + patch.get_width() / 2, count, int(count),\n",
    "                 ha='center', va='bottom')\n",
    "\n",
    "plt.xlabel('Originality score')\n",
    "plt.ylabel('Frequency')\n",
    "plt.show()"
   ],
   "outputs": [
    {
     "data": {
      "text/plain": [
       "<Figure size 1000x600 with 1 Axes>"
      ],
      "image/png": "[encoded data removed]"
     },
     "metadata": {},
     "output_type": "display_data"
    }
   ],
   "execution_count": 11
  },
  {
   "metadata": {
    "ExecuteTime": {
     "end_time": "2025-03-24T20:44:28.010800Z",
     "start_time": "2025-03-24T20:44:28.003923Z"
    }
   },
   "cell_type": "code",
   "source": "df['originality'].describe()",
   "outputs": [
    {
     "data": {
      "text/plain": [
       "count    1524.000000\n",
       "mean        0.768635\n",
       "std         0.245764\n",
       "min         0.000000\n",
       "25%         0.625000\n",
       "50%         0.800000\n",
       "75%         1.000000\n",
       "max         1.000000\n",
       "Name: originality, dtype: float64"
      ]
     },
     "execution_count": 12,
     "metadata": {},
     "output_type": "execute_result"
    }
   ],
   "execution_count": 12
  },
  {
   "metadata": {},
   "cell_type": "markdown",
   "source": "# Answer Length"
  },
  {
   "cell_type": "code",
   "source": [
    "option_cols = ['option_a', 'option_b', 'option_c', 'option_d']\n",
    "\n",
    "# Create new columns with word counts for each option column\n",
    "for col in option_cols:\n",
    "    df[f'{col}_word_count'] = df[col].astype(str).apply(lambda x: len(x.split()))"
   ],
   "metadata": {
    "id": "dbNhxSY_ugcf",
    "ExecuteTime": {
     "end_time": "2025-03-24T20:44:28.023806Z",
     "start_time": "2025-03-24T20:44:28.011881Z"
    }
   },
   "outputs": [],
   "execution_count": 13
  },
  {
   "cell_type": "code",
   "source": [
    "def get_correct_option_rank(row):\n",
    "    # Get the original word counts for each option\n",
    "    counts = [\n",
    "        row['option_a_word_count'],\n",
    "        row['option_b_word_count'],\n",
    "        row['option_c_word_count'],\n",
    "        row['option_d_word_count']\n",
    "    ]\n",
    "\n",
    "    # Map correct_option letter to its index (0 for A, 1 for B, etc.)\n",
    "    letter_to_index = {'A': 0, 'a':0, 'B': 1, 'b':1, 'C': 2, 'c':2, 'D': 3, 'd':3}\n",
    "    correct_idx = letter_to_index[row['correct_option']]\n",
    "\n",
    "    # Determine the word count of the correct option\n",
    "    correct_count = counts[correct_idx]\n",
    "\n",
    "    # Create an effective counts list:\n",
    "    # For non-correct options, if their word count equals the correct option's word count,\n",
    "    # treat them as if they had one extra word.\n",
    "    effective_counts = []\n",
    "    for i, count in enumerate(counts):\n",
    "        if i != correct_idx and count == correct_count:\n",
    "            effective_counts.append(count + 1)\n",
    "        else:\n",
    "            effective_counts.append(count)\n",
    "\n",
    "    # Sort the option indices by descending effective count.\n",
    "    ordering = sorted(range(4), key=lambda i: effective_counts[i], reverse=True)\n",
    "\n",
    "    # Compute the rank as the 1-indexed position of the correct option in the ordering.\n",
    "    rank = ordering.index(correct_idx) + 1\n",
    "    return rank"
   ],
   "metadata": {
    "id": "6znWPWARt6NU",
    "ExecuteTime": {
     "end_time": "2025-03-24T20:44:28.036246Z",
     "start_time": "2025-03-24T20:44:28.026319Z"
    }
   },
   "outputs": [],
   "execution_count": 14
  },
  {
   "cell_type": "code",
   "source": [
    "def get_rank_distribution(df):\n",
    "  rank_distribution = df['correct_option_rank'].value_counts().sort_index()\n",
    "  rank_distribution = round(rank_distribution / len(df), 2) * 100\n",
    "\n",
    "  plt.figure(figsize=(8, 6))\n",
    "  plt.bar(rank_distribution.index, rank_distribution.values, color='skyblue', edgecolor='black')\n",
    "  plt.xlabel('N (1 = Longest, 4 = Shortest)')\n",
    "  plt.ylabel('Frequency, %')\n",
    "  plt.title('How often the correct option is N`th longest')\n",
    "  plt.xticks([1, 2, 3, 4])\n",
    "  plt.show()"
   ],
   "metadata": {
    "id": "blakrAIIt8gZ",
    "ExecuteTime": {
     "end_time": "2025-03-24T20:44:28.049815Z",
     "start_time": "2025-03-24T20:44:28.037260Z"
    }
   },
   "outputs": [],
   "execution_count": 15
  },
  {
   "cell_type": "code",
   "source": [
    "df['correct_option_rank'] = df.apply(get_correct_option_rank, axis=1)\n",
    "get_rank_distribution(df)"
   ],
   "metadata": {
    "colab": {
     "base_uri": "https://localhost:8080/",
     "height": 565
    },
    "id": "Y9bKBBcut-tv",
    "outputId": "14514fb0-399c-4dfa-bbbd-46e6379e133a",
    "ExecuteTime": {
     "end_time": "2025-03-24T20:44:28.163302Z",
     "start_time": "2025-03-24T20:44:28.051032Z"
    }
   },
   "outputs": [
    {
     "data": {
      "text/plain": [
       "<Figure size 800x600 with 1 Axes>"
      ],
      "image/png": "[encoded data removed]"
     },
     "metadata": {},
     "output_type": "display_data"
    }
   ],
   "execution_count": 16
  },
  {
   "cell_type": "markdown",
   "source": [
    "# Disclosure"
   ],
   "metadata": {
    "id": "klcHFsMjzp3m"
   }
  },
  {
   "metadata": {
    "ExecuteTime": {
     "end_time": "2025-03-24T20:44:28.169550Z",
     "start_time": "2025-03-24T20:44:28.164309Z"
    }
   },
   "cell_type": "code",
   "source": [
    "disclosure_freqs = {\n",
    "    'True': round((df['disclosure'].sum() / len(df)) * 100, 2),\n",
    "    'False': round((len(df) - df['disclosure'].sum()) / len(df) * 100, 2)\n",
    "}\n",
    "\n",
    "disclosure_freqs"
   ],
   "outputs": [
    {
     "data": {
      "text/plain": [
       "{'True': np.float64(9.65), 'False': np.float64(90.35)}"
      ]
     },
     "execution_count": 17,
     "metadata": {},
     "output_type": "execute_result"
    }
   ],
   "execution_count": 17
  },
  {
   "cell_type": "markdown",
   "metadata": {
    "id": "nb_L81b9mO1C"
   },
   "source": [
    "# Relevance to the input material"
   ]
  },
  {
   "cell_type": "code",
   "metadata": {
    "execution": {
     "iopub.execute_input": "2024-11-18T20:39:21.545396Z",
     "iopub.status.busy": "2024-11-18T20:39:21.54466Z",
     "iopub.status.idle": "2024-11-18T20:39:29.033346Z",
     "shell.execute_reply": "2024-11-18T20:39:29.032397Z",
     "shell.execute_reply.started": "2024-11-18T20:39:21.54536Z"
    },
    "id": "EbIfjd7ImO1C",
    "colab": {
     "base_uri": "https://localhost:8080/",
     "height": 542
    },
    "outputId": "dfd2992e-b57c-446f-ab97-5495b6cdc984",
    "ExecuteTime": {
     "end_time": "2025-03-24T20:44:28.315602Z",
     "start_time": "2025-03-24T20:44:28.170602Z"
    }
   },
   "source": [
    "plt.figure(figsize=(10, 6))\n",
    "counts, bins, patches = plt.hist(df['relevance'], bins=10, range=(0, 1), edgecolor='black')\n",
    "\n",
    "plt.xticks([round(x * 0.1, 1) for x in range(11)])\n",
    "\n",
    "for count, patch in zip(counts, patches):\n",
    "    if count > 0:\n",
    "        plt.text(patch.get_x() + patch.get_width() / 2, count, int(count),\n",
    "                 ha='center', va='bottom')\n",
    "\n",
    "plt.xlabel('Relevance Score')\n",
    "plt.ylabel('Frequency')\n",
    "plt.show()"
   ],
   "outputs": [
    {
     "data": {
      "text/plain": [
       "<Figure size 1000x600 with 1 Axes>"
      ],
      "image/png": "[encoded data removed]"
     },
     "metadata": {},
     "output_type": "display_data"
    }
   ],
   "execution_count": 18
  },
  {
   "metadata": {
    "ExecuteTime": {
     "end_time": "2025-03-24T20:44:28.324648Z",
     "start_time": "2025-03-24T20:44:28.316608Z"
    }
   },
   "cell_type": "code",
   "source": "df['relevance'].describe()",
   "outputs": [
    {
     "data": {
      "text/plain": [
       "count    1524.000000\n",
       "mean        0.790329\n",
       "std         0.046388\n",
       "min         0.612431\n",
       "25%         0.761819\n",
       "50%         0.792100\n",
       "75%         0.822701\n",
       "max         0.935077\n",
       "Name: relevance, dtype: float64"
      ]
     },
     "execution_count": 19,
     "metadata": {},
     "output_type": "execute_result"
    }
   ],
   "execution_count": 19
  },
  {
   "cell_type": "markdown",
   "source": "# Ambiguity (cosine similarity)",
   "metadata": {
    "id": "6ue_cVZzrpi4"
   }
  },
  {
   "metadata": {
    "ExecuteTime": {
     "end_time": "2025-03-24T20:44:28.425080Z",
     "start_time": "2025-03-24T20:44:28.325827Z"
    }
   },
   "cell_type": "code",
   "source": [
    "plt.figure(figsize=(8, 6))\n",
    "plt.hist(df['ambiguity'], bins=10, edgecolor='black', alpha=0.7)\n",
    "\n",
    "plt.xlabel(\"Score\")\n",
    "plt.ylabel(\"Frequency\")\n",
    "plt.title(\"Distribution of Ambiguity\")"
   ],
   "outputs": [
    {
     "data": {
      "text/plain": [
       "Text(0.5, 1.0, 'Distribution of Ambiguity')"
      ]
     },
     "execution_count": 20,
     "metadata": {},
     "output_type": "execute_result"
    },
    {
     "data": {
      "text/plain": [
       "<Figure size 800x600 with 1 Axes>"
      ],
      "image/png": "[encoded data removed]"
     },
     "metadata": {},
     "output_type": "display_data"
    }
   ],
   "execution_count": 20
  },
  {
   "metadata": {
    "ExecuteTime": {
     "end_time": "2025-03-24T20:44:28.434605Z",
     "start_time": "2025-03-24T20:44:28.426088Z"
    }
   },
   "cell_type": "code",
   "source": "df['ambiguity'].describe()",
   "outputs": [
    {
     "data": {
      "text/plain": [
       "count    1524.000000\n",
       "mean        0.635420\n",
       "std         0.101763\n",
       "min         0.000000\n",
       "25%         0.564703\n",
       "50%         0.622674\n",
       "75%         0.690376\n",
       "max         0.983639\n",
       "Name: ambiguity, dtype: float64"
      ]
     },
     "execution_count": 21,
     "metadata": {},
     "output_type": "execute_result"
    }
   ],
   "execution_count": 21
  },
  {
   "metadata": {},
   "cell_type": "markdown",
   "source": "# Difficulty (judge LLM)"
  },
  {
   "metadata": {
    "ExecuteTime": {
     "end_time": "2025-03-24T20:44:28.512402Z",
     "start_time": "2025-03-24T20:44:28.435612Z"
    }
   },
   "cell_type": "code",
   "source": [
    "import numpy as np\n",
    "\n",
    "plt.figure(figsize=(8, 6))\n",
    "plt.hist(df['difficulty'], bins=np.arange(1, 6), edgecolor='black', alpha=0.7)\n",
    "\n",
    "plt.xlabel(\"Score\")\n",
    "plt.ylabel(\"Frequency\")\n",
    "plt.title(\"Distribution of Syntactic Ambiguity\")\n",
    "plt.xticks(range(1, 6))\n",
    "\n",
    "# Show the plot\n",
    "plt.show()"
   ],
   "outputs": [
    {
     "data": {
      "text/plain": [
       "<Figure size 800x600 with 1 Axes>"
      ],
      "image/png": "[encoded data removed]"
     },
     "metadata": {},
     "output_type": "display_data"
    }
   ],
   "execution_count": 22
  },
  {
   "metadata": {
    "ExecuteTime": {
     "end_time": "2025-03-24T20:44:28.519316Z",
     "start_time": "2025-03-24T20:44:28.513409Z"
    }
   },
   "cell_type": "code",
   "source": "df['difficulty'].describe()",
   "outputs": [
    {
     "data": {
      "text/plain": [
       "count    1524.000000\n",
       "mean        2.948163\n",
       "std         1.276307\n",
       "min         1.000000\n",
       "25%         2.000000\n",
       "50%         2.000000\n",
       "75%         4.000000\n",
       "max         5.000000\n",
       "Name: difficulty, dtype: float64"
      ]
     },
     "execution_count": 23,
     "metadata": {},
     "output_type": "execute_result"
    }
   ],
   "execution_count": 23
  },
  {
   "cell_type": "markdown",
   "source": [
    "# Answerability\n",
    "can judge model answer the generated question with context provided?"
   ],
   "metadata": {
    "id": "rLiUkNeToPYR"
   }
  },
  {
   "cell_type": "code",
   "source": [
    "df['gpt_answer'].unique()"
   ],
   "metadata": {
    "colab": {
     "base_uri": "https://localhost:8080/"
    },
    "id": "RsEaI2fOplIU",
    "outputId": "ce5328c5-852e-419a-809d-e6595d2f8943",
    "ExecuteTime": {
     "end_time": "2025-03-24T20:44:28.533625Z",
     "start_time": "2025-03-24T20:44:28.520324Z"
    }
   },
   "outputs": [
    {
     "data": {
      "text/plain": [
       "array(['b', 'c', 'a', 'd'], dtype=object)"
      ]
     },
     "execution_count": 24,
     "metadata": {},
     "output_type": "execute_result"
    }
   ],
   "execution_count": 24
  },
  {
   "cell_type": "code",
   "source": [
    "df['correct_option'].unique()"
   ],
   "metadata": {
    "colab": {
     "base_uri": "https://localhost:8080/"
    },
    "id": "vjj90iEfp-TV",
    "outputId": "d1b4812f-8e29-45a7-baf8-d8ce96c9315b",
    "ExecuteTime": {
     "end_time": "2025-03-24T20:44:28.547657Z",
     "start_time": "2025-03-24T20:44:28.534630Z"
    }
   },
   "outputs": [
    {
     "data": {
      "text/plain": [
       "array(['b', 'c', 'a', 'd'], dtype=object)"
      ]
     },
     "execution_count": 25,
     "metadata": {},
     "output_type": "execute_result"
    }
   ],
   "execution_count": 25
  },
  {
   "cell_type": "code",
   "source": [
    "answerability_freqs = {\n",
    "    'True': round((df['correct_option'] == df['gpt_answer']).sum() / len(df) * 100, 2), \n",
    "    'False': round((len(df) - (df['correct_option'] == df['gpt_answer']).sum()) / len(df) * 100, 2)\n",
    "}\n",
    "\n",
    "answerability_freqs"
   ],
   "metadata": {
    "colab": {
     "base_uri": "https://localhost:8080/"
    },
    "id": "sP21LFtNqBYO",
    "outputId": "85a9df9b-0448-4d93-e063-f5c66f5d17df",
    "ExecuteTime": {
     "end_time": "2025-03-24T20:44:28.563208Z",
     "start_time": "2025-03-24T20:44:28.547657Z"
    }
   },
   "outputs": [
    {
     "data": {
      "text/plain": [
       "{'True': np.float64(99.61), 'False': np.float64(0.39)}"
      ]
     },
     "execution_count": 26,
     "metadata": {},
     "output_type": "execute_result"
    }
   ],
   "execution_count": 26
  },
  {
   "metadata": {},
   "cell_type": "markdown",
   "source": "# Distractors Quality"
  },
  {
   "metadata": {
    "ExecuteTime": {
     "end_time": "2025-03-24T20:44:28.646215Z",
     "start_time": "2025-03-24T20:44:28.564218Z"
    }
   },
   "cell_type": "code",
   "source": [
    "import numpy as np\n",
    "\n",
    "plt.figure(figsize=(8, 6))\n",
    "plt.hist(df['min_distractor_quality'], bins=np.arange(1, 7), edgecolor='black', alpha=0.7)\n",
    "\n",
    "plt.xlabel(\"Score\")\n",
    "plt.ylabel(\"Frequency\")\n",
    "plt.title(\"Distribution of Distractors Quality\")\n",
    "plt.xticks(range(1, 7))\n",
    "\n",
    "# Show the plot\n",
    "plt.show()"
   ],
   "outputs": [
    {
     "data": {
      "text/plain": [
       "<Figure size 800x600 with 1 Axes>"
      ],
      "image/png": "[encoded data removed]"
     },
     "metadata": {},
     "output_type": "display_data"
    }
   ],
   "execution_count": 27
  },
  {
   "metadata": {
    "ExecuteTime": {
     "end_time": "2025-03-24T20:44:28.653729Z",
     "start_time": "2025-03-24T20:44:28.646723Z"
    }
   },
   "cell_type": "code",
   "source": "df['min_distractor_quality'].describe()",
   "outputs": [
    {
     "data": {
      "text/plain": [
       "count    1524.000000\n",
       "mean        1.669948\n",
       "std         0.785198\n",
       "min         1.000000\n",
       "25%         1.000000\n",
       "50%         1.000000\n",
       "75%         2.000000\n",
       "max         5.000000\n",
       "Name: min_distractor_quality, dtype: float64"
      ]
     },
     "execution_count": 28,
     "metadata": {},
     "output_type": "execute_result"
    }
   ],
   "execution_count": 28
  },
  {
   "metadata": {
    "ExecuteTime": {
     "end_time": "2025-03-24T20:44:28.733704Z",
     "start_time": "2025-03-24T20:44:28.655050Z"
    }
   },
   "cell_type": "code",
   "source": [
    "import numpy as np\n",
    "\n",
    "plt.figure(figsize=(8, 6))\n",
    "plt.hist(df['avg_distractor_quality'], bins=np.arange(1, 7), edgecolor='black', alpha=0.7)\n",
    "\n",
    "plt.xlabel(\"Score\")\n",
    "plt.ylabel(\"Frequency\")\n",
    "plt.title(\"Distribution of Distractors Quality\")\n",
    "plt.xticks(range(1, 7))\n",
    "\n",
    "# Show the plot\n",
    "plt.show()"
   ],
   "outputs": [
    {
     "data": {
      "text/plain": [
       "<Figure size 800x600 with 1 Axes>"
      ],
      "image/png": "[encoded data removed]"
     },
     "metadata": {},
     "output_type": "display_data"
    }
   ],
   "execution_count": 29
  },
  {
   "metadata": {
    "ExecuteTime": {
     "end_time": "2025-03-24T20:44:28.740728Z",
     "start_time": "2025-03-24T20:44:28.733704Z"
    }
   },
   "cell_type": "code",
   "source": "df['avg_distractor_quality'].describe()",
   "outputs": [
    {
     "data": {
      "text/plain": [
       "count    1524.000000\n",
       "mean        2.898294\n",
       "std         0.634547\n",
       "min         1.000000\n",
       "25%         3.000000\n",
       "50%         3.000000\n",
       "75%         3.000000\n",
       "max         4.000000\n",
       "Name: avg_distractor_quality, dtype: float64"
      ]
     },
     "execution_count": 30,
     "metadata": {},
     "output_type": "execute_result"
    }
   ],
   "execution_count": 30
  }
 ]
}
