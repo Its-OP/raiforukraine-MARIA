{
 "nbformat": 4,
 "nbformat_minor": 0,
 "metadata": {
  "colab": {
   "provenance": []
  },
  "kernelspec": {
   "name": "python3",
   "display_name": "Python 3 (ipykernel)",
   "language": "python"
  },
  "language_info": {
   "name": "python"
  }
 },
 "cells": [
  {
   "cell_type": "code",
   "metadata": {
    "id": "XTL8_cenjf7a",
    "ExecuteTime": {
     "end_time": "2025-03-20T18:09:31.774056Z",
     "start_time": "2025-03-20T18:09:17.362831Z"
    }
   },
   "source": [
    "import pandas as pd\n",
    "import json\n",
    "import os\n",
    "import ast\n",
    "import matplotlib.pyplot as plt"
   ],
   "outputs": [],
   "execution_count": 2
  },
  {
   "metadata": {
    "ExecuteTime": {
     "end_time": "2025-03-20T18:09:31.828003Z",
     "start_time": "2025-03-20T18:09:31.780716Z"
    }
   },
   "cell_type": "code",
   "source": [
    "with open(\"../../../data/train_test_split/test_folders.json\", \"r\") as train_file:\n",
    "    test_folders = json.load(train_file)"
   ],
   "outputs": [],
   "execution_count": 3
  },
  {
   "cell_type": "code",
   "source": [
    "df = pd.read_csv('../../../data/base_models/llama1b/temp0.1.eval.csv')\n",
    "lisa_sheets = pd.read_csv('../../../data/lisa_sheets.csv')\n",
    "df = pd.merge(df, lisa_sheets[['id', 'folder']], how='left', on='id')\n",
    "df = df[df['folder'].isin(test_folders)]\n",
    "df.head()"
   ],
   "metadata": {
    "id": "AKWrq07-lwD7",
    "colab": {
     "base_uri": "https://localhost:8080/",
     "height": 573
    },
    "outputId": "95c768d3-841c-4ec4-c118-e99d9b08cc91",
    "ExecuteTime": {
     "end_time": "2025-03-20T18:09:33.860742Z",
     "start_time": "2025-03-20T18:09:31.832525Z"
    }
   },
   "outputs": [
    {
     "data": {
      "text/plain": [
       "             id                                           question  \\\n",
       "0  OIC-328-06-B  What is the main difference between Immobilisa...   \n",
       "1  OIC-328-12-B  What is the main indication for a spa treatmen...   \n",
       "2  OIC-328-05-A  What is the main objective of orthotic treatment?   \n",
       "3  OIC-328-08-A   What is a key component of a femoral prosthesis?   \n",
       "4  OIC-328-02-A      What is a non-drug therapy or medical device?   \n",
       "\n",
       "                                            option_a  \\\n",
       "0  Immobilisation orthoses are designed to immobi...   \n",
       "1  Rheumatology (osteoarthritis, chronic lumbago,...   \n",
       "2                                           Downtime   \n",
       "3        A sleeve that connects to the residual limb   \n",
       "4  A product that can be used for both medical an...   \n",
       "\n",
       "                                            option_b  \\\n",
       "0  Stabilisation orthoses are used for post-surgi...   \n",
       "1          Arteritis (generalized anxiety disorders)   \n",
       "2                                               Rest   \n",
       "3  A socket that accommodates both the residual l...   \n",
       "4            An instrument used to diagnose diseases   \n",
       "\n",
       "                                            option_c  \\\n",
       "0  Both types of orthoses can be used for both im...   \n",
       "1      Respiratory tract diseases: ENT or pneumology   \n",
       "2                                      Stabilization   \n",
       "3                          An articular end effector   \n",
       "4     Any material, including food, used in medicine   \n",
       "\n",
       "                                            option_d correct_option  \\\n",
       "0  Immobilisation orthoses are only used for lowe...       option_a   \n",
       "1                           Cardio-Arterial Diseases              A   \n",
       "2                                         Correction              b   \n",
       "3                       A non-articular end effector              b   \n",
       "4      A software program designed to treat patients              a   \n",
       "\n",
       "                                         content_gpt  originality  \\\n",
       "0  **Item_parent:** Non-drug therapies and medica...     1.000000   \n",
       "1  **Item_parent:** Non-drug therapies and medica...     0.333333   \n",
       "2  **Item Parent:** Non-drug therapies and medica...     0.500000   \n",
       "3  **Item Parent:** Non-drug therapies and medica...     1.000000   \n",
       "4  **Item Parent:** Non-drug therapies and medica...     0.000000   \n",
       "\n",
       "   readability  starts_with_negation  is_question  relevance  ambiguity  \\\n",
       "0    17.810000                 False         True   0.739678   0.000000   \n",
       "1     5.863636                 False         True   0.736183   0.624968   \n",
       "2     8.180000                 False         True   0.708636   0.587845   \n",
       "3     7.586667                 False         True   0.719052   0.754067   \n",
       "4     9.655000                 False         True   0.788195   0.666483   \n",
       "\n",
       "  gpt_answer disclosure  difficulty  folder  \n",
       "0          a      False         2.0  IC-328  \n",
       "1          a      False         3.0  IC-328  \n",
       "2          c       True         2.0  IC-328  \n",
       "3          b      False         4.0  IC-328  \n",
       "4          b       True         4.0  IC-328  "
      ],
      "text/html": [
       "<div>\n",
       "<style scoped>\n",
       "    .dataframe tbody tr th:only-of-type {\n",
       "        vertical-align: middle;\n",
       "    }\n",
       "\n",
       "    .dataframe tbody tr th {\n",
       "        vertical-align: top;\n",
       "    }\n",
       "\n",
       "    .dataframe thead th {\n",
       "        text-align: right;\n",
       "    }\n",
       "</style>\n",
       "<table border=\"1\" class=\"dataframe\">\n",
       "  <thead>\n",
       "    <tr style=\"text-align: right;\">\n",
       "      <th></th>\n",
       "      <th>id</th>\n",
       "      <th>question</th>\n",
       "      <th>option_a</th>\n",
       "      <th>option_b</th>\n",
       "      <th>option_c</th>\n",
       "      <th>option_d</th>\n",
       "      <th>correct_option</th>\n",
       "      <th>content_gpt</th>\n",
       "      <th>originality</th>\n",
       "      <th>readability</th>\n",
       "      <th>starts_with_negation</th>\n",
       "      <th>is_question</th>\n",
       "      <th>relevance</th>\n",
       "      <th>ambiguity</th>\n",
       "      <th>gpt_answer</th>\n",
       "      <th>disclosure</th>\n",
       "      <th>difficulty</th>\n",
       "      <th>folder</th>\n",
       "    </tr>\n",
       "  </thead>\n",
       "  <tbody>\n",
       "    <tr>\n",
       "      <th>0</th>\n",
       "      <td>OIC-328-06-B</td>\n",
       "      <td>What is the main difference between Immobilisa...</td>\n",
       "      <td>Immobilisation orthoses are designed to immobi...</td>\n",
       "      <td>Stabilisation orthoses are used for post-surgi...</td>\n",
       "      <td>Both types of orthoses can be used for both im...</td>\n",
       "      <td>Immobilisation orthoses are only used for lowe...</td>\n",
       "      <td>option_a</td>\n",
       "      <td>**Item_parent:** Non-drug therapies and medica...</td>\n",
       "      <td>1.000000</td>\n",
       "      <td>17.810000</td>\n",
       "      <td>False</td>\n",
       "      <td>True</td>\n",
       "      <td>0.739678</td>\n",
       "      <td>0.000000</td>\n",
       "      <td>a</td>\n",
       "      <td>False</td>\n",
       "      <td>2.0</td>\n",
       "      <td>IC-328</td>\n",
       "    </tr>\n",
       "    <tr>\n",
       "      <th>1</th>\n",
       "      <td>OIC-328-12-B</td>\n",
       "      <td>What is the main indication for a spa treatmen...</td>\n",
       "      <td>Rheumatology (osteoarthritis, chronic lumbago,...</td>\n",
       "      <td>Arteritis (generalized anxiety disorders)</td>\n",
       "      <td>Respiratory tract diseases: ENT or pneumology</td>\n",
       "      <td>Cardio-Arterial Diseases</td>\n",
       "      <td>A</td>\n",
       "      <td>**Item_parent:** Non-drug therapies and medica...</td>\n",
       "      <td>0.333333</td>\n",
       "      <td>5.863636</td>\n",
       "      <td>False</td>\n",
       "      <td>True</td>\n",
       "      <td>0.736183</td>\n",
       "      <td>0.624968</td>\n",
       "      <td>a</td>\n",
       "      <td>False</td>\n",
       "      <td>3.0</td>\n",
       "      <td>IC-328</td>\n",
       "    </tr>\n",
       "    <tr>\n",
       "      <th>2</th>\n",
       "      <td>OIC-328-05-A</td>\n",
       "      <td>What is the main objective of orthotic treatment?</td>\n",
       "      <td>Downtime</td>\n",
       "      <td>Rest</td>\n",
       "      <td>Stabilization</td>\n",
       "      <td>Correction</td>\n",
       "      <td>b</td>\n",
       "      <td>**Item Parent:** Non-drug therapies and medica...</td>\n",
       "      <td>0.500000</td>\n",
       "      <td>8.180000</td>\n",
       "      <td>False</td>\n",
       "      <td>True</td>\n",
       "      <td>0.708636</td>\n",
       "      <td>0.587845</td>\n",
       "      <td>c</td>\n",
       "      <td>True</td>\n",
       "      <td>2.0</td>\n",
       "      <td>IC-328</td>\n",
       "    </tr>\n",
       "    <tr>\n",
       "      <th>3</th>\n",
       "      <td>OIC-328-08-A</td>\n",
       "      <td>What is a key component of a femoral prosthesis?</td>\n",
       "      <td>A sleeve that connects to the residual limb</td>\n",
       "      <td>A socket that accommodates both the residual l...</td>\n",
       "      <td>An articular end effector</td>\n",
       "      <td>A non-articular end effector</td>\n",
       "      <td>b</td>\n",
       "      <td>**Item Parent:** Non-drug therapies and medica...</td>\n",
       "      <td>1.000000</td>\n",
       "      <td>7.586667</td>\n",
       "      <td>False</td>\n",
       "      <td>True</td>\n",
       "      <td>0.719052</td>\n",
       "      <td>0.754067</td>\n",
       "      <td>b</td>\n",
       "      <td>False</td>\n",
       "      <td>4.0</td>\n",
       "      <td>IC-328</td>\n",
       "    </tr>\n",
       "    <tr>\n",
       "      <th>4</th>\n",
       "      <td>OIC-328-02-A</td>\n",
       "      <td>What is a non-drug therapy or medical device?</td>\n",
       "      <td>A product that can be used for both medical an...</td>\n",
       "      <td>An instrument used to diagnose diseases</td>\n",
       "      <td>Any material, including food, used in medicine</td>\n",
       "      <td>A software program designed to treat patients</td>\n",
       "      <td>a</td>\n",
       "      <td>**Item Parent:** Non-drug therapies and medica...</td>\n",
       "      <td>0.000000</td>\n",
       "      <td>9.655000</td>\n",
       "      <td>False</td>\n",
       "      <td>True</td>\n",
       "      <td>0.788195</td>\n",
       "      <td>0.666483</td>\n",
       "      <td>b</td>\n",
       "      <td>True</td>\n",
       "      <td>4.0</td>\n",
       "      <td>IC-328</td>\n",
       "    </tr>\n",
       "  </tbody>\n",
       "</table>\n",
       "</div>"
      ]
     },
     "execution_count": 4,
     "metadata": {},
     "output_type": "execute_result"
    }
   ],
   "execution_count": 4
  },
  {
   "metadata": {
    "ExecuteTime": {
     "end_time": "2025-03-20T18:09:33.897014Z",
     "start_time": "2025-03-20T18:09:33.876786Z"
    }
   },
   "cell_type": "code",
   "source": "len(df)",
   "outputs": [
    {
     "data": {
      "text/plain": [
       "1524"
      ]
     },
     "execution_count": 5,
     "metadata": {},
     "output_type": "execute_result"
    }
   ],
   "execution_count": 5
  },
  {
   "metadata": {
    "ExecuteTime": {
     "end_time": "2025-03-20T18:09:33.940443Z",
     "start_time": "2025-03-20T18:09:33.906252Z"
    }
   },
   "cell_type": "code",
   "source": "df['correct_option'].unique()",
   "outputs": [
    {
     "data": {
      "text/plain": [
       "array(['option_a', 'A', 'b', 'a', 'to treat musculoskeletal disorders',\n",
       "       'optiion_a', 'c', 'option_b', 'd', 'to control social spending',\n",
       "       'D', 'option_d', 'To reduce stress',\n",
       "       'A disciplinary action taken against a doctor for violating professional ethics.',\n",
       "       'to confirm the diagnosis of epididymitis', 'option_c',\n",
       "       'to reduce consumption to below low-risk guidelines',\n",
       "       'to increase motivation to change behavior', 'S4',\n",
       "       'to check for complications', 'to assess blood flow to the tumour',\n",
       "       'Reduces waiting time for recipients', '10%',\n",
       "       'to identify potential causes', 'Bacteremia',\n",
       "       'To stimulate follicular growth with gonadotropins to mature one to three follicles or induce ovulation for patients with menstrual cycle disorders.',\n",
       "       'To monitor the spread of diseases', '400 to 600 mg',\n",
       "       'A firm, non-itchy papule with a clear border',\n",
       "       'to treat psychiatric disorders',\n",
       "       'A regulated title (2010): National Register',\n",
       "       'administering serum glucose (G30 IV)',\n",
       "       'to achieve better patient outcomes',\n",
       "       'A multi-professional protocol', 'C',\n",
       "       'rule out a curable cause of cognitive impairment',\n",
       "       'A single hyperfixing area with extinction of healthy thyroid parenchyma',\n",
       "       'D)', 'Per os (orally)', 'reduce mortality rate',\n",
       "       'Prevent hypothermia', '1', 'to increase survival',\n",
       "       'Atheromatous Renal Artery Stenosis',\n",
       "       'A sudden onset of confusion',\n",
       "       'option_a: Blocking serotonin receptors',\n",
       "       'Avoid aggressive treatment to prevent complications',\n",
       "       'A sudden drop in blood pressure',\n",
       "       'Fracture before the age of walking', 'to confirm the diagnosis',\n",
       "       'The CCI has jurisdiction over all medical accidents, iatrogenic conditions, and nosocomial infections resulting in serious harm.',\n",
       "       'To the Drug Dependence Assessment and Information Centre (CEIP) in the area where the case was reported',\n",
       "       'To the local materials vigilance correspondent',\n",
       "       'to reduce inflammation and swelling', 'to reduce inflammation',\n",
       "       \"To ensure that the patient's medical history is up-to-date\",\n",
       "       'to reduce hospital stay time', 'To reduce anxiety',\n",
       "       'A condition characterized by high blood pressure in the lungs',\n",
       "       'Symptomatic narrow aortic stenosis', 'A low bicarbonate level',\n",
       "       'convulsions', 'to slow atheromatous disease progression',\n",
       "       'to prevent rupture',\n",
       "       'Antibiotic therapy should be started immediately',\n",
       "       'A thorough clinical examination of the patient and the results of routine biological tests (haemogram, liver function tests, etc.) are the first essential step in this assessment.',\n",
       "       \"to identify the underlying cause of the child's condition\",\n",
       "       'To determine sex and genetic markers for pathology diagnosis.',\n",
       "       'The applicant must be the adult concerned.',\n",
       "       'To ensure that they can continue to make decisions about their own lives.',\n",
       "       \"To ensure that patients' opinions are taken into account when making decisions about their care.\",\n",
       "       'The doctor must inform the patient fully about the diagnosis and prognosis.',\n",
       "       'B', 'Option_a: Platelet transfusion',\n",
       "       'CRAO typically occurs in younger patients with carotid atheroma',\n",
       "       'A sudden loss of vision', 'Atrial fibrillation',\n",
       "       'Perform an electrocardiogram (ECG) to check for arrhythmias',\n",
       "       'option_a: To measure electrolyte levels',\n",
       "       \"Sudden necrosis during hypovolemic shock in the postpartum period (Sheehan's syndrome, very rare)\",\n",
       "       'Vascular redistribution from the base to the apices',\n",
       "       'to diagnose cardiac insufficiency', 'd)',\n",
       "       'A stye is caused by a bacterial infection.', 'to reduce symptoms',\n",
       "       'to educate patients on the causes and symptoms of their condition',\n",
       "       'Hyperglycemia should be checked for in polyuro-polydipsic syndrome'],\n",
       "      dtype=object)"
      ]
     },
     "execution_count": 6,
     "metadata": {},
     "output_type": "execute_result"
    }
   ],
   "execution_count": 6
  },
  {
   "metadata": {
    "ExecuteTime": {
     "end_time": "2025-03-20T18:09:33.975113Z",
     "start_time": "2025-03-20T18:09:33.942474Z"
    }
   },
   "cell_type": "code",
   "source": [
    "# normalize correct_option\n",
    "df['correct_option'] = df['correct_option'].replace({'option_b': 'b', 'option_c': 'c', 'option_d': 'd', 'option_a': 'a'}) "
   ],
   "outputs": [],
   "execution_count": 7
  },
  {
   "cell_type": "markdown",
   "metadata": {
    "id": "HG-SVqoPmO1B"
   },
   "source": [
    "# Question mark"
   ]
  },
  {
   "cell_type": "code",
   "metadata": {
    "execution": {
     "iopub.execute_input": "2024-11-12T12:14:38.446623Z",
     "iopub.status.busy": "2024-11-12T12:14:38.445718Z",
     "iopub.status.idle": "2024-11-12T12:14:38.456114Z",
     "shell.execute_reply": "2024-11-12T12:14:38.455017Z",
     "shell.execute_reply.started": "2024-11-12T12:14:38.446566Z"
    },
    "id": "LC9P1ozSmO1B",
    "colab": {
     "base_uri": "https://localhost:8080/"
    },
    "outputId": "905eaa0f-b6dd-4cd7-8f39-f895b347cb4d",
    "ExecuteTime": {
     "end_time": "2025-03-20T18:09:34.031327Z",
     "start_time": "2025-03-20T18:09:33.979450Z"
    }
   },
   "source": [
    "# We want to maximize 'True'\n",
    "question_freqs = {\n",
    "    'True': round(df['is_question'].sum()/ len(df) * 100, 2),\n",
    "    'False': round((len(df) - df['is_question'].sum()) / len(df) * 100, 2)\n",
    "}\n",
    "\n",
    "question_freqs"
   ],
   "outputs": [
    {
     "data": {
      "text/plain": [
       "{'True': np.float64(100.0), 'False': np.float64(0.0)}"
      ]
     },
     "execution_count": 8,
     "metadata": {},
     "output_type": "execute_result"
    }
   ],
   "execution_count": 8
  },
  {
   "cell_type": "markdown",
   "source": [
    "# Negation"
   ],
   "metadata": {
    "id": "gL6ogPiJszsC"
   }
  },
  {
   "cell_type": "code",
   "source": [
    "# We want to minimze 'True'\n",
    "starts_with_negation_freqs = {\n",
    "    'True': round(df['starts_with_negation'].sum() / len(df) * 100, 2),\n",
    "    'False': round((len(df) - df['starts_with_negation'].sum()) / len(df) * 100, 2)\n",
    "}\n",
    "\n",
    "starts_with_negation_freqs"
   ],
   "metadata": {
    "colab": {
     "base_uri": "https://localhost:8080/"
    },
    "id": "zlz17fiUs4MX",
    "outputId": "3715ec13-d620-4c01-d748-c62bb72b12f3",
    "ExecuteTime": {
     "end_time": "2025-03-20T18:09:34.077433Z",
     "start_time": "2025-03-20T18:09:34.034253Z"
    }
   },
   "outputs": [
    {
     "data": {
      "text/plain": [
       "{'True': np.float64(0.0), 'False': np.float64(100.0)}"
      ]
     },
     "execution_count": 9,
     "metadata": {},
     "output_type": "execute_result"
    }
   ],
   "execution_count": 9
  },
  {
   "cell_type": "markdown",
   "source": [
    "# Readability"
   ],
   "metadata": {
    "id": "rAmz_WnJqoo0"
   }
  },
  {
   "cell_type": "code",
   "source": [
    "plt.figure(figsize=(10, 6))\n",
    "counts, bins, patches = plt.hist(df['readability'], bins=range(0, 19, 1), edgecolor='black')\n",
    "\n",
    "# Set x-axis ticks from 0 to 18\n",
    "plt.xticks(range(0, 19))\n",
    "\n",
    "# Add frequency labels on top of each bar where frequency > 0\n",
    "for count, patch in zip(counts, patches):\n",
    "    if count > 0:\n",
    "        plt.text(patch.get_x() + patch.get_width() / 2, count, int(count),\n",
    "                 ha='center', va='bottom')\n",
    "plt.xlabel('Readability Score')\n",
    "plt.ylabel('Frequency')\n",
    "plt.title('Histogram of Readability Scores')\n",
    "plt.show()"
   ],
   "metadata": {
    "colab": {
     "base_uri": "https://localhost:8080/",
     "height": 564
    },
    "id": "d8x1qyWJtQXd",
    "outputId": "8282eee8-7623-42d9-c6f0-5d69ac0381f8",
    "ExecuteTime": {
     "end_time": "2025-03-20T18:09:36.794090Z",
     "start_time": "2025-03-20T18:09:34.080633Z"
    }
   },
   "outputs": [
    {
     "data": {
      "text/plain": [
       "<Figure size 1000x600 with 1 Axes>"
      ],
      "image/png": "[encoded data removed]"
     },
     "metadata": {},
     "output_type": "display_data"
    }
   ],
   "execution_count": 10
  },
  {
   "metadata": {
    "ExecuteTime": {
     "end_time": "2025-03-20T18:09:36.833528Z",
     "start_time": "2025-03-20T18:09:36.800411Z"
    }
   },
   "cell_type": "code",
   "source": "df['readability'].describe()",
   "outputs": [
    {
     "data": {
      "text/plain": [
       "count    1523.000000\n",
       "mean       12.026311\n",
       "std         3.619416\n",
       "min         1.031111\n",
       "25%         9.550000\n",
       "50%        12.172308\n",
       "75%        14.270000\n",
       "max        27.318182\n",
       "Name: readability, dtype: float64"
      ]
     },
     "execution_count": 11,
     "metadata": {},
     "output_type": "execute_result"
    }
   ],
   "execution_count": 11
  },
  {
   "metadata": {},
   "cell_type": "markdown",
   "source": "# Originality"
  },
  {
   "metadata": {
    "ExecuteTime": {
     "end_time": "2025-03-20T18:09:37.930355Z",
     "start_time": "2025-03-20T18:09:36.837612Z"
    }
   },
   "cell_type": "code",
   "source": [
    "plt.figure(figsize=(10, 6))\n",
    "counts, bins, patches = plt.hist(df['originality'], bins=10, range=(0, 1), edgecolor='black')\n",
    "\n",
    "plt.xticks([round(x * 0.1, 1) for x in range(11)])\n",
    "\n",
    "for count, patch in zip(counts, patches):\n",
    "    if count > 0:\n",
    "        plt.text(patch.get_x() + patch.get_width() / 2, count, int(count),\n",
    "                 ha='center', va='bottom')\n",
    "\n",
    "plt.xlabel('Originality score')\n",
    "plt.ylabel('Frequency')\n",
    "plt.show()"
   ],
   "outputs": [
    {
     "data": {
      "text/plain": [
       "<Figure size 1000x600 with 1 Axes>"
      ],
      "image/png": "[encoded data removed]"
     },
     "metadata": {},
     "output_type": "display_data"
    }
   ],
   "execution_count": 12
  },
  {
   "metadata": {
    "ExecuteTime": {
     "end_time": "2025-03-20T18:09:37.968433Z",
     "start_time": "2025-03-20T18:09:37.935480Z"
    }
   },
   "cell_type": "code",
   "source": "df['originality'].describe()",
   "outputs": [
    {
     "data": {
      "text/plain": [
       "count    1524.000000\n",
       "mean        0.767591\n",
       "std         0.271442\n",
       "min         0.000000\n",
       "25%         0.600000\n",
       "50%         0.833333\n",
       "75%         1.000000\n",
       "max         1.000000\n",
       "Name: originality, dtype: float64"
      ]
     },
     "execution_count": 13,
     "metadata": {},
     "output_type": "execute_result"
    }
   ],
   "execution_count": 13
  },
  {
   "metadata": {},
   "cell_type": "markdown",
   "source": "# Answer Length"
  },
  {
   "cell_type": "code",
   "source": [
    "option_cols = ['option_a', 'option_b', 'option_c', 'option_d']\n",
    "\n",
    "# Create new columns with word counts for each option column\n",
    "for col in option_cols:\n",
    "    df[f'{col}_word_count'] = df[col].astype(str).apply(lambda x: len(x.split()))"
   ],
   "metadata": {
    "id": "dbNhxSY_ugcf",
    "ExecuteTime": {
     "end_time": "2025-03-20T18:09:38.009628Z",
     "start_time": "2025-03-20T18:09:37.971779Z"
    }
   },
   "outputs": [],
   "execution_count": 14
  },
  {
   "metadata": {
    "ExecuteTime": {
     "end_time": "2025-03-20T18:11:35.892747Z",
     "start_time": "2025-03-20T18:11:35.886473Z"
    }
   },
   "cell_type": "code",
   "source": "df['correct_option'].unique()",
   "outputs": [
    {
     "data": {
      "text/plain": [
       "array(['a', 'A', 'b', 'to treat musculoskeletal disorders', 'optiion_a',\n",
       "       'c', 'd', 'to control social spending', 'D', 'To reduce stress',\n",
       "       'A disciplinary action taken against a doctor for violating professional ethics.',\n",
       "       'to confirm the diagnosis of epididymitis',\n",
       "       'to reduce consumption to below low-risk guidelines',\n",
       "       'to increase motivation to change behavior', 'S4',\n",
       "       'to check for complications', 'to assess blood flow to the tumour',\n",
       "       'Reduces waiting time for recipients', '10%',\n",
       "       'to identify potential causes', 'Bacteremia',\n",
       "       'To stimulate follicular growth with gonadotropins to mature one to three follicles or induce ovulation for patients with menstrual cycle disorders.',\n",
       "       'To monitor the spread of diseases', '400 to 600 mg',\n",
       "       'A firm, non-itchy papule with a clear border',\n",
       "       'to treat psychiatric disorders',\n",
       "       'A regulated title (2010): National Register',\n",
       "       'administering serum glucose (G30 IV)',\n",
       "       'to achieve better patient outcomes',\n",
       "       'A multi-professional protocol', 'C',\n",
       "       'rule out a curable cause of cognitive impairment',\n",
       "       'A single hyperfixing area with extinction of healthy thyroid parenchyma',\n",
       "       'D)', 'Per os (orally)', 'reduce mortality rate',\n",
       "       'Prevent hypothermia', '1', 'to increase survival',\n",
       "       'Atheromatous Renal Artery Stenosis',\n",
       "       'A sudden onset of confusion',\n",
       "       'option_a: Blocking serotonin receptors',\n",
       "       'Avoid aggressive treatment to prevent complications',\n",
       "       'A sudden drop in blood pressure',\n",
       "       'Fracture before the age of walking', 'to confirm the diagnosis',\n",
       "       'The CCI has jurisdiction over all medical accidents, iatrogenic conditions, and nosocomial infections resulting in serious harm.',\n",
       "       'To the Drug Dependence Assessment and Information Centre (CEIP) in the area where the case was reported',\n",
       "       'To the local materials vigilance correspondent',\n",
       "       'to reduce inflammation and swelling', 'to reduce inflammation',\n",
       "       \"To ensure that the patient's medical history is up-to-date\",\n",
       "       'to reduce hospital stay time', 'To reduce anxiety',\n",
       "       'A condition characterized by high blood pressure in the lungs',\n",
       "       'Symptomatic narrow aortic stenosis', 'A low bicarbonate level',\n",
       "       'convulsions', 'to slow atheromatous disease progression',\n",
       "       'to prevent rupture',\n",
       "       'Antibiotic therapy should be started immediately',\n",
       "       'A thorough clinical examination of the patient and the results of routine biological tests (haemogram, liver function tests, etc.) are the first essential step in this assessment.',\n",
       "       \"to identify the underlying cause of the child's condition\",\n",
       "       'To determine sex and genetic markers for pathology diagnosis.',\n",
       "       'The applicant must be the adult concerned.',\n",
       "       'To ensure that they can continue to make decisions about their own lives.',\n",
       "       \"To ensure that patients' opinions are taken into account when making decisions about their care.\",\n",
       "       'The doctor must inform the patient fully about the diagnosis and prognosis.',\n",
       "       'B', 'Option_a: Platelet transfusion',\n",
       "       'CRAO typically occurs in younger patients with carotid atheroma',\n",
       "       'A sudden loss of vision', 'Atrial fibrillation',\n",
       "       'Perform an electrocardiogram (ECG) to check for arrhythmias',\n",
       "       'option_a: To measure electrolyte levels',\n",
       "       \"Sudden necrosis during hypovolemic shock in the postpartum period (Sheehan's syndrome, very rare)\",\n",
       "       'Vascular redistribution from the base to the apices',\n",
       "       'to diagnose cardiac insufficiency', 'd)',\n",
       "       'A stye is caused by a bacterial infection.', 'to reduce symptoms',\n",
       "       'to educate patients on the causes and symptoms of their condition',\n",
       "       'Hyperglycemia should be checked for in polyuro-polydipsic syndrome'],\n",
       "      dtype=object)"
      ]
     },
     "execution_count": 18,
     "metadata": {},
     "output_type": "execute_result"
    }
   ],
   "execution_count": 18
  },
  {
   "cell_type": "code",
   "source": [
    "def get_correct_option_rank(row):\n",
    "    # Get the original word counts for each option\n",
    "    counts = [\n",
    "        row['option_a_word_count'],\n",
    "        row['option_b_word_count'],\n",
    "        row['option_c_word_count'],\n",
    "        row['option_d_word_count']\n",
    "    ]\n",
    "\n",
    "    # Map correct_option letter to its index (0 for A, 1 for B, etc.)\n",
    "    letter_to_index = {'A': 0, 'a':0, 'B': 1, 'b':1, 'C': 2, 'c':2, 'D': 3, 'd':3}\n",
    "    correct_idx = letter_to_index[row['correct_option']]\n",
    "\n",
    "    # Determine the word count of the correct option\n",
    "    correct_count = counts[correct_idx]\n",
    "\n",
    "    # Create an effective counts list:\n",
    "    # For non-correct options, if their word count equals the correct option's word count,\n",
    "    # treat them as if they had one extra word.\n",
    "    effective_counts = []\n",
    "    for i, count in enumerate(counts):\n",
    "        if i != correct_idx and count == correct_count:\n",
    "            effective_counts.append(count + 1)\n",
    "        else:\n",
    "            effective_counts.append(count)\n",
    "\n",
    "    # Sort the option indices by descending effective count.\n",
    "    ordering = sorted(range(4), key=lambda i: effective_counts[i], reverse=True)\n",
    "\n",
    "    # Compute the rank as the 1-indexed position of the correct option in the ordering.\n",
    "    rank = ordering.index(correct_idx) + 1\n",
    "    return rank"
   ],
   "metadata": {
    "id": "6znWPWARt6NU",
    "ExecuteTime": {
     "end_time": "2025-03-20T18:09:38.032601Z",
     "start_time": "2025-03-20T18:09:38.013891Z"
    }
   },
   "outputs": [],
   "execution_count": 15
  },
  {
   "cell_type": "code",
   "source": [
    "def get_rank_distribution(df):\n",
    "  rank_distribution = df['correct_option_rank'].value_counts().sort_index()\n",
    "  rank_distribution = round(rank_distribution / len(df), 2) * 100\n",
    "\n",
    "  plt.figure(figsize=(8, 6))\n",
    "  plt.bar(rank_distribution.index, rank_distribution.values, color='skyblue', edgecolor='black')\n",
    "  plt.xlabel('N (1 = Longest, 4 = Shortest)')\n",
    "  plt.ylabel('Frequency, %')\n",
    "  plt.title('How often the correct option is N`th longest')\n",
    "  plt.xticks([1, 2, 3, 4])\n",
    "  plt.show()"
   ],
   "metadata": {
    "id": "blakrAIIt8gZ",
    "ExecuteTime": {
     "end_time": "2025-03-20T18:09:38.066667Z",
     "start_time": "2025-03-20T18:09:38.038859Z"
    }
   },
   "outputs": [],
   "execution_count": 16
  },
  {
   "cell_type": "code",
   "source": [
    "df['correct_option_rank'] = df.apply(get_correct_option_rank, axis=1)\n",
    "get_rank_distribution(df)"
   ],
   "metadata": {
    "colab": {
     "base_uri": "https://localhost:8080/",
     "height": 565
    },
    "id": "Y9bKBBcut-tv",
    "outputId": "14514fb0-399c-4dfa-bbbd-46e6379e133a",
    "ExecuteTime": {
     "end_time": "2025-03-20T18:09:41.889986Z",
     "start_time": "2025-03-20T18:09:38.070189Z"
    }
   },
   "outputs": [
    {
     "ename": "KeyError",
     "evalue": "'to treat musculoskeletal disorders'",
     "output_type": "error",
     "traceback": [
      "\u001B[31m---------------------------------------------------------------------------\u001B[39m",
      "\u001B[31mKeyError\u001B[39m                                  Traceback (most recent call last)",
      "\u001B[36mCell\u001B[39m\u001B[36m \u001B[39m\u001B[32mIn[17]\u001B[39m\u001B[32m, line 1\u001B[39m\n\u001B[32m----> \u001B[39m\u001B[32m1\u001B[39m df[\u001B[33m'\u001B[39m\u001B[33mcorrect_option_rank\u001B[39m\u001B[33m'\u001B[39m] = \u001B[43mdf\u001B[49m\u001B[43m.\u001B[49m\u001B[43mapply\u001B[49m\u001B[43m(\u001B[49m\u001B[43mget_correct_option_rank\u001B[49m\u001B[43m,\u001B[49m\u001B[43m \u001B[49m\u001B[43maxis\u001B[49m\u001B[43m=\u001B[49m\u001B[32;43m1\u001B[39;49m\u001B[43m)\u001B[49m\n\u001B[32m      2\u001B[39m get_rank_distribution(df)\n",
      "\u001B[36mFile \u001B[39m\u001B[32mC:\\!University\\RAI_research\\raiforukraine-MARIA\\src\\.venv\\Lib\\site-packages\\pandas\\core\\frame.py:10374\u001B[39m, in \u001B[36mDataFrame.apply\u001B[39m\u001B[34m(self, func, axis, raw, result_type, args, by_row, engine, engine_kwargs, **kwargs)\u001B[39m\n\u001B[32m  10360\u001B[39m \u001B[38;5;28;01mfrom\u001B[39;00m\u001B[38;5;250m \u001B[39m\u001B[34;01mpandas\u001B[39;00m\u001B[34;01m.\u001B[39;00m\u001B[34;01mcore\u001B[39;00m\u001B[34;01m.\u001B[39;00m\u001B[34;01mapply\u001B[39;00m\u001B[38;5;250m \u001B[39m\u001B[38;5;28;01mimport\u001B[39;00m frame_apply\n\u001B[32m  10362\u001B[39m op = frame_apply(\n\u001B[32m  10363\u001B[39m     \u001B[38;5;28mself\u001B[39m,\n\u001B[32m  10364\u001B[39m     func=func,\n\u001B[32m   (...)\u001B[39m\u001B[32m  10372\u001B[39m     kwargs=kwargs,\n\u001B[32m  10373\u001B[39m )\n\u001B[32m> \u001B[39m\u001B[32m10374\u001B[39m \u001B[38;5;28;01mreturn\u001B[39;00m \u001B[43mop\u001B[49m\u001B[43m.\u001B[49m\u001B[43mapply\u001B[49m\u001B[43m(\u001B[49m\u001B[43m)\u001B[49m.__finalize__(\u001B[38;5;28mself\u001B[39m, method=\u001B[33m\"\u001B[39m\u001B[33mapply\u001B[39m\u001B[33m\"\u001B[39m)\n",
      "\u001B[36mFile \u001B[39m\u001B[32mC:\\!University\\RAI_research\\raiforukraine-MARIA\\src\\.venv\\Lib\\site-packages\\pandas\\core\\apply.py:916\u001B[39m, in \u001B[36mFrameApply.apply\u001B[39m\u001B[34m(self)\u001B[39m\n\u001B[32m    913\u001B[39m \u001B[38;5;28;01melif\u001B[39;00m \u001B[38;5;28mself\u001B[39m.raw:\n\u001B[32m    914\u001B[39m     \u001B[38;5;28;01mreturn\u001B[39;00m \u001B[38;5;28mself\u001B[39m.apply_raw(engine=\u001B[38;5;28mself\u001B[39m.engine, engine_kwargs=\u001B[38;5;28mself\u001B[39m.engine_kwargs)\n\u001B[32m--> \u001B[39m\u001B[32m916\u001B[39m \u001B[38;5;28;01mreturn\u001B[39;00m \u001B[38;5;28;43mself\u001B[39;49m\u001B[43m.\u001B[49m\u001B[43mapply_standard\u001B[49m\u001B[43m(\u001B[49m\u001B[43m)\u001B[49m\n",
      "\u001B[36mFile \u001B[39m\u001B[32mC:\\!University\\RAI_research\\raiforukraine-MARIA\\src\\.venv\\Lib\\site-packages\\pandas\\core\\apply.py:1063\u001B[39m, in \u001B[36mFrameApply.apply_standard\u001B[39m\u001B[34m(self)\u001B[39m\n\u001B[32m   1061\u001B[39m \u001B[38;5;28;01mdef\u001B[39;00m\u001B[38;5;250m \u001B[39m\u001B[34mapply_standard\u001B[39m(\u001B[38;5;28mself\u001B[39m):\n\u001B[32m   1062\u001B[39m     \u001B[38;5;28;01mif\u001B[39;00m \u001B[38;5;28mself\u001B[39m.engine == \u001B[33m\"\u001B[39m\u001B[33mpython\u001B[39m\u001B[33m\"\u001B[39m:\n\u001B[32m-> \u001B[39m\u001B[32m1063\u001B[39m         results, res_index = \u001B[38;5;28;43mself\u001B[39;49m\u001B[43m.\u001B[49m\u001B[43mapply_series_generator\u001B[49m\u001B[43m(\u001B[49m\u001B[43m)\u001B[49m\n\u001B[32m   1064\u001B[39m     \u001B[38;5;28;01melse\u001B[39;00m:\n\u001B[32m   1065\u001B[39m         results, res_index = \u001B[38;5;28mself\u001B[39m.apply_series_numba()\n",
      "\u001B[36mFile \u001B[39m\u001B[32mC:\\!University\\RAI_research\\raiforukraine-MARIA\\src\\.venv\\Lib\\site-packages\\pandas\\core\\apply.py:1081\u001B[39m, in \u001B[36mFrameApply.apply_series_generator\u001B[39m\u001B[34m(self)\u001B[39m\n\u001B[32m   1078\u001B[39m \u001B[38;5;28;01mwith\u001B[39;00m option_context(\u001B[33m\"\u001B[39m\u001B[33mmode.chained_assignment\u001B[39m\u001B[33m\"\u001B[39m, \u001B[38;5;28;01mNone\u001B[39;00m):\n\u001B[32m   1079\u001B[39m     \u001B[38;5;28;01mfor\u001B[39;00m i, v \u001B[38;5;129;01min\u001B[39;00m \u001B[38;5;28menumerate\u001B[39m(series_gen):\n\u001B[32m   1080\u001B[39m         \u001B[38;5;66;03m# ignore SettingWithCopy here in case the user mutates\u001B[39;00m\n\u001B[32m-> \u001B[39m\u001B[32m1081\u001B[39m         results[i] = \u001B[38;5;28;43mself\u001B[39;49m\u001B[43m.\u001B[49m\u001B[43mfunc\u001B[49m\u001B[43m(\u001B[49m\u001B[43mv\u001B[49m\u001B[43m,\u001B[49m\u001B[43m \u001B[49m\u001B[43m*\u001B[49m\u001B[38;5;28;43mself\u001B[39;49m\u001B[43m.\u001B[49m\u001B[43margs\u001B[49m\u001B[43m,\u001B[49m\u001B[43m \u001B[49m\u001B[43m*\u001B[49m\u001B[43m*\u001B[49m\u001B[38;5;28;43mself\u001B[39;49m\u001B[43m.\u001B[49m\u001B[43mkwargs\u001B[49m\u001B[43m)\u001B[49m\n\u001B[32m   1082\u001B[39m         \u001B[38;5;28;01mif\u001B[39;00m \u001B[38;5;28misinstance\u001B[39m(results[i], ABCSeries):\n\u001B[32m   1083\u001B[39m             \u001B[38;5;66;03m# If we have a view on v, we need to make a copy because\u001B[39;00m\n\u001B[32m   1084\u001B[39m             \u001B[38;5;66;03m#  series_generator will swap out the underlying data\u001B[39;00m\n\u001B[32m   1085\u001B[39m             results[i] = results[i].copy(deep=\u001B[38;5;28;01mFalse\u001B[39;00m)\n",
      "\u001B[36mCell\u001B[39m\u001B[36m \u001B[39m\u001B[32mIn[15]\u001B[39m\u001B[32m, line 12\u001B[39m, in \u001B[36mget_correct_option_rank\u001B[39m\u001B[34m(row)\u001B[39m\n\u001B[32m     10\u001B[39m \u001B[38;5;66;03m# Map correct_option letter to its index (0 for A, 1 for B, etc.)\u001B[39;00m\n\u001B[32m     11\u001B[39m letter_to_index = {\u001B[33m'\u001B[39m\u001B[33mA\u001B[39m\u001B[33m'\u001B[39m: \u001B[32m0\u001B[39m, \u001B[33m'\u001B[39m\u001B[33ma\u001B[39m\u001B[33m'\u001B[39m:\u001B[32m0\u001B[39m, \u001B[33m'\u001B[39m\u001B[33mB\u001B[39m\u001B[33m'\u001B[39m: \u001B[32m1\u001B[39m, \u001B[33m'\u001B[39m\u001B[33mb\u001B[39m\u001B[33m'\u001B[39m:\u001B[32m1\u001B[39m, \u001B[33m'\u001B[39m\u001B[33mC\u001B[39m\u001B[33m'\u001B[39m: \u001B[32m2\u001B[39m, \u001B[33m'\u001B[39m\u001B[33mc\u001B[39m\u001B[33m'\u001B[39m:\u001B[32m2\u001B[39m, \u001B[33m'\u001B[39m\u001B[33mD\u001B[39m\u001B[33m'\u001B[39m: \u001B[32m3\u001B[39m, \u001B[33m'\u001B[39m\u001B[33md\u001B[39m\u001B[33m'\u001B[39m:\u001B[32m3\u001B[39m}\n\u001B[32m---> \u001B[39m\u001B[32m12\u001B[39m correct_idx = \u001B[43mletter_to_index\u001B[49m\u001B[43m[\u001B[49m\u001B[43mrow\u001B[49m\u001B[43m[\u001B[49m\u001B[33;43m'\u001B[39;49m\u001B[33;43mcorrect_option\u001B[39;49m\u001B[33;43m'\u001B[39;49m\u001B[43m]\u001B[49m\u001B[43m]\u001B[49m\n\u001B[32m     14\u001B[39m \u001B[38;5;66;03m# Determine the word count of the correct option\u001B[39;00m\n\u001B[32m     15\u001B[39m correct_count = counts[correct_idx]\n",
      "\u001B[31mKeyError\u001B[39m: 'to treat musculoskeletal disorders'"
     ]
    }
   ],
   "execution_count": 17
  },
  {
   "cell_type": "markdown",
   "source": [
    "# Disclosure"
   ],
   "metadata": {
    "id": "klcHFsMjzp3m"
   }
  },
  {
   "metadata": {
    "ExecuteTime": {
     "end_time": "2025-03-20T18:11:59.830194Z",
     "start_time": "2025-03-20T18:11:59.824385Z"
    }
   },
   "cell_type": "code",
   "source": [
    "disclosure_freqs = {\n",
    "    'True': round((df['disclosure'].sum() / len(df)) * 100, 2),\n",
    "    'False': round((len(df) - df['disclosure'].sum()) / len(df) * 100, 2)\n",
    "}\n",
    "\n",
    "disclosure_freqs"
   ],
   "outputs": [
    {
     "data": {
      "text/plain": [
       "{'True': 12.47, 'False': 87.53}"
      ]
     },
     "execution_count": 19,
     "metadata": {},
     "output_type": "execute_result"
    }
   ],
   "execution_count": 19
  },
  {
   "cell_type": "markdown",
   "metadata": {
    "id": "nb_L81b9mO1C"
   },
   "source": [
    "# Relevance to the input material"
   ]
  },
  {
   "cell_type": "code",
   "metadata": {
    "execution": {
     "iopub.execute_input": "2024-11-18T20:39:21.545396Z",
     "iopub.status.busy": "2024-11-18T20:39:21.54466Z",
     "iopub.status.idle": "2024-11-18T20:39:29.033346Z",
     "shell.execute_reply": "2024-11-18T20:39:29.032397Z",
     "shell.execute_reply.started": "2024-11-18T20:39:21.54536Z"
    },
    "id": "EbIfjd7ImO1C",
    "colab": {
     "base_uri": "https://localhost:8080/",
     "height": 542
    },
    "outputId": "dfd2992e-b57c-446f-ab97-5495b6cdc984",
    "ExecuteTime": {
     "end_time": "2025-03-20T18:12:02.021701Z",
     "start_time": "2025-03-20T18:12:01.939025Z"
    }
   },
   "source": [
    "plt.figure(figsize=(10, 6))\n",
    "counts, bins, patches = plt.hist(df['relevance'], bins=10, range=(0, 1), edgecolor='black')\n",
    "\n",
    "plt.xticks([round(x * 0.1, 1) for x in range(11)])\n",
    "\n",
    "for count, patch in zip(counts, patches):\n",
    "    if count > 0:\n",
    "        plt.text(patch.get_x() + patch.get_width() / 2, count, int(count),\n",
    "                 ha='center', va='bottom')\n",
    "\n",
    "plt.xlabel('Relevance Score')\n",
    "plt.ylabel('Frequency')\n",
    "plt.show()"
   ],
   "outputs": [
    {
     "data": {
      "text/plain": [
       "<Figure size 1000x600 with 1 Axes>"
      ],
      "image/png": "[encoded data removed]"
     },
     "metadata": {},
     "output_type": "display_data"
    }
   ],
   "execution_count": 20
  },
  {
   "metadata": {
    "ExecuteTime": {
     "end_time": "2025-03-20T18:12:03.210414Z",
     "start_time": "2025-03-20T18:12:03.204581Z"
    }
   },
   "cell_type": "code",
   "source": "df['relevance'].describe()",
   "outputs": [
    {
     "data": {
      "text/plain": [
       "count    1524.000000\n",
       "mean        0.771814\n",
       "std         0.053525\n",
       "min         0.426711\n",
       "25%         0.740236\n",
       "50%         0.777566\n",
       "75%         0.808207\n",
       "max         0.922309\n",
       "Name: relevance, dtype: float64"
      ]
     },
     "execution_count": 21,
     "metadata": {},
     "output_type": "execute_result"
    }
   ],
   "execution_count": 21
  },
  {
   "cell_type": "markdown",
   "source": "# Ambiguity (cosine similarity)",
   "metadata": {
    "id": "6ue_cVZzrpi4"
   }
  },
  {
   "metadata": {
    "ExecuteTime": {
     "end_time": "2025-03-20T18:12:05.040932Z",
     "start_time": "2025-03-20T18:12:04.949405Z"
    }
   },
   "cell_type": "code",
   "source": [
    "plt.figure(figsize=(8, 6))\n",
    "plt.hist(df['ambiguity'], bins=10, edgecolor='black', alpha=0.7)\n",
    "\n",
    "plt.xlabel(\"Score\")\n",
    "plt.ylabel(\"Frequency\")\n",
    "plt.title(\"Distribution of Ambiguity\")"
   ],
   "outputs": [
    {
     "data": {
      "text/plain": [
       "Text(0.5, 1.0, 'Distribution of Ambiguity')"
      ]
     },
     "execution_count": 22,
     "metadata": {},
     "output_type": "execute_result"
    },
    {
     "data": {
      "text/plain": [
       "<Figure size 800x600 with 1 Axes>"
      ],
      "image/png": "[encoded data removed]"
     },
     "metadata": {},
     "output_type": "display_data"
    }
   ],
   "execution_count": 22
  },
  {
   "metadata": {
    "ExecuteTime": {
     "end_time": "2025-03-20T18:12:05.988532Z",
     "start_time": "2025-03-20T18:12:05.980382Z"
    }
   },
   "cell_type": "code",
   "source": "df['ambiguity'].describe()",
   "outputs": [
    {
     "data": {
      "text/plain": [
       "count    1371.000000\n",
       "mean        0.336463\n",
       "std         0.336270\n",
       "min         0.000000\n",
       "25%         0.000000\n",
       "50%         0.487001\n",
       "75%         0.657080\n",
       "max         0.966182\n",
       "Name: ambiguity, dtype: float64"
      ]
     },
     "execution_count": 23,
     "metadata": {},
     "output_type": "execute_result"
    }
   ],
   "execution_count": 23
  },
  {
   "metadata": {},
   "cell_type": "markdown",
   "source": "# Difficulty (judge LLM)"
  },
  {
   "metadata": {
    "ExecuteTime": {
     "end_time": "2025-03-20T18:12:07.912600Z",
     "start_time": "2025-03-20T18:12:07.843908Z"
    }
   },
   "cell_type": "code",
   "source": [
    "import numpy as np\n",
    "\n",
    "plt.figure(figsize=(8, 6))\n",
    "plt.hist(df['difficulty'], bins=np.arange(1, 6), edgecolor='black', alpha=0.7)\n",
    "\n",
    "plt.xlabel(\"Score\")\n",
    "plt.ylabel(\"Frequency\")\n",
    "plt.title(\"Distribution of Syntactic Ambiguity\")\n",
    "plt.xticks(range(1, 6))\n",
    "\n",
    "# Show the plot\n",
    "plt.show()"
   ],
   "outputs": [
    {
     "data": {
      "text/plain": [
       "<Figure size 800x600 with 1 Axes>"
      ],
      "image/png": "[encoded data removed]"
     },
     "metadata": {},
     "output_type": "display_data"
    }
   ],
   "execution_count": 24
  },
  {
   "metadata": {
    "ExecuteTime": {
     "end_time": "2025-03-20T18:12:09.413321Z",
     "start_time": "2025-03-20T18:12:09.404470Z"
    }
   },
   "cell_type": "code",
   "source": "df['difficulty'].describe()",
   "outputs": [
    {
     "data": {
      "text/plain": [
       "count    1371.000000\n",
       "mean        3.010212\n",
       "std         1.261981\n",
       "min         1.000000\n",
       "25%         2.000000\n",
       "50%         3.000000\n",
       "75%         4.000000\n",
       "max         5.000000\n",
       "Name: difficulty, dtype: float64"
      ]
     },
     "execution_count": 25,
     "metadata": {},
     "output_type": "execute_result"
    }
   ],
   "execution_count": 25
  },
  {
   "cell_type": "markdown",
   "source": [
    "# Answerability\n",
    "can judge model answer the generated question with context provided?"
   ],
   "metadata": {
    "id": "rLiUkNeToPYR"
   }
  },
  {
   "cell_type": "code",
   "source": [
    "df['gpt_answer'].unique()"
   ],
   "metadata": {
    "colab": {
     "base_uri": "https://localhost:8080/"
    },
    "id": "RsEaI2fOplIU",
    "outputId": "ce5328c5-852e-419a-809d-e6595d2f8943",
    "ExecuteTime": {
     "end_time": "2025-03-20T18:12:11.554476Z",
     "start_time": "2025-03-20T18:12:11.548702Z"
    }
   },
   "outputs": [
    {
     "data": {
      "text/plain": [
       "array(['a', 'c', 'b', 'd', nan], dtype=object)"
      ]
     },
     "execution_count": 26,
     "metadata": {},
     "output_type": "execute_result"
    }
   ],
   "execution_count": 26
  },
  {
   "cell_type": "code",
   "source": [
    "df['correct_option'].unique()"
   ],
   "metadata": {
    "colab": {
     "base_uri": "https://localhost:8080/"
    },
    "id": "vjj90iEfp-TV",
    "outputId": "d1b4812f-8e29-45a7-baf8-d8ce96c9315b",
    "ExecuteTime": {
     "end_time": "2025-03-20T18:12:12.152617Z",
     "start_time": "2025-03-20T18:12:12.147471Z"
    }
   },
   "outputs": [
    {
     "data": {
      "text/plain": [
       "array(['a', 'A', 'b', 'to treat musculoskeletal disorders', 'optiion_a',\n",
       "       'c', 'd', 'to control social spending', 'D', 'To reduce stress',\n",
       "       'A disciplinary action taken against a doctor for violating professional ethics.',\n",
       "       'to confirm the diagnosis of epididymitis',\n",
       "       'to reduce consumption to below low-risk guidelines',\n",
       "       'to increase motivation to change behavior', 'S4',\n",
       "       'to check for complications', 'to assess blood flow to the tumour',\n",
       "       'Reduces waiting time for recipients', '10%',\n",
       "       'to identify potential causes', 'Bacteremia',\n",
       "       'To stimulate follicular growth with gonadotropins to mature one to three follicles or induce ovulation for patients with menstrual cycle disorders.',\n",
       "       'To monitor the spread of diseases', '400 to 600 mg',\n",
       "       'A firm, non-itchy papule with a clear border',\n",
       "       'to treat psychiatric disorders',\n",
       "       'A regulated title (2010): National Register',\n",
       "       'administering serum glucose (G30 IV)',\n",
       "       'to achieve better patient outcomes',\n",
       "       'A multi-professional protocol', 'C',\n",
       "       'rule out a curable cause of cognitive impairment',\n",
       "       'A single hyperfixing area with extinction of healthy thyroid parenchyma',\n",
       "       'D)', 'Per os (orally)', 'reduce mortality rate',\n",
       "       'Prevent hypothermia', '1', 'to increase survival',\n",
       "       'Atheromatous Renal Artery Stenosis',\n",
       "       'A sudden onset of confusion',\n",
       "       'option_a: Blocking serotonin receptors',\n",
       "       'Avoid aggressive treatment to prevent complications',\n",
       "       'A sudden drop in blood pressure',\n",
       "       'Fracture before the age of walking', 'to confirm the diagnosis',\n",
       "       'The CCI has jurisdiction over all medical accidents, iatrogenic conditions, and nosocomial infections resulting in serious harm.',\n",
       "       'To the Drug Dependence Assessment and Information Centre (CEIP) in the area where the case was reported',\n",
       "       'To the local materials vigilance correspondent',\n",
       "       'to reduce inflammation and swelling', 'to reduce inflammation',\n",
       "       \"To ensure that the patient's medical history is up-to-date\",\n",
       "       'to reduce hospital stay time', 'To reduce anxiety',\n",
       "       'A condition characterized by high blood pressure in the lungs',\n",
       "       'Symptomatic narrow aortic stenosis', 'A low bicarbonate level',\n",
       "       'convulsions', 'to slow atheromatous disease progression',\n",
       "       'to prevent rupture',\n",
       "       'Antibiotic therapy should be started immediately',\n",
       "       'A thorough clinical examination of the patient and the results of routine biological tests (haemogram, liver function tests, etc.) are the first essential step in this assessment.',\n",
       "       \"to identify the underlying cause of the child's condition\",\n",
       "       'To determine sex and genetic markers for pathology diagnosis.',\n",
       "       'The applicant must be the adult concerned.',\n",
       "       'To ensure that they can continue to make decisions about their own lives.',\n",
       "       \"To ensure that patients' opinions are taken into account when making decisions about their care.\",\n",
       "       'The doctor must inform the patient fully about the diagnosis and prognosis.',\n",
       "       'B', 'Option_a: Platelet transfusion',\n",
       "       'CRAO typically occurs in younger patients with carotid atheroma',\n",
       "       'A sudden loss of vision', 'Atrial fibrillation',\n",
       "       'Perform an electrocardiogram (ECG) to check for arrhythmias',\n",
       "       'option_a: To measure electrolyte levels',\n",
       "       \"Sudden necrosis during hypovolemic shock in the postpartum period (Sheehan's syndrome, very rare)\",\n",
       "       'Vascular redistribution from the base to the apices',\n",
       "       'to diagnose cardiac insufficiency', 'd)',\n",
       "       'A stye is caused by a bacterial infection.', 'to reduce symptoms',\n",
       "       'to educate patients on the causes and symptoms of their condition',\n",
       "       'Hyperglycemia should be checked for in polyuro-polydipsic syndrome'],\n",
       "      dtype=object)"
      ]
     },
     "execution_count": 27,
     "metadata": {},
     "output_type": "execute_result"
    }
   ],
   "execution_count": 27
  },
  {
   "cell_type": "code",
   "source": [
    "answerability_freqs = {\n",
    "    'True': round((df['correct_option'] == df['gpt_answer']).sum() / len(df) * 100, 2), \n",
    "    'False': round((len(df) - (df['correct_option'] == df['gpt_answer']).sum()) / len(df) * 100, 2)\n",
    "}\n",
    "\n",
    "answerability_freqs"
   ],
   "metadata": {
    "colab": {
     "base_uri": "https://localhost:8080/"
    },
    "id": "sP21LFtNqBYO",
    "outputId": "85a9df9b-0448-4d93-e063-f5c66f5d17df",
    "ExecuteTime": {
     "end_time": "2025-03-20T18:12:15.635771Z",
     "start_time": "2025-03-20T18:12:15.630344Z"
    }
   },
   "outputs": [
    {
     "data": {
      "text/plain": [
       "{'True': np.float64(48.16), 'False': np.float64(51.84)}"
      ]
     },
     "execution_count": 28,
     "metadata": {},
     "output_type": "execute_result"
    }
   ],
   "execution_count": 28
  },
  {
   "metadata": {},
   "cell_type": "code",
   "source": "",
   "outputs": [],
   "execution_count": null
  }
 ]
}
