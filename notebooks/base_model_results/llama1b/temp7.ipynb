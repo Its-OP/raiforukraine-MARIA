{
 "nbformat": 4,
 "nbformat_minor": 0,
 "metadata": {
  "colab": {
   "provenance": []
  },
  "kernelspec": {
   "name": "python3",
   "display_name": "Python 3 (ipykernel)",
   "language": "python"
  },
  "language_info": {
   "name": "python"
  }
 },
 "cells": [
  {
   "cell_type": "code",
   "metadata": {
    "id": "XTL8_cenjf7a",
    "ExecuteTime": {
     "end_time": "2025-03-20T19:37:58.615327Z",
     "start_time": "2025-03-20T19:37:58.610979Z"
    }
   },
   "source": [
    "import pandas as pd\n",
    "import json\n",
    "import os\n",
    "import ast\n",
    "import matplotlib.pyplot as plt"
   ],
   "outputs": [],
   "execution_count": 32
  },
  {
   "metadata": {
    "ExecuteTime": {
     "end_time": "2025-03-20T19:37:58.697851Z",
     "start_time": "2025-03-20T19:37:58.693844Z"
    }
   },
   "cell_type": "code",
   "source": [
    "with open(\"../../../data/train_test_split/test_folders.json\", \"r\") as train_file:\n",
    "    test_folders = json.load(train_file)"
   ],
   "outputs": [],
   "execution_count": 33
  },
  {
   "cell_type": "code",
   "source": [
    "df = pd.read_csv('../../../data/base_models/llama1b/temp0.7.eval.csv')\n",
    "lisa_sheets = pd.read_csv('../../../data/lisa_sheets.csv')\n",
    "df = pd.merge(df, lisa_sheets[['id', 'folder']], how='left', on='id')\n",
    "df = df[df['folder'].isin(test_folders)]\n",
    "df.head()"
   ],
   "metadata": {
    "id": "AKWrq07-lwD7",
    "colab": {
     "base_uri": "https://localhost:8080/",
     "height": 573
    },
    "outputId": "95c768d3-841c-4ec4-c118-e99d9b08cc91",
    "ExecuteTime": {
     "end_time": "2025-03-20T19:37:58.951779Z",
     "start_time": "2025-03-20T19:37:58.720550Z"
    }
   },
   "outputs": [
    {
     "data": {
      "text/plain": [
       "             id                                           question  \\\n",
       "0  OIC-328-06-B  What is the main difference between a stabilis...   \n",
       "1  OIC-328-12-B  What is the principle of specificity in minera...   \n",
       "2  OIC-328-05-A  What is the main objective of orthotic treatment?   \n",
       "3  OIC-328-08-A  What does 'Aesthetic Trim' refer to in a prost...   \n",
       "4  OIC-328-02-A                      What is a non-medical device?   \n",
       "\n",
       "                                   option_a  \\\n",
       "0   Both aim to prevent movement in a joint   \n",
       "1  The water must be from a specific source   \n",
       "2                                  Downtime   \n",
       "3                         Articulated joint   \n",
       "4             A small tool used for surgery   \n",
       "\n",
       "                                            option_b  \\\n",
       "0  Immobilisation orthoses are designed for post-...   \n",
       "1  The concentration of certain minerals should m...   \n",
       "2                                               Rest   \n",
       "3                              Non-articulated joint   \n",
       "4                An instrument designed for exercise   \n",
       "\n",
       "                                            option_c  \\\n",
       "0  Stabilisation orthoses work by using a mechani...   \n",
       "1  The water's chemical composition must align wi...   \n",
       "2                                      Stabilization   \n",
       "3                                          Cable tie   \n",
       "4                                    A food additive   \n",
       "\n",
       "                                            option_d correct_option  \\\n",
       "0  An immobilisation orthose is typically made fr...              b   \n",
       "1  The temperature and chemical composition of th...              c   \n",
       "2                                         Correction              d   \n",
       "3                              Aesthetic effect only              b   \n",
       "4                                A laboratory supply              a   \n",
       "\n",
       "                                         content_gpt  originality  \\\n",
       "0  **Item_parent:** Non-drug therapies and medica...          1.0   \n",
       "1  **Item_parent:** Non-drug therapies and medica...          0.0   \n",
       "2  **Item Parent:** Non-drug therapies and medica...          0.5   \n",
       "3  **Item Parent:** Non-drug therapies and medica...          1.0   \n",
       "4  **Item Parent:** Non-drug therapies and medica...          1.0   \n",
       "\n",
       "   readability  starts_with_negation  is_question  relevance  ambiguity  \\\n",
       "0    16.710769                 False         True   0.717711   0.733465   \n",
       "1    11.520000                 False         True   0.632787   0.800056   \n",
       "2     8.180000                 False         True   0.708636   0.556957   \n",
       "3     8.370000                 False         True   0.745651   0.638485   \n",
       "4     9.960000                 False         True   0.747670   0.666879   \n",
       "\n",
       "  gpt_answer  disclosure  difficulty  folder  \n",
       "0          b       False           3  IC-328  \n",
       "1          a       False           2  IC-328  \n",
       "2          c        True           3  IC-328  \n",
       "3          d       False           5  IC-328  \n",
       "4          b        True           5  IC-328  "
      ],
      "text/html": [
       "<div>\n",
       "<style scoped>\n",
       "    .dataframe tbody tr th:only-of-type {\n",
       "        vertical-align: middle;\n",
       "    }\n",
       "\n",
       "    .dataframe tbody tr th {\n",
       "        vertical-align: top;\n",
       "    }\n",
       "\n",
       "    .dataframe thead th {\n",
       "        text-align: right;\n",
       "    }\n",
       "</style>\n",
       "<table border=\"1\" class=\"dataframe\">\n",
       "  <thead>\n",
       "    <tr style=\"text-align: right;\">\n",
       "      <th></th>\n",
       "      <th>id</th>\n",
       "      <th>question</th>\n",
       "      <th>option_a</th>\n",
       "      <th>option_b</th>\n",
       "      <th>option_c</th>\n",
       "      <th>option_d</th>\n",
       "      <th>correct_option</th>\n",
       "      <th>content_gpt</th>\n",
       "      <th>originality</th>\n",
       "      <th>readability</th>\n",
       "      <th>starts_with_negation</th>\n",
       "      <th>is_question</th>\n",
       "      <th>relevance</th>\n",
       "      <th>ambiguity</th>\n",
       "      <th>gpt_answer</th>\n",
       "      <th>disclosure</th>\n",
       "      <th>difficulty</th>\n",
       "      <th>folder</th>\n",
       "    </tr>\n",
       "  </thead>\n",
       "  <tbody>\n",
       "    <tr>\n",
       "      <th>0</th>\n",
       "      <td>OIC-328-06-B</td>\n",
       "      <td>What is the main difference between a stabilis...</td>\n",
       "      <td>Both aim to prevent movement in a joint</td>\n",
       "      <td>Immobilisation orthoses are designed for post-...</td>\n",
       "      <td>Stabilisation orthoses work by using a mechani...</td>\n",
       "      <td>An immobilisation orthose is typically made fr...</td>\n",
       "      <td>b</td>\n",
       "      <td>**Item_parent:** Non-drug therapies and medica...</td>\n",
       "      <td>1.0</td>\n",
       "      <td>16.710769</td>\n",
       "      <td>False</td>\n",
       "      <td>True</td>\n",
       "      <td>0.717711</td>\n",
       "      <td>0.733465</td>\n",
       "      <td>b</td>\n",
       "      <td>False</td>\n",
       "      <td>3</td>\n",
       "      <td>IC-328</td>\n",
       "    </tr>\n",
       "    <tr>\n",
       "      <th>1</th>\n",
       "      <td>OIC-328-12-B</td>\n",
       "      <td>What is the principle of specificity in minera...</td>\n",
       "      <td>The water must be from a specific source</td>\n",
       "      <td>The concentration of certain minerals should m...</td>\n",
       "      <td>The water's chemical composition must align wi...</td>\n",
       "      <td>The temperature and chemical composition of th...</td>\n",
       "      <td>c</td>\n",
       "      <td>**Item_parent:** Non-drug therapies and medica...</td>\n",
       "      <td>0.0</td>\n",
       "      <td>11.520000</td>\n",
       "      <td>False</td>\n",
       "      <td>True</td>\n",
       "      <td>0.632787</td>\n",
       "      <td>0.800056</td>\n",
       "      <td>a</td>\n",
       "      <td>False</td>\n",
       "      <td>2</td>\n",
       "      <td>IC-328</td>\n",
       "    </tr>\n",
       "    <tr>\n",
       "      <th>2</th>\n",
       "      <td>OIC-328-05-A</td>\n",
       "      <td>What is the main objective of orthotic treatment?</td>\n",
       "      <td>Downtime</td>\n",
       "      <td>Rest</td>\n",
       "      <td>Stabilization</td>\n",
       "      <td>Correction</td>\n",
       "      <td>d</td>\n",
       "      <td>**Item Parent:** Non-drug therapies and medica...</td>\n",
       "      <td>0.5</td>\n",
       "      <td>8.180000</td>\n",
       "      <td>False</td>\n",
       "      <td>True</td>\n",
       "      <td>0.708636</td>\n",
       "      <td>0.556957</td>\n",
       "      <td>c</td>\n",
       "      <td>True</td>\n",
       "      <td>3</td>\n",
       "      <td>IC-328</td>\n",
       "    </tr>\n",
       "    <tr>\n",
       "      <th>3</th>\n",
       "      <td>OIC-328-08-A</td>\n",
       "      <td>What does 'Aesthetic Trim' refer to in a prost...</td>\n",
       "      <td>Articulated joint</td>\n",
       "      <td>Non-articulated joint</td>\n",
       "      <td>Cable tie</td>\n",
       "      <td>Aesthetic effect only</td>\n",
       "      <td>b</td>\n",
       "      <td>**Item Parent:** Non-drug therapies and medica...</td>\n",
       "      <td>1.0</td>\n",
       "      <td>8.370000</td>\n",
       "      <td>False</td>\n",
       "      <td>True</td>\n",
       "      <td>0.745651</td>\n",
       "      <td>0.638485</td>\n",
       "      <td>d</td>\n",
       "      <td>False</td>\n",
       "      <td>5</td>\n",
       "      <td>IC-328</td>\n",
       "    </tr>\n",
       "    <tr>\n",
       "      <th>4</th>\n",
       "      <td>OIC-328-02-A</td>\n",
       "      <td>What is a non-medical device?</td>\n",
       "      <td>A small tool used for surgery</td>\n",
       "      <td>An instrument designed for exercise</td>\n",
       "      <td>A food additive</td>\n",
       "      <td>A laboratory supply</td>\n",
       "      <td>a</td>\n",
       "      <td>**Item Parent:** Non-drug therapies and medica...</td>\n",
       "      <td>1.0</td>\n",
       "      <td>9.960000</td>\n",
       "      <td>False</td>\n",
       "      <td>True</td>\n",
       "      <td>0.747670</td>\n",
       "      <td>0.666879</td>\n",
       "      <td>b</td>\n",
       "      <td>True</td>\n",
       "      <td>5</td>\n",
       "      <td>IC-328</td>\n",
       "    </tr>\n",
       "  </tbody>\n",
       "</table>\n",
       "</div>"
      ]
     },
     "execution_count": 34,
     "metadata": {},
     "output_type": "execute_result"
    }
   ],
   "execution_count": 34
  },
  {
   "metadata": {
    "ExecuteTime": {
     "end_time": "2025-03-20T19:37:58.958080Z",
     "start_time": "2025-03-20T19:37:58.953104Z"
    }
   },
   "cell_type": "code",
   "source": "len(df)",
   "outputs": [
    {
     "data": {
      "text/plain": [
       "1524"
      ]
     },
     "execution_count": 35,
     "metadata": {},
     "output_type": "execute_result"
    }
   ],
   "execution_count": 35
  },
  {
   "metadata": {
    "ExecuteTime": {
     "end_time": "2025-03-20T19:37:58.978891Z",
     "start_time": "2025-03-20T19:37:58.959504Z"
    }
   },
   "cell_type": "code",
   "source": "df['correct_option'].unique()",
   "outputs": [
    {
     "data": {
      "text/plain": [
       "array(['b', 'c', 'd', 'a',\n",
       "       'To compensate for a deficient organic function', ' Disabilities',\n",
       "       'option_b', 'option_a', 'to provide a replacement income',\n",
       "       'To pay for sickness, maternity, disability, and death, as well as accidents at work and occupational diseases.',\n",
       "       'Social Insurance', 'A slowdown in colonic transit', 'option_c',\n",
       "       'To improve fertility', 'C', 'Clostridioides difficile',\n",
       "       'A positive breath test for enolalic', '(a)', '}', '(B) 2%',\n",
       "       'Hepatocellular carcinoma', '(1)',\n",
       "       '{\\r\\n± The average pubertal growth peak for boys is 20-25 cm.\\r\\n}\\r\\n',\n",
       "       'B', 'A',\n",
       "       'A visible accumulation of fluid in the interstitial tissue', '1',\n",
       "       'anatomical localization of tumour characteristics',\n",
       "       'Option b: Perform a thorough clinical examination to rule out other primary cancers.',\n",
       "       '(2)', 'option_d',\n",
       "       'to detect hearing loss and identify treatment needs',\n",
       "       '3-12 months', 'Preventative measures',\n",
       "       '}  What is the average time between the eruption of a first primary molar and a second primary molar in children?     { 0 }     There are no options for the correct answer, indicating an error in generating the question. Would you like me to try again?  I can re-generate a new question based on your original content. Here is another attempt at creating a multiple-choice question that assesses understanding of the main ideas and provides accurate distractors: { ',\n",
       "       'to detect any potential health issues',\n",
       "       'option_a: Vaginal colonization', 'Spontaneous miscarriage',\n",
       "       'Infection during pregnancy',\n",
       "       'blood and cerebrospinal fluid samples',\n",
       "       'Option_a: Inform the doctor immediately',\n",
       "       'to provide a safe and supportive environment for individuals with disabilities',\n",
       "       'To identify a clear, specific problem statement that addresses the research question',\n",
       "       'Ensure that it is anonymized',\n",
       "       'The correct treatment course for primary syphilis is a single intramuscular dose of benzathine penicillin G, not the provided doses that are much higher and less commonly administered.',\n",
       "       'HPV',\n",
       "       'Distractor: option a, b, c, and d are all recommended tests for Chlamydia trachomatis infection. Therefore, option_a is incorrect.',\n",
       "       'Blood culture of the cervical mucus',\n",
       "       'A partner who has sex with multiple people', 'The lungs', 'D',\n",
       "       'Perform a thorough physical examination',\n",
       "       'A clinical examination of both members of the couple',\n",
       "       'To mature one to three follicles or induce ovulation for patients with menstrual cycle disorders (Abnormal genital bleeding)',\n",
       "       'optiion_a', 'Prevent long-term nicotine toxicity', '[category]',\n",
       "       'But the most accurate description is that there was a slight increase in overall smoking rates.',\n",
       "       'A sudden decrease in cardiac output due to tamponade.',\n",
       "       'Reversible Cerebral Vasoconstriction Syndrome (RCVS)',\n",
       "       'To monitor diseases for early detection',\n",
       "       'Instruct the patient to hold their breath before starting the procedure.',\n",
       "       '[Genetic] Epidermal barrier genes ',\n",
       "       'After many years without healing',\n",
       "       'Identifying potential hazards', 'Theoretical model of the psyche',\n",
       "       'A regulated title (2010): National Register',\n",
       "       'Support a patient through life changes', 'A**',\n",
       "       'A sensation in the chest that feels as if the heart is being pulled in and out.',\n",
       "       'To evaluate swelling homolateral to the PFP',\n",
       "       'A neurological cause should always be considered when investigating children with micturition disorders,',\n",
       "       'The serum glucose should be kept below 4 mmol/L for the treatment of hypoglycemia.',\n",
       "       'A positive Glasgow Coma Score', 'Provide supportive care',\n",
       "       'A crescent-shaped, well-defined collection with minimal fluid content',\n",
       "       'early-onset dementia',\n",
       "       'to ensure accurate information is passed between healthcare professionals',\n",
       "       'To facilitate collaboration with other healthcare professionals',\n",
       "       'Reduce respiratory infections',\n",
       "       'an abnormality on ultrasound indicates the need for a fetal karyotype',\n",
       "       '{\\r\\n', '15%', 'Hypermparathyroidism', 'option_c:',\n",
       "       'A distinction is made between',\n",
       "       'Symptomatic treatment of intense and/or incapacitating anxiety',\n",
       "       'Benzodiazepines', '3', 'CDH_a', 'Hypertension',\n",
       "       ' Increase cardiac output',\n",
       "       '{- A classic prolonged fever is an occurrence in a subject with no specific medical condition - ,\"Temperature (taken at rest) ≥ 38.3°C on several occasions\", and \", Duration of ≥ 3 weeks\". {+ The correct definition focuses on the lack of identifiable cause, not just temperature fluctuations or incomplete investigations.}',\n",
       "       'PR (Pulmonary Embolism)', 'To rule out an acute ischaemic stroke',\n",
       "       ',', 'a}', ' a', 'Understanding key clinical manifestations',\n",
       "       'block serotonin receptors', 'a)', '90%', 'Eclampsia', '2.8%',\n",
       "       'Option A: Have a preconception consultation',\n",
       "       'A pattern of multiple fractures in the same area', '4%',\n",
       "       'option_a: correct option_a is true according to the educational content. ',\n",
       "       'Days', 'E.',\n",
       "       'To verify whether the medicine to be administered matches the prescription',\n",
       "       \"Office National d'Indemnisation des Accidents Médicaux, des Affections Iatrogènes et des Infections Nosocomiales (ONIAM)\",\n",
       "       'Report directly to the Drug Dependence Assessment and Information Centre (CEIP) in the area where the case was reported.',\n",
       "       'Emotional problems', 'Before 1 year', 'administering epinephrine',\n",
       "       'Unity of Place, Time, and Action',\n",
       "       'a: To reduce inflammation and swelling ', 'the Breslow index',\n",
       "       'increase efficiency', 'option_a: Pain management', 'D)', '[A]',\n",
       "       \"{ 'answer': \", '> { 1}} , ',\n",
       "       'option_a: A plasma potassium concentration greater than 4.0 mmol/L',\n",
       "       'Use a hypotonic sodium chloride solution IV at 4.5 g/L to correct blood volume while avoiding pure water intravenous administration in the case of associated extracellular hyperhydration.',\n",
       "       '2', 'option_a: Release the ulnar artery', 'clinical benefit',\n",
       "       '% 75%', '$$A$$', 'CBU', ' option_c', 'Option_b',\n",
       "       'It occurs before or at birth. ', 'to reduce symptoms',\n",
       "       'To determine the primary goal of a multidisciplinary assessment for a disabled child',\n",
       "       \"A patient's freedom from undue influence by others.\",\n",
       "       'Cleas-Léonetti Law',\n",
       "       'No further information than what is necessary for a doctor-patient conversation should be provided to patients with rare or exceptional exceptions.',\n",
       "       ' ', '$\\x08oxed{A}$',\n",
       "       'But not Rice Chow, which contains high fructose corn syrup and does not contain electrolytes. So option B is incorrect.',\n",
       "       'option_a: AS',\n",
       "       'A thorough medical evaluation, including assessment of mental health and developmental factors.',\n",
       "       '4.2%', 'C option ', 'myodesopsia', 'A}',\n",
       "       'Closely monitor blood pressure and heart rate',\n",
       "       'Take 4 tablets of hydrocortisone 20 mg as soon as the triggering factor occurs.',\n",
       "       'To provide temporary medicalized accommodation', '≤50%',\n",
       "       ' As soon as desired by mother or father', '{c}',\n",
       "       \"> 3b}  === The parasympathetic fibers' primary action is to innervate the pupillary sphincter muscle, responsible for pupillary constriction. This option directly addresses the main idea of the question. Option C is incorrect as it refers to the pupil's dilator muscle, which is not the primary target of parasympathetic fibers in relation to pupillary constriction. The correct answer requires an understanding of the anatomy and physiology of the autonomic nervous system.  === Correct option: option_a === }  === Incorrect options: option_b, option_c, option_d === Option d would be incorrect as it refers to a muscle not directly innervated by parasympathetic fibers for pupillary constriction. The correct answer is among the three pre-ganglionic parasympathetic fibres which reach their targets via post-ganglionic neurons, while the pupil's dilator muscle remains unresponsive due to its unique anatomy and physiology.  === Incorrect options: option_b, option_c, option_d === }  === Correct options: option_a, option_e  === Incorrect options: option_b, option_c, option_d  === Answer Options should be as short as possible while following the rules of multiple-choice questions, in this case, only one correct answer is to be selected. As discussed earlier, option a (the pupillary sphincter muscle) is the correct action of parasympathetic fibers. Therefore, Option A is the best choice:  === Correct Answer Options == { \",\n",
       "       'Intraepidermal bulla formation', 'administer oxygen',\n",
       "       'option_a:intense nocturnal exacerbations', '(A)',\n",
       "       '1.0 g/kg per day'], dtype=object)"
      ]
     },
     "execution_count": 36,
     "metadata": {},
     "output_type": "execute_result"
    }
   ],
   "execution_count": 36
  },
  {
   "metadata": {
    "ExecuteTime": {
     "end_time": "2025-03-20T19:37:58.994344Z",
     "start_time": "2025-03-20T19:37:58.979945Z"
    }
   },
   "cell_type": "code",
   "source": [
    "# normalize correct_option\n",
    "df['correct_option'] = df['correct_option'].replace({'option_b': 'b', 'option_c': 'c', 'option_d': 'd', 'option_a': 'a'}) "
   ],
   "outputs": [],
   "execution_count": 37
  },
  {
   "cell_type": "markdown",
   "metadata": {
    "id": "HG-SVqoPmO1B"
   },
   "source": [
    "# Question mark"
   ]
  },
  {
   "cell_type": "code",
   "metadata": {
    "execution": {
     "iopub.execute_input": "2024-11-12T12:14:38.446623Z",
     "iopub.status.busy": "2024-11-12T12:14:38.445718Z",
     "iopub.status.idle": "2024-11-12T12:14:38.456114Z",
     "shell.execute_reply": "2024-11-12T12:14:38.455017Z",
     "shell.execute_reply.started": "2024-11-12T12:14:38.446566Z"
    },
    "id": "LC9P1ozSmO1B",
    "colab": {
     "base_uri": "https://localhost:8080/"
    },
    "outputId": "905eaa0f-b6dd-4cd7-8f39-f895b347cb4d",
    "ExecuteTime": {
     "end_time": "2025-03-20T19:37:59.003607Z",
     "start_time": "2025-03-20T19:37:58.996353Z"
    }
   },
   "source": [
    "# We want to maximize 'True'\n",
    "question_freqs = {\n",
    "    'True': round(df['is_question'].sum()/ len(df) * 100, 2),\n",
    "    'False': round((len(df) - df['is_question'].sum()) / len(df) * 100, 2)\n",
    "}\n",
    "\n",
    "question_freqs"
   ],
   "outputs": [
    {
     "data": {
      "text/plain": [
       "{'True': np.float64(99.34), 'False': np.float64(0.66)}"
      ]
     },
     "execution_count": 38,
     "metadata": {},
     "output_type": "execute_result"
    }
   ],
   "execution_count": 38
  },
  {
   "cell_type": "markdown",
   "source": [
    "# Negation"
   ],
   "metadata": {
    "id": "gL6ogPiJszsC"
   }
  },
  {
   "cell_type": "code",
   "source": [
    "# We want to minimze 'True'\n",
    "starts_with_negation_freqs = {\n",
    "    'True': round(df['starts_with_negation'].sum() / len(df) * 100, 2),\n",
    "    'False': round((len(df) - df['starts_with_negation'].sum()) / len(df) * 100, 2)\n",
    "}\n",
    "\n",
    "starts_with_negation_freqs"
   ],
   "metadata": {
    "colab": {
     "base_uri": "https://localhost:8080/"
    },
    "id": "zlz17fiUs4MX",
    "outputId": "3715ec13-d620-4c01-d748-c62bb72b12f3",
    "ExecuteTime": {
     "end_time": "2025-03-20T19:37:59.013617Z",
     "start_time": "2025-03-20T19:37:59.005619Z"
    }
   },
   "outputs": [
    {
     "data": {
      "text/plain": [
       "{'True': np.float64(0.0), 'False': np.float64(100.0)}"
      ]
     },
     "execution_count": 39,
     "metadata": {},
     "output_type": "execute_result"
    }
   ],
   "execution_count": 39
  },
  {
   "cell_type": "markdown",
   "source": [
    "# Readability"
   ],
   "metadata": {
    "id": "rAmz_WnJqoo0"
   }
  },
  {
   "cell_type": "code",
   "source": [
    "plt.figure(figsize=(10, 6))\n",
    "counts, bins, patches = plt.hist(df['readability'], bins=range(0, 19, 1), edgecolor='black')\n",
    "\n",
    "# Set x-axis ticks from 0 to 18\n",
    "plt.xticks(range(0, 19))\n",
    "\n",
    "# Add frequency labels on top of each bar where frequency > 0\n",
    "for count, patch in zip(counts, patches):\n",
    "    if count > 0:\n",
    "        plt.text(patch.get_x() + patch.get_width() / 2, count, int(count),\n",
    "                 ha='center', va='bottom')\n",
    "plt.xlabel('Readability Score')\n",
    "plt.ylabel('Frequency')\n",
    "plt.title('Histogram of Readability Scores')\n",
    "plt.show()"
   ],
   "metadata": {
    "colab": {
     "base_uri": "https://localhost:8080/",
     "height": 564
    },
    "id": "d8x1qyWJtQXd",
    "outputId": "8282eee8-7623-42d9-c6f0-5d69ac0381f8",
    "ExecuteTime": {
     "end_time": "2025-03-20T19:37:59.134549Z",
     "start_time": "2025-03-20T19:37:59.015137Z"
    }
   },
   "outputs": [
    {
     "data": {
      "text/plain": [
       "<Figure size 1000x600 with 1 Axes>"
      ],
      "image/png": "[encoded data removed]"
     },
     "metadata": {},
     "output_type": "display_data"
    }
   ],
   "execution_count": 40
  },
  {
   "metadata": {
    "ExecuteTime": {
     "end_time": "2025-03-20T19:37:59.141555Z",
     "start_time": "2025-03-20T19:37:59.135555Z"
    }
   },
   "cell_type": "code",
   "source": "df['readability'].describe()",
   "outputs": [
    {
     "data": {
      "text/plain": [
       "count    1507.000000\n",
       "mean       12.164204\n",
       "std         3.662554\n",
       "min        -1.840000\n",
       "25%         9.655000\n",
       "50%        12.286667\n",
       "75%        14.480097\n",
       "max        26.083333\n",
       "Name: readability, dtype: float64"
      ]
     },
     "execution_count": 41,
     "metadata": {},
     "output_type": "execute_result"
    }
   ],
   "execution_count": 41
  },
  {
   "metadata": {},
   "cell_type": "markdown",
   "source": "# Originality"
  },
  {
   "metadata": {
    "ExecuteTime": {
     "end_time": "2025-03-20T19:37:59.237067Z",
     "start_time": "2025-03-20T19:37:59.143075Z"
    }
   },
   "cell_type": "code",
   "source": [
    "plt.figure(figsize=(10, 6))\n",
    "counts, bins, patches = plt.hist(df['originality'], bins=10, range=(0, 1), edgecolor='black')\n",
    "\n",
    "plt.xticks([round(x * 0.1, 1) for x in range(11)])\n",
    "\n",
    "for count, patch in zip(counts, patches):\n",
    "    if count > 0:\n",
    "        plt.text(patch.get_x() + patch.get_width() / 2, count, int(count),\n",
    "                 ha='center', va='bottom')\n",
    "\n",
    "plt.xlabel('Originality score')\n",
    "plt.ylabel('Frequency')\n",
    "plt.show()"
   ],
   "outputs": [
    {
     "data": {
      "text/plain": [
       "<Figure size 1000x600 with 1 Axes>"
      ],
      "image/png": "[encoded data removed]"
     },
     "metadata": {},
     "output_type": "display_data"
    }
   ],
   "execution_count": 42
  },
  {
   "metadata": {
    "ExecuteTime": {
     "end_time": "2025-03-20T19:37:59.247389Z",
     "start_time": "2025-03-20T19:37:59.239586Z"
    }
   },
   "cell_type": "code",
   "source": "df['originality'].describe()",
   "outputs": [
    {
     "data": {
      "text/plain": [
       "count    1524.000000\n",
       "mean        0.803856\n",
       "std         0.261494\n",
       "min         0.000000\n",
       "25%         0.666667\n",
       "50%         1.000000\n",
       "75%         1.000000\n",
       "max         1.000000\n",
       "Name: originality, dtype: float64"
      ]
     },
     "execution_count": 43,
     "metadata": {},
     "output_type": "execute_result"
    }
   ],
   "execution_count": 43
  },
  {
   "metadata": {},
   "cell_type": "markdown",
   "source": "# Answer Length"
  },
  {
   "cell_type": "code",
   "source": [
    "option_cols = ['option_a', 'option_b', 'option_c', 'option_d']\n",
    "\n",
    "# Create new columns with word counts for each option column\n",
    "for col in option_cols:\n",
    "    df[f'{col}_word_count'] = df[col].astype(str).apply(lambda x: len(x.split()))"
   ],
   "metadata": {
    "id": "dbNhxSY_ugcf",
    "ExecuteTime": {
     "end_time": "2025-03-20T19:37:59.261872Z",
     "start_time": "2025-03-20T19:37:59.249399Z"
    }
   },
   "outputs": [],
   "execution_count": 44
  },
  {
   "metadata": {
    "ExecuteTime": {
     "end_time": "2025-03-20T19:37:59.277121Z",
     "start_time": "2025-03-20T19:37:59.262878Z"
    }
   },
   "cell_type": "code",
   "source": "df['correct_option'].unique()",
   "outputs": [
    {
     "data": {
      "text/plain": [
       "array(['b', 'c', 'd', 'a',\n",
       "       'To compensate for a deficient organic function', ' Disabilities',\n",
       "       'to provide a replacement income',\n",
       "       'To pay for sickness, maternity, disability, and death, as well as accidents at work and occupational diseases.',\n",
       "       'Social Insurance', 'A slowdown in colonic transit',\n",
       "       'To improve fertility', 'C', 'Clostridioides difficile',\n",
       "       'A positive breath test for enolalic', '(a)', '}', '(B) 2%',\n",
       "       'Hepatocellular carcinoma', '(1)',\n",
       "       '{\\r\\n± The average pubertal growth peak for boys is 20-25 cm.\\r\\n}\\r\\n',\n",
       "       'B', 'A',\n",
       "       'A visible accumulation of fluid in the interstitial tissue', '1',\n",
       "       'anatomical localization of tumour characteristics',\n",
       "       'Option b: Perform a thorough clinical examination to rule out other primary cancers.',\n",
       "       '(2)', 'to detect hearing loss and identify treatment needs',\n",
       "       '3-12 months', 'Preventative measures',\n",
       "       '}  What is the average time between the eruption of a first primary molar and a second primary molar in children?     { 0 }     There are no options for the correct answer, indicating an error in generating the question. Would you like me to try again?  I can re-generate a new question based on your original content. Here is another attempt at creating a multiple-choice question that assesses understanding of the main ideas and provides accurate distractors: { ',\n",
       "       'to detect any potential health issues',\n",
       "       'option_a: Vaginal colonization', 'Spontaneous miscarriage',\n",
       "       'Infection during pregnancy',\n",
       "       'blood and cerebrospinal fluid samples',\n",
       "       'Option_a: Inform the doctor immediately',\n",
       "       'to provide a safe and supportive environment for individuals with disabilities',\n",
       "       'To identify a clear, specific problem statement that addresses the research question',\n",
       "       'Ensure that it is anonymized',\n",
       "       'The correct treatment course for primary syphilis is a single intramuscular dose of benzathine penicillin G, not the provided doses that are much higher and less commonly administered.',\n",
       "       'HPV',\n",
       "       'Distractor: option a, b, c, and d are all recommended tests for Chlamydia trachomatis infection. Therefore, option_a is incorrect.',\n",
       "       'Blood culture of the cervical mucus',\n",
       "       'A partner who has sex with multiple people', 'The lungs', 'D',\n",
       "       'Perform a thorough physical examination',\n",
       "       'A clinical examination of both members of the couple',\n",
       "       'To mature one to three follicles or induce ovulation for patients with menstrual cycle disorders (Abnormal genital bleeding)',\n",
       "       'optiion_a', 'Prevent long-term nicotine toxicity', '[category]',\n",
       "       'But the most accurate description is that there was a slight increase in overall smoking rates.',\n",
       "       'A sudden decrease in cardiac output due to tamponade.',\n",
       "       'Reversible Cerebral Vasoconstriction Syndrome (RCVS)',\n",
       "       'To monitor diseases for early detection',\n",
       "       'Instruct the patient to hold their breath before starting the procedure.',\n",
       "       '[Genetic] Epidermal barrier genes ',\n",
       "       'After many years without healing',\n",
       "       'Identifying potential hazards', 'Theoretical model of the psyche',\n",
       "       'A regulated title (2010): National Register',\n",
       "       'Support a patient through life changes', 'A**',\n",
       "       'A sensation in the chest that feels as if the heart is being pulled in and out.',\n",
       "       'To evaluate swelling homolateral to the PFP',\n",
       "       'A neurological cause should always be considered when investigating children with micturition disorders,',\n",
       "       'The serum glucose should be kept below 4 mmol/L for the treatment of hypoglycemia.',\n",
       "       'A positive Glasgow Coma Score', 'Provide supportive care',\n",
       "       'A crescent-shaped, well-defined collection with minimal fluid content',\n",
       "       'early-onset dementia',\n",
       "       'to ensure accurate information is passed between healthcare professionals',\n",
       "       'To facilitate collaboration with other healthcare professionals',\n",
       "       'Reduce respiratory infections',\n",
       "       'an abnormality on ultrasound indicates the need for a fetal karyotype',\n",
       "       '{\\r\\n', '15%', 'Hypermparathyroidism', 'option_c:',\n",
       "       'A distinction is made between',\n",
       "       'Symptomatic treatment of intense and/or incapacitating anxiety',\n",
       "       'Benzodiazepines', '3', 'CDH_a', 'Hypertension',\n",
       "       ' Increase cardiac output',\n",
       "       '{- A classic prolonged fever is an occurrence in a subject with no specific medical condition - ,\"Temperature (taken at rest) ≥ 38.3°C on several occasions\", and \", Duration of ≥ 3 weeks\". {+ The correct definition focuses on the lack of identifiable cause, not just temperature fluctuations or incomplete investigations.}',\n",
       "       'PR (Pulmonary Embolism)', 'To rule out an acute ischaemic stroke',\n",
       "       ',', 'a}', ' a', 'Understanding key clinical manifestations',\n",
       "       'block serotonin receptors', 'a)', '90%', 'Eclampsia', '2.8%',\n",
       "       'Option A: Have a preconception consultation',\n",
       "       'A pattern of multiple fractures in the same area', '4%',\n",
       "       'option_a: correct option_a is true according to the educational content. ',\n",
       "       'Days', 'E.',\n",
       "       'To verify whether the medicine to be administered matches the prescription',\n",
       "       \"Office National d'Indemnisation des Accidents Médicaux, des Affections Iatrogènes et des Infections Nosocomiales (ONIAM)\",\n",
       "       'Report directly to the Drug Dependence Assessment and Information Centre (CEIP) in the area where the case was reported.',\n",
       "       'Emotional problems', 'Before 1 year', 'administering epinephrine',\n",
       "       'Unity of Place, Time, and Action',\n",
       "       'a: To reduce inflammation and swelling ', 'the Breslow index',\n",
       "       'increase efficiency', 'option_a: Pain management', 'D)', '[A]',\n",
       "       \"{ 'answer': \", '> { 1}} , ',\n",
       "       'option_a: A plasma potassium concentration greater than 4.0 mmol/L',\n",
       "       'Use a hypotonic sodium chloride solution IV at 4.5 g/L to correct blood volume while avoiding pure water intravenous administration in the case of associated extracellular hyperhydration.',\n",
       "       '2', 'option_a: Release the ulnar artery', 'clinical benefit',\n",
       "       '% 75%', '$$A$$', 'CBU', ' option_c', 'Option_b',\n",
       "       'It occurs before or at birth. ', 'to reduce symptoms',\n",
       "       'To determine the primary goal of a multidisciplinary assessment for a disabled child',\n",
       "       \"A patient's freedom from undue influence by others.\",\n",
       "       'Cleas-Léonetti Law',\n",
       "       'No further information than what is necessary for a doctor-patient conversation should be provided to patients with rare or exceptional exceptions.',\n",
       "       ' ', '$\\x08oxed{A}$',\n",
       "       'But not Rice Chow, which contains high fructose corn syrup and does not contain electrolytes. So option B is incorrect.',\n",
       "       'option_a: AS',\n",
       "       'A thorough medical evaluation, including assessment of mental health and developmental factors.',\n",
       "       '4.2%', 'C option ', 'myodesopsia', 'A}',\n",
       "       'Closely monitor blood pressure and heart rate',\n",
       "       'Take 4 tablets of hydrocortisone 20 mg as soon as the triggering factor occurs.',\n",
       "       'To provide temporary medicalized accommodation', '≤50%',\n",
       "       ' As soon as desired by mother or father', '{c}',\n",
       "       \"> 3b}  === The parasympathetic fibers' primary action is to innervate the pupillary sphincter muscle, responsible for pupillary constriction. This option directly addresses the main idea of the question. Option C is incorrect as it refers to the pupil's dilator muscle, which is not the primary target of parasympathetic fibers in relation to pupillary constriction. The correct answer requires an understanding of the anatomy and physiology of the autonomic nervous system.  === Correct option: option_a === }  === Incorrect options: option_b, option_c, option_d === Option d would be incorrect as it refers to a muscle not directly innervated by parasympathetic fibers for pupillary constriction. The correct answer is among the three pre-ganglionic parasympathetic fibres which reach their targets via post-ganglionic neurons, while the pupil's dilator muscle remains unresponsive due to its unique anatomy and physiology.  === Incorrect options: option_b, option_c, option_d === }  === Correct options: option_a, option_e  === Incorrect options: option_b, option_c, option_d  === Answer Options should be as short as possible while following the rules of multiple-choice questions, in this case, only one correct answer is to be selected. As discussed earlier, option a (the pupillary sphincter muscle) is the correct action of parasympathetic fibers. Therefore, Option A is the best choice:  === Correct Answer Options == { \",\n",
       "       'Intraepidermal bulla formation', 'administer oxygen',\n",
       "       'option_a:intense nocturnal exacerbations', '(A)',\n",
       "       '1.0 g/kg per day'], dtype=object)"
      ]
     },
     "execution_count": 45,
     "metadata": {},
     "output_type": "execute_result"
    }
   ],
   "execution_count": 45
  },
  {
   "cell_type": "code",
   "source": [
    "def get_correct_option_rank(row):\n",
    "    # Get the original word counts for each option\n",
    "    counts = [\n",
    "        row['option_a_word_count'],\n",
    "        row['option_b_word_count'],\n",
    "        row['option_c_word_count'],\n",
    "        row['option_d_word_count']\n",
    "    ]\n",
    "\n",
    "    # Map correct_option letter to its index (0 for A, 1 for B, etc.)\n",
    "    letter_to_index = {'A': 0, 'a':0, 'B': 1, 'b':1, 'C': 2, 'c':2, 'D': 3, 'd':3}\n",
    "    correct_idx = letter_to_index[row['correct_option']]\n",
    "\n",
    "    # Determine the word count of the correct option\n",
    "    correct_count = counts[correct_idx]\n",
    "\n",
    "    # Create an effective counts list:\n",
    "    # For non-correct options, if their word count equals the correct option's word count,\n",
    "    # treat them as if they had one extra word.\n",
    "    effective_counts = []\n",
    "    for i, count in enumerate(counts):\n",
    "        if i != correct_idx and count == correct_count:\n",
    "            effective_counts.append(count + 1)\n",
    "        else:\n",
    "            effective_counts.append(count)\n",
    "\n",
    "    # Sort the option indices by descending effective count.\n",
    "    ordering = sorted(range(4), key=lambda i: effective_counts[i], reverse=True)\n",
    "\n",
    "    # Compute the rank as the 1-indexed position of the correct option in the ordering.\n",
    "    rank = ordering.index(correct_idx) + 1\n",
    "    return rank"
   ],
   "metadata": {
    "id": "6znWPWARt6NU",
    "ExecuteTime": {
     "end_time": "2025-03-20T19:37:59.287979Z",
     "start_time": "2025-03-20T19:37:59.278516Z"
    }
   },
   "outputs": [],
   "execution_count": 46
  },
  {
   "cell_type": "code",
   "source": [
    "def get_rank_distribution(df):\n",
    "  rank_distribution = df['correct_option_rank'].value_counts().sort_index()\n",
    "  rank_distribution = round(rank_distribution / len(df), 2) * 100\n",
    "\n",
    "  plt.figure(figsize=(8, 6))\n",
    "  plt.bar(rank_distribution.index, rank_distribution.values, color='skyblue', edgecolor='black')\n",
    "  plt.xlabel('N (1 = Longest, 4 = Shortest)')\n",
    "  plt.ylabel('Frequency, %')\n",
    "  plt.title('How often the correct option is N`th longest')\n",
    "  plt.xticks([1, 2, 3, 4])\n",
    "  plt.show()"
   ],
   "metadata": {
    "id": "blakrAIIt8gZ",
    "ExecuteTime": {
     "end_time": "2025-03-20T19:37:59.305987Z",
     "start_time": "2025-03-20T19:37:59.288985Z"
    }
   },
   "outputs": [],
   "execution_count": 47
  },
  {
   "cell_type": "code",
   "source": [
    "# df['correct_option_rank'] = df.apply(get_correct_option_rank, axis=1)\n",
    "# get_rank_distribution(df)"
   ],
   "metadata": {
    "colab": {
     "base_uri": "https://localhost:8080/",
     "height": 565
    },
    "id": "Y9bKBBcut-tv",
    "outputId": "14514fb0-399c-4dfa-bbbd-46e6379e133a",
    "ExecuteTime": {
     "end_time": "2025-03-20T19:37:59.345889Z",
     "start_time": "2025-03-20T19:37:59.307496Z"
    }
   },
   "outputs": [],
   "execution_count": 48
  },
  {
   "cell_type": "markdown",
   "source": [
    "# Disclosure"
   ],
   "metadata": {
    "id": "klcHFsMjzp3m"
   }
  },
  {
   "metadata": {
    "ExecuteTime": {
     "end_time": "2025-03-20T19:37:59.372750Z",
     "start_time": "2025-03-20T19:37:59.349897Z"
    }
   },
   "cell_type": "code",
   "source": [
    "disclosure_freqs = {\n",
    "    'True': round((df['disclosure'].sum() / len(df)) * 100, 2),\n",
    "    'False': round((len(df) - df['disclosure'].sum()) / len(df) * 100, 2)\n",
    "}\n",
    "\n",
    "disclosure_freqs"
   ],
   "outputs": [
    {
     "data": {
      "text/plain": [
       "{'True': np.float64(11.35), 'False': np.float64(88.65)}"
      ]
     },
     "execution_count": 49,
     "metadata": {},
     "output_type": "execute_result"
    }
   ],
   "execution_count": 49
  },
  {
   "cell_type": "markdown",
   "metadata": {
    "id": "nb_L81b9mO1C"
   },
   "source": [
    "# Relevance to the input material"
   ]
  },
  {
   "cell_type": "code",
   "metadata": {
    "execution": {
     "iopub.execute_input": "2024-11-18T20:39:21.545396Z",
     "iopub.status.busy": "2024-11-18T20:39:21.54466Z",
     "iopub.status.idle": "2024-11-18T20:39:29.033346Z",
     "shell.execute_reply": "2024-11-18T20:39:29.032397Z",
     "shell.execute_reply.started": "2024-11-18T20:39:21.54536Z"
    },
    "id": "EbIfjd7ImO1C",
    "colab": {
     "base_uri": "https://localhost:8080/",
     "height": 542
    },
    "outputId": "dfd2992e-b57c-446f-ab97-5495b6cdc984",
    "ExecuteTime": {
     "end_time": "2025-03-20T19:37:59.480274Z",
     "start_time": "2025-03-20T19:37:59.372750Z"
    }
   },
   "source": [
    "plt.figure(figsize=(10, 6))\n",
    "counts, bins, patches = plt.hist(df['relevance'], bins=10, range=(0, 1), edgecolor='black')\n",
    "\n",
    "plt.xticks([round(x * 0.1, 1) for x in range(11)])\n",
    "\n",
    "for count, patch in zip(counts, patches):\n",
    "    if count > 0:\n",
    "        plt.text(patch.get_x() + patch.get_width() / 2, count, int(count),\n",
    "                 ha='center', va='bottom')\n",
    "\n",
    "plt.xlabel('Relevance Score')\n",
    "plt.ylabel('Frequency')\n",
    "plt.show()"
   ],
   "outputs": [
    {
     "data": {
      "text/plain": [
       "<Figure size 1000x600 with 1 Axes>"
      ],
      "image/png": "[encoded data removed]"
     },
     "metadata": {},
     "output_type": "display_data"
    }
   ],
   "execution_count": 50
  },
  {
   "metadata": {
    "ExecuteTime": {
     "end_time": "2025-03-20T19:37:59.491262Z",
     "start_time": "2025-03-20T19:37:59.481786Z"
    }
   },
   "cell_type": "code",
   "source": "df['relevance'].describe()",
   "outputs": [
    {
     "data": {
      "text/plain": [
       "count    1524.000000\n",
       "mean        0.763048\n",
       "std         0.059355\n",
       "min         0.459833\n",
       "25%         0.729885\n",
       "50%         0.767491\n",
       "75%         0.803720\n",
       "max         0.922309\n",
       "Name: relevance, dtype: float64"
      ]
     },
     "execution_count": 51,
     "metadata": {},
     "output_type": "execute_result"
    }
   ],
   "execution_count": 51
  },
  {
   "cell_type": "markdown",
   "source": "# Ambiguity (cosine similarity)",
   "metadata": {
    "id": "6ue_cVZzrpi4"
   }
  },
  {
   "metadata": {
    "ExecuteTime": {
     "end_time": "2025-03-20T19:37:59.660135Z",
     "start_time": "2025-03-20T19:37:59.493270Z"
    }
   },
   "cell_type": "code",
   "source": [
    "plt.figure(figsize=(8, 6))\n",
    "plt.hist(df['ambiguity'], bins=10, edgecolor='black', alpha=0.7)\n",
    "\n",
    "plt.xlabel(\"Score\")\n",
    "plt.ylabel(\"Frequency\")\n",
    "plt.title(\"Distribution of Ambiguity\")"
   ],
   "outputs": [
    {
     "data": {
      "text/plain": [
       "Text(0.5, 1.0, 'Distribution of Ambiguity')"
      ]
     },
     "execution_count": 52,
     "metadata": {},
     "output_type": "execute_result"
    },
    {
     "data": {
      "text/plain": [
       "<Figure size 800x600 with 1 Axes>"
      ],
      "image/png": "[encoded data removed]"
     },
     "metadata": {},
     "output_type": "display_data"
    }
   ],
   "execution_count": 52
  },
  {
   "metadata": {
    "ExecuteTime": {
     "end_time": "2025-03-20T19:37:59.669748Z",
     "start_time": "2025-03-20T19:37:59.661605Z"
    }
   },
   "cell_type": "code",
   "source": "df['ambiguity'].describe()",
   "outputs": [
    {
     "data": {
      "text/plain": [
       "count    1524.000000\n",
       "mean        0.348893\n",
       "std         0.322350\n",
       "min         0.000000\n",
       "25%         0.000000\n",
       "50%         0.526040\n",
       "75%         0.634186\n",
       "max         0.956468\n",
       "Name: ambiguity, dtype: float64"
      ]
     },
     "execution_count": 53,
     "metadata": {},
     "output_type": "execute_result"
    }
   ],
   "execution_count": 53
  },
  {
   "metadata": {},
   "cell_type": "markdown",
   "source": "# Difficulty (judge LLM)"
  },
  {
   "metadata": {
    "ExecuteTime": {
     "end_time": "2025-03-20T19:37:59.783840Z",
     "start_time": "2025-03-20T19:37:59.670758Z"
    }
   },
   "cell_type": "code",
   "source": [
    "import numpy as np\n",
    "\n",
    "plt.figure(figsize=(8, 6))\n",
    "plt.hist(df['difficulty'], bins=np.arange(1, 6), edgecolor='black', alpha=0.7)\n",
    "\n",
    "plt.xlabel(\"Score\")\n",
    "plt.ylabel(\"Frequency\")\n",
    "plt.title(\"Distribution of Syntactic Ambiguity\")\n",
    "plt.xticks(range(1, 6))\n",
    "\n",
    "# Show the plot\n",
    "plt.show()"
   ],
   "outputs": [
    {
     "data": {
      "text/plain": [
       "<Figure size 800x600 with 1 Axes>"
      ],
      "image/png": "[encoded data removed]"
     },
     "metadata": {},
     "output_type": "display_data"
    }
   ],
   "execution_count": 54
  },
  {
   "metadata": {
    "ExecuteTime": {
     "end_time": "2025-03-20T19:37:59.796986Z",
     "start_time": "2025-03-20T19:37:59.785354Z"
    }
   },
   "cell_type": "code",
   "source": "df['difficulty'].describe()",
   "outputs": [
    {
     "data": {
      "text/plain": [
       "count    1524.000000\n",
       "mean        3.279528\n",
       "std         1.307316\n",
       "min         1.000000\n",
       "25%         2.000000\n",
       "50%         3.000000\n",
       "75%         5.000000\n",
       "max         5.000000\n",
       "Name: difficulty, dtype: float64"
      ]
     },
     "execution_count": 55,
     "metadata": {},
     "output_type": "execute_result"
    }
   ],
   "execution_count": 55
  },
  {
   "cell_type": "markdown",
   "source": [
    "# Answerability\n",
    "can judge model answer the generated question with context provided?"
   ],
   "metadata": {
    "id": "rLiUkNeToPYR"
   }
  },
  {
   "cell_type": "code",
   "source": [
    "df['gpt_answer'].unique()"
   ],
   "metadata": {
    "colab": {
     "base_uri": "https://localhost:8080/"
    },
    "id": "RsEaI2fOplIU",
    "outputId": "ce5328c5-852e-419a-809d-e6595d2f8943",
    "ExecuteTime": {
     "end_time": "2025-03-20T19:37:59.810385Z",
     "start_time": "2025-03-20T19:37:59.798998Z"
    }
   },
   "outputs": [
    {
     "data": {
      "text/plain": [
       "array(['b', 'a', 'c', 'd'], dtype=object)"
      ]
     },
     "execution_count": 56,
     "metadata": {},
     "output_type": "execute_result"
    }
   ],
   "execution_count": 56
  },
  {
   "cell_type": "code",
   "source": [
    "df['correct_option'].unique()"
   ],
   "metadata": {
    "colab": {
     "base_uri": "https://localhost:8080/"
    },
    "id": "vjj90iEfp-TV",
    "outputId": "d1b4812f-8e29-45a7-baf8-d8ce96c9315b",
    "ExecuteTime": {
     "end_time": "2025-03-20T19:37:59.825477Z",
     "start_time": "2025-03-20T19:37:59.811394Z"
    }
   },
   "outputs": [
    {
     "data": {
      "text/plain": [
       "array(['b', 'c', 'd', 'a',\n",
       "       'To compensate for a deficient organic function', ' Disabilities',\n",
       "       'to provide a replacement income',\n",
       "       'To pay for sickness, maternity, disability, and death, as well as accidents at work and occupational diseases.',\n",
       "       'Social Insurance', 'A slowdown in colonic transit',\n",
       "       'To improve fertility', 'C', 'Clostridioides difficile',\n",
       "       'A positive breath test for enolalic', '(a)', '}', '(B) 2%',\n",
       "       'Hepatocellular carcinoma', '(1)',\n",
       "       '{\\r\\n± The average pubertal growth peak for boys is 20-25 cm.\\r\\n}\\r\\n',\n",
       "       'B', 'A',\n",
       "       'A visible accumulation of fluid in the interstitial tissue', '1',\n",
       "       'anatomical localization of tumour characteristics',\n",
       "       'Option b: Perform a thorough clinical examination to rule out other primary cancers.',\n",
       "       '(2)', 'to detect hearing loss and identify treatment needs',\n",
       "       '3-12 months', 'Preventative measures',\n",
       "       '}  What is the average time between the eruption of a first primary molar and a second primary molar in children?     { 0 }     There are no options for the correct answer, indicating an error in generating the question. Would you like me to try again?  I can re-generate a new question based on your original content. Here is another attempt at creating a multiple-choice question that assesses understanding of the main ideas and provides accurate distractors: { ',\n",
       "       'to detect any potential health issues',\n",
       "       'option_a: Vaginal colonization', 'Spontaneous miscarriage',\n",
       "       'Infection during pregnancy',\n",
       "       'blood and cerebrospinal fluid samples',\n",
       "       'Option_a: Inform the doctor immediately',\n",
       "       'to provide a safe and supportive environment for individuals with disabilities',\n",
       "       'To identify a clear, specific problem statement that addresses the research question',\n",
       "       'Ensure that it is anonymized',\n",
       "       'The correct treatment course for primary syphilis is a single intramuscular dose of benzathine penicillin G, not the provided doses that are much higher and less commonly administered.',\n",
       "       'HPV',\n",
       "       'Distractor: option a, b, c, and d are all recommended tests for Chlamydia trachomatis infection. Therefore, option_a is incorrect.',\n",
       "       'Blood culture of the cervical mucus',\n",
       "       'A partner who has sex with multiple people', 'The lungs', 'D',\n",
       "       'Perform a thorough physical examination',\n",
       "       'A clinical examination of both members of the couple',\n",
       "       'To mature one to three follicles or induce ovulation for patients with menstrual cycle disorders (Abnormal genital bleeding)',\n",
       "       'optiion_a', 'Prevent long-term nicotine toxicity', '[category]',\n",
       "       'But the most accurate description is that there was a slight increase in overall smoking rates.',\n",
       "       'A sudden decrease in cardiac output due to tamponade.',\n",
       "       'Reversible Cerebral Vasoconstriction Syndrome (RCVS)',\n",
       "       'To monitor diseases for early detection',\n",
       "       'Instruct the patient to hold their breath before starting the procedure.',\n",
       "       '[Genetic] Epidermal barrier genes ',\n",
       "       'After many years without healing',\n",
       "       'Identifying potential hazards', 'Theoretical model of the psyche',\n",
       "       'A regulated title (2010): National Register',\n",
       "       'Support a patient through life changes', 'A**',\n",
       "       'A sensation in the chest that feels as if the heart is being pulled in and out.',\n",
       "       'To evaluate swelling homolateral to the PFP',\n",
       "       'A neurological cause should always be considered when investigating children with micturition disorders,',\n",
       "       'The serum glucose should be kept below 4 mmol/L for the treatment of hypoglycemia.',\n",
       "       'A positive Glasgow Coma Score', 'Provide supportive care',\n",
       "       'A crescent-shaped, well-defined collection with minimal fluid content',\n",
       "       'early-onset dementia',\n",
       "       'to ensure accurate information is passed between healthcare professionals',\n",
       "       'To facilitate collaboration with other healthcare professionals',\n",
       "       'Reduce respiratory infections',\n",
       "       'an abnormality on ultrasound indicates the need for a fetal karyotype',\n",
       "       '{\\r\\n', '15%', 'Hypermparathyroidism', 'option_c:',\n",
       "       'A distinction is made between',\n",
       "       'Symptomatic treatment of intense and/or incapacitating anxiety',\n",
       "       'Benzodiazepines', '3', 'CDH_a', 'Hypertension',\n",
       "       ' Increase cardiac output',\n",
       "       '{- A classic prolonged fever is an occurrence in a subject with no specific medical condition - ,\"Temperature (taken at rest) ≥ 38.3°C on several occasions\", and \", Duration of ≥ 3 weeks\". {+ The correct definition focuses on the lack of identifiable cause, not just temperature fluctuations or incomplete investigations.}',\n",
       "       'PR (Pulmonary Embolism)', 'To rule out an acute ischaemic stroke',\n",
       "       ',', 'a}', ' a', 'Understanding key clinical manifestations',\n",
       "       'block serotonin receptors', 'a)', '90%', 'Eclampsia', '2.8%',\n",
       "       'Option A: Have a preconception consultation',\n",
       "       'A pattern of multiple fractures in the same area', '4%',\n",
       "       'option_a: correct option_a is true according to the educational content. ',\n",
       "       'Days', 'E.',\n",
       "       'To verify whether the medicine to be administered matches the prescription',\n",
       "       \"Office National d'Indemnisation des Accidents Médicaux, des Affections Iatrogènes et des Infections Nosocomiales (ONIAM)\",\n",
       "       'Report directly to the Drug Dependence Assessment and Information Centre (CEIP) in the area where the case was reported.',\n",
       "       'Emotional problems', 'Before 1 year', 'administering epinephrine',\n",
       "       'Unity of Place, Time, and Action',\n",
       "       'a: To reduce inflammation and swelling ', 'the Breslow index',\n",
       "       'increase efficiency', 'option_a: Pain management', 'D)', '[A]',\n",
       "       \"{ 'answer': \", '> { 1}} , ',\n",
       "       'option_a: A plasma potassium concentration greater than 4.0 mmol/L',\n",
       "       'Use a hypotonic sodium chloride solution IV at 4.5 g/L to correct blood volume while avoiding pure water intravenous administration in the case of associated extracellular hyperhydration.',\n",
       "       '2', 'option_a: Release the ulnar artery', 'clinical benefit',\n",
       "       '% 75%', '$$A$$', 'CBU', ' option_c', 'Option_b',\n",
       "       'It occurs before or at birth. ', 'to reduce symptoms',\n",
       "       'To determine the primary goal of a multidisciplinary assessment for a disabled child',\n",
       "       \"A patient's freedom from undue influence by others.\",\n",
       "       'Cleas-Léonetti Law',\n",
       "       'No further information than what is necessary for a doctor-patient conversation should be provided to patients with rare or exceptional exceptions.',\n",
       "       ' ', '$\\x08oxed{A}$',\n",
       "       'But not Rice Chow, which contains high fructose corn syrup and does not contain electrolytes. So option B is incorrect.',\n",
       "       'option_a: AS',\n",
       "       'A thorough medical evaluation, including assessment of mental health and developmental factors.',\n",
       "       '4.2%', 'C option ', 'myodesopsia', 'A}',\n",
       "       'Closely monitor blood pressure and heart rate',\n",
       "       'Take 4 tablets of hydrocortisone 20 mg as soon as the triggering factor occurs.',\n",
       "       'To provide temporary medicalized accommodation', '≤50%',\n",
       "       ' As soon as desired by mother or father', '{c}',\n",
       "       \"> 3b}  === The parasympathetic fibers' primary action is to innervate the pupillary sphincter muscle, responsible for pupillary constriction. This option directly addresses the main idea of the question. Option C is incorrect as it refers to the pupil's dilator muscle, which is not the primary target of parasympathetic fibers in relation to pupillary constriction. The correct answer requires an understanding of the anatomy and physiology of the autonomic nervous system.  === Correct option: option_a === }  === Incorrect options: option_b, option_c, option_d === Option d would be incorrect as it refers to a muscle not directly innervated by parasympathetic fibers for pupillary constriction. The correct answer is among the three pre-ganglionic parasympathetic fibres which reach their targets via post-ganglionic neurons, while the pupil's dilator muscle remains unresponsive due to its unique anatomy and physiology.  === Incorrect options: option_b, option_c, option_d === }  === Correct options: option_a, option_e  === Incorrect options: option_b, option_c, option_d  === Answer Options should be as short as possible while following the rules of multiple-choice questions, in this case, only one correct answer is to be selected. As discussed earlier, option a (the pupillary sphincter muscle) is the correct action of parasympathetic fibers. Therefore, Option A is the best choice:  === Correct Answer Options == { \",\n",
       "       'Intraepidermal bulla formation', 'administer oxygen',\n",
       "       'option_a:intense nocturnal exacerbations', '(A)',\n",
       "       '1.0 g/kg per day'], dtype=object)"
      ]
     },
     "execution_count": 57,
     "metadata": {},
     "output_type": "execute_result"
    }
   ],
   "execution_count": 57
  },
  {
   "cell_type": "code",
   "source": [
    "answerability_freqs = {\n",
    "    'True': round((df['correct_option'] == df['gpt_answer']).sum() / len(df) * 100, 2), \n",
    "    'False': round((len(df) - (df['correct_option'] == df['gpt_answer']).sum()) / len(df) * 100, 2)\n",
    "}\n",
    "\n",
    "answerability_freqs"
   ],
   "metadata": {
    "colab": {
     "base_uri": "https://localhost:8080/"
    },
    "id": "sP21LFtNqBYO",
    "outputId": "85a9df9b-0448-4d93-e063-f5c66f5d17df",
    "ExecuteTime": {
     "end_time": "2025-03-20T19:37:59.839997Z",
     "start_time": "2025-03-20T19:37:59.829495Z"
    }
   },
   "outputs": [
    {
     "data": {
      "text/plain": [
       "{'True': np.float64(42.19), 'False': np.float64(57.81)}"
      ]
     },
     "execution_count": 58,
     "metadata": {},
     "output_type": "execute_result"
    }
   ],
   "execution_count": 58
  },
  {
   "metadata": {
    "ExecuteTime": {
     "end_time": "2025-03-20T19:37:59.845035Z",
     "start_time": "2025-03-20T19:37:59.842007Z"
    }
   },
   "cell_type": "code",
   "source": "",
   "outputs": [],
   "execution_count": 58
  }
 ]
}
