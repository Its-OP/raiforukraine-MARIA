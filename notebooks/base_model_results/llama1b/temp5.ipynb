{
 "nbformat": 4,
 "nbformat_minor": 0,
 "metadata": {
  "colab": {
   "provenance": []
  },
  "kernelspec": {
   "name": "python3",
   "display_name": "Python 3 (ipykernel)",
   "language": "python"
  },
  "language_info": {
   "name": "python"
  }
 },
 "cells": [
  {
   "cell_type": "code",
   "metadata": {
    "id": "XTL8_cenjf7a",
    "ExecuteTime": {
     "end_time": "2025-03-20T19:26:31.499998Z",
     "start_time": "2025-03-20T19:26:31.493864Z"
    }
   },
   "source": [
    "import pandas as pd\n",
    "import json\n",
    "import os\n",
    "import ast\n",
    "import matplotlib.pyplot as plt"
   ],
   "outputs": [],
   "execution_count": 28
  },
  {
   "metadata": {
    "ExecuteTime": {
     "end_time": "2025-03-20T19:26:31.806964Z",
     "start_time": "2025-03-20T19:26:31.799709Z"
    }
   },
   "cell_type": "code",
   "source": [
    "with open(\"../../../data/train_test_split/test_folders.json\", \"r\") as train_file:\n",
    "    test_folders = json.load(train_file)"
   ],
   "outputs": [],
   "execution_count": 29
  },
  {
   "cell_type": "code",
   "source": [
    "df = pd.read_csv('../../../data/base_models/llama1b/temp0.5.eval.csv')\n",
    "lisa_sheets = pd.read_csv('../../../data/lisa_sheets.csv')\n",
    "df = pd.merge(df, lisa_sheets[['id', 'folder']], how='left', on='id')\n",
    "df = df[df['folder'].isin(test_folders)]\n",
    "df.head()"
   ],
   "metadata": {
    "id": "AKWrq07-lwD7",
    "colab": {
     "base_uri": "https://localhost:8080/",
     "height": 573
    },
    "outputId": "95c768d3-841c-4ec4-c118-e99d9b08cc91",
    "ExecuteTime": {
     "end_time": "2025-03-20T19:26:36.962652Z",
     "start_time": "2025-03-20T19:26:31.863943Z"
    }
   },
   "outputs": [
    {
     "data": {
      "text/plain": [
       "             id                                           question  \\\n",
       "0  OIC-328-06-B  What is the main indication for using an ortho...   \n",
       "1  OIC-328-12-B  What is the main difference between a thermal ...   \n",
       "2  OIC-328-05-A  What is the primary objective of orthotic trea...   \n",
       "3  OIC-328-08-A   What is a key component of a femoral prosthesis?   \n",
       "4  OIC-328-02-A  What is the main purpose of a device classifie...   \n",
       "\n",
       "                                            option_a  \\\n",
       "0                                             Trauma   \n",
       "1  A thermal agent is an external water source (e...   \n",
       "2                                       Substitution   \n",
       "3                                   Articular sleeve   \n",
       "4              To treat a specific medical condition   \n",
       "\n",
       "                                            option_b  \\\n",
       "0                                 Perforating injury   \n",
       "1  A thermal agent is used for respiratory ailmen...   \n",
       "2                                         Correction   \n",
       "3                               Non-articular sleeve   \n",
       "4         To provide general information to patients   \n",
       "\n",
       "                                            option_c  \\\n",
       "0                                   Neuroarthropathy   \n",
       "1  Both thermal and non-thermal agents are admini...   \n",
       "2                                           Downtime   \n",
       "3                               Residual limb socket   \n",
       "4  To improve patient outcomes through non-medica...   \n",
       "\n",
       "                                            option_d correct_option  \\\n",
       "0                               Rheumatoid pathology              a   \n",
       "1  The main difference between a thermal agent an...              c   \n",
       "2                                      Stabilization              a   \n",
       "3                            Upper limb end effector       option_a   \n",
       "4              To increase profits for manufacturers              c   \n",
       "\n",
       "                                         content_gpt  originality  \\\n",
       "0  **Item_parent:** Non-drug therapies and medica...          1.0   \n",
       "1  **Item_parent:** Non-drug therapies and medica...          1.0   \n",
       "2  **Item Parent:** Non-drug therapies and medica...          0.5   \n",
       "3  **Item Parent:** Non-drug therapies and medica...          1.0   \n",
       "4  **Item Parent:** Non-drug therapies and medica...          1.0   \n",
       "\n",
       "   readability  starts_with_negation  is_question  relevance  ambiguity  \\\n",
       "0     9.785556                 False         True   0.710484   0.556452   \n",
       "1     9.825000                 False         True   0.760340   0.742916   \n",
       "2    11.130000                 False         True   0.697899   0.567827   \n",
       "3     7.586667                 False         True   0.719052   0.000000   \n",
       "4     8.009091                 False         True   0.687329   0.662431   \n",
       "\n",
       "  gpt_answer  disclosure  difficulty  folder  \n",
       "0          a       False           5  IC-328  \n",
       "1          a        True           3  IC-328  \n",
       "2          d       False           2  IC-328  \n",
       "3          c       False           5  IC-328  \n",
       "4          c        True           4  IC-328  "
      ],
      "text/html": [
       "<div>\n",
       "<style scoped>\n",
       "    .dataframe tbody tr th:only-of-type {\n",
       "        vertical-align: middle;\n",
       "    }\n",
       "\n",
       "    .dataframe tbody tr th {\n",
       "        vertical-align: top;\n",
       "    }\n",
       "\n",
       "    .dataframe thead th {\n",
       "        text-align: right;\n",
       "    }\n",
       "</style>\n",
       "<table border=\"1\" class=\"dataframe\">\n",
       "  <thead>\n",
       "    <tr style=\"text-align: right;\">\n",
       "      <th></th>\n",
       "      <th>id</th>\n",
       "      <th>question</th>\n",
       "      <th>option_a</th>\n",
       "      <th>option_b</th>\n",
       "      <th>option_c</th>\n",
       "      <th>option_d</th>\n",
       "      <th>correct_option</th>\n",
       "      <th>content_gpt</th>\n",
       "      <th>originality</th>\n",
       "      <th>readability</th>\n",
       "      <th>starts_with_negation</th>\n",
       "      <th>is_question</th>\n",
       "      <th>relevance</th>\n",
       "      <th>ambiguity</th>\n",
       "      <th>gpt_answer</th>\n",
       "      <th>disclosure</th>\n",
       "      <th>difficulty</th>\n",
       "      <th>folder</th>\n",
       "    </tr>\n",
       "  </thead>\n",
       "  <tbody>\n",
       "    <tr>\n",
       "      <th>0</th>\n",
       "      <td>OIC-328-06-B</td>\n",
       "      <td>What is the main indication for using an ortho...</td>\n",
       "      <td>Trauma</td>\n",
       "      <td>Perforating injury</td>\n",
       "      <td>Neuroarthropathy</td>\n",
       "      <td>Rheumatoid pathology</td>\n",
       "      <td>a</td>\n",
       "      <td>**Item_parent:** Non-drug therapies and medica...</td>\n",
       "      <td>1.0</td>\n",
       "      <td>9.785556</td>\n",
       "      <td>False</td>\n",
       "      <td>True</td>\n",
       "      <td>0.710484</td>\n",
       "      <td>0.556452</td>\n",
       "      <td>a</td>\n",
       "      <td>False</td>\n",
       "      <td>5</td>\n",
       "      <td>IC-328</td>\n",
       "    </tr>\n",
       "    <tr>\n",
       "      <th>1</th>\n",
       "      <td>OIC-328-12-B</td>\n",
       "      <td>What is the main difference between a thermal ...</td>\n",
       "      <td>A thermal agent is an external water source (e...</td>\n",
       "      <td>A thermal agent is used for respiratory ailmen...</td>\n",
       "      <td>Both thermal and non-thermal agents are admini...</td>\n",
       "      <td>The main difference between a thermal agent an...</td>\n",
       "      <td>c</td>\n",
       "      <td>**Item_parent:** Non-drug therapies and medica...</td>\n",
       "      <td>1.0</td>\n",
       "      <td>9.825000</td>\n",
       "      <td>False</td>\n",
       "      <td>True</td>\n",
       "      <td>0.760340</td>\n",
       "      <td>0.742916</td>\n",
       "      <td>a</td>\n",
       "      <td>True</td>\n",
       "      <td>3</td>\n",
       "      <td>IC-328</td>\n",
       "    </tr>\n",
       "    <tr>\n",
       "      <th>2</th>\n",
       "      <td>OIC-328-05-A</td>\n",
       "      <td>What is the primary objective of orthotic trea...</td>\n",
       "      <td>Substitution</td>\n",
       "      <td>Correction</td>\n",
       "      <td>Downtime</td>\n",
       "      <td>Stabilization</td>\n",
       "      <td>a</td>\n",
       "      <td>**Item Parent:** Non-drug therapies and medica...</td>\n",
       "      <td>0.5</td>\n",
       "      <td>11.130000</td>\n",
       "      <td>False</td>\n",
       "      <td>True</td>\n",
       "      <td>0.697899</td>\n",
       "      <td>0.567827</td>\n",
       "      <td>d</td>\n",
       "      <td>False</td>\n",
       "      <td>2</td>\n",
       "      <td>IC-328</td>\n",
       "    </tr>\n",
       "    <tr>\n",
       "      <th>3</th>\n",
       "      <td>OIC-328-08-A</td>\n",
       "      <td>What is a key component of a femoral prosthesis?</td>\n",
       "      <td>Articular sleeve</td>\n",
       "      <td>Non-articular sleeve</td>\n",
       "      <td>Residual limb socket</td>\n",
       "      <td>Upper limb end effector</td>\n",
       "      <td>option_a</td>\n",
       "      <td>**Item Parent:** Non-drug therapies and medica...</td>\n",
       "      <td>1.0</td>\n",
       "      <td>7.586667</td>\n",
       "      <td>False</td>\n",
       "      <td>True</td>\n",
       "      <td>0.719052</td>\n",
       "      <td>0.000000</td>\n",
       "      <td>c</td>\n",
       "      <td>False</td>\n",
       "      <td>5</td>\n",
       "      <td>IC-328</td>\n",
       "    </tr>\n",
       "    <tr>\n",
       "      <th>4</th>\n",
       "      <td>OIC-328-02-A</td>\n",
       "      <td>What is the main purpose of a device classifie...</td>\n",
       "      <td>To treat a specific medical condition</td>\n",
       "      <td>To provide general information to patients</td>\n",
       "      <td>To improve patient outcomes through non-medica...</td>\n",
       "      <td>To increase profits for manufacturers</td>\n",
       "      <td>c</td>\n",
       "      <td>**Item Parent:** Non-drug therapies and medica...</td>\n",
       "      <td>1.0</td>\n",
       "      <td>8.009091</td>\n",
       "      <td>False</td>\n",
       "      <td>True</td>\n",
       "      <td>0.687329</td>\n",
       "      <td>0.662431</td>\n",
       "      <td>c</td>\n",
       "      <td>True</td>\n",
       "      <td>4</td>\n",
       "      <td>IC-328</td>\n",
       "    </tr>\n",
       "  </tbody>\n",
       "</table>\n",
       "</div>"
      ]
     },
     "execution_count": 30,
     "metadata": {},
     "output_type": "execute_result"
    }
   ],
   "execution_count": 30
  },
  {
   "metadata": {
    "ExecuteTime": {
     "end_time": "2025-03-20T19:26:36.985946Z",
     "start_time": "2025-03-20T19:26:36.969663Z"
    }
   },
   "cell_type": "code",
   "source": "len(df)",
   "outputs": [
    {
     "data": {
      "text/plain": [
       "1524"
      ]
     },
     "execution_count": 31,
     "metadata": {},
     "output_type": "execute_result"
    }
   ],
   "execution_count": 31
  },
  {
   "metadata": {
    "ExecuteTime": {
     "end_time": "2025-03-20T19:26:37.055135Z",
     "start_time": "2025-03-20T19:26:36.994021Z"
    }
   },
   "cell_type": "code",
   "source": "df['correct_option'].unique()",
   "outputs": [
    {
     "data": {
      "text/plain": [
       "array(['a', 'c', 'option_a', 'b', 'option_c', 'option_b', 'd', 'A',\n",
       "       'A type of bacterial infection that occurs in hospitals',\n",
       "       'A distinction must be made between personal misconduct or misconduct detached from the service, which gives rise to personal civil liability on the part of the perpetrator.',\n",
       "       'A violation of professional ethics',\n",
       "       'Lowering of the testicle via an inguinal approach',\n",
       "       'A painful enlargement of the bursae is due to torsion',\n",
       "       'option_d', 'to increase physical activity', 'B', '10/10th',\n",
       "       'to prevent congenital heart malformations',\n",
       "       'To remove contaminants from treated water',\n",
       "       'to ensure quality control before publication',\n",
       "       'to identify a specific problem or phenomenon',\n",
       "       'to facilitate communication between healthcare providers and patients',\n",
       "       'A single chancre with minimal inflammation',\n",
       "       'A clinical examination of both members of the couple',\n",
       "       ' option_a', 'To quit smoking', 'Myocarditis', 'C',\n",
       "       'To monitor and prevent diseases', 'Distractor: option_d',\n",
       "       'Clinical, Aetiological, Anatomical',\n",
       "       \"Regularly monitor employees' physical and mental well-being.\",\n",
       "       ' To identify potential hazards ',\n",
       "       'to improve self-esteem through positive thinking',\n",
       "       'A regulated title (2010): National Register',\n",
       "       'Improve coping skills.', 'A 24-hour continuous ECG',\n",
       "       'A score of Y4', \"To stabilize the patient's airway\",\n",
       "       'crescent-shaped',\n",
       "       'option_a: To improve patient outcomes by analyzing adverse events and implementing corrective actions',\n",
       "       'To detect chromosomal abnormalities and provide information on risk factors',\n",
       "       'Option d: Advanced stature', 'Aging',\n",
       "       'an overactive thyroid gland',\n",
       "       'option_a: To detect, treat, assess, and prevent all types of psychiatric disorders in the elderly',\n",
       "       '12 days',\n",
       "       'Increased risk of myocardial infarction (MI) if started more than 10 years after menopause',\n",
       "       'optiion_b', 'administer antibiotics',\n",
       "       'to correct coagulation disorders',\n",
       "       'Confirm the severity and quantify blood loss',\n",
       "       'to detect haematuria and urinary tract infections', 'infectious',\n",
       "       \"to increase patients' survival\",\n",
       "       'A mammography and ultrasound examination of the lymph nodes',\n",
       "       'to identify potential causes of gait disturbances',\n",
       "       'to evaluate cognitive abilities', 'persecution',\n",
       "       'Inflammatory back pain', 'increasing serotonin levels.',\n",
       "       'option_a ',\n",
       "       'Beware of the implications of tocolysis: maternal-foetal infection (chorioamnionitis), heavy metrorrhagia, and abnormalities in the fetal heart rate.',\n",
       "       'B. Listeria M', '1',\n",
       "       'A medical certificate stating no contraindications to practising sport, less than one year old on the day of application.',\n",
       "       'To obtain an independent assessment of damages by medical experts.',\n",
       "       'Report to the Drug Dependence Assessment and Information Centre (CEIP) in the area where the case was reported.',\n",
       "       'To the local health authorities or the French public health network (RPH) if the incident is not related to a medical device, by post directly to the ANSM with the corresponding Cerfa declaration form',\n",
       "       \"Identify the location of the stinger and ask if it's still in place.\",\n",
       "       'option_a: Use of eye drops containing epinephrine',\n",
       "       'to reduce inflammation', '3',\n",
       "       'to minimize the risk of respiratory depression',\n",
       "       'Aortic dissection', 'Aortic balloon valvuloplasty',\n",
       "       'A negative water balance and hyperosmolality (hypernatremia) may therefore be observed in cases of intracellular dehydration without hypernatremia:',\n",
       "       'A syncopal phase', 'abnormal respiratory sounds',\n",
       "       'to improve patient outcomes', '}$\\\\ \\r\\n \\\\ \\r\\n {', '7 days',\n",
       "       'to confirm the diagnosis and exclude DVT',\n",
       "       \"to identify the child's strengths, not just impairments\", ' ',\n",
       "       'To empower them to make their own decisions about their care.',\n",
       "       'A. Ensure patients have full knowledge and informed consent before proceeding.',\n",
       "       ' option_c',\n",
       "       'Performing a neurological examination and cerebral imaging',\n",
       "       'A group of people eating contaminated food together.',\n",
       "       ' Decreased blood flow to the brain',\n",
       "       'Respiratory distress with cyanosis and tachycardia.',\n",
       "       'an inability to pump enough blood throughout the body',\n",
       "       'inadequate tear production',\n",
       "       'A skin biopsy with direct immunofluorescence examination',\n",
       "       'Maintain good hydration',\n",
       "       'Use systemic corticosteroids immediately.',\n",
       "       'Respiratory discomfort',\n",
       "       'To help patients identify their symptoms as \"normal\" or \"not normal\"',\n",
       "       'administer an IM or SC injection of insulin',\n",
       "       'to check the level of potassium in the blood'], dtype=object)"
      ]
     },
     "execution_count": 32,
     "metadata": {},
     "output_type": "execute_result"
    }
   ],
   "execution_count": 32
  },
  {
   "metadata": {
    "ExecuteTime": {
     "end_time": "2025-03-20T19:26:37.135277Z",
     "start_time": "2025-03-20T19:26:37.061129Z"
    }
   },
   "cell_type": "code",
   "source": [
    "# normalize correct_option\n",
    "df['correct_option'] = df['correct_option'].replace({'option_b': 'b', 'option_c': 'c', 'option_d': 'd', 'option_a': 'a'}) "
   ],
   "outputs": [],
   "execution_count": 33
  },
  {
   "cell_type": "markdown",
   "metadata": {
    "id": "HG-SVqoPmO1B"
   },
   "source": [
    "# Question mark"
   ]
  },
  {
   "cell_type": "code",
   "metadata": {
    "execution": {
     "iopub.execute_input": "2024-11-12T12:14:38.446623Z",
     "iopub.status.busy": "2024-11-12T12:14:38.445718Z",
     "iopub.status.idle": "2024-11-12T12:14:38.456114Z",
     "shell.execute_reply": "2024-11-12T12:14:38.455017Z",
     "shell.execute_reply.started": "2024-11-12T12:14:38.446566Z"
    },
    "id": "LC9P1ozSmO1B",
    "colab": {
     "base_uri": "https://localhost:8080/"
    },
    "outputId": "905eaa0f-b6dd-4cd7-8f39-f895b347cb4d",
    "ExecuteTime": {
     "end_time": "2025-03-20T19:26:37.344726Z",
     "start_time": "2025-03-20T19:26:37.140803Z"
    }
   },
   "source": [
    "# We want to maximize 'True'\n",
    "question_freqs = {\n",
    "    'True': round(df['is_question'].sum()/ len(df) * 100, 2),\n",
    "    'False': round((len(df) - df['is_question'].sum()) / len(df) * 100, 2)\n",
    "}\n",
    "\n",
    "question_freqs"
   ],
   "outputs": [
    {
     "data": {
      "text/plain": [
       "{'True': np.float64(99.8), 'False': np.float64(0.2)}"
      ]
     },
     "execution_count": 34,
     "metadata": {},
     "output_type": "execute_result"
    }
   ],
   "execution_count": 34
  },
  {
   "cell_type": "markdown",
   "source": [
    "# Negation"
   ],
   "metadata": {
    "id": "gL6ogPiJszsC"
   }
  },
  {
   "cell_type": "code",
   "source": [
    "# We want to minimze 'True'\n",
    "starts_with_negation_freqs = {\n",
    "    'True': round(df['starts_with_negation'].sum() / len(df) * 100, 2),\n",
    "    'False': round((len(df) - df['starts_with_negation'].sum()) / len(df) * 100, 2)\n",
    "}\n",
    "\n",
    "starts_with_negation_freqs"
   ],
   "metadata": {
    "colab": {
     "base_uri": "https://localhost:8080/"
    },
    "id": "zlz17fiUs4MX",
    "outputId": "3715ec13-d620-4c01-d748-c62bb72b12f3",
    "ExecuteTime": {
     "end_time": "2025-03-20T19:26:37.459983Z",
     "start_time": "2025-03-20T19:26:37.357145Z"
    }
   },
   "outputs": [
    {
     "data": {
      "text/plain": [
       "{'True': np.float64(0.0), 'False': np.float64(100.0)}"
      ]
     },
     "execution_count": 35,
     "metadata": {},
     "output_type": "execute_result"
    }
   ],
   "execution_count": 35
  },
  {
   "cell_type": "markdown",
   "source": [
    "# Readability"
   ],
   "metadata": {
    "id": "rAmz_WnJqoo0"
   }
  },
  {
   "cell_type": "code",
   "source": [
    "plt.figure(figsize=(10, 6))\n",
    "counts, bins, patches = plt.hist(df['readability'], bins=range(0, 19, 1), edgecolor='black')\n",
    "\n",
    "# Set x-axis ticks from 0 to 18\n",
    "plt.xticks(range(0, 19))\n",
    "\n",
    "# Add frequency labels on top of each bar where frequency > 0\n",
    "for count, patch in zip(counts, patches):\n",
    "    if count > 0:\n",
    "        plt.text(patch.get_x() + patch.get_width() / 2, count, int(count),\n",
    "                 ha='center', va='bottom')\n",
    "plt.xlabel('Readability Score')\n",
    "plt.ylabel('Frequency')\n",
    "plt.title('Histogram of Readability Scores')\n",
    "plt.show()"
   ],
   "metadata": {
    "colab": {
     "base_uri": "https://localhost:8080/",
     "height": 564
    },
    "id": "d8x1qyWJtQXd",
    "outputId": "8282eee8-7623-42d9-c6f0-5d69ac0381f8",
    "ExecuteTime": {
     "end_time": "2025-03-20T19:26:40.666372Z",
     "start_time": "2025-03-20T19:26:37.465Z"
    }
   },
   "outputs": [
    {
     "data": {
      "text/plain": [
       "<Figure size 1000x600 with 1 Axes>"
      ],
      "image/png": "[encoded data removed]"
     },
     "metadata": {},
     "output_type": "display_data"
    }
   ],
   "execution_count": 36
  },
  {
   "metadata": {
    "ExecuteTime": {
     "end_time": "2025-03-20T19:26:40.768086Z",
     "start_time": "2025-03-20T19:26:40.676635Z"
    }
   },
   "cell_type": "code",
   "source": "df['readability'].describe()",
   "outputs": [
    {
     "data": {
      "text/plain": [
       "count    1516.000000\n",
       "mean       12.048764\n",
       "std         3.574800\n",
       "min         0.520000\n",
       "25%         9.655000\n",
       "50%        12.037500\n",
       "75%        14.270000\n",
       "max        23.584286\n",
       "Name: readability, dtype: float64"
      ]
     },
     "execution_count": 37,
     "metadata": {},
     "output_type": "execute_result"
    }
   ],
   "execution_count": 37
  },
  {
   "metadata": {},
   "cell_type": "markdown",
   "source": "# Originality"
  },
  {
   "metadata": {
    "ExecuteTime": {
     "end_time": "2025-03-20T19:26:43.245716Z",
     "start_time": "2025-03-20T19:26:40.772097Z"
    }
   },
   "cell_type": "code",
   "source": [
    "plt.figure(figsize=(10, 6))\n",
    "counts, bins, patches = plt.hist(df['originality'], bins=10, range=(0, 1), edgecolor='black')\n",
    "\n",
    "plt.xticks([round(x * 0.1, 1) for x in range(11)])\n",
    "\n",
    "for count, patch in zip(counts, patches):\n",
    "    if count > 0:\n",
    "        plt.text(patch.get_x() + patch.get_width() / 2, count, int(count),\n",
    "                 ha='center', va='bottom')\n",
    "\n",
    "plt.xlabel('Originality score')\n",
    "plt.ylabel('Frequency')\n",
    "plt.show()"
   ],
   "outputs": [
    {
     "data": {
      "text/plain": [
       "<Figure size 1000x600 with 1 Axes>"
      ],
      "image/png": "[encoded data removed]"
     },
     "metadata": {},
     "output_type": "display_data"
    }
   ],
   "execution_count": 38
  },
  {
   "metadata": {
    "ExecuteTime": {
     "end_time": "2025-03-20T19:26:43.274147Z",
     "start_time": "2025-03-20T19:26:43.256736Z"
    }
   },
   "cell_type": "code",
   "source": "df['originality'].describe()",
   "outputs": [
    {
     "data": {
      "text/plain": [
       "count    1524.000000\n",
       "mean        0.790873\n",
       "std         0.263872\n",
       "min         0.000000\n",
       "25%         0.666667\n",
       "50%         0.857143\n",
       "75%         1.000000\n",
       "max         1.000000\n",
       "Name: originality, dtype: float64"
      ]
     },
     "execution_count": 39,
     "metadata": {},
     "output_type": "execute_result"
    }
   ],
   "execution_count": 39
  },
  {
   "metadata": {},
   "cell_type": "markdown",
   "source": "# Answer Length"
  },
  {
   "cell_type": "code",
   "source": [
    "option_cols = ['option_a', 'option_b', 'option_c', 'option_d']\n",
    "\n",
    "# Create new columns with word counts for each option column\n",
    "for col in option_cols:\n",
    "    df[f'{col}_word_count'] = df[col].astype(str).apply(lambda x: len(x.split()))"
   ],
   "metadata": {
    "id": "dbNhxSY_ugcf",
    "ExecuteTime": {
     "end_time": "2025-03-20T19:26:43.453747Z",
     "start_time": "2025-03-20T19:26:43.287505Z"
    }
   },
   "outputs": [],
   "execution_count": 40
  },
  {
   "metadata": {
    "ExecuteTime": {
     "end_time": "2025-03-20T19:26:43.903798Z",
     "start_time": "2025-03-20T19:26:43.458758Z"
    }
   },
   "cell_type": "code",
   "source": "df['correct_option'].unique()",
   "outputs": [
    {
     "data": {
      "text/plain": [
       "array(['a', 'c', 'b', 'd', 'A',\n",
       "       'A type of bacterial infection that occurs in hospitals',\n",
       "       'A distinction must be made between personal misconduct or misconduct detached from the service, which gives rise to personal civil liability on the part of the perpetrator.',\n",
       "       'A violation of professional ethics',\n",
       "       'Lowering of the testicle via an inguinal approach',\n",
       "       'A painful enlargement of the bursae is due to torsion',\n",
       "       'to increase physical activity', 'B', '10/10th',\n",
       "       'to prevent congenital heart malformations',\n",
       "       'To remove contaminants from treated water',\n",
       "       'to ensure quality control before publication',\n",
       "       'to identify a specific problem or phenomenon',\n",
       "       'to facilitate communication between healthcare providers and patients',\n",
       "       'A single chancre with minimal inflammation',\n",
       "       'A clinical examination of both members of the couple',\n",
       "       ' option_a', 'To quit smoking', 'Myocarditis', 'C',\n",
       "       'To monitor and prevent diseases', 'Distractor: option_d',\n",
       "       'Clinical, Aetiological, Anatomical',\n",
       "       \"Regularly monitor employees' physical and mental well-being.\",\n",
       "       ' To identify potential hazards ',\n",
       "       'to improve self-esteem through positive thinking',\n",
       "       'A regulated title (2010): National Register',\n",
       "       'Improve coping skills.', 'A 24-hour continuous ECG',\n",
       "       'A score of Y4', \"To stabilize the patient's airway\",\n",
       "       'crescent-shaped',\n",
       "       'option_a: To improve patient outcomes by analyzing adverse events and implementing corrective actions',\n",
       "       'To detect chromosomal abnormalities and provide information on risk factors',\n",
       "       'Option d: Advanced stature', 'Aging',\n",
       "       'an overactive thyroid gland',\n",
       "       'option_a: To detect, treat, assess, and prevent all types of psychiatric disorders in the elderly',\n",
       "       '12 days',\n",
       "       'Increased risk of myocardial infarction (MI) if started more than 10 years after menopause',\n",
       "       'optiion_b', 'administer antibiotics',\n",
       "       'to correct coagulation disorders',\n",
       "       'Confirm the severity and quantify blood loss',\n",
       "       'to detect haematuria and urinary tract infections', 'infectious',\n",
       "       \"to increase patients' survival\",\n",
       "       'A mammography and ultrasound examination of the lymph nodes',\n",
       "       'to identify potential causes of gait disturbances',\n",
       "       'to evaluate cognitive abilities', 'persecution',\n",
       "       'Inflammatory back pain', 'increasing serotonin levels.',\n",
       "       'option_a ',\n",
       "       'Beware of the implications of tocolysis: maternal-foetal infection (chorioamnionitis), heavy metrorrhagia, and abnormalities in the fetal heart rate.',\n",
       "       'B. Listeria M', '1',\n",
       "       'A medical certificate stating no contraindications to practising sport, less than one year old on the day of application.',\n",
       "       'To obtain an independent assessment of damages by medical experts.',\n",
       "       'Report to the Drug Dependence Assessment and Information Centre (CEIP) in the area where the case was reported.',\n",
       "       'To the local health authorities or the French public health network (RPH) if the incident is not related to a medical device, by post directly to the ANSM with the corresponding Cerfa declaration form',\n",
       "       \"Identify the location of the stinger and ask if it's still in place.\",\n",
       "       'option_a: Use of eye drops containing epinephrine',\n",
       "       'to reduce inflammation', '3',\n",
       "       'to minimize the risk of respiratory depression',\n",
       "       'Aortic dissection', 'Aortic balloon valvuloplasty',\n",
       "       'A negative water balance and hyperosmolality (hypernatremia) may therefore be observed in cases of intracellular dehydration without hypernatremia:',\n",
       "       'A syncopal phase', 'abnormal respiratory sounds',\n",
       "       'to improve patient outcomes', '}$\\\\ \\r\\n \\\\ \\r\\n {', '7 days',\n",
       "       'to confirm the diagnosis and exclude DVT',\n",
       "       \"to identify the child's strengths, not just impairments\", ' ',\n",
       "       'To empower them to make their own decisions about their care.',\n",
       "       'A. Ensure patients have full knowledge and informed consent before proceeding.',\n",
       "       ' option_c',\n",
       "       'Performing a neurological examination and cerebral imaging',\n",
       "       'A group of people eating contaminated food together.',\n",
       "       ' Decreased blood flow to the brain',\n",
       "       'Respiratory distress with cyanosis and tachycardia.',\n",
       "       'an inability to pump enough blood throughout the body',\n",
       "       'inadequate tear production',\n",
       "       'A skin biopsy with direct immunofluorescence examination',\n",
       "       'Maintain good hydration',\n",
       "       'Use systemic corticosteroids immediately.',\n",
       "       'Respiratory discomfort',\n",
       "       'To help patients identify their symptoms as \"normal\" or \"not normal\"',\n",
       "       'administer an IM or SC injection of insulin',\n",
       "       'to check the level of potassium in the blood'], dtype=object)"
      ]
     },
     "execution_count": 41,
     "metadata": {},
     "output_type": "execute_result"
    }
   ],
   "execution_count": 41
  },
  {
   "cell_type": "code",
   "source": [
    "def get_correct_option_rank(row):\n",
    "    # Get the original word counts for each option\n",
    "    counts = [\n",
    "        row['option_a_word_count'],\n",
    "        row['option_b_word_count'],\n",
    "        row['option_c_word_count'],\n",
    "        row['option_d_word_count']\n",
    "    ]\n",
    "\n",
    "    # Map correct_option letter to its index (0 for A, 1 for B, etc.)\n",
    "    letter_to_index = {'A': 0, 'a':0, 'B': 1, 'b':1, 'C': 2, 'c':2, 'D': 3, 'd':3}\n",
    "    correct_idx = letter_to_index[row['correct_option']]\n",
    "\n",
    "    # Determine the word count of the correct option\n",
    "    correct_count = counts[correct_idx]\n",
    "\n",
    "    # Create an effective counts list:\n",
    "    # For non-correct options, if their word count equals the correct option's word count,\n",
    "    # treat them as if they had one extra word.\n",
    "    effective_counts = []\n",
    "    for i, count in enumerate(counts):\n",
    "        if i != correct_idx and count == correct_count:\n",
    "            effective_counts.append(count + 1)\n",
    "        else:\n",
    "            effective_counts.append(count)\n",
    "\n",
    "    # Sort the option indices by descending effective count.\n",
    "    ordering = sorted(range(4), key=lambda i: effective_counts[i], reverse=True)\n",
    "\n",
    "    # Compute the rank as the 1-indexed position of the correct option in the ordering.\n",
    "    rank = ordering.index(correct_idx) + 1\n",
    "    return rank"
   ],
   "metadata": {
    "id": "6znWPWARt6NU",
    "ExecuteTime": {
     "end_time": "2025-03-20T19:26:44.172550Z",
     "start_time": "2025-03-20T19:26:43.908762Z"
    }
   },
   "outputs": [],
   "execution_count": 42
  },
  {
   "cell_type": "code",
   "source": [
    "def get_rank_distribution(df):\n",
    "  rank_distribution = df['correct_option_rank'].value_counts().sort_index()\n",
    "  rank_distribution = round(rank_distribution / len(df), 2) * 100\n",
    "\n",
    "  plt.figure(figsize=(8, 6))\n",
    "  plt.bar(rank_distribution.index, rank_distribution.values, color='skyblue', edgecolor='black')\n",
    "  plt.xlabel('N (1 = Longest, 4 = Shortest)')\n",
    "  plt.ylabel('Frequency, %')\n",
    "  plt.title('How often the correct option is N`th longest')\n",
    "  plt.xticks([1, 2, 3, 4])\n",
    "  plt.show()"
   ],
   "metadata": {
    "id": "blakrAIIt8gZ",
    "ExecuteTime": {
     "end_time": "2025-03-20T19:26:45.384635Z",
     "start_time": "2025-03-20T19:26:44.186075Z"
    }
   },
   "outputs": [],
   "execution_count": 43
  },
  {
   "cell_type": "code",
   "source": [
    "# df['correct_option_rank'] = df.apply(get_correct_option_rank, axis=1)\n",
    "# get_rank_distribution(df)"
   ],
   "metadata": {
    "colab": {
     "base_uri": "https://localhost:8080/",
     "height": 565
    },
    "id": "Y9bKBBcut-tv",
    "outputId": "14514fb0-399c-4dfa-bbbd-46e6379e133a",
    "ExecuteTime": {
     "end_time": "2025-03-20T19:26:45.596884Z",
     "start_time": "2025-03-20T19:26:45.388683Z"
    }
   },
   "outputs": [],
   "execution_count": 44
  },
  {
   "cell_type": "markdown",
   "source": [
    "# Disclosure"
   ],
   "metadata": {
    "id": "klcHFsMjzp3m"
   }
  },
  {
   "metadata": {
    "ExecuteTime": {
     "end_time": "2025-03-20T19:26:45.814135Z",
     "start_time": "2025-03-20T19:26:45.601898Z"
    }
   },
   "cell_type": "code",
   "source": [
    "disclosure_freqs = {\n",
    "    'True': round((df['disclosure'].sum() / len(df)) * 100, 2),\n",
    "    'False': round((len(df) - df['disclosure'].sum()) / len(df) * 100, 2)\n",
    "}\n",
    "\n",
    "disclosure_freqs"
   ],
   "outputs": [
    {
     "data": {
      "text/plain": [
       "{'True': np.float64(10.5), 'False': np.float64(89.5)}"
      ]
     },
     "execution_count": 45,
     "metadata": {},
     "output_type": "execute_result"
    }
   ],
   "execution_count": 45
  },
  {
   "cell_type": "markdown",
   "metadata": {
    "id": "nb_L81b9mO1C"
   },
   "source": [
    "# Relevance to the input material"
   ]
  },
  {
   "cell_type": "code",
   "metadata": {
    "execution": {
     "iopub.execute_input": "2024-11-18T20:39:21.545396Z",
     "iopub.status.busy": "2024-11-18T20:39:21.54466Z",
     "iopub.status.idle": "2024-11-18T20:39:29.033346Z",
     "shell.execute_reply": "2024-11-18T20:39:29.032397Z",
     "shell.execute_reply.started": "2024-11-18T20:39:21.54536Z"
    },
    "id": "EbIfjd7ImO1C",
    "colab": {
     "base_uri": "https://localhost:8080/",
     "height": 542
    },
    "outputId": "dfd2992e-b57c-446f-ab97-5495b6cdc984",
    "ExecuteTime": {
     "end_time": "2025-03-20T19:26:47.546140Z",
     "start_time": "2025-03-20T19:26:45.822141Z"
    }
   },
   "source": [
    "plt.figure(figsize=(10, 6))\n",
    "counts, bins, patches = plt.hist(df['relevance'], bins=10, range=(0, 1), edgecolor='black')\n",
    "\n",
    "plt.xticks([round(x * 0.1, 1) for x in range(11)])\n",
    "\n",
    "for count, patch in zip(counts, patches):\n",
    "    if count > 0:\n",
    "        plt.text(patch.get_x() + patch.get_width() / 2, count, int(count),\n",
    "                 ha='center', va='bottom')\n",
    "\n",
    "plt.xlabel('Relevance Score')\n",
    "plt.ylabel('Frequency')\n",
    "plt.show()"
   ],
   "outputs": [
    {
     "data": {
      "text/plain": [
       "<Figure size 1000x600 with 1 Axes>"
      ],
      "image/png": "[encoded data removed]"
     },
     "metadata": {},
     "output_type": "display_data"
    }
   ],
   "execution_count": 46
  },
  {
   "metadata": {
    "ExecuteTime": {
     "end_time": "2025-03-20T19:26:47.565898Z",
     "start_time": "2025-03-20T19:26:47.549670Z"
    }
   },
   "cell_type": "code",
   "source": "df['relevance'].describe()",
   "outputs": [
    {
     "data": {
      "text/plain": [
       "count    1524.000000\n",
       "mean        0.768016\n",
       "std         0.057649\n",
       "min         0.426711\n",
       "25%         0.736445\n",
       "50%         0.773851\n",
       "75%         0.807365\n",
       "max         0.921608\n",
       "Name: relevance, dtype: float64"
      ]
     },
     "execution_count": 47,
     "metadata": {},
     "output_type": "execute_result"
    }
   ],
   "execution_count": 47
  },
  {
   "cell_type": "markdown",
   "source": "# Ambiguity (cosine similarity)",
   "metadata": {
    "id": "6ue_cVZzrpi4"
   }
  },
  {
   "metadata": {
    "ExecuteTime": {
     "end_time": "2025-03-20T19:26:51.564083Z",
     "start_time": "2025-03-20T19:26:47.570899Z"
    }
   },
   "cell_type": "code",
   "source": [
    "plt.figure(figsize=(8, 6))\n",
    "plt.hist(df['ambiguity'], bins=10, edgecolor='black', alpha=0.7)\n",
    "\n",
    "plt.xlabel(\"Score\")\n",
    "plt.ylabel(\"Frequency\")\n",
    "plt.title(\"Distribution of Ambiguity\")"
   ],
   "outputs": [
    {
     "data": {
      "text/plain": [
       "Text(0.5, 1.0, 'Distribution of Ambiguity')"
      ]
     },
     "execution_count": 48,
     "metadata": {},
     "output_type": "execute_result"
    },
    {
     "data": {
      "text/plain": [
       "<Figure size 800x600 with 1 Axes>"
      ],
      "image/png": "[encoded data removed]"
     },
     "metadata": {},
     "output_type": "display_data"
    }
   ],
   "execution_count": 48
  },
  {
   "metadata": {
    "ExecuteTime": {
     "end_time": "2025-03-20T19:26:51.622975Z",
     "start_time": "2025-03-20T19:26:51.569084Z"
    }
   },
   "cell_type": "code",
   "source": "df['ambiguity'].describe()",
   "outputs": [
    {
     "data": {
      "text/plain": [
       "count    1524.000000\n",
       "mean        0.344931\n",
       "std         0.327599\n",
       "min         0.000000\n",
       "25%         0.000000\n",
       "50%         0.521620\n",
       "75%         0.644134\n",
       "max         0.947393\n",
       "Name: ambiguity, dtype: float64"
      ]
     },
     "execution_count": 49,
     "metadata": {},
     "output_type": "execute_result"
    }
   ],
   "execution_count": 49
  },
  {
   "metadata": {},
   "cell_type": "markdown",
   "source": "# Difficulty (judge LLM)"
  },
  {
   "metadata": {
    "ExecuteTime": {
     "end_time": "2025-03-20T19:26:55.694673Z",
     "start_time": "2025-03-20T19:26:51.631507Z"
    }
   },
   "cell_type": "code",
   "source": [
    "import numpy as np\n",
    "\n",
    "plt.figure(figsize=(8, 6))\n",
    "plt.hist(df['difficulty'], bins=np.arange(1, 6), edgecolor='black', alpha=0.7)\n",
    "\n",
    "plt.xlabel(\"Score\")\n",
    "plt.ylabel(\"Frequency\")\n",
    "plt.title(\"Distribution of Syntactic Ambiguity\")\n",
    "plt.xticks(range(1, 6))\n",
    "\n",
    "# Show the plot\n",
    "plt.show()"
   ],
   "outputs": [
    {
     "data": {
      "text/plain": [
       "<Figure size 800x600 with 1 Axes>"
      ],
      "image/png": "[encoded data removed]"
     },
     "metadata": {},
     "output_type": "display_data"
    }
   ],
   "execution_count": 50
  },
  {
   "metadata": {
    "ExecuteTime": {
     "end_time": "2025-03-20T19:26:55.729356Z",
     "start_time": "2025-03-20T19:26:55.699689Z"
    }
   },
   "cell_type": "code",
   "source": "df['difficulty'].describe()",
   "outputs": [
    {
     "data": {
      "text/plain": [
       "count    1524.000000\n",
       "mean        3.126640\n",
       "std         1.294607\n",
       "min         1.000000\n",
       "25%         2.000000\n",
       "50%         3.000000\n",
       "75%         4.000000\n",
       "max         5.000000\n",
       "Name: difficulty, dtype: float64"
      ]
     },
     "execution_count": 51,
     "metadata": {},
     "output_type": "execute_result"
    }
   ],
   "execution_count": 51
  },
  {
   "cell_type": "markdown",
   "source": [
    "# Answerability\n",
    "can judge model answer the generated question with context provided?"
   ],
   "metadata": {
    "id": "rLiUkNeToPYR"
   }
  },
  {
   "cell_type": "code",
   "source": [
    "df['gpt_answer'].unique()"
   ],
   "metadata": {
    "colab": {
     "base_uri": "https://localhost:8080/"
    },
    "id": "RsEaI2fOplIU",
    "outputId": "ce5328c5-852e-419a-809d-e6595d2f8943",
    "ExecuteTime": {
     "end_time": "2025-03-20T19:26:55.811284Z",
     "start_time": "2025-03-20T19:26:55.735372Z"
    }
   },
   "outputs": [
    {
     "data": {
      "text/plain": [
       "array(['a', 'd', 'c', 'b'], dtype=object)"
      ]
     },
     "execution_count": 52,
     "metadata": {},
     "output_type": "execute_result"
    }
   ],
   "execution_count": 52
  },
  {
   "cell_type": "code",
   "source": [
    "df['correct_option'].unique()"
   ],
   "metadata": {
    "colab": {
     "base_uri": "https://localhost:8080/"
    },
    "id": "vjj90iEfp-TV",
    "outputId": "d1b4812f-8e29-45a7-baf8-d8ce96c9315b",
    "ExecuteTime": {
     "end_time": "2025-03-20T19:26:55.959799Z",
     "start_time": "2025-03-20T19:26:55.814646Z"
    }
   },
   "outputs": [
    {
     "data": {
      "text/plain": [
       "array(['a', 'c', 'b', 'd', 'A',\n",
       "       'A type of bacterial infection that occurs in hospitals',\n",
       "       'A distinction must be made between personal misconduct or misconduct detached from the service, which gives rise to personal civil liability on the part of the perpetrator.',\n",
       "       'A violation of professional ethics',\n",
       "       'Lowering of the testicle via an inguinal approach',\n",
       "       'A painful enlargement of the bursae is due to torsion',\n",
       "       'to increase physical activity', 'B', '10/10th',\n",
       "       'to prevent congenital heart malformations',\n",
       "       'To remove contaminants from treated water',\n",
       "       'to ensure quality control before publication',\n",
       "       'to identify a specific problem or phenomenon',\n",
       "       'to facilitate communication between healthcare providers and patients',\n",
       "       'A single chancre with minimal inflammation',\n",
       "       'A clinical examination of both members of the couple',\n",
       "       ' option_a', 'To quit smoking', 'Myocarditis', 'C',\n",
       "       'To monitor and prevent diseases', 'Distractor: option_d',\n",
       "       'Clinical, Aetiological, Anatomical',\n",
       "       \"Regularly monitor employees' physical and mental well-being.\",\n",
       "       ' To identify potential hazards ',\n",
       "       'to improve self-esteem through positive thinking',\n",
       "       'A regulated title (2010): National Register',\n",
       "       'Improve coping skills.', 'A 24-hour continuous ECG',\n",
       "       'A score of Y4', \"To stabilize the patient's airway\",\n",
       "       'crescent-shaped',\n",
       "       'option_a: To improve patient outcomes by analyzing adverse events and implementing corrective actions',\n",
       "       'To detect chromosomal abnormalities and provide information on risk factors',\n",
       "       'Option d: Advanced stature', 'Aging',\n",
       "       'an overactive thyroid gland',\n",
       "       'option_a: To detect, treat, assess, and prevent all types of psychiatric disorders in the elderly',\n",
       "       '12 days',\n",
       "       'Increased risk of myocardial infarction (MI) if started more than 10 years after menopause',\n",
       "       'optiion_b', 'administer antibiotics',\n",
       "       'to correct coagulation disorders',\n",
       "       'Confirm the severity and quantify blood loss',\n",
       "       'to detect haematuria and urinary tract infections', 'infectious',\n",
       "       \"to increase patients' survival\",\n",
       "       'A mammography and ultrasound examination of the lymph nodes',\n",
       "       'to identify potential causes of gait disturbances',\n",
       "       'to evaluate cognitive abilities', 'persecution',\n",
       "       'Inflammatory back pain', 'increasing serotonin levels.',\n",
       "       'option_a ',\n",
       "       'Beware of the implications of tocolysis: maternal-foetal infection (chorioamnionitis), heavy metrorrhagia, and abnormalities in the fetal heart rate.',\n",
       "       'B. Listeria M', '1',\n",
       "       'A medical certificate stating no contraindications to practising sport, less than one year old on the day of application.',\n",
       "       'To obtain an independent assessment of damages by medical experts.',\n",
       "       'Report to the Drug Dependence Assessment and Information Centre (CEIP) in the area where the case was reported.',\n",
       "       'To the local health authorities or the French public health network (RPH) if the incident is not related to a medical device, by post directly to the ANSM with the corresponding Cerfa declaration form',\n",
       "       \"Identify the location of the stinger and ask if it's still in place.\",\n",
       "       'option_a: Use of eye drops containing epinephrine',\n",
       "       'to reduce inflammation', '3',\n",
       "       'to minimize the risk of respiratory depression',\n",
       "       'Aortic dissection', 'Aortic balloon valvuloplasty',\n",
       "       'A negative water balance and hyperosmolality (hypernatremia) may therefore be observed in cases of intracellular dehydration without hypernatremia:',\n",
       "       'A syncopal phase', 'abnormal respiratory sounds',\n",
       "       'to improve patient outcomes', '}$\\\\ \\r\\n \\\\ \\r\\n {', '7 days',\n",
       "       'to confirm the diagnosis and exclude DVT',\n",
       "       \"to identify the child's strengths, not just impairments\", ' ',\n",
       "       'To empower them to make their own decisions about their care.',\n",
       "       'A. Ensure patients have full knowledge and informed consent before proceeding.',\n",
       "       ' option_c',\n",
       "       'Performing a neurological examination and cerebral imaging',\n",
       "       'A group of people eating contaminated food together.',\n",
       "       ' Decreased blood flow to the brain',\n",
       "       'Respiratory distress with cyanosis and tachycardia.',\n",
       "       'an inability to pump enough blood throughout the body',\n",
       "       'inadequate tear production',\n",
       "       'A skin biopsy with direct immunofluorescence examination',\n",
       "       'Maintain good hydration',\n",
       "       'Use systemic corticosteroids immediately.',\n",
       "       'Respiratory discomfort',\n",
       "       'To help patients identify their symptoms as \"normal\" or \"not normal\"',\n",
       "       'administer an IM or SC injection of insulin',\n",
       "       'to check the level of potassium in the blood'], dtype=object)"
      ]
     },
     "execution_count": 53,
     "metadata": {},
     "output_type": "execute_result"
    }
   ],
   "execution_count": 53
  },
  {
   "cell_type": "code",
   "source": [
    "answerability_freqs = {\n",
    "    'True': round((df['correct_option'] == df['gpt_answer']).sum() / len(df) * 100, 2), \n",
    "    'False': round((len(df) - (df['correct_option'] == df['gpt_answer']).sum()) / len(df) * 100, 2)\n",
    "}\n",
    "\n",
    "answerability_freqs"
   ],
   "metadata": {
    "colab": {
     "base_uri": "https://localhost:8080/"
    },
    "id": "sP21LFtNqBYO",
    "outputId": "85a9df9b-0448-4d93-e063-f5c66f5d17df",
    "ExecuteTime": {
     "end_time": "2025-03-20T19:26:56.062055Z",
     "start_time": "2025-03-20T19:26:55.963797Z"
    }
   },
   "outputs": [
    {
     "data": {
      "text/plain": [
       "{'True': np.float64(46.92), 'False': np.float64(53.08)}"
      ]
     },
     "execution_count": 54,
     "metadata": {},
     "output_type": "execute_result"
    }
   ],
   "execution_count": 54
  },
  {
   "metadata": {
    "ExecuteTime": {
     "end_time": "2025-03-20T19:26:56.085598Z",
     "start_time": "2025-03-20T19:26:56.066072Z"
    }
   },
   "cell_type": "code",
   "source": "",
   "outputs": [],
   "execution_count": 54
  }
 ]
}
