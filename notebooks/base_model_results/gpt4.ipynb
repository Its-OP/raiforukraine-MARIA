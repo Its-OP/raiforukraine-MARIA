{
 "nbformat": 4,
 "nbformat_minor": 0,
 "metadata": {
  "colab": {
   "provenance": []
  },
  "kernelspec": {
   "name": "python3",
   "display_name": "Python 3 (ipykernel)",
   "language": "python"
  },
  "language_info": {
   "name": "python"
  }
 },
 "cells": [
  {
   "cell_type": "code",
   "metadata": {
    "id": "XTL8_cenjf7a",
    "ExecuteTime": {
     "end_time": "2025-03-09T16:56:40.466071Z",
     "start_time": "2025-03-09T16:56:38.573515Z"
    }
   },
   "source": [
    "import pandas as pd\n",
    "import json\n",
    "import os\n",
    "import ast\n",
    "import matplotlib.pyplot as plt"
   ],
   "outputs": [],
   "execution_count": 2
  },
  {
   "cell_type": "code",
   "source": [
    "df = pd.read_csv('../../data/gpt4_mcq_eval.csv')\n",
    "df.head()"
   ],
   "metadata": {
    "id": "AKWrq07-lwD7",
    "colab": {
     "base_uri": "https://localhost:8080/",
     "height": 573
    },
    "outputId": "95c768d3-841c-4ec4-c118-e99d9b08cc91",
    "ExecuteTime": {
     "end_time": "2025-03-09T17:00:44.918386Z",
     "start_time": "2025-03-09T17:00:44.812579Z"
    }
   },
   "outputs": [
    {
     "data": {
      "text/plain": [
       "             id                                           mcq_json  \\\n",
       "0  OIC-360-01-A  {'question': 'What is a pneumothorax?', 'optio...   \n",
       "1  OIC-360-08-A  {'question': 'Which of the following is a key ...   \n",
       "2  OIC-360-03-A  {'question': 'Which of the following is a clin...   \n",
       "3  OIC-360-11-B  {'question': 'What is a recommended measure to...   \n",
       "4  OIC-360-10-B  {'question': 'What is a primary indication for...   \n",
       "\n",
       "               rubric                                           question  \\\n",
       "0          Definition                            What is a pneumothorax?   \n",
       "1                 NaN  Which of the following is a key element in dia...   \n",
       "2  Positive diagnosis  Which of the following is a clinical element u...   \n",
       "3                 NaN  What is a recommended measure to prevent the r...   \n",
       "4          Management  What is a primary indication for performing pl...   \n",
       "\n",
       "                                            option_a  \\\n",
       "0                    Fluid accumulation in the lungs   \n",
       "1                       The size of the pneumothorax   \n",
       "2                       Sudden 'stabbing' chest pain   \n",
       "3                       Increasing physical activity   \n",
       "4  When the pneumothorax is primary and exsufflat...   \n",
       "\n",
       "                                            option_b  \\\n",
       "0                 Gas effusion in the pleural cavity   \n",
       "1                   Presence of respiratory distress   \n",
       "2                         Increased vesicular murmur   \n",
       "3                                  Smoking cessation   \n",
       "4  When the pneumothorax is primary and there is ...   \n",
       "\n",
       "                                            option_c  \\\n",
       "0                    Infection of the pleural lining   \n",
       "1                                      Patient's age   \n",
       "2                                        Moist cough   \n",
       "3                              Reducing water intake   \n",
       "4  When the pneumothorax is secondary and exsuffl...   \n",
       "\n",
       "                                            option_d correct_option  \\\n",
       "0                    Inflammation of the lung tissue              b   \n",
       "1                       Location of the pneumothorax              b   \n",
       "2                    Decreased tympany on percussion              a   \n",
       "3                            Avoiding dairy products              b   \n",
       "4  When the pneumothorax is primary and there is ...              a   \n",
       "\n",
       "                                         content_gpt  originality  \\\n",
       "0  **Item Parent:** Pneumothorax  \\n**Title:** De...     0.000000   \n",
       "1  **Item Parent:** Pneumothorax  \\n**Title:** Kn...     0.500000   \n",
       "2  **Item Parent:** Pneumothorax  \\n**Title:** Kn...     1.000000   \n",
       "3  **Item Parent:** Pneumothorax  \\n**Title:** Kn...     0.333333   \n",
       "4  **Item Parent:** Pneumothorax  \\n**Title:** Kn...     1.000000   \n",
       "\n",
       "   readability  starts_with_negation  is_question  relevance  ambiguity  \\\n",
       "0     6.620000                 False         True   0.789512   0.690330   \n",
       "1    11.500000                 False         True   0.841534   0.621677   \n",
       "2    12.690000                 False         True   0.788986   0.566794   \n",
       "3    13.372727                 False         True   0.826552   0.532753   \n",
       "4    15.155714                 False         True   0.877802   0.816469   \n",
       "\n",
       "  gpt_answer  disclosure  difficulty  \n",
       "0          b       False           5  \n",
       "1          b       False           3  \n",
       "2          a       False           2  \n",
       "3          b        True           2  \n",
       "4          a       False           2  "
      ],
      "text/html": [
       "<div>\n",
       "<style scoped>\n",
       "    .dataframe tbody tr th:only-of-type {\n",
       "        vertical-align: middle;\n",
       "    }\n",
       "\n",
       "    .dataframe tbody tr th {\n",
       "        vertical-align: top;\n",
       "    }\n",
       "\n",
       "    .dataframe thead th {\n",
       "        text-align: right;\n",
       "    }\n",
       "</style>\n",
       "<table border=\"1\" class=\"dataframe\">\n",
       "  <thead>\n",
       "    <tr style=\"text-align: right;\">\n",
       "      <th></th>\n",
       "      <th>id</th>\n",
       "      <th>mcq_json</th>\n",
       "      <th>rubric</th>\n",
       "      <th>question</th>\n",
       "      <th>option_a</th>\n",
       "      <th>option_b</th>\n",
       "      <th>option_c</th>\n",
       "      <th>option_d</th>\n",
       "      <th>correct_option</th>\n",
       "      <th>content_gpt</th>\n",
       "      <th>originality</th>\n",
       "      <th>readability</th>\n",
       "      <th>starts_with_negation</th>\n",
       "      <th>is_question</th>\n",
       "      <th>relevance</th>\n",
       "      <th>ambiguity</th>\n",
       "      <th>gpt_answer</th>\n",
       "      <th>disclosure</th>\n",
       "      <th>difficulty</th>\n",
       "    </tr>\n",
       "  </thead>\n",
       "  <tbody>\n",
       "    <tr>\n",
       "      <th>0</th>\n",
       "      <td>OIC-360-01-A</td>\n",
       "      <td>{'question': 'What is a pneumothorax?', 'optio...</td>\n",
       "      <td>Definition</td>\n",
       "      <td>What is a pneumothorax?</td>\n",
       "      <td>Fluid accumulation in the lungs</td>\n",
       "      <td>Gas effusion in the pleural cavity</td>\n",
       "      <td>Infection of the pleural lining</td>\n",
       "      <td>Inflammation of the lung tissue</td>\n",
       "      <td>b</td>\n",
       "      <td>**Item Parent:** Pneumothorax  \\n**Title:** De...</td>\n",
       "      <td>0.000000</td>\n",
       "      <td>6.620000</td>\n",
       "      <td>False</td>\n",
       "      <td>True</td>\n",
       "      <td>0.789512</td>\n",
       "      <td>0.690330</td>\n",
       "      <td>b</td>\n",
       "      <td>False</td>\n",
       "      <td>5</td>\n",
       "    </tr>\n",
       "    <tr>\n",
       "      <th>1</th>\n",
       "      <td>OIC-360-08-A</td>\n",
       "      <td>{'question': 'Which of the following is a key ...</td>\n",
       "      <td>NaN</td>\n",
       "      <td>Which of the following is a key element in dia...</td>\n",
       "      <td>The size of the pneumothorax</td>\n",
       "      <td>Presence of respiratory distress</td>\n",
       "      <td>Patient's age</td>\n",
       "      <td>Location of the pneumothorax</td>\n",
       "      <td>b</td>\n",
       "      <td>**Item Parent:** Pneumothorax  \\n**Title:** Kn...</td>\n",
       "      <td>0.500000</td>\n",
       "      <td>11.500000</td>\n",
       "      <td>False</td>\n",
       "      <td>True</td>\n",
       "      <td>0.841534</td>\n",
       "      <td>0.621677</td>\n",
       "      <td>b</td>\n",
       "      <td>False</td>\n",
       "      <td>3</td>\n",
       "    </tr>\n",
       "    <tr>\n",
       "      <th>2</th>\n",
       "      <td>OIC-360-03-A</td>\n",
       "      <td>{'question': 'Which of the following is a clin...</td>\n",
       "      <td>Positive diagnosis</td>\n",
       "      <td>Which of the following is a clinical element u...</td>\n",
       "      <td>Sudden 'stabbing' chest pain</td>\n",
       "      <td>Increased vesicular murmur</td>\n",
       "      <td>Moist cough</td>\n",
       "      <td>Decreased tympany on percussion</td>\n",
       "      <td>a</td>\n",
       "      <td>**Item Parent:** Pneumothorax  \\n**Title:** Kn...</td>\n",
       "      <td>1.000000</td>\n",
       "      <td>12.690000</td>\n",
       "      <td>False</td>\n",
       "      <td>True</td>\n",
       "      <td>0.788986</td>\n",
       "      <td>0.566794</td>\n",
       "      <td>a</td>\n",
       "      <td>False</td>\n",
       "      <td>2</td>\n",
       "    </tr>\n",
       "    <tr>\n",
       "      <th>3</th>\n",
       "      <td>OIC-360-11-B</td>\n",
       "      <td>{'question': 'What is a recommended measure to...</td>\n",
       "      <td>NaN</td>\n",
       "      <td>What is a recommended measure to prevent the r...</td>\n",
       "      <td>Increasing physical activity</td>\n",
       "      <td>Smoking cessation</td>\n",
       "      <td>Reducing water intake</td>\n",
       "      <td>Avoiding dairy products</td>\n",
       "      <td>b</td>\n",
       "      <td>**Item Parent:** Pneumothorax  \\n**Title:** Kn...</td>\n",
       "      <td>0.333333</td>\n",
       "      <td>13.372727</td>\n",
       "      <td>False</td>\n",
       "      <td>True</td>\n",
       "      <td>0.826552</td>\n",
       "      <td>0.532753</td>\n",
       "      <td>b</td>\n",
       "      <td>True</td>\n",
       "      <td>2</td>\n",
       "    </tr>\n",
       "    <tr>\n",
       "      <th>4</th>\n",
       "      <td>OIC-360-10-B</td>\n",
       "      <td>{'question': 'What is a primary indication for...</td>\n",
       "      <td>Management</td>\n",
       "      <td>What is a primary indication for performing pl...</td>\n",
       "      <td>When the pneumothorax is primary and exsufflat...</td>\n",
       "      <td>When the pneumothorax is primary and there is ...</td>\n",
       "      <td>When the pneumothorax is secondary and exsuffl...</td>\n",
       "      <td>When the pneumothorax is primary and there is ...</td>\n",
       "      <td>a</td>\n",
       "      <td>**Item Parent:** Pneumothorax  \\n**Title:** Kn...</td>\n",
       "      <td>1.000000</td>\n",
       "      <td>15.155714</td>\n",
       "      <td>False</td>\n",
       "      <td>True</td>\n",
       "      <td>0.877802</td>\n",
       "      <td>0.816469</td>\n",
       "      <td>a</td>\n",
       "      <td>False</td>\n",
       "      <td>2</td>\n",
       "    </tr>\n",
       "  </tbody>\n",
       "</table>\n",
       "</div>"
      ]
     },
     "execution_count": 13,
     "metadata": {},
     "output_type": "execute_result"
    }
   ],
   "execution_count": 13
  },
  {
   "metadata": {
    "ExecuteTime": {
     "end_time": "2025-03-09T17:00:46.013908Z",
     "start_time": "2025-03-09T17:00:46.008773Z"
    }
   },
   "cell_type": "code",
   "source": [
    "# normalize correct_option\n",
    "df['correct_option'] = df['correct_option'].replace({'option_b': 'b', 'option_c': 'c', 'option_d': 'd'}) "
   ],
   "outputs": [],
   "execution_count": 14
  },
  {
   "cell_type": "markdown",
   "metadata": {
    "id": "HG-SVqoPmO1B"
   },
   "source": [
    "# Question mark"
   ]
  },
  {
   "cell_type": "code",
   "metadata": {
    "execution": {
     "iopub.execute_input": "2024-11-12T12:14:38.446623Z",
     "iopub.status.busy": "2024-11-12T12:14:38.445718Z",
     "iopub.status.idle": "2024-11-12T12:14:38.456114Z",
     "shell.execute_reply": "2024-11-12T12:14:38.455017Z",
     "shell.execute_reply.started": "2024-11-12T12:14:38.446566Z"
    },
    "id": "LC9P1ozSmO1B",
    "colab": {
     "base_uri": "https://localhost:8080/"
    },
    "outputId": "905eaa0f-b6dd-4cd7-8f39-f895b347cb4d",
    "ExecuteTime": {
     "end_time": "2025-03-09T17:00:48.119545Z",
     "start_time": "2025-03-09T17:00:48.114527Z"
    }
   },
   "source": [
    "# We want to maximize 'True'\n",
    "question_count = {\n",
    "    'True': df['is_question'].sum(),\n",
    "    'False': len(df) - df['is_question'].sum()\n",
    "}\n",
    "\n",
    "question_count"
   ],
   "outputs": [
    {
     "data": {
      "text/plain": [
       "{'True': np.int64(4693), 'False': np.int64(0)}"
      ]
     },
     "execution_count": 15,
     "metadata": {},
     "output_type": "execute_result"
    }
   ],
   "execution_count": 15
  },
  {
   "cell_type": "markdown",
   "source": [
    "# Negation"
   ],
   "metadata": {
    "id": "gL6ogPiJszsC"
   }
  },
  {
   "cell_type": "code",
   "source": [
    "# We want to minimze 'True'\n",
    "starts_with_negation_count = {\n",
    "    'True': df['starts_with_negation'].sum(),\n",
    "    'False': len(df) - df['starts_with_negation'].sum()\n",
    "}\n",
    "\n",
    "starts_with_negation_count"
   ],
   "metadata": {
    "colab": {
     "base_uri": "https://localhost:8080/"
    },
    "id": "zlz17fiUs4MX",
    "outputId": "3715ec13-d620-4c01-d748-c62bb72b12f3",
    "ExecuteTime": {
     "end_time": "2025-03-09T17:00:59.911388Z",
     "start_time": "2025-03-09T17:00:59.906282Z"
    }
   },
   "outputs": [
    {
     "data": {
      "text/plain": [
       "{'True': np.int64(0), 'False': np.int64(4693)}"
      ]
     },
     "execution_count": 16,
     "metadata": {},
     "output_type": "execute_result"
    }
   ],
   "execution_count": 16
  },
  {
   "cell_type": "markdown",
   "source": [
    "# Originality"
   ],
   "metadata": {
    "id": "xb4mzA8Zw1je"
   }
  },
  {
   "cell_type": "code",
   "source": [
    "plt.figure(figsize=(10, 6))\n",
    "counts, bins, patches = plt.hist(df['originality'], bins=10, range=(0, 1), edgecolor='black')\n",
    "\n",
    "plt.xticks([round(x * 0.1, 1) for x in range(11)])\n",
    "\n",
    "for count, patch in zip(counts, patches):\n",
    "    if count > 0:\n",
    "        plt.text(patch.get_x() + patch.get_width() / 2, count, int(count),\n",
    "                 ha='center', va='bottom')\n",
    "\n",
    "plt.xlabel('Originality score')\n",
    "plt.ylabel('Frequency')\n",
    "plt.show()"
   ],
   "metadata": {
    "colab": {
     "base_uri": "https://localhost:8080/",
     "height": 0
    },
    "id": "IFhbkFGGz7Ky",
    "outputId": "39cd0c34-6386-4da8-8cc1-07891b1d470d",
    "ExecuteTime": {
     "end_time": "2025-03-09T17:01:06.603495Z",
     "start_time": "2025-03-09T17:01:06.431150Z"
    }
   },
   "outputs": [
    {
     "data": {
      "text/plain": [
       "<Figure size 1000x600 with 1 Axes>"
      ],
      "image/png": "[encoded data removed]"
     },
     "metadata": {},
     "output_type": "display_data"
    }
   ],
   "execution_count": 17
  },
  {
   "cell_type": "markdown",
   "source": [
    "# Readability"
   ],
   "metadata": {
    "id": "rAmz_WnJqoo0"
   }
  },
  {
   "cell_type": "code",
   "source": [
    "plt.figure(figsize=(10, 6))\n",
    "counts, bins, patches = plt.hist(df['readability'], bins=range(0, 19, 1), edgecolor='black')\n",
    "\n",
    "# Set x-axis ticks from 0 to 18\n",
    "plt.xticks(range(0, 19))\n",
    "\n",
    "# Add frequency labels on top of each bar where frequency > 0\n",
    "for count, patch in zip(counts, patches):\n",
    "    if count > 0:\n",
    "        plt.text(patch.get_x() + patch.get_width() / 2, count, int(count),\n",
    "                 ha='center', va='bottom')\n",
    "plt.xlabel('Readability Score')\n",
    "plt.ylabel('Frequency')\n",
    "plt.title('Histogram of Readability Scores')\n",
    "plt.show()"
   ],
   "metadata": {
    "colab": {
     "base_uri": "https://localhost:8080/",
     "height": 564
    },
    "id": "d8x1qyWJtQXd",
    "outputId": "8282eee8-7623-42d9-c6f0-5d69ac0381f8",
    "ExecuteTime": {
     "end_time": "2025-03-09T17:01:10.756375Z",
     "start_time": "2025-03-09T17:01:10.622748Z"
    }
   },
   "outputs": [
    {
     "data": {
      "text/plain": [
       "<Figure size 1000x600 with 1 Axes>"
      ],
      "image/png": "[encoded data removed]"
     },
     "metadata": {},
     "output_type": "display_data"
    }
   ],
   "execution_count": 18
  },
  {
   "cell_type": "markdown",
   "source": [
    "# Answer Length"
   ],
   "metadata": {
    "id": "DzfadWMVtSy5"
   }
  },
  {
   "cell_type": "code",
   "source": [
    "option_cols = ['option_a', 'option_b', 'option_c', 'option_d']\n",
    "\n",
    "# Create new columns with word counts for each option column\n",
    "for col in option_cols:\n",
    "    df[f'{col}_word_count'] = df[col].astype(str).apply(lambda x: len(x.split()))"
   ],
   "metadata": {
    "id": "dbNhxSY_ugcf",
    "ExecuteTime": {
     "end_time": "2025-03-09T17:01:14.426510Z",
     "start_time": "2025-03-09T17:01:14.414145Z"
    }
   },
   "outputs": [],
   "execution_count": 19
  },
  {
   "cell_type": "code",
   "source": [
    "def get_correct_option_rank(row):\n",
    "    # Get the original word counts for each option\n",
    "    counts = [\n",
    "        row['option_a_word_count'],\n",
    "        row['option_b_word_count'],\n",
    "        row['option_c_word_count'],\n",
    "        row['option_d_word_count']\n",
    "    ]\n",
    "\n",
    "    # Map correct_option letter to its index (0 for A, 1 for B, etc.)\n",
    "    letter_to_index = {'A': 0, 'a':0, 'B': 1, 'b':1, 'C': 2, 'c':2, 'D': 3, 'd':3}\n",
    "    correct_idx = letter_to_index[row['correct_option']]\n",
    "\n",
    "    # Determine the word count of the correct option\n",
    "    correct_count = counts[correct_idx]\n",
    "\n",
    "    # Create an effective counts list:\n",
    "    # For non-correct options, if their word count equals the correct option's word count,\n",
    "    # treat them as if they had one extra word.\n",
    "    effective_counts = []\n",
    "    for i, count in enumerate(counts):\n",
    "        if i != correct_idx and count == correct_count:\n",
    "            effective_counts.append(count + 1)\n",
    "        else:\n",
    "            effective_counts.append(count)\n",
    "\n",
    "    # Sort the option indices by descending effective count.\n",
    "    ordering = sorted(range(4), key=lambda i: effective_counts[i], reverse=True)\n",
    "\n",
    "    # Compute the rank as the 1-indexed position of the correct option in the ordering.\n",
    "    rank = ordering.index(correct_idx) + 1\n",
    "    return rank"
   ],
   "metadata": {
    "id": "6znWPWARt6NU",
    "ExecuteTime": {
     "end_time": "2025-03-09T17:01:15.798041Z",
     "start_time": "2025-03-09T17:01:15.792124Z"
    }
   },
   "outputs": [],
   "execution_count": 20
  },
  {
   "cell_type": "code",
   "source": [
    "def get_rank_distribution(df):\n",
    "  rank_distribution = df['correct_option_rank'].value_counts().sort_index()\n",
    "  rank_distribution = round(rank_distribution / len(df), 2) * 100\n",
    "\n",
    "  plt.figure(figsize=(8, 6))\n",
    "  plt.bar(rank_distribution.index, rank_distribution.values, color='skyblue', edgecolor='black')\n",
    "  plt.xlabel('N (1 = Longest, 4 = Shortest)')\n",
    "  plt.ylabel('Frequency, %')\n",
    "  plt.title('How often the correct option is N`th longest')\n",
    "  plt.xticks([1, 2, 3, 4])\n",
    "  plt.show()"
   ],
   "metadata": {
    "id": "blakrAIIt8gZ",
    "ExecuteTime": {
     "end_time": "2025-03-09T17:01:17.462509Z",
     "start_time": "2025-03-09T17:01:17.458073Z"
    }
   },
   "outputs": [],
   "execution_count": 21
  },
  {
   "cell_type": "code",
   "source": [
    "df['correct_option_rank'] = df.apply(get_correct_option_rank, axis=1)\n",
    "get_rank_distribution(df)"
   ],
   "metadata": {
    "colab": {
     "base_uri": "https://localhost:8080/",
     "height": 565
    },
    "id": "Y9bKBBcut-tv",
    "outputId": "14514fb0-399c-4dfa-bbbd-46e6379e133a",
    "ExecuteTime": {
     "end_time": "2025-03-09T17:01:18.635251Z",
     "start_time": "2025-03-09T17:01:18.517730Z"
    }
   },
   "outputs": [
    {
     "data": {
      "text/plain": [
       "<Figure size 800x600 with 1 Axes>"
      ],
      "image/png": "[encoded data removed]"
     },
     "metadata": {},
     "output_type": "display_data"
    }
   ],
   "execution_count": 22
  },
  {
   "cell_type": "markdown",
   "source": [
    "# Disclosure"
   ],
   "metadata": {
    "id": "klcHFsMjzp3m"
   }
  },
  {
   "metadata": {
    "ExecuteTime": {
     "end_time": "2025-03-09T17:03:04.755856Z",
     "start_time": "2025-03-09T17:03:04.748292Z"
    }
   },
   "cell_type": "code",
   "source": [
    "disclosure_count = {\n",
    "    'True': df['disclosure'].sum(),\n",
    "    'False': len(df) - df['disclosure'].sum()\n",
    "}\n",
    "\n",
    "disclosure_count"
   ],
   "outputs": [
    {
     "data": {
      "text/plain": [
       "{'True': np.int64(459), 'False': np.int64(4234)}"
      ]
     },
     "execution_count": 23,
     "metadata": {},
     "output_type": "execute_result"
    }
   ],
   "execution_count": 23
  },
  {
   "cell_type": "markdown",
   "metadata": {
    "id": "nb_L81b9mO1C"
   },
   "source": [
    "# Relevance to the input material"
   ]
  },
  {
   "cell_type": "code",
   "metadata": {
    "execution": {
     "iopub.execute_input": "2024-11-18T20:39:21.545396Z",
     "iopub.status.busy": "2024-11-18T20:39:21.54466Z",
     "iopub.status.idle": "2024-11-18T20:39:29.033346Z",
     "shell.execute_reply": "2024-11-18T20:39:29.032397Z",
     "shell.execute_reply.started": "2024-11-18T20:39:21.54536Z"
    },
    "id": "EbIfjd7ImO1C",
    "colab": {
     "base_uri": "https://localhost:8080/",
     "height": 542
    },
    "outputId": "dfd2992e-b57c-446f-ab97-5495b6cdc984",
    "ExecuteTime": {
     "end_time": "2025-03-09T17:03:28.810796Z",
     "start_time": "2025-03-09T17:03:28.725754Z"
    }
   },
   "source": [
    "plt.figure(figsize=(10, 6))\n",
    "counts, bins, patches = plt.hist(df['relevance'], bins=10, range=(0, 1), edgecolor='black')\n",
    "\n",
    "plt.xticks([round(x * 0.1, 1) for x in range(11)])\n",
    "\n",
    "for count, patch in zip(counts, patches):\n",
    "    if count > 0:\n",
    "        plt.text(patch.get_x() + patch.get_width() / 2, count, int(count),\n",
    "                 ha='center', va='bottom')\n",
    "\n",
    "plt.xlabel('Relevance Score')\n",
    "plt.ylabel('Frequency')\n",
    "plt.show()"
   ],
   "outputs": [
    {
     "data": {
      "text/plain": [
       "<Figure size 1000x600 with 1 Axes>"
      ],
      "image/png": "[encoded data removed]"
     },
     "metadata": {},
     "output_type": "display_data"
    }
   ],
   "execution_count": 24
  },
  {
   "cell_type": "markdown",
   "source": "# Ambiguity (cosine similarity)",
   "metadata": {
    "id": "6ue_cVZzrpi4"
   }
  },
  {
   "metadata": {
    "ExecuteTime": {
     "end_time": "2025-03-09T17:05:15.989490Z",
     "start_time": "2025-03-09T17:05:15.904605Z"
    }
   },
   "cell_type": "code",
   "source": [
    "plt.figure(figsize=(8, 6))\n",
    "plt.hist(df['ambiguity'], bins=10, edgecolor='black', alpha=0.7)\n",
    "\n",
    "plt.xlabel(\"Score\")\n",
    "plt.ylabel(\"Frequency\")\n",
    "plt.title(\"Distribution of Ambiguity\")"
   ],
   "outputs": [
    {
     "data": {
      "text/plain": [
       "Text(0.5, 1.0, 'Distribution of Ambiguity')"
      ]
     },
     "execution_count": 27,
     "metadata": {},
     "output_type": "execute_result"
    },
    {
     "data": {
      "text/plain": [
       "<Figure size 800x600 with 1 Axes>"
      ],
      "image/png": "[encoded data removed]"
     },
     "metadata": {},
     "output_type": "display_data"
    }
   ],
   "execution_count": 27
  },
  {
   "metadata": {},
   "cell_type": "markdown",
   "source": "# Difficulty (judge LLM)"
  },
  {
   "metadata": {
    "ExecuteTime": {
     "end_time": "2025-03-09T17:05:54.866848Z",
     "start_time": "2025-03-09T17:05:54.807957Z"
    }
   },
   "cell_type": "code",
   "source": [
    "import numpy as np\n",
    "\n",
    "plt.figure(figsize=(8, 6))\n",
    "plt.hist(df['difficulty'], bins=np.arange(1, 7)-0.5, edgecolor='black', alpha=0.7)\n",
    "\n",
    "plt.xlabel(\"Score\")\n",
    "plt.ylabel(\"Frequency\")\n",
    "plt.title(\"Distribution of Syntactic Ambiguity\")\n",
    "plt.xticks(range(1, 6))\n",
    "\n",
    "# Show the plot\n",
    "plt.show()"
   ],
   "outputs": [
    {
     "data": {
      "text/plain": [
       "<Figure size 800x600 with 1 Axes>"
      ],
      "image/png": "[encoded data removed]"
     },
     "metadata": {},
     "output_type": "display_data"
    }
   ],
   "execution_count": 28
  },
  {
   "cell_type": "markdown",
   "source": [
    "# Answerability\n",
    "can judge model answer the generated question with context provided?"
   ],
   "metadata": {
    "id": "rLiUkNeToPYR"
   }
  },
  {
   "cell_type": "code",
   "source": [
    "df['gpt_answer'].unique()"
   ],
   "metadata": {
    "colab": {
     "base_uri": "https://localhost:8080/"
    },
    "id": "RsEaI2fOplIU",
    "outputId": "ce5328c5-852e-419a-809d-e6595d2f8943",
    "ExecuteTime": {
     "end_time": "2025-03-09T17:06:16.927779Z",
     "start_time": "2025-03-09T17:06:16.923778Z"
    }
   },
   "outputs": [
    {
     "data": {
      "text/plain": [
       "array(['b', 'a', 'c', 'd'], dtype=object)"
      ]
     },
     "execution_count": 29,
     "metadata": {},
     "output_type": "execute_result"
    }
   ],
   "execution_count": 29
  },
  {
   "cell_type": "code",
   "source": [
    "df['correct_option'].unique()"
   ],
   "metadata": {
    "colab": {
     "base_uri": "https://localhost:8080/"
    },
    "id": "vjj90iEfp-TV",
    "outputId": "d1b4812f-8e29-45a7-baf8-d8ce96c9315b",
    "ExecuteTime": {
     "end_time": "2025-03-09T17:06:27.799725Z",
     "start_time": "2025-03-09T17:06:27.794797Z"
    }
   },
   "outputs": [
    {
     "data": {
      "text/plain": [
       "array(['b', 'a', 'c', 'd'], dtype=object)"
      ]
     },
     "execution_count": 30,
     "metadata": {},
     "output_type": "execute_result"
    }
   ],
   "execution_count": 30
  },
  {
   "cell_type": "code",
   "source": [
    "answerability_count = {\n",
    "    'True': (df['correct_option'] == df['gpt_answer']).sum(),\n",
    "    'False': len(df) - (df['correct_option'] == df['gpt_answer']).sum()\n",
    "}\n",
    "\n",
    "answerability_count"
   ],
   "metadata": {
    "colab": {
     "base_uri": "https://localhost:8080/"
    },
    "id": "sP21LFtNqBYO",
    "outputId": "85a9df9b-0448-4d93-e063-f5c66f5d17df",
    "ExecuteTime": {
     "end_time": "2025-03-09T17:06:34.695995Z",
     "start_time": "2025-03-09T17:06:34.689994Z"
    }
   },
   "outputs": [
    {
     "data": {
      "text/plain": [
       "{'True': np.int64(4679), 'False': np.int64(14)}"
      ]
     },
     "execution_count": 31,
     "metadata": {},
     "output_type": "execute_result"
    }
   ],
   "execution_count": 31
  },
  {
   "metadata": {},
   "cell_type": "code",
   "outputs": [],
   "execution_count": null,
   "source": ""
  }
 ]
}
