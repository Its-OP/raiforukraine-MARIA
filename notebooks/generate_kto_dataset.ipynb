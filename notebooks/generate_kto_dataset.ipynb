{
 "nbformat": 4,
 "nbformat_minor": 0,
 "metadata": {
  "colab": {
   "provenance": []
  },
  "kernelspec": {
   "name": "python3",
   "display_name": "Python 3 (ipykernel)",
   "language": "python"
  },
  "language_info": {
   "name": "python"
  }
 },
 "cells": [
  {
   "cell_type": "code",
   "metadata": {
    "colab": {
     "base_uri": "https://localhost:8080/",
     "height": 206
    },
    "id": "SV3Pym7xqPNA",
    "outputId": "70678b37-4477-4750-968e-e3fa81817869",
    "ExecuteTime": {
     "end_time": "2025-05-03T17:38:14.547906Z",
     "start_time": "2025-05-03T17:38:12.248479Z"
    }
   },
   "source": [
    "import pandas as pd\n",
    "df = pd.read_csv('../data/data_for_finetuning/Training_mcqs/train_pairs_for_dpo_thr_4.csv')\n",
    "df.head()"
   ],
   "outputs": [
    {
     "data": {
      "text/plain": [
       "             id                                             chosen  \\\n",
       "0  OIC-128-12-A  Question: What is the primary cause of osteoma...   \n",
       "1  OIC-128-12-A  Question: What is the primary cause of osteoma...   \n",
       "2  OIC-128-12-A  Question: What is the primary cause of osteoma...   \n",
       "3  OIC-130-04-B  Question: Which of the following is NOT a comm...   \n",
       "4  OIC-130-04-B  Question: Which of the following is NOT a comm...   \n",
       "\n",
       "                                            rejected  \\\n",
       "0  Question: What is the primary characteristic o...   \n",
       "1  Question: What is the main cause of osteomalac...   \n",
       "2  Question: What is the primary consequence of o...   \n",
       "3  Question: Which of the following is NOT a comm...   \n",
       "4  Question: What is a common reason for elderly ...   \n",
       "\n",
       "                chosen_source                 rejected_source  \n",
       "0  Llama1b_distractor_quality     gemma_9b_distractor_quality  \n",
       "1  Llama1b_distractor_quality  Llama8B_0.1_distractor_quality  \n",
       "2  Llama1b_distractor_quality      phi3.5b_distractor_quality  \n",
       "3  phi3.5b_distractor_quality     gemma_9b_distractor_quality  \n",
       "4  phi3.5b_distractor_quality  Llama8B_0.1_distractor_quality  "
      ],
      "text/html": [
       "<div>\n",
       "<style scoped>\n",
       "    .dataframe tbody tr th:only-of-type {\n",
       "        vertical-align: middle;\n",
       "    }\n",
       "\n",
       "    .dataframe tbody tr th {\n",
       "        vertical-align: top;\n",
       "    }\n",
       "\n",
       "    .dataframe thead th {\n",
       "        text-align: right;\n",
       "    }\n",
       "</style>\n",
       "<table border=\"1\" class=\"dataframe\">\n",
       "  <thead>\n",
       "    <tr style=\"text-align: right;\">\n",
       "      <th></th>\n",
       "      <th>id</th>\n",
       "      <th>chosen</th>\n",
       "      <th>rejected</th>\n",
       "      <th>chosen_source</th>\n",
       "      <th>rejected_source</th>\n",
       "    </tr>\n",
       "  </thead>\n",
       "  <tbody>\n",
       "    <tr>\n",
       "      <th>0</th>\n",
       "      <td>OIC-128-12-A</td>\n",
       "      <td>Question: What is the primary cause of osteoma...</td>\n",
       "      <td>Question: What is the primary characteristic o...</td>\n",
       "      <td>Llama1b_distractor_quality</td>\n",
       "      <td>gemma_9b_distractor_quality</td>\n",
       "    </tr>\n",
       "    <tr>\n",
       "      <th>1</th>\n",
       "      <td>OIC-128-12-A</td>\n",
       "      <td>Question: What is the primary cause of osteoma...</td>\n",
       "      <td>Question: What is the main cause of osteomalac...</td>\n",
       "      <td>Llama1b_distractor_quality</td>\n",
       "      <td>Llama8B_0.1_distractor_quality</td>\n",
       "    </tr>\n",
       "    <tr>\n",
       "      <th>2</th>\n",
       "      <td>OIC-128-12-A</td>\n",
       "      <td>Question: What is the primary cause of osteoma...</td>\n",
       "      <td>Question: What is the primary consequence of o...</td>\n",
       "      <td>Llama1b_distractor_quality</td>\n",
       "      <td>phi3.5b_distractor_quality</td>\n",
       "    </tr>\n",
       "    <tr>\n",
       "      <th>3</th>\n",
       "      <td>OIC-130-04-B</td>\n",
       "      <td>Question: Which of the following is NOT a comm...</td>\n",
       "      <td>Question: Which of the following is NOT a comm...</td>\n",
       "      <td>phi3.5b_distractor_quality</td>\n",
       "      <td>gemma_9b_distractor_quality</td>\n",
       "    </tr>\n",
       "    <tr>\n",
       "      <th>4</th>\n",
       "      <td>OIC-130-04-B</td>\n",
       "      <td>Question: Which of the following is NOT a comm...</td>\n",
       "      <td>Question: What is a common reason for elderly ...</td>\n",
       "      <td>phi3.5b_distractor_quality</td>\n",
       "      <td>Llama8B_0.1_distractor_quality</td>\n",
       "    </tr>\n",
       "  </tbody>\n",
       "</table>\n",
       "</div>"
      ]
     },
     "execution_count": 1,
     "metadata": {},
     "output_type": "execute_result"
    }
   ],
   "execution_count": 1
  },
  {
   "cell_type": "code",
   "source": [
    "df.columns"
   ],
   "metadata": {
    "colab": {
     "base_uri": "https://localhost:8080/"
    },
    "id": "RKYOLQRJqd9W",
    "outputId": "4594e125-8671-4a1f-83ed-42444187e433",
    "ExecuteTime": {
     "end_time": "2025-05-03T17:38:14.553434Z",
     "start_time": "2025-05-03T17:38:14.547906Z"
    }
   },
   "outputs": [
    {
     "data": {
      "text/plain": [
       "Index(['id', 'chosen', 'rejected', 'chosen_source', 'rejected_source'], dtype='object')"
      ]
     },
     "execution_count": 2,
     "metadata": {},
     "output_type": "execute_result"
    }
   ],
   "execution_count": 2
  },
  {
   "cell_type": "code",
   "source": [
    "chosen_part   = (df[['id', 'chosen', 'chosen_source']]\n",
    "                 .rename(columns={'chosen': 'completion',\n",
    "                                  'chosen_source': 'source'})\n",
    "                 .assign(label=True))\n",
    "\n",
    "rejected_part = (df[['id', 'rejected', 'rejected_source']]\n",
    "                 .rename(columns={'rejected': 'completion',\n",
    "                                  'rejected_source': 'source'})\n",
    "                 .assign(label=False))\n",
    "\n",
    "# combine and reorder columns ---------------------------------------------\n",
    "new_df = (pd.concat([chosen_part, rejected_part], ignore_index=True)\n",
    "            [['id', 'completion', 'label', 'source']])\n",
    "\n",
    "new_df.head()"
   ],
   "metadata": {
    "colab": {
     "base_uri": "https://localhost:8080/",
     "height": 206
    },
    "id": "30n82qXKrJOf",
    "outputId": "3d6adf1d-2018-4be7-c154-b65a4539f28c",
    "ExecuteTime": {
     "end_time": "2025-05-03T17:38:14.579881Z",
     "start_time": "2025-05-03T17:38:14.554417Z"
    }
   },
   "outputs": [
    {
     "data": {
      "text/plain": [
       "             id                                         completion  label  \\\n",
       "0  OIC-128-12-A  Question: What is the primary cause of osteoma...   True   \n",
       "1  OIC-128-12-A  Question: What is the primary cause of osteoma...   True   \n",
       "2  OIC-128-12-A  Question: What is the primary cause of osteoma...   True   \n",
       "3  OIC-130-04-B  Question: Which of the following is NOT a comm...   True   \n",
       "4  OIC-130-04-B  Question: Which of the following is NOT a comm...   True   \n",
       "\n",
       "                       source  \n",
       "0  Llama1b_distractor_quality  \n",
       "1  Llama1b_distractor_quality  \n",
       "2  Llama1b_distractor_quality  \n",
       "3  phi3.5b_distractor_quality  \n",
       "4  phi3.5b_distractor_quality  "
      ],
      "text/html": [
       "<div>\n",
       "<style scoped>\n",
       "    .dataframe tbody tr th:only-of-type {\n",
       "        vertical-align: middle;\n",
       "    }\n",
       "\n",
       "    .dataframe tbody tr th {\n",
       "        vertical-align: top;\n",
       "    }\n",
       "\n",
       "    .dataframe thead th {\n",
       "        text-align: right;\n",
       "    }\n",
       "</style>\n",
       "<table border=\"1\" class=\"dataframe\">\n",
       "  <thead>\n",
       "    <tr style=\"text-align: right;\">\n",
       "      <th></th>\n",
       "      <th>id</th>\n",
       "      <th>completion</th>\n",
       "      <th>label</th>\n",
       "      <th>source</th>\n",
       "    </tr>\n",
       "  </thead>\n",
       "  <tbody>\n",
       "    <tr>\n",
       "      <th>0</th>\n",
       "      <td>OIC-128-12-A</td>\n",
       "      <td>Question: What is the primary cause of osteoma...</td>\n",
       "      <td>True</td>\n",
       "      <td>Llama1b_distractor_quality</td>\n",
       "    </tr>\n",
       "    <tr>\n",
       "      <th>1</th>\n",
       "      <td>OIC-128-12-A</td>\n",
       "      <td>Question: What is the primary cause of osteoma...</td>\n",
       "      <td>True</td>\n",
       "      <td>Llama1b_distractor_quality</td>\n",
       "    </tr>\n",
       "    <tr>\n",
       "      <th>2</th>\n",
       "      <td>OIC-128-12-A</td>\n",
       "      <td>Question: What is the primary cause of osteoma...</td>\n",
       "      <td>True</td>\n",
       "      <td>Llama1b_distractor_quality</td>\n",
       "    </tr>\n",
       "    <tr>\n",
       "      <th>3</th>\n",
       "      <td>OIC-130-04-B</td>\n",
       "      <td>Question: Which of the following is NOT a comm...</td>\n",
       "      <td>True</td>\n",
       "      <td>phi3.5b_distractor_quality</td>\n",
       "    </tr>\n",
       "    <tr>\n",
       "      <th>4</th>\n",
       "      <td>OIC-130-04-B</td>\n",
       "      <td>Question: Which of the following is NOT a comm...</td>\n",
       "      <td>True</td>\n",
       "      <td>phi3.5b_distractor_quality</td>\n",
       "    </tr>\n",
       "  </tbody>\n",
       "</table>\n",
       "</div>"
      ]
     },
     "execution_count": 3,
     "metadata": {},
     "output_type": "execute_result"
    }
   ],
   "execution_count": 3
  },
  {
   "cell_type": "code",
   "source": "new_df.to_csv('../data/data_for_finetuning/Training_mcqs/train_pairs_for_kto_thr_4.csv', index=False)",
   "metadata": {
    "id": "8nrJKD5irOTr",
    "ExecuteTime": {
     "end_time": "2025-05-03T17:38:14.704321Z",
     "start_time": "2025-05-03T17:38:14.579881Z"
    }
   },
   "outputs": [],
   "execution_count": 4
  }
 ]
}
