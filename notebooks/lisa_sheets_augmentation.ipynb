{
 "metadata": {
  "kernelspec": {
   "language": "python",
   "display_name": "Python 3",
   "name": "python3"
  },
  "language_info": {
   "name": "python",
   "version": "3.10.12",
   "mimetype": "text/x-python",
   "codemirror_mode": {
    "name": "ipython",
    "version": 3
   },
   "pygments_lexer": "ipython3",
   "nbconvert_exporter": "python",
   "file_extension": ".py"
  },
  "kaggle": {
   "accelerator": "none",
   "dataSources": [
    {
     "sourceId": 10889588,
     "sourceType": "datasetVersion",
     "datasetId": 6766939
    }
   ],
   "dockerImageVersionId": 30918,
   "isInternetEnabled": true,
   "language": "python",
   "sourceType": "notebook",
   "isGpuEnabled": false
  }
 },
 "nbformat_minor": 4,
 "nbformat": 4,
 "cells": [
  {
   "cell_type": "code",
   "source": "import numpy as np\nimport pandas as pd",
   "metadata": {
    "_uuid": "8f2839f25d086af736a60e9eeb907d3b93b6e0e5",
    "_cell_guid": "b1076dfc-b9ad-4769-8c92-a6c4dae69d19",
    "trusted": true,
    "execution": {
     "iopub.status.busy": "2025-03-01T13:31:19.757024Z",
     "iopub.execute_input": "2025-03-01T13:31:19.757433Z",
     "iopub.status.idle": "2025-03-01T13:31:20.924994Z",
     "shell.execute_reply.started": "2025-03-01T13:31:19.757391Z",
     "shell.execute_reply": "2025-03-01T13:31:20.923899Z"
    },
    "ExecuteTime": {
     "end_time": "2025-03-01T14:59:43.591609Z",
     "start_time": "2025-03-01T14:59:41.335572Z"
    }
   },
   "outputs": [],
   "execution_count": 1
  },
  {
   "cell_type": "code",
   "source": [
    "import os\n",
    "# Set the root directory that contains the folders (e.g., 'IC-001', 'IC-002', etc.)\n",
    "root_path = \"../data/lisa_sheets\"\n",
    "\n",
    "# List to hold the data for each file\n",
    "data = []\n",
    "\n",
    "# Loop over each folder in the root directory\n",
    "for folder in os.listdir(root_path):\n",
    "    folder_path = os.path.join(root_path, folder)\n",
    "    if os.path.isdir(folder_path):\n",
    "        # Loop over each file in the folder\n",
    "        for file in os.listdir(folder_path):\n",
    "            if file.endswith(\".txt\"):\n",
    "                file_path = os.path.join(folder_path, file)\n",
    "                # Read the file content\n",
    "                with open(file_path, \"r\", encoding=\"utf-8\") as f:\n",
    "                    content = f.read()\n",
    "                # Append a dictionary with folder name, file id (without extension), and content\n",
    "                data.append({\n",
    "                    \"folder\": folder,\n",
    "                    \"id\": os.path.splitext(file)[0],\n",
    "                    \"content_raw\": content\n",
    "                })\n",
    "\n",
    "# Create a DataFrame from the list of dictionaries\n",
    "df = pd.DataFrame(data)\n",
    "df.head()"
   ],
   "metadata": {
    "trusted": true,
    "execution": {
     "iopub.status.busy": "2025-03-01T14:40:50.113642Z",
     "iopub.execute_input": "2025-03-01T14:40:50.114032Z",
     "iopub.status.idle": "2025-03-01T14:40:56.759559Z",
     "shell.execute_reply.started": "2025-03-01T14:40:50.114001Z",
     "shell.execute_reply": "2025-03-01T14:40:56.758432Z"
    },
    "ExecuteTime": {
     "end_time": "2025-03-01T15:00:18.940942Z",
     "start_time": "2025-03-01T14:59:58.526302Z"
    }
   },
   "outputs": [
    {
     "data": {
      "text/plain": [
       "   folder            id                                        content_raw\n",
       "0  IC-001  OIC-001-01-A  {{knowledge objective\\n|Identifiant=OIC-001-01...\n",
       "1  IC-001  OIC-001-02-A  {{knowledge objective\\n|Identifiant=OIC-001-02...\n",
       "2  IC-001  OIC-001-03-A  {{knowledge objective\\n|Identifiant=OIC-001-03...\n",
       "3  IC-001  OIC-001-04-A  {{knowledge objective\\n|Identifiant=OIC-001-04...\n",
       "4  IC-001  OIC-001-05-A  {{knowledge objective\\n|Identifiant=OIC-001-05..."
      ],
      "text/html": [
       "<div>\n",
       "<style scoped>\n",
       "    .dataframe tbody tr th:only-of-type {\n",
       "        vertical-align: middle;\n",
       "    }\n",
       "\n",
       "    .dataframe tbody tr th {\n",
       "        vertical-align: top;\n",
       "    }\n",
       "\n",
       "    .dataframe thead th {\n",
       "        text-align: right;\n",
       "    }\n",
       "</style>\n",
       "<table border=\"1\" class=\"dataframe\">\n",
       "  <thead>\n",
       "    <tr style=\"text-align: right;\">\n",
       "      <th></th>\n",
       "      <th>folder</th>\n",
       "      <th>id</th>\n",
       "      <th>content_raw</th>\n",
       "    </tr>\n",
       "  </thead>\n",
       "  <tbody>\n",
       "    <tr>\n",
       "      <th>0</th>\n",
       "      <td>IC-001</td>\n",
       "      <td>OIC-001-01-A</td>\n",
       "      <td>{{knowledge objective\\n|Identifiant=OIC-001-01...</td>\n",
       "    </tr>\n",
       "    <tr>\n",
       "      <th>1</th>\n",
       "      <td>IC-001</td>\n",
       "      <td>OIC-001-02-A</td>\n",
       "      <td>{{knowledge objective\\n|Identifiant=OIC-001-02...</td>\n",
       "    </tr>\n",
       "    <tr>\n",
       "      <th>2</th>\n",
       "      <td>IC-001</td>\n",
       "      <td>OIC-001-03-A</td>\n",
       "      <td>{{knowledge objective\\n|Identifiant=OIC-001-03...</td>\n",
       "    </tr>\n",
       "    <tr>\n",
       "      <th>3</th>\n",
       "      <td>IC-001</td>\n",
       "      <td>OIC-001-04-A</td>\n",
       "      <td>{{knowledge objective\\n|Identifiant=OIC-001-04...</td>\n",
       "    </tr>\n",
       "    <tr>\n",
       "      <th>4</th>\n",
       "      <td>IC-001</td>\n",
       "      <td>OIC-001-05-A</td>\n",
       "      <td>{{knowledge objective\\n|Identifiant=OIC-001-05...</td>\n",
       "    </tr>\n",
       "  </tbody>\n",
       "</table>\n",
       "</div>"
      ]
     },
     "execution_count": 3,
     "metadata": {},
     "output_type": "execute_result"
    }
   ],
   "execution_count": 3
  },
  {
   "cell_type": "code",
   "source": [
    "from tqdm.auto import tqdm\n",
    "\n",
    "def extract_properties_from_metadata(text):\n",
    "    \"\"\"\n",
    "    Extract specified properties from a knowledge objective text block.\n",
    "    \n",
    "    Args:\n",
    "        text (str): The text containing the properties in the knowledge objective format\n",
    "        \n",
    "    Returns:\n",
    "        dict: Dictionary containing the extracted properties\n",
    "    \"\"\"\n",
    "    # Initialize dictionary to store the extracted properties\n",
    "    properties = {\n",
    "        'Item_parent': '',\n",
    "        'Title': '',\n",
    "        'Description': '',\n",
    "        'Item': '',\n",
    "        'Rubric': ''  # Added Rubric property\n",
    "    }\n",
    "    \n",
    "    # Split the text by lines\n",
    "    lines = text.strip().split('\\n')\n",
    "    \n",
    "    # Extract the properties from each line\n",
    "    for line in lines:\n",
    "        line = line.strip()\n",
    "        \n",
    "        # Skip lines that don't contain property information\n",
    "        if '=' not in line:\n",
    "            continue\n",
    "            \n",
    "        # Extract property name and value\n",
    "        parts = line.split('=', 1)\n",
    "        if len(parts) != 2:\n",
    "            continue\n",
    "            \n",
    "        prop_name = parts[0].strip('|')\n",
    "        prop_value = parts[1].strip()\n",
    "        \n",
    "        # Store the properties we're interested in\n",
    "        if prop_name in properties:\n",
    "            # Remove any trailing characters like commas or closing braces\n",
    "            properties[prop_name] = prop_value.rstrip(',}')\n",
    "    \n",
    "    return properties\n",
    "\n",
    "def format_properties_for_content(properties):\n",
    "    \"\"\"\n",
    "    Format properties to be prepended to content.\n",
    "    \n",
    "    Args:\n",
    "        properties (dict): Dictionary of extracted properties\n",
    "        \n",
    "    Returns:\n",
    "        str: Formatted properties text\n",
    "    \"\"\"\n",
    "    # Format the extracted properties as a list (excluding Rubric which goes to its own column)\n",
    "    content_properties = {k: v for k, v in properties.items()} # if k != 'Rubric'}\n",
    "    \n",
    "    formatted_properties = []\n",
    "    for prop, value in content_properties.items():\n",
    "        if value:  # Only include properties that have values\n",
    "            formatted_properties.append(f\"**{prop}:** {value}\")\n",
    "    \n",
    "    # Join the formatted properties with semicolons and newlines\n",
    "    properties_text = \";\\n\".join(formatted_properties)\n",
    "    \n",
    "    # If properties were found, add a semicolon to the end and leave an empty line\n",
    "    if properties_text:\n",
    "        properties_text += \";\\n\\n\"\n",
    "    \n",
    "    return properties_text\n",
    "\n",
    "def process_row_content(row):\n",
    "    \"\"\"\n",
    "    Process a row of data by extracting properties from content.\n",
    "    \n",
    "    Args:\n",
    "        row (pd.Series): A row from the dataframe\n",
    "        \n",
    "    Returns:\n",
    "        tuple: (processed_content, rubric_value)\n",
    "    \"\"\"\n",
    "    if 'content_raw' not in row:\n",
    "        return \"No content available\", \"\"\n",
    "    \n",
    "    content = row['content_raw']\n",
    "    \n",
    "    # Look for the knowledge objective block pattern\n",
    "    if \"{{knowledge objective\" in content:\n",
    "        # Extract the knowledge objective block\n",
    "        start_idx = content.find(\"{{knowledge objective\")\n",
    "        end_idx = content.find(\"}}\", start_idx)\n",
    "        \n",
    "        if end_idx > start_idx:\n",
    "            knowledge_block = content[start_idx:end_idx+2]\n",
    "            \n",
    "            # Extract remaining content (if any) after the knowledge block\n",
    "            remaining_content = content[end_idx+2:].strip()\n",
    "            \n",
    "            # Extract properties\n",
    "            properties = extract_properties_from_metadata(knowledge_block)\n",
    "            \n",
    "            # Format properties for content\n",
    "            formatted_properties = format_properties_for_content(properties)\n",
    "            \n",
    "            # Extract rubric value\n",
    "            rubric_value = properties.get('Rubric', '')\n",
    "            \n",
    "            # Prepend the formatted properties to the content\n",
    "            processed_content = formatted_properties + remaining_content\n",
    "            \n",
    "            return processed_content, rubric_value\n",
    "    \n",
    "    # If no knowledge block found, return original content and empty rubric\n",
    "    return content, \"\"\n",
    "\n",
    "def process_metadata_in_lisa_sheets(df, input_col='content_raw', content_col='content_cleaned', rubric_col='rubric'):\n",
    "    \"\"\"\n",
    "    Apply the extraction and preprocessing function to create new columns in the dataframe.\n",
    "    \n",
    "    Args:\n",
    "        df (pd.DataFrame): The dataframe to process\n",
    "        input_col (str): The name of the column containing the original content\n",
    "        content_col (str): The name of the new column for processed content\n",
    "        rubric_col (str): The name of the new column for rubric values\n",
    "        \n",
    "    Returns:\n",
    "        pd.DataFrame: The dataframe with the new columns added\n",
    "    \"\"\"\n",
    "    # Make a copy to avoid modifying the original\n",
    "    result_df = df.copy()\n",
    "    \n",
    "    # Create a progress bar\n",
    "    tqdm.pandas(desc=\"Processing rows\")\n",
    "    \n",
    "    # Apply the function to each row\n",
    "    results = result_df.progress_apply(process_row_content, axis=1)\n",
    "    \n",
    "    # Split the results into separate columns\n",
    "    result_df[content_col], result_df[rubric_col] = zip(*results)\n",
    "    \n",
    "    return result_df"
   ],
   "metadata": {
    "trusted": true,
    "execution": {
     "iopub.status.busy": "2025-03-01T14:45:24.166599Z",
     "iopub.execute_input": "2025-03-01T14:45:24.167069Z",
     "iopub.status.idle": "2025-03-01T14:45:24.181045Z",
     "shell.execute_reply.started": "2025-03-01T14:45:24.167034Z",
     "shell.execute_reply": "2025-03-01T14:45:24.179116Z"
    },
    "ExecuteTime": {
     "end_time": "2025-03-01T15:01:26.403245Z",
     "start_time": "2025-03-01T15:01:26.175629Z"
    }
   },
   "outputs": [],
   "execution_count": 6
  },
  {
   "cell_type": "code",
   "source": "result_df = process_metadata_in_lisa_sheets(df)\nresult_df.head()",
   "metadata": {
    "trusted": true,
    "execution": {
     "iopub.status.busy": "2025-03-01T14:45:26.325046Z",
     "iopub.execute_input": "2025-03-01T14:45:26.325462Z",
     "iopub.status.idle": "2025-03-01T14:45:26.486971Z",
     "shell.execute_reply.started": "2025-03-01T14:45:26.325431Z",
     "shell.execute_reply": "2025-03-01T14:45:26.485610Z"
    },
    "ExecuteTime": {
     "end_time": "2025-03-01T15:01:28.388016Z",
     "start_time": "2025-03-01T15:01:28.287313Z"
    }
   },
   "outputs": [
    {
     "data": {
      "text/plain": [
       "Processing rows:   0%|          | 0/4875 [00:00<?, ?it/s]"
      ],
      "application/vnd.jupyter.widget-view+json": {
       "version_major": 2,
       "version_minor": 0,
       "model_id": "4ba724fa50aa4f38af8a4fc10bdec877"
      }
     },
     "metadata": {},
     "output_type": "display_data"
    },
    {
     "data": {
      "text/plain": [
       "   folder            id                                        content_raw  \\\n",
       "0  IC-001  OIC-001-01-A  {{knowledge objective\\n|Identifiant=OIC-001-01...   \n",
       "1  IC-001  OIC-001-02-A  {{knowledge objective\\n|Identifiant=OIC-001-02...   \n",
       "2  IC-001  OIC-001-03-A  {{knowledge objective\\n|Identifiant=OIC-001-03...   \n",
       "3  IC-001  OIC-001-04-A  {{knowledge objective\\n|Identifiant=OIC-001-04...   \n",
       "4  IC-001  OIC-001-05-A  {{knowledge objective\\n|Identifiant=OIC-001-05...   \n",
       "\n",
       "                                     content_cleaned      rubric  \n",
       "0  **Item_parent:** The doctor-patient relationsh...  Definition  \n",
       "1  **Item_parent:** The doctor-patient relationsh...  Definition  \n",
       "2  **Item_parent:** The doctor-patient relationsh...  Definition  \n",
       "3  **Item_parent:** The doctor-patient relationsh...              \n",
       "4  **Item_parent:** The doctor-patient relationsh...  Definition  "
      ],
      "text/html": [
       "<div>\n",
       "<style scoped>\n",
       "    .dataframe tbody tr th:only-of-type {\n",
       "        vertical-align: middle;\n",
       "    }\n",
       "\n",
       "    .dataframe tbody tr th {\n",
       "        vertical-align: top;\n",
       "    }\n",
       "\n",
       "    .dataframe thead th {\n",
       "        text-align: right;\n",
       "    }\n",
       "</style>\n",
       "<table border=\"1\" class=\"dataframe\">\n",
       "  <thead>\n",
       "    <tr style=\"text-align: right;\">\n",
       "      <th></th>\n",
       "      <th>folder</th>\n",
       "      <th>id</th>\n",
       "      <th>content_raw</th>\n",
       "      <th>content_cleaned</th>\n",
       "      <th>rubric</th>\n",
       "    </tr>\n",
       "  </thead>\n",
       "  <tbody>\n",
       "    <tr>\n",
       "      <th>0</th>\n",
       "      <td>IC-001</td>\n",
       "      <td>OIC-001-01-A</td>\n",
       "      <td>{{knowledge objective\\n|Identifiant=OIC-001-01...</td>\n",
       "      <td>**Item_parent:** The doctor-patient relationsh...</td>\n",
       "      <td>Definition</td>\n",
       "    </tr>\n",
       "    <tr>\n",
       "      <th>1</th>\n",
       "      <td>IC-001</td>\n",
       "      <td>OIC-001-02-A</td>\n",
       "      <td>{{knowledge objective\\n|Identifiant=OIC-001-02...</td>\n",
       "      <td>**Item_parent:** The doctor-patient relationsh...</td>\n",
       "      <td>Definition</td>\n",
       "    </tr>\n",
       "    <tr>\n",
       "      <th>2</th>\n",
       "      <td>IC-001</td>\n",
       "      <td>OIC-001-03-A</td>\n",
       "      <td>{{knowledge objective\\n|Identifiant=OIC-001-03...</td>\n",
       "      <td>**Item_parent:** The doctor-patient relationsh...</td>\n",
       "      <td>Definition</td>\n",
       "    </tr>\n",
       "    <tr>\n",
       "      <th>3</th>\n",
       "      <td>IC-001</td>\n",
       "      <td>OIC-001-04-A</td>\n",
       "      <td>{{knowledge objective\\n|Identifiant=OIC-001-04...</td>\n",
       "      <td>**Item_parent:** The doctor-patient relationsh...</td>\n",
       "      <td></td>\n",
       "    </tr>\n",
       "    <tr>\n",
       "      <th>4</th>\n",
       "      <td>IC-001</td>\n",
       "      <td>OIC-001-05-A</td>\n",
       "      <td>{{knowledge objective\\n|Identifiant=OIC-001-05...</td>\n",
       "      <td>**Item_parent:** The doctor-patient relationsh...</td>\n",
       "      <td>Definition</td>\n",
       "    </tr>\n",
       "  </tbody>\n",
       "</table>\n",
       "</div>"
      ]
     },
     "execution_count": 7,
     "metadata": {},
     "output_type": "execute_result"
    }
   ],
   "execution_count": 7
  },
  {
   "cell_type": "code",
   "source": "# Drop multimedia\nresult_df = result_df[result_df['rubric']!='Multimedia content'].reset_index(drop=True)",
   "metadata": {
    "trusted": true,
    "execution": {
     "iopub.status.busy": "2025-03-01T14:45:31.178812Z",
     "iopub.execute_input": "2025-03-01T14:45:31.179250Z",
     "iopub.status.idle": "2025-03-01T14:45:31.195946Z",
     "shell.execute_reply.started": "2025-03-01T14:45:31.179206Z",
     "shell.execute_reply": "2025-03-01T14:45:31.194412Z"
    },
    "ExecuteTime": {
     "end_time": "2025-03-01T15:01:46.167392Z",
     "start_time": "2025-03-01T15:01:46.155042Z"
    }
   },
   "outputs": [],
   "execution_count": 8
  },
  {
   "cell_type": "code",
   "source": "len(result_df)",
   "metadata": {
    "trusted": true,
    "execution": {
     "iopub.status.busy": "2025-03-01T14:45:38.892421Z",
     "iopub.execute_input": "2025-03-01T14:45:38.892913Z",
     "iopub.status.idle": "2025-03-01T14:45:38.900546Z",
     "shell.execute_reply.started": "2025-03-01T14:45:38.892876Z",
     "shell.execute_reply": "2025-03-01T14:45:38.899393Z"
    },
    "ExecuteTime": {
     "end_time": "2025-03-01T15:01:47.315752Z",
     "start_time": "2025-03-01T15:01:47.309444Z"
    }
   },
   "outputs": [
    {
     "data": {
      "text/plain": [
       "4693"
      ]
     },
     "execution_count": 9,
     "metadata": {},
     "output_type": "execute_result"
    }
   ],
   "execution_count": 9
  },
  {
   "cell_type": "code",
   "source": "print(result_df['content_raw'][1])",
   "metadata": {
    "trusted": true,
    "execution": {
     "iopub.status.busy": "2025-03-01T14:45:44.483811Z",
     "iopub.execute_input": "2025-03-01T14:45:44.484247Z",
     "iopub.status.idle": "2025-03-01T14:45:44.491004Z",
     "shell.execute_reply.started": "2025-03-01T14:45:44.484210Z",
     "shell.execute_reply": "2025-03-01T14:45:44.489708Z"
    },
    "ExecuteTime": {
     "end_time": "2025-03-01T15:02:08.055364Z",
     "start_time": "2025-03-01T15:02:08.049017Z"
    }
   },
   "outputs": [
    {
     "name": "stdout",
     "output_type": "stream",
     "text": [
      "{{knowledge objective\n",
      "|Identifiant=OIC-001-02-A\n",
      "|Item_parent=The doctor-patient relationship in the context of a one-to-one discussion or within a team, which may be multi-professional. Communicating with patients and their families. Announcing a serious or fatal illness or damage associated with care. Patient education. Personalising medical care.\n",
      "|Item_parent_short=The doctor-patient relationship in the context of a one-to-one discussion or within a team, which may be multi-professional. Communicating with patients and their families. Announcing a serious or fatal illness or a life-threatening ...\n",
      "|Rank=A\n",
      "|Title=Knowing the main determinants of the doctor-patient relationship\n",
      "|Description=Psychological, ethical, social, etc. determinants.\n",
      "|Rubric=Definition\n",
      "|Contributors=\n",
      "|Order=2}}\n",
      "The medical act is the moment when 3 goals converge: that of the patient, that of the doctor and that of society. These goals lead to interactions between the various determinants of the relationship, which fall into the following areas:\n",
      "\n",
      "- ethics: the respect, dignity and freedom of the individual, his or her group and the community\n",
      "\n",
      "- social: language difficulties, cultural and even religious factors, level of education, sensory deficits, etc.\n",
      "\n",
      "psychological: the patient's and the doctor's perspectives at the time of the consultation, and the distancing of life events <br />.\n"
     ]
    }
   ],
   "execution_count": 12
  },
  {
   "cell_type": "code",
   "source": "print(result_df['content_cleaned'][0])",
   "metadata": {
    "trusted": true,
    "execution": {
     "iopub.status.busy": "2025-03-01T14:46:07.648084Z",
     "iopub.execute_input": "2025-03-01T14:46:07.648430Z",
     "iopub.status.idle": "2025-03-01T14:46:07.654420Z",
     "shell.execute_reply.started": "2025-03-01T14:46:07.648406Z",
     "shell.execute_reply": "2025-03-01T14:46:07.653106Z"
    },
    "ExecuteTime": {
     "end_time": "2025-03-01T15:02:42.093588Z",
     "start_time": "2025-03-01T15:02:42.083504Z"
    }
   },
   "outputs": [
    {
     "name": "stdout",
     "output_type": "stream",
     "text": [
      "**Item_parent:** The doctor-patient relationship in the context of a one-to-one discussion or within a team, which may be multi-professional. Communicating with patients and their families. Announcing a serious or fatal illness or damage associated with care. Patient education. Personalising medical care.;\n",
      "**Title:** Knowing the definition of the doctor-patient relationship;\n",
      "**Description:** The main characteristics of the doctor-patient relationship. E.g. Paternalistic model/centred on self-determination/patient as partner in care.;\n",
      "**Rubric:** Definition;\n",
      "\n",
      "A meeting between a carer and a cared-for person:\n",
      "\n",
      "- Previously, the approach was mainly paternalistic and biomedical.\n",
      "\n",
      "- From now on, this will be a global approach, i.e. bio-medical-psychosocial, centred on the patient and not their disease(s).\n",
      "\n",
      "The patient is a partner in the care process: his or her experience and experiences are integrated into the caregiver's approach.\n"
     ]
    }
   ],
   "execution_count": 19
  },
  {
   "metadata": {
    "ExecuteTime": {
     "end_time": "2025-03-01T15:10:45.356141Z",
     "start_time": "2025-03-01T15:10:45.351086Z"
    }
   },
   "cell_type": "code",
   "source": [
    "import os\n",
    "from dotenv import load_dotenv\n",
    "\n",
    "load_dotenv()\n",
    "OPENAI_KEY = os.environ.get(\"OPENAI_KEY\")\n",
    "\n",
    "\n",
    "#from kaggle_secrets import UserSecretsClient\n",
    "#OPENAI_KEY = UserSecretsClient().get_secret(\"OPENAI_KEY\")"
   ],
   "outputs": [],
   "execution_count": 25
  },
  {
   "cell_type": "code",
   "source": [
    "from openai import OpenAI\n",
    "client = OpenAI(api_key = OPENAI_KEY)\n",
    "\n",
    "def call_openai_api(system, user):\n",
    "    try:\n",
    "        response = client.chat.completions.create(\n",
    "            model=\"gpt-4o\",\n",
    "            temperature=0.2,\n",
    "            messages=[\n",
    "                {\"role\": \"system\", \"content\": system},\n",
    "                {\"role\": \"user\", \"content\": user}\n",
    "            ]\n",
    "        )\n",
    "        return response.choices[0].message.content\n",
    "    except Exception as e:\n",
    "        print(f\"Error occurred: {e}\")\n",
    "        return None"
   ],
   "metadata": {
    "trusted": true,
    "execution": {
     "iopub.status.busy": "2025-03-01T14:48:43.099369Z",
     "iopub.execute_input": "2025-03-01T14:48:43.099799Z",
     "iopub.status.idle": "2025-03-01T14:48:43.501433Z",
     "shell.execute_reply.started": "2025-03-01T14:48:43.099765Z",
     "shell.execute_reply": "2025-03-01T14:48:43.500378Z"
    },
    "ExecuteTime": {
     "end_time": "2025-03-01T15:11:28.742041Z",
     "start_time": "2025-03-01T15:11:25.604089Z"
    }
   },
   "outputs": [],
   "execution_count": 26
  },
  {
   "cell_type": "code",
   "source": "system_prompt = \"\"\"\nYou are an expert in text preprocessing for NLP applications. Your task is to clean up the following medical text while preserving all its essential information. Specifically:\n\n1. **Remove or replace wiki-style links** (e.g., `[[Abnormal genital bleeding (outside known pregnancy) SD-112|genital bleeding]]` should become `\"Abnormal genital bleeding (SD-112)\"`).\n2. **Ensure consistent section formatting**:\n   - Convert section titles to a uniform format (e.g., `== Definitions ==`).\n   - Remove excessive use of bold (`'''`) and italics (`''`) unless necessary.\n3. **Remove or replace image references**:\n   - If an image is mentioned (`[File:Higham score.png|vignette|Higham score]]`), replace it with a descriptive text (e.g., `\"The Higham score is used to assess menorrhagia severity.\"`).\n4. **Standardize lists and bullet points**:\n   - Ensure bullet points follow a clear structure.\n   - Remove any unnecessary symbols or broken formatting.\n5. **Keep all medical terms and numerical values unchanged.**\n6. **Ensure the final text is well-structured, readable, and suitable for NLP processing.**\n\nClean up the text provided to you.\n\"\"\"",
   "metadata": {
    "trusted": true,
    "execution": {
     "iopub.status.busy": "2025-03-01T13:43:13.945342Z",
     "iopub.execute_input": "2025-03-01T13:43:13.945713Z",
     "iopub.status.idle": "2025-03-01T13:43:13.951240Z",
     "shell.execute_reply.started": "2025-03-01T13:43:13.945686Z",
     "shell.execute_reply": "2025-03-01T13:43:13.949727Z"
    },
    "ExecuteTime": {
     "end_time": "2025-03-01T15:11:30.172558Z",
     "start_time": "2025-03-01T15:11:30.167254Z"
    }
   },
   "outputs": [],
   "execution_count": 27
  },
  {
   "cell_type": "code",
   "source": "def generate_prompt_for_question(row):\n    lisa_sheet_raw = row['content_cleaned']\n    user_prompt = f\"\"\"Medical text:\\n-------------\\n{lisa_sheet_raw}\"\"\"\n    try:\n        return call_openai_api(system_prompt, user_prompt)\n    except Exception as e:\n        print(f\"Error processing question at index {row.id}: {e}\")\n        return None",
   "metadata": {
    "trusted": true,
    "execution": {
     "iopub.status.busy": "2025-03-01T14:17:55.224742Z",
     "iopub.execute_input": "2025-03-01T14:17:55.225139Z",
     "iopub.status.idle": "2025-03-01T14:17:55.233135Z",
     "shell.execute_reply.started": "2025-03-01T14:17:55.225100Z",
     "shell.execute_reply": "2025-03-01T14:17:55.231222Z"
    },
    "ExecuteTime": {
     "end_time": "2025-03-01T15:11:32.391315Z",
     "start_time": "2025-03-01T15:11:32.386161Z"
    }
   },
   "outputs": [],
   "execution_count": 28
  },
  {
   "cell_type": "code",
   "source": "test_df = result_df[:50]\nlen(test_df)",
   "metadata": {
    "trusted": true,
    "execution": {
     "iopub.status.busy": "2025-03-01T14:46:23.632888Z",
     "iopub.execute_input": "2025-03-01T14:46:23.633227Z",
     "iopub.status.idle": "2025-03-01T14:46:23.640308Z",
     "shell.execute_reply.started": "2025-03-01T14:46:23.633201Z",
     "shell.execute_reply": "2025-03-01T14:46:23.639037Z"
    },
    "ExecuteTime": {
     "end_time": "2025-03-01T15:11:33.612499Z",
     "start_time": "2025-03-01T15:11:33.608457Z"
    }
   },
   "outputs": [
    {
     "data": {
      "text/plain": [
       "50"
      ]
     },
     "execution_count": 29,
     "metadata": {},
     "output_type": "execute_result"
    }
   ],
   "execution_count": 29
  },
  {
   "cell_type": "code",
   "source": [
    "import pandas as pd\n",
    "import numpy as np\n",
    "from tqdm.auto import tqdm\n",
    "from concurrent.futures import ProcessPoolExecutor, as_completed\n",
    "import math\n",
    "from multiprocessing import cpu_count\n",
    "\n",
    "def split_dataframe(df, batch_size=None, num_batches=None):\n",
    "    \"\"\"\n",
    "    Split a dataframe into multiple batches.\n",
    "    \n",
    "    Args:\n",
    "        df (pd.DataFrame): The dataframe to split\n",
    "        batch_size (int, optional): Size of each batch\n",
    "        num_batches (int, optional): Number of batches to create\n",
    "        \n",
    "    Returns:\n",
    "        list: List of dataframe batches\n",
    "    \"\"\"\n",
    "    if batch_size is None and num_batches is None:\n",
    "        # Default to using CPU count for number of batches\n",
    "        num_batches = cpu_count()\n",
    "    \n",
    "    if batch_size is not None:\n",
    "        # Split by batch size\n",
    "        num_batches = math.ceil(len(df) / batch_size)\n",
    "        return np.array_split(df, num_batches)\n",
    "    else:\n",
    "        # Split by number of batches\n",
    "        return np.array_split(df, num_batches)\n",
    "\n",
    "def process_batch(batch_df):\n",
    "    \"\"\"\n",
    "    Process a batch of data with progress bar for the rows in this batch\n",
    "    \n",
    "    Args:\n",
    "        batch_df (pd.DataFrame): A batch of the dataframe to process\n",
    "        \n",
    "    Returns:\n",
    "        pd.DataFrame: The processed dataframe batch with content_cleaned column\n",
    "    \"\"\"\n",
    "    # Create a copy of the batch to avoid modifying the original\n",
    "    try:\n",
    "        result_df = batch_df.copy()\n",
    "        \n",
    "        # Make sure the content_cleaned column exists\n",
    "        if 'content_gpt' not in result_df.columns:\n",
    "            result_df['content_gpt'] = None\n",
    "        \n",
    "        # Create a tqdm progress bar for this batch\n",
    "        tqdm_batch = tqdm(batch_df.iterrows(), total=len(batch_df), \n",
    "                          desc=f\"Batch {batch_df.index[0]}-{batch_df.index[-1]}\", \n",
    "                          position=0, leave=True)\n",
    "        \n",
    "        # Process each row in the batch with progress tracking\n",
    "        for idx, row in tqdm_batch:\n",
    "            # Apply your process_data function to the row\n",
    "            processed_result = generate_prompt_for_question(row)\n",
    "            \n",
    "            # Assign the result to the content_cleaned column for this specific row\n",
    "            result_df.at[idx, 'content_gpt'] = processed_result\n",
    "        \n",
    "        return result_df\n",
    "    except Exception as e:\n",
    "        # Log the error and return a default value or re-raise a more informative exception\n",
    "        print(f\"Error processing batch: {e}\")\n",
    "        return None\n",
    "\n",
    "def process_dataframe_parallel(df, batch_size=None, num_batches=None, max_workers=None):\n",
    "    \"\"\"\n",
    "    Process a dataframe in parallel with progress bars and store results in content_cleaned\n",
    "    \n",
    "    Args:\n",
    "        df (pd.DataFrame): The dataframe to process\n",
    "        batch_size (int, optional): Size of each batch\n",
    "        num_batches (int, optional): Number of batches to create\n",
    "        max_workers (int, optional): Maximum number of worker processes\n",
    "        \n",
    "    Returns:\n",
    "        pd.DataFrame: The processed dataframe with content_cleaned column\n",
    "    \"\"\"\n",
    "    # Split the dataframe into batches\n",
    "    batches = split_dataframe(df, batch_size, num_batches)\n",
    "    \n",
    "    # Set up a progress bar for the overall batch processing\n",
    "    print(f\"Processing {len(batches)} batches in parallel\")\n",
    "    \n",
    "    # Create a process pool for parallel processing\n",
    "    if max_workers is None:\n",
    "        max_workers = min(cpu_count(), len(batches))\n",
    "    \n",
    "    # Process batches in parallel with a progress bar\n",
    "    results = []\n",
    "    with ProcessPoolExecutor(max_workers=max_workers) as executor:\n",
    "        # Submit all batch processing tasks\n",
    "        future_to_batch = {executor.submit(process_batch, batch): i \n",
    "                          for i, batch in enumerate(batches)}\n",
    "        \n",
    "        # Create progress bar for batch completion\n",
    "        with tqdm(total=len(batches), desc=\"Overall Progress\", position=1, leave=True) as pbar:\n",
    "            for future in as_completed(future_to_batch):\n",
    "                batch_idx = future_to_batch[future]\n",
    "                try:\n",
    "                    batch_result = future.result()\n",
    "                    results.append(batch_result)\n",
    "                except Exception as e:\n",
    "                    print(f\"Batch {batch_idx} generated an exception: {e}\")\n",
    "                pbar.update(1)\n",
    "    \n",
    "    # Combine results from all batches\n",
    "    return pd.concat(results)"
   ],
   "metadata": {
    "trusted": true,
    "execution": {
     "iopub.status.busy": "2025-03-01T14:18:27.091154Z",
     "iopub.execute_input": "2025-03-01T14:18:27.091496Z",
     "iopub.status.idle": "2025-03-01T14:18:27.103392Z",
     "shell.execute_reply.started": "2025-03-01T14:18:27.091470Z",
     "shell.execute_reply": "2025-03-01T14:18:27.102074Z"
    },
    "ExecuteTime": {
     "end_time": "2025-03-01T15:22:42.974946Z",
     "start_time": "2025-03-01T15:22:42.963728Z"
    }
   },
   "outputs": [],
   "execution_count": 50
  },
  {
   "cell_type": "code",
   "source": [
    "df_new = process_dataframe_parallel(test_df, num_batches=10)\n",
    "df_sorted = df_new.sort_index()"
   ],
   "metadata": {
    "trusted": true,
    "execution": {
     "iopub.status.busy": "2025-03-01T14:48:53.462678Z",
     "iopub.execute_input": "2025-03-01T14:48:53.463060Z",
     "iopub.status.idle": "2025-03-01T14:51:42.419029Z",
     "shell.execute_reply.started": "2025-03-01T14:48:53.463027Z",
     "shell.execute_reply": "2025-03-01T14:51:42.417187Z"
    },
    "ExecuteTime": {
     "end_time": "2025-03-01T15:26:33.189606Z",
     "start_time": "2025-03-01T15:26:32.972745Z"
    }
   },
   "outputs": [
    {
     "name": "stdout",
     "output_type": "stream",
     "text": [
      "Processing 10 batches in parallel\n"
     ]
    },
    {
     "name": "stderr",
     "output_type": "stream",
     "text": [
      "C:\\!University\\RAI_research\\raiforukraine-MARIA\\src\\.venv\\Lib\\site-packages\\numpy\\_core\\fromnumeric.py:57: FutureWarning: 'DataFrame.swapaxes' is deprecated and will be removed in a future version. Please use 'DataFrame.transpose' instead.\n",
      "  return bound(*args, **kwds)\n"
     ]
    },
    {
     "ename": "BrokenProcessPool",
     "evalue": "A child process terminated abruptly, the process pool is not usable anymore",
     "output_type": "error",
     "traceback": [
      "\u001B[31m---------------------------------------------------------------------------\u001B[39m",
      "\u001B[31mBrokenProcessPool\u001B[39m                         Traceback (most recent call last)",
      "\u001B[36mCell\u001B[39m\u001B[36m \u001B[39m\u001B[32mIn[55]\u001B[39m\u001B[32m, line 2\u001B[39m\n\u001B[32m      1\u001B[39m \u001B[38;5;28;01mif\u001B[39;00m \u001B[34m__name__\u001B[39m == \u001B[33m'\u001B[39m\u001B[33m__main__\u001B[39m\u001B[33m'\u001B[39m:\n\u001B[32m----> \u001B[39m\u001B[32m2\u001B[39m     df_new = \u001B[43mprocess_dataframe_parallel\u001B[49m\u001B[43m(\u001B[49m\u001B[43mtest_df\u001B[49m\u001B[43m,\u001B[49m\u001B[43m \u001B[49m\u001B[43mnum_batches\u001B[49m\u001B[43m=\u001B[49m\u001B[32;43m10\u001B[39;49m\u001B[43m)\u001B[49m\n\u001B[32m      4\u001B[39m df_sorted = df_new.sort_index()\n",
      "\u001B[36mCell\u001B[39m\u001B[36m \u001B[39m\u001B[32mIn[50]\u001B[39m\u001B[32m, line 96\u001B[39m, in \u001B[36mprocess_dataframe_parallel\u001B[39m\u001B[34m(df, batch_size, num_batches, max_workers)\u001B[39m\n\u001B[32m     93\u001B[39m results = []\n\u001B[32m     94\u001B[39m \u001B[38;5;28;01mwith\u001B[39;00m ProcessPoolExecutor(max_workers=max_workers) \u001B[38;5;28;01mas\u001B[39;00m executor:\n\u001B[32m     95\u001B[39m     \u001B[38;5;66;03m# Submit all batch processing tasks\u001B[39;00m\n\u001B[32m---> \u001B[39m\u001B[32m96\u001B[39m     future_to_batch = {\u001B[43mexecutor\u001B[49m\u001B[43m.\u001B[49m\u001B[43msubmit\u001B[49m\u001B[43m(\u001B[49m\u001B[43mprocess_batch\u001B[49m\u001B[43m,\u001B[49m\u001B[43m \u001B[49m\u001B[43mbatch\u001B[49m\u001B[43m)\u001B[49m: i \n\u001B[32m     97\u001B[39m                       \u001B[38;5;28;01mfor\u001B[39;00m i, batch \u001B[38;5;129;01min\u001B[39;00m \u001B[38;5;28menumerate\u001B[39m(batches)}\n\u001B[32m     99\u001B[39m     \u001B[38;5;66;03m# Create progress bar for batch completion\u001B[39;00m\n\u001B[32m    100\u001B[39m     \u001B[38;5;28;01mwith\u001B[39;00m tqdm(total=\u001B[38;5;28mlen\u001B[39m(batches), desc=\u001B[33m\"\u001B[39m\u001B[33mOverall Progress\u001B[39m\u001B[33m\"\u001B[39m, position=\u001B[32m1\u001B[39m, leave=\u001B[38;5;28;01mTrue\u001B[39;00m) \u001B[38;5;28;01mas\u001B[39;00m pbar:\n",
      "\u001B[36mFile \u001B[39m\u001B[32m~\\AppData\\Local\\Programs\\Python\\Python312\\Lib\\concurrent\\futures\\process.py:805\u001B[39m, in \u001B[36mProcessPoolExecutor.submit\u001B[39m\u001B[34m(self, fn, *args, **kwargs)\u001B[39m\n\u001B[32m    803\u001B[39m \u001B[38;5;28;01mwith\u001B[39;00m \u001B[38;5;28mself\u001B[39m._shutdown_lock:\n\u001B[32m    804\u001B[39m     \u001B[38;5;28;01mif\u001B[39;00m \u001B[38;5;28mself\u001B[39m._broken:\n\u001B[32m--> \u001B[39m\u001B[32m805\u001B[39m         \u001B[38;5;28;01mraise\u001B[39;00m BrokenProcessPool(\u001B[38;5;28mself\u001B[39m._broken)\n\u001B[32m    806\u001B[39m     \u001B[38;5;28;01mif\u001B[39;00m \u001B[38;5;28mself\u001B[39m._shutdown_thread:\n\u001B[32m    807\u001B[39m         \u001B[38;5;28;01mraise\u001B[39;00m \u001B[38;5;167;01mRuntimeError\u001B[39;00m(\u001B[33m'\u001B[39m\u001B[33mcannot schedule new futures after shutdown\u001B[39m\u001B[33m'\u001B[39m)\n",
      "\u001B[31mBrokenProcessPool\u001B[39m: A child process terminated abruptly, the process pool is not usable anymore"
     ]
    }
   ],
   "execution_count": 55
  },
  {
   "metadata": {
    "ExecuteTime": {
     "end_time": "2025-03-01T15:23:02.287564Z",
     "start_time": "2025-03-01T15:22:46.316803Z"
    }
   },
   "cell_type": "code",
   "source": "process_batch(test_df)",
   "outputs": [
    {
     "data": {
      "text/plain": [
       "Batch 0-49:   0%|          | 0/50 [00:00<?, ?it/s]"
      ],
      "application/vnd.jupyter.widget-view+json": {
       "version_major": 2,
       "version_minor": 0,
       "model_id": "d6fb8ced7ce34a95bc685f20a6e6e730"
      }
     },
     "metadata": {},
     "output_type": "display_data"
    },
    {
     "ename": "KeyboardInterrupt",
     "evalue": "",
     "output_type": "error",
     "traceback": [
      "\u001B[31m---------------------------------------------------------------------------\u001B[39m",
      "\u001B[31mKeyboardInterrupt\u001B[39m                         Traceback (most recent call last)",
      "\u001B[36mCell\u001B[39m\u001B[36m \u001B[39m\u001B[32mIn[51]\u001B[39m\u001B[32m, line 1\u001B[39m\n\u001B[32m----> \u001B[39m\u001B[32m1\u001B[39m \u001B[43mprocess_batch\u001B[49m\u001B[43m(\u001B[49m\u001B[43mtest_df\u001B[49m\u001B[43m)\u001B[49m\n",
      "\u001B[36mCell\u001B[39m\u001B[36m \u001B[39m\u001B[32mIn[50]\u001B[39m\u001B[32m, line 58\u001B[39m, in \u001B[36mprocess_batch\u001B[39m\u001B[34m(batch_df)\u001B[39m\n\u001B[32m     55\u001B[39m \u001B[38;5;66;03m# Process each row in the batch with progress tracking\u001B[39;00m\n\u001B[32m     56\u001B[39m \u001B[38;5;28;01mfor\u001B[39;00m idx, row \u001B[38;5;129;01min\u001B[39;00m tqdm_batch:\n\u001B[32m     57\u001B[39m     \u001B[38;5;66;03m# Apply your process_data function to the row\u001B[39;00m\n\u001B[32m---> \u001B[39m\u001B[32m58\u001B[39m     processed_result = \u001B[43mgenerate_prompt_for_question\u001B[49m\u001B[43m(\u001B[49m\u001B[43mrow\u001B[49m\u001B[43m)\u001B[49m\n\u001B[32m     60\u001B[39m     \u001B[38;5;66;03m# Assign the result to the content_cleaned column for this specific row\u001B[39;00m\n\u001B[32m     61\u001B[39m     result_df.at[idx, \u001B[33m'\u001B[39m\u001B[33mcontent_gpt\u001B[39m\u001B[33m'\u001B[39m] = processed_result\n",
      "\u001B[36mCell\u001B[39m\u001B[36m \u001B[39m\u001B[32mIn[28]\u001B[39m\u001B[32m, line 5\u001B[39m, in \u001B[36mgenerate_prompt_for_question\u001B[39m\u001B[34m(row)\u001B[39m\n\u001B[32m      3\u001B[39m user_prompt = \u001B[33mf\u001B[39m\u001B[33m\"\"\"\u001B[39m\u001B[33mMedical text:\u001B[39m\u001B[38;5;130;01m\\n\u001B[39;00m\u001B[33m-------------\u001B[39m\u001B[38;5;130;01m\\n\u001B[39;00m\u001B[38;5;132;01m{\u001B[39;00mlisa_sheet_raw\u001B[38;5;132;01m}\u001B[39;00m\u001B[33m\"\"\"\u001B[39m\n\u001B[32m      4\u001B[39m \u001B[38;5;28;01mtry\u001B[39;00m:\n\u001B[32m----> \u001B[39m\u001B[32m5\u001B[39m     \u001B[38;5;28;01mreturn\u001B[39;00m \u001B[43mcall_openai_api\u001B[49m\u001B[43m(\u001B[49m\u001B[43msystem_prompt\u001B[49m\u001B[43m,\u001B[49m\u001B[43m \u001B[49m\u001B[43muser_prompt\u001B[49m\u001B[43m)\u001B[49m\n\u001B[32m      6\u001B[39m \u001B[38;5;28;01mexcept\u001B[39;00m \u001B[38;5;167;01mException\u001B[39;00m \u001B[38;5;28;01mas\u001B[39;00m e:\n\u001B[32m      7\u001B[39m     \u001B[38;5;28mprint\u001B[39m(\u001B[33mf\u001B[39m\u001B[33m\"\u001B[39m\u001B[33mError processing question at index \u001B[39m\u001B[38;5;132;01m{\u001B[39;00mrow.id\u001B[38;5;132;01m}\u001B[39;00m\u001B[33m: \u001B[39m\u001B[38;5;132;01m{\u001B[39;00me\u001B[38;5;132;01m}\u001B[39;00m\u001B[33m\"\u001B[39m)\n",
      "\u001B[36mCell\u001B[39m\u001B[36m \u001B[39m\u001B[32mIn[26]\u001B[39m\u001B[32m, line 6\u001B[39m, in \u001B[36mcall_openai_api\u001B[39m\u001B[34m(system, user)\u001B[39m\n\u001B[32m      4\u001B[39m \u001B[38;5;28;01mdef\u001B[39;00m\u001B[38;5;250m \u001B[39m\u001B[34mcall_openai_api\u001B[39m(system, user):\n\u001B[32m      5\u001B[39m     \u001B[38;5;28;01mtry\u001B[39;00m:\n\u001B[32m----> \u001B[39m\u001B[32m6\u001B[39m         response = \u001B[43mclient\u001B[49m\u001B[43m.\u001B[49m\u001B[43mchat\u001B[49m\u001B[43m.\u001B[49m\u001B[43mcompletions\u001B[49m\u001B[43m.\u001B[49m\u001B[43mcreate\u001B[49m\u001B[43m(\u001B[49m\n\u001B[32m      7\u001B[39m \u001B[43m            \u001B[49m\u001B[43mmodel\u001B[49m\u001B[43m=\u001B[49m\u001B[33;43m\"\u001B[39;49m\u001B[33;43mgpt-4o\u001B[39;49m\u001B[33;43m\"\u001B[39;49m\u001B[43m,\u001B[49m\n\u001B[32m      8\u001B[39m \u001B[43m            \u001B[49m\u001B[43mtemperature\u001B[49m\u001B[43m=\u001B[49m\u001B[32;43m0.2\u001B[39;49m\u001B[43m,\u001B[49m\n\u001B[32m      9\u001B[39m \u001B[43m            \u001B[49m\u001B[43mmessages\u001B[49m\u001B[43m=\u001B[49m\u001B[43m[\u001B[49m\n\u001B[32m     10\u001B[39m \u001B[43m                \u001B[49m\u001B[43m{\u001B[49m\u001B[33;43m\"\u001B[39;49m\u001B[33;43mrole\u001B[39;49m\u001B[33;43m\"\u001B[39;49m\u001B[43m:\u001B[49m\u001B[43m \u001B[49m\u001B[33;43m\"\u001B[39;49m\u001B[33;43msystem\u001B[39;49m\u001B[33;43m\"\u001B[39;49m\u001B[43m,\u001B[49m\u001B[43m \u001B[49m\u001B[33;43m\"\u001B[39;49m\u001B[33;43mcontent\u001B[39;49m\u001B[33;43m\"\u001B[39;49m\u001B[43m:\u001B[49m\u001B[43m \u001B[49m\u001B[43msystem\u001B[49m\u001B[43m}\u001B[49m\u001B[43m,\u001B[49m\n\u001B[32m     11\u001B[39m \u001B[43m                \u001B[49m\u001B[43m{\u001B[49m\u001B[33;43m\"\u001B[39;49m\u001B[33;43mrole\u001B[39;49m\u001B[33;43m\"\u001B[39;49m\u001B[43m:\u001B[49m\u001B[43m \u001B[49m\u001B[33;43m\"\u001B[39;49m\u001B[33;43muser\u001B[39;49m\u001B[33;43m\"\u001B[39;49m\u001B[43m,\u001B[49m\u001B[43m \u001B[49m\u001B[33;43m\"\u001B[39;49m\u001B[33;43mcontent\u001B[39;49m\u001B[33;43m\"\u001B[39;49m\u001B[43m:\u001B[49m\u001B[43m \u001B[49m\u001B[43muser\u001B[49m\u001B[43m}\u001B[49m\n\u001B[32m     12\u001B[39m \u001B[43m            \u001B[49m\u001B[43m]\u001B[49m\n\u001B[32m     13\u001B[39m \u001B[43m        \u001B[49m\u001B[43m)\u001B[49m\n\u001B[32m     14\u001B[39m         \u001B[38;5;28;01mreturn\u001B[39;00m response.choices[\u001B[32m0\u001B[39m].message.content\n\u001B[32m     15\u001B[39m     \u001B[38;5;28;01mexcept\u001B[39;00m \u001B[38;5;167;01mException\u001B[39;00m \u001B[38;5;28;01mas\u001B[39;00m e:\n",
      "\u001B[36mFile \u001B[39m\u001B[32mC:\\!University\\RAI_research\\raiforukraine-MARIA\\src\\.venv\\Lib\\site-packages\\openai\\_utils\\_utils.py:279\u001B[39m, in \u001B[36mrequired_args.<locals>.inner.<locals>.wrapper\u001B[39m\u001B[34m(*args, **kwargs)\u001B[39m\n\u001B[32m    277\u001B[39m             msg = \u001B[33mf\u001B[39m\u001B[33m\"\u001B[39m\u001B[33mMissing required argument: \u001B[39m\u001B[38;5;132;01m{\u001B[39;00mquote(missing[\u001B[32m0\u001B[39m])\u001B[38;5;132;01m}\u001B[39;00m\u001B[33m\"\u001B[39m\n\u001B[32m    278\u001B[39m     \u001B[38;5;28;01mraise\u001B[39;00m \u001B[38;5;167;01mTypeError\u001B[39;00m(msg)\n\u001B[32m--> \u001B[39m\u001B[32m279\u001B[39m \u001B[38;5;28;01mreturn\u001B[39;00m \u001B[43mfunc\u001B[49m\u001B[43m(\u001B[49m\u001B[43m*\u001B[49m\u001B[43margs\u001B[49m\u001B[43m,\u001B[49m\u001B[43m \u001B[49m\u001B[43m*\u001B[49m\u001B[43m*\u001B[49m\u001B[43mkwargs\u001B[49m\u001B[43m)\u001B[49m\n",
      "\u001B[36mFile \u001B[39m\u001B[32mC:\\!University\\RAI_research\\raiforukraine-MARIA\\src\\.venv\\Lib\\site-packages\\openai\\resources\\chat\\completions\\completions.py:879\u001B[39m, in \u001B[36mCompletions.create\u001B[39m\u001B[34m(self, messages, model, audio, frequency_penalty, function_call, functions, logit_bias, logprobs, max_completion_tokens, max_tokens, metadata, modalities, n, parallel_tool_calls, prediction, presence_penalty, reasoning_effort, response_format, seed, service_tier, stop, store, stream, stream_options, temperature, tool_choice, tools, top_logprobs, top_p, user, extra_headers, extra_query, extra_body, timeout)\u001B[39m\n\u001B[32m    837\u001B[39m \u001B[38;5;129m@required_args\u001B[39m([\u001B[33m\"\u001B[39m\u001B[33mmessages\u001B[39m\u001B[33m\"\u001B[39m, \u001B[33m\"\u001B[39m\u001B[33mmodel\u001B[39m\u001B[33m\"\u001B[39m], [\u001B[33m\"\u001B[39m\u001B[33mmessages\u001B[39m\u001B[33m\"\u001B[39m, \u001B[33m\"\u001B[39m\u001B[33mmodel\u001B[39m\u001B[33m\"\u001B[39m, \u001B[33m\"\u001B[39m\u001B[33mstream\u001B[39m\u001B[33m\"\u001B[39m])\n\u001B[32m    838\u001B[39m \u001B[38;5;28;01mdef\u001B[39;00m\u001B[38;5;250m \u001B[39m\u001B[34mcreate\u001B[39m(\n\u001B[32m    839\u001B[39m     \u001B[38;5;28mself\u001B[39m,\n\u001B[32m   (...)\u001B[39m\u001B[32m    876\u001B[39m     timeout: \u001B[38;5;28mfloat\u001B[39m | httpx.Timeout | \u001B[38;5;28;01mNone\u001B[39;00m | NotGiven = NOT_GIVEN,\n\u001B[32m    877\u001B[39m ) -> ChatCompletion | Stream[ChatCompletionChunk]:\n\u001B[32m    878\u001B[39m     validate_response_format(response_format)\n\u001B[32m--> \u001B[39m\u001B[32m879\u001B[39m     \u001B[38;5;28;01mreturn\u001B[39;00m \u001B[38;5;28;43mself\u001B[39;49m\u001B[43m.\u001B[49m\u001B[43m_post\u001B[49m\u001B[43m(\u001B[49m\n\u001B[32m    880\u001B[39m \u001B[43m        \u001B[49m\u001B[33;43m\"\u001B[39;49m\u001B[33;43m/chat/completions\u001B[39;49m\u001B[33;43m\"\u001B[39;49m\u001B[43m,\u001B[49m\n\u001B[32m    881\u001B[39m \u001B[43m        \u001B[49m\u001B[43mbody\u001B[49m\u001B[43m=\u001B[49m\u001B[43mmaybe_transform\u001B[49m\u001B[43m(\u001B[49m\n\u001B[32m    882\u001B[39m \u001B[43m            \u001B[49m\u001B[43m{\u001B[49m\n\u001B[32m    883\u001B[39m \u001B[43m                \u001B[49m\u001B[33;43m\"\u001B[39;49m\u001B[33;43mmessages\u001B[39;49m\u001B[33;43m\"\u001B[39;49m\u001B[43m:\u001B[49m\u001B[43m \u001B[49m\u001B[43mmessages\u001B[49m\u001B[43m,\u001B[49m\n\u001B[32m    884\u001B[39m \u001B[43m                \u001B[49m\u001B[33;43m\"\u001B[39;49m\u001B[33;43mmodel\u001B[39;49m\u001B[33;43m\"\u001B[39;49m\u001B[43m:\u001B[49m\u001B[43m \u001B[49m\u001B[43mmodel\u001B[49m\u001B[43m,\u001B[49m\n\u001B[32m    885\u001B[39m \u001B[43m                \u001B[49m\u001B[33;43m\"\u001B[39;49m\u001B[33;43maudio\u001B[39;49m\u001B[33;43m\"\u001B[39;49m\u001B[43m:\u001B[49m\u001B[43m \u001B[49m\u001B[43maudio\u001B[49m\u001B[43m,\u001B[49m\n\u001B[32m    886\u001B[39m \u001B[43m                \u001B[49m\u001B[33;43m\"\u001B[39;49m\u001B[33;43mfrequency_penalty\u001B[39;49m\u001B[33;43m\"\u001B[39;49m\u001B[43m:\u001B[49m\u001B[43m \u001B[49m\u001B[43mfrequency_penalty\u001B[49m\u001B[43m,\u001B[49m\n\u001B[32m    887\u001B[39m \u001B[43m                \u001B[49m\u001B[33;43m\"\u001B[39;49m\u001B[33;43mfunction_call\u001B[39;49m\u001B[33;43m\"\u001B[39;49m\u001B[43m:\u001B[49m\u001B[43m \u001B[49m\u001B[43mfunction_call\u001B[49m\u001B[43m,\u001B[49m\n\u001B[32m    888\u001B[39m \u001B[43m                \u001B[49m\u001B[33;43m\"\u001B[39;49m\u001B[33;43mfunctions\u001B[39;49m\u001B[33;43m\"\u001B[39;49m\u001B[43m:\u001B[49m\u001B[43m \u001B[49m\u001B[43mfunctions\u001B[49m\u001B[43m,\u001B[49m\n\u001B[32m    889\u001B[39m \u001B[43m                \u001B[49m\u001B[33;43m\"\u001B[39;49m\u001B[33;43mlogit_bias\u001B[39;49m\u001B[33;43m\"\u001B[39;49m\u001B[43m:\u001B[49m\u001B[43m \u001B[49m\u001B[43mlogit_bias\u001B[49m\u001B[43m,\u001B[49m\n\u001B[32m    890\u001B[39m \u001B[43m                \u001B[49m\u001B[33;43m\"\u001B[39;49m\u001B[33;43mlogprobs\u001B[39;49m\u001B[33;43m\"\u001B[39;49m\u001B[43m:\u001B[49m\u001B[43m \u001B[49m\u001B[43mlogprobs\u001B[49m\u001B[43m,\u001B[49m\n\u001B[32m    891\u001B[39m \u001B[43m                \u001B[49m\u001B[33;43m\"\u001B[39;49m\u001B[33;43mmax_completion_tokens\u001B[39;49m\u001B[33;43m\"\u001B[39;49m\u001B[43m:\u001B[49m\u001B[43m \u001B[49m\u001B[43mmax_completion_tokens\u001B[49m\u001B[43m,\u001B[49m\n\u001B[32m    892\u001B[39m \u001B[43m                \u001B[49m\u001B[33;43m\"\u001B[39;49m\u001B[33;43mmax_tokens\u001B[39;49m\u001B[33;43m\"\u001B[39;49m\u001B[43m:\u001B[49m\u001B[43m \u001B[49m\u001B[43mmax_tokens\u001B[49m\u001B[43m,\u001B[49m\n\u001B[32m    893\u001B[39m \u001B[43m                \u001B[49m\u001B[33;43m\"\u001B[39;49m\u001B[33;43mmetadata\u001B[39;49m\u001B[33;43m\"\u001B[39;49m\u001B[43m:\u001B[49m\u001B[43m \u001B[49m\u001B[43mmetadata\u001B[49m\u001B[43m,\u001B[49m\n\u001B[32m    894\u001B[39m \u001B[43m                \u001B[49m\u001B[33;43m\"\u001B[39;49m\u001B[33;43mmodalities\u001B[39;49m\u001B[33;43m\"\u001B[39;49m\u001B[43m:\u001B[49m\u001B[43m \u001B[49m\u001B[43mmodalities\u001B[49m\u001B[43m,\u001B[49m\n\u001B[32m    895\u001B[39m \u001B[43m                \u001B[49m\u001B[33;43m\"\u001B[39;49m\u001B[33;43mn\u001B[39;49m\u001B[33;43m\"\u001B[39;49m\u001B[43m:\u001B[49m\u001B[43m \u001B[49m\u001B[43mn\u001B[49m\u001B[43m,\u001B[49m\n\u001B[32m    896\u001B[39m \u001B[43m                \u001B[49m\u001B[33;43m\"\u001B[39;49m\u001B[33;43mparallel_tool_calls\u001B[39;49m\u001B[33;43m\"\u001B[39;49m\u001B[43m:\u001B[49m\u001B[43m \u001B[49m\u001B[43mparallel_tool_calls\u001B[49m\u001B[43m,\u001B[49m\n\u001B[32m    897\u001B[39m \u001B[43m                \u001B[49m\u001B[33;43m\"\u001B[39;49m\u001B[33;43mprediction\u001B[39;49m\u001B[33;43m\"\u001B[39;49m\u001B[43m:\u001B[49m\u001B[43m \u001B[49m\u001B[43mprediction\u001B[49m\u001B[43m,\u001B[49m\n\u001B[32m    898\u001B[39m \u001B[43m                \u001B[49m\u001B[33;43m\"\u001B[39;49m\u001B[33;43mpresence_penalty\u001B[39;49m\u001B[33;43m\"\u001B[39;49m\u001B[43m:\u001B[49m\u001B[43m \u001B[49m\u001B[43mpresence_penalty\u001B[49m\u001B[43m,\u001B[49m\n\u001B[32m    899\u001B[39m \u001B[43m                \u001B[49m\u001B[33;43m\"\u001B[39;49m\u001B[33;43mreasoning_effort\u001B[39;49m\u001B[33;43m\"\u001B[39;49m\u001B[43m:\u001B[49m\u001B[43m \u001B[49m\u001B[43mreasoning_effort\u001B[49m\u001B[43m,\u001B[49m\n\u001B[32m    900\u001B[39m \u001B[43m                \u001B[49m\u001B[33;43m\"\u001B[39;49m\u001B[33;43mresponse_format\u001B[39;49m\u001B[33;43m\"\u001B[39;49m\u001B[43m:\u001B[49m\u001B[43m \u001B[49m\u001B[43mresponse_format\u001B[49m\u001B[43m,\u001B[49m\n\u001B[32m    901\u001B[39m \u001B[43m                \u001B[49m\u001B[33;43m\"\u001B[39;49m\u001B[33;43mseed\u001B[39;49m\u001B[33;43m\"\u001B[39;49m\u001B[43m:\u001B[49m\u001B[43m \u001B[49m\u001B[43mseed\u001B[49m\u001B[43m,\u001B[49m\n\u001B[32m    902\u001B[39m \u001B[43m                \u001B[49m\u001B[33;43m\"\u001B[39;49m\u001B[33;43mservice_tier\u001B[39;49m\u001B[33;43m\"\u001B[39;49m\u001B[43m:\u001B[49m\u001B[43m \u001B[49m\u001B[43mservice_tier\u001B[49m\u001B[43m,\u001B[49m\n\u001B[32m    903\u001B[39m \u001B[43m                \u001B[49m\u001B[33;43m\"\u001B[39;49m\u001B[33;43mstop\u001B[39;49m\u001B[33;43m\"\u001B[39;49m\u001B[43m:\u001B[49m\u001B[43m \u001B[49m\u001B[43mstop\u001B[49m\u001B[43m,\u001B[49m\n\u001B[32m    904\u001B[39m \u001B[43m                \u001B[49m\u001B[33;43m\"\u001B[39;49m\u001B[33;43mstore\u001B[39;49m\u001B[33;43m\"\u001B[39;49m\u001B[43m:\u001B[49m\u001B[43m \u001B[49m\u001B[43mstore\u001B[49m\u001B[43m,\u001B[49m\n\u001B[32m    905\u001B[39m \u001B[43m                \u001B[49m\u001B[33;43m\"\u001B[39;49m\u001B[33;43mstream\u001B[39;49m\u001B[33;43m\"\u001B[39;49m\u001B[43m:\u001B[49m\u001B[43m \u001B[49m\u001B[43mstream\u001B[49m\u001B[43m,\u001B[49m\n\u001B[32m    906\u001B[39m \u001B[43m                \u001B[49m\u001B[33;43m\"\u001B[39;49m\u001B[33;43mstream_options\u001B[39;49m\u001B[33;43m\"\u001B[39;49m\u001B[43m:\u001B[49m\u001B[43m \u001B[49m\u001B[43mstream_options\u001B[49m\u001B[43m,\u001B[49m\n\u001B[32m    907\u001B[39m \u001B[43m                \u001B[49m\u001B[33;43m\"\u001B[39;49m\u001B[33;43mtemperature\u001B[39;49m\u001B[33;43m\"\u001B[39;49m\u001B[43m:\u001B[49m\u001B[43m \u001B[49m\u001B[43mtemperature\u001B[49m\u001B[43m,\u001B[49m\n\u001B[32m    908\u001B[39m \u001B[43m                \u001B[49m\u001B[33;43m\"\u001B[39;49m\u001B[33;43mtool_choice\u001B[39;49m\u001B[33;43m\"\u001B[39;49m\u001B[43m:\u001B[49m\u001B[43m \u001B[49m\u001B[43mtool_choice\u001B[49m\u001B[43m,\u001B[49m\n\u001B[32m    909\u001B[39m \u001B[43m                \u001B[49m\u001B[33;43m\"\u001B[39;49m\u001B[33;43mtools\u001B[39;49m\u001B[33;43m\"\u001B[39;49m\u001B[43m:\u001B[49m\u001B[43m \u001B[49m\u001B[43mtools\u001B[49m\u001B[43m,\u001B[49m\n\u001B[32m    910\u001B[39m \u001B[43m                \u001B[49m\u001B[33;43m\"\u001B[39;49m\u001B[33;43mtop_logprobs\u001B[39;49m\u001B[33;43m\"\u001B[39;49m\u001B[43m:\u001B[49m\u001B[43m \u001B[49m\u001B[43mtop_logprobs\u001B[49m\u001B[43m,\u001B[49m\n\u001B[32m    911\u001B[39m \u001B[43m                \u001B[49m\u001B[33;43m\"\u001B[39;49m\u001B[33;43mtop_p\u001B[39;49m\u001B[33;43m\"\u001B[39;49m\u001B[43m:\u001B[49m\u001B[43m \u001B[49m\u001B[43mtop_p\u001B[49m\u001B[43m,\u001B[49m\n\u001B[32m    912\u001B[39m \u001B[43m                \u001B[49m\u001B[33;43m\"\u001B[39;49m\u001B[33;43muser\u001B[39;49m\u001B[33;43m\"\u001B[39;49m\u001B[43m:\u001B[49m\u001B[43m \u001B[49m\u001B[43muser\u001B[49m\u001B[43m,\u001B[49m\n\u001B[32m    913\u001B[39m \u001B[43m            \u001B[49m\u001B[43m}\u001B[49m\u001B[43m,\u001B[49m\n\u001B[32m    914\u001B[39m \u001B[43m            \u001B[49m\u001B[43mcompletion_create_params\u001B[49m\u001B[43m.\u001B[49m\u001B[43mCompletionCreateParams\u001B[49m\u001B[43m,\u001B[49m\n\u001B[32m    915\u001B[39m \u001B[43m        \u001B[49m\u001B[43m)\u001B[49m\u001B[43m,\u001B[49m\n\u001B[32m    916\u001B[39m \u001B[43m        \u001B[49m\u001B[43moptions\u001B[49m\u001B[43m=\u001B[49m\u001B[43mmake_request_options\u001B[49m\u001B[43m(\u001B[49m\n\u001B[32m    917\u001B[39m \u001B[43m            \u001B[49m\u001B[43mextra_headers\u001B[49m\u001B[43m=\u001B[49m\u001B[43mextra_headers\u001B[49m\u001B[43m,\u001B[49m\u001B[43m \u001B[49m\u001B[43mextra_query\u001B[49m\u001B[43m=\u001B[49m\u001B[43mextra_query\u001B[49m\u001B[43m,\u001B[49m\u001B[43m \u001B[49m\u001B[43mextra_body\u001B[49m\u001B[43m=\u001B[49m\u001B[43mextra_body\u001B[49m\u001B[43m,\u001B[49m\u001B[43m \u001B[49m\u001B[43mtimeout\u001B[49m\u001B[43m=\u001B[49m\u001B[43mtimeout\u001B[49m\n\u001B[32m    918\u001B[39m \u001B[43m        \u001B[49m\u001B[43m)\u001B[49m\u001B[43m,\u001B[49m\n\u001B[32m    919\u001B[39m \u001B[43m        \u001B[49m\u001B[43mcast_to\u001B[49m\u001B[43m=\u001B[49m\u001B[43mChatCompletion\u001B[49m\u001B[43m,\u001B[49m\n\u001B[32m    920\u001B[39m \u001B[43m        \u001B[49m\u001B[43mstream\u001B[49m\u001B[43m=\u001B[49m\u001B[43mstream\u001B[49m\u001B[43m \u001B[49m\u001B[38;5;129;43;01mor\u001B[39;49;00m\u001B[43m \u001B[49m\u001B[38;5;28;43;01mFalse\u001B[39;49;00m\u001B[43m,\u001B[49m\n\u001B[32m    921\u001B[39m \u001B[43m        \u001B[49m\u001B[43mstream_cls\u001B[49m\u001B[43m=\u001B[49m\u001B[43mStream\u001B[49m\u001B[43m[\u001B[49m\u001B[43mChatCompletionChunk\u001B[49m\u001B[43m]\u001B[49m\u001B[43m,\u001B[49m\n\u001B[32m    922\u001B[39m \u001B[43m    \u001B[49m\u001B[43m)\u001B[49m\n",
      "\u001B[36mFile \u001B[39m\u001B[32mC:\\!University\\RAI_research\\raiforukraine-MARIA\\src\\.venv\\Lib\\site-packages\\openai\\_base_client.py:1296\u001B[39m, in \u001B[36mSyncAPIClient.post\u001B[39m\u001B[34m(self, path, cast_to, body, options, files, stream, stream_cls)\u001B[39m\n\u001B[32m   1282\u001B[39m \u001B[38;5;28;01mdef\u001B[39;00m\u001B[38;5;250m \u001B[39m\u001B[34mpost\u001B[39m(\n\u001B[32m   1283\u001B[39m     \u001B[38;5;28mself\u001B[39m,\n\u001B[32m   1284\u001B[39m     path: \u001B[38;5;28mstr\u001B[39m,\n\u001B[32m   (...)\u001B[39m\u001B[32m   1291\u001B[39m     stream_cls: \u001B[38;5;28mtype\u001B[39m[_StreamT] | \u001B[38;5;28;01mNone\u001B[39;00m = \u001B[38;5;28;01mNone\u001B[39;00m,\n\u001B[32m   1292\u001B[39m ) -> ResponseT | _StreamT:\n\u001B[32m   1293\u001B[39m     opts = FinalRequestOptions.construct(\n\u001B[32m   1294\u001B[39m         method=\u001B[33m\"\u001B[39m\u001B[33mpost\u001B[39m\u001B[33m\"\u001B[39m, url=path, json_data=body, files=to_httpx_files(files), **options\n\u001B[32m   1295\u001B[39m     )\n\u001B[32m-> \u001B[39m\u001B[32m1296\u001B[39m     \u001B[38;5;28;01mreturn\u001B[39;00m cast(ResponseT, \u001B[38;5;28;43mself\u001B[39;49m\u001B[43m.\u001B[49m\u001B[43mrequest\u001B[49m\u001B[43m(\u001B[49m\u001B[43mcast_to\u001B[49m\u001B[43m,\u001B[49m\u001B[43m \u001B[49m\u001B[43mopts\u001B[49m\u001B[43m,\u001B[49m\u001B[43m \u001B[49m\u001B[43mstream\u001B[49m\u001B[43m=\u001B[49m\u001B[43mstream\u001B[49m\u001B[43m,\u001B[49m\u001B[43m \u001B[49m\u001B[43mstream_cls\u001B[49m\u001B[43m=\u001B[49m\u001B[43mstream_cls\u001B[49m\u001B[43m)\u001B[49m)\n",
      "\u001B[36mFile \u001B[39m\u001B[32mC:\\!University\\RAI_research\\raiforukraine-MARIA\\src\\.venv\\Lib\\site-packages\\openai\\_base_client.py:973\u001B[39m, in \u001B[36mSyncAPIClient.request\u001B[39m\u001B[34m(self, cast_to, options, remaining_retries, stream, stream_cls)\u001B[39m\n\u001B[32m    970\u001B[39m \u001B[38;5;28;01melse\u001B[39;00m:\n\u001B[32m    971\u001B[39m     retries_taken = \u001B[32m0\u001B[39m\n\u001B[32m--> \u001B[39m\u001B[32m973\u001B[39m \u001B[38;5;28;01mreturn\u001B[39;00m \u001B[38;5;28;43mself\u001B[39;49m\u001B[43m.\u001B[49m\u001B[43m_request\u001B[49m\u001B[43m(\u001B[49m\n\u001B[32m    974\u001B[39m \u001B[43m    \u001B[49m\u001B[43mcast_to\u001B[49m\u001B[43m=\u001B[49m\u001B[43mcast_to\u001B[49m\u001B[43m,\u001B[49m\n\u001B[32m    975\u001B[39m \u001B[43m    \u001B[49m\u001B[43moptions\u001B[49m\u001B[43m=\u001B[49m\u001B[43moptions\u001B[49m\u001B[43m,\u001B[49m\n\u001B[32m    976\u001B[39m \u001B[43m    \u001B[49m\u001B[43mstream\u001B[49m\u001B[43m=\u001B[49m\u001B[43mstream\u001B[49m\u001B[43m,\u001B[49m\n\u001B[32m    977\u001B[39m \u001B[43m    \u001B[49m\u001B[43mstream_cls\u001B[49m\u001B[43m=\u001B[49m\u001B[43mstream_cls\u001B[49m\u001B[43m,\u001B[49m\n\u001B[32m    978\u001B[39m \u001B[43m    \u001B[49m\u001B[43mretries_taken\u001B[49m\u001B[43m=\u001B[49m\u001B[43mretries_taken\u001B[49m\u001B[43m,\u001B[49m\n\u001B[32m    979\u001B[39m \u001B[43m\u001B[49m\u001B[43m)\u001B[49m\n",
      "\u001B[36mFile \u001B[39m\u001B[32mC:\\!University\\RAI_research\\raiforukraine-MARIA\\src\\.venv\\Lib\\site-packages\\openai\\_base_client.py:1009\u001B[39m, in \u001B[36mSyncAPIClient._request\u001B[39m\u001B[34m(self, cast_to, options, retries_taken, stream, stream_cls)\u001B[39m\n\u001B[32m   1006\u001B[39m log.debug(\u001B[33m\"\u001B[39m\u001B[33mSending HTTP Request: \u001B[39m\u001B[38;5;132;01m%s\u001B[39;00m\u001B[33m \u001B[39m\u001B[38;5;132;01m%s\u001B[39;00m\u001B[33m\"\u001B[39m, request.method, request.url)\n\u001B[32m   1008\u001B[39m \u001B[38;5;28;01mtry\u001B[39;00m:\n\u001B[32m-> \u001B[39m\u001B[32m1009\u001B[39m     response = \u001B[38;5;28;43mself\u001B[39;49m\u001B[43m.\u001B[49m\u001B[43m_client\u001B[49m\u001B[43m.\u001B[49m\u001B[43msend\u001B[49m\u001B[43m(\u001B[49m\n\u001B[32m   1010\u001B[39m \u001B[43m        \u001B[49m\u001B[43mrequest\u001B[49m\u001B[43m,\u001B[49m\n\u001B[32m   1011\u001B[39m \u001B[43m        \u001B[49m\u001B[43mstream\u001B[49m\u001B[43m=\u001B[49m\u001B[43mstream\u001B[49m\u001B[43m \u001B[49m\u001B[38;5;129;43;01mor\u001B[39;49;00m\u001B[43m \u001B[49m\u001B[38;5;28;43mself\u001B[39;49m\u001B[43m.\u001B[49m\u001B[43m_should_stream_response_body\u001B[49m\u001B[43m(\u001B[49m\u001B[43mrequest\u001B[49m\u001B[43m=\u001B[49m\u001B[43mrequest\u001B[49m\u001B[43m)\u001B[49m\u001B[43m,\u001B[49m\n\u001B[32m   1012\u001B[39m \u001B[43m        \u001B[49m\u001B[43m*\u001B[49m\u001B[43m*\u001B[49m\u001B[43mkwargs\u001B[49m\u001B[43m,\u001B[49m\n\u001B[32m   1013\u001B[39m \u001B[43m    \u001B[49m\u001B[43m)\u001B[49m\n\u001B[32m   1014\u001B[39m \u001B[38;5;28;01mexcept\u001B[39;00m httpx.TimeoutException \u001B[38;5;28;01mas\u001B[39;00m err:\n\u001B[32m   1015\u001B[39m     log.debug(\u001B[33m\"\u001B[39m\u001B[33mEncountered httpx.TimeoutException\u001B[39m\u001B[33m\"\u001B[39m, exc_info=\u001B[38;5;28;01mTrue\u001B[39;00m)\n",
      "\u001B[36mFile \u001B[39m\u001B[32mC:\\!University\\RAI_research\\raiforukraine-MARIA\\src\\.venv\\Lib\\site-packages\\httpx\\_client.py:914\u001B[39m, in \u001B[36mClient.send\u001B[39m\u001B[34m(self, request, stream, auth, follow_redirects)\u001B[39m\n\u001B[32m    910\u001B[39m \u001B[38;5;28mself\u001B[39m._set_timeout(request)\n\u001B[32m    912\u001B[39m auth = \u001B[38;5;28mself\u001B[39m._build_request_auth(request, auth)\n\u001B[32m--> \u001B[39m\u001B[32m914\u001B[39m response = \u001B[38;5;28;43mself\u001B[39;49m\u001B[43m.\u001B[49m\u001B[43m_send_handling_auth\u001B[49m\u001B[43m(\u001B[49m\n\u001B[32m    915\u001B[39m \u001B[43m    \u001B[49m\u001B[43mrequest\u001B[49m\u001B[43m,\u001B[49m\n\u001B[32m    916\u001B[39m \u001B[43m    \u001B[49m\u001B[43mauth\u001B[49m\u001B[43m=\u001B[49m\u001B[43mauth\u001B[49m\u001B[43m,\u001B[49m\n\u001B[32m    917\u001B[39m \u001B[43m    \u001B[49m\u001B[43mfollow_redirects\u001B[49m\u001B[43m=\u001B[49m\u001B[43mfollow_redirects\u001B[49m\u001B[43m,\u001B[49m\n\u001B[32m    918\u001B[39m \u001B[43m    \u001B[49m\u001B[43mhistory\u001B[49m\u001B[43m=\u001B[49m\u001B[43m[\u001B[49m\u001B[43m]\u001B[49m\u001B[43m,\u001B[49m\n\u001B[32m    919\u001B[39m \u001B[43m\u001B[49m\u001B[43m)\u001B[49m\n\u001B[32m    920\u001B[39m \u001B[38;5;28;01mtry\u001B[39;00m:\n\u001B[32m    921\u001B[39m     \u001B[38;5;28;01mif\u001B[39;00m \u001B[38;5;129;01mnot\u001B[39;00m stream:\n",
      "\u001B[36mFile \u001B[39m\u001B[32mC:\\!University\\RAI_research\\raiforukraine-MARIA\\src\\.venv\\Lib\\site-packages\\httpx\\_client.py:942\u001B[39m, in \u001B[36mClient._send_handling_auth\u001B[39m\u001B[34m(self, request, auth, follow_redirects, history)\u001B[39m\n\u001B[32m    939\u001B[39m request = \u001B[38;5;28mnext\u001B[39m(auth_flow)\n\u001B[32m    941\u001B[39m \u001B[38;5;28;01mwhile\u001B[39;00m \u001B[38;5;28;01mTrue\u001B[39;00m:\n\u001B[32m--> \u001B[39m\u001B[32m942\u001B[39m     response = \u001B[38;5;28;43mself\u001B[39;49m\u001B[43m.\u001B[49m\u001B[43m_send_handling_redirects\u001B[49m\u001B[43m(\u001B[49m\n\u001B[32m    943\u001B[39m \u001B[43m        \u001B[49m\u001B[43mrequest\u001B[49m\u001B[43m,\u001B[49m\n\u001B[32m    944\u001B[39m \u001B[43m        \u001B[49m\u001B[43mfollow_redirects\u001B[49m\u001B[43m=\u001B[49m\u001B[43mfollow_redirects\u001B[49m\u001B[43m,\u001B[49m\n\u001B[32m    945\u001B[39m \u001B[43m        \u001B[49m\u001B[43mhistory\u001B[49m\u001B[43m=\u001B[49m\u001B[43mhistory\u001B[49m\u001B[43m,\u001B[49m\n\u001B[32m    946\u001B[39m \u001B[43m    \u001B[49m\u001B[43m)\u001B[49m\n\u001B[32m    947\u001B[39m     \u001B[38;5;28;01mtry\u001B[39;00m:\n\u001B[32m    948\u001B[39m         \u001B[38;5;28;01mtry\u001B[39;00m:\n",
      "\u001B[36mFile \u001B[39m\u001B[32mC:\\!University\\RAI_research\\raiforukraine-MARIA\\src\\.venv\\Lib\\site-packages\\httpx\\_client.py:979\u001B[39m, in \u001B[36mClient._send_handling_redirects\u001B[39m\u001B[34m(self, request, follow_redirects, history)\u001B[39m\n\u001B[32m    976\u001B[39m \u001B[38;5;28;01mfor\u001B[39;00m hook \u001B[38;5;129;01min\u001B[39;00m \u001B[38;5;28mself\u001B[39m._event_hooks[\u001B[33m\"\u001B[39m\u001B[33mrequest\u001B[39m\u001B[33m\"\u001B[39m]:\n\u001B[32m    977\u001B[39m     hook(request)\n\u001B[32m--> \u001B[39m\u001B[32m979\u001B[39m response = \u001B[38;5;28;43mself\u001B[39;49m\u001B[43m.\u001B[49m\u001B[43m_send_single_request\u001B[49m\u001B[43m(\u001B[49m\u001B[43mrequest\u001B[49m\u001B[43m)\u001B[49m\n\u001B[32m    980\u001B[39m \u001B[38;5;28;01mtry\u001B[39;00m:\n\u001B[32m    981\u001B[39m     \u001B[38;5;28;01mfor\u001B[39;00m hook \u001B[38;5;129;01min\u001B[39;00m \u001B[38;5;28mself\u001B[39m._event_hooks[\u001B[33m\"\u001B[39m\u001B[33mresponse\u001B[39m\u001B[33m\"\u001B[39m]:\n",
      "\u001B[36mFile \u001B[39m\u001B[32mC:\\!University\\RAI_research\\raiforukraine-MARIA\\src\\.venv\\Lib\\site-packages\\httpx\\_client.py:1014\u001B[39m, in \u001B[36mClient._send_single_request\u001B[39m\u001B[34m(self, request)\u001B[39m\n\u001B[32m   1009\u001B[39m     \u001B[38;5;28;01mraise\u001B[39;00m \u001B[38;5;167;01mRuntimeError\u001B[39;00m(\n\u001B[32m   1010\u001B[39m         \u001B[33m\"\u001B[39m\u001B[33mAttempted to send an async request with a sync Client instance.\u001B[39m\u001B[33m\"\u001B[39m\n\u001B[32m   1011\u001B[39m     )\n\u001B[32m   1013\u001B[39m \u001B[38;5;28;01mwith\u001B[39;00m request_context(request=request):\n\u001B[32m-> \u001B[39m\u001B[32m1014\u001B[39m     response = \u001B[43mtransport\u001B[49m\u001B[43m.\u001B[49m\u001B[43mhandle_request\u001B[49m\u001B[43m(\u001B[49m\u001B[43mrequest\u001B[49m\u001B[43m)\u001B[49m\n\u001B[32m   1016\u001B[39m \u001B[38;5;28;01massert\u001B[39;00m \u001B[38;5;28misinstance\u001B[39m(response.stream, SyncByteStream)\n\u001B[32m   1018\u001B[39m response.request = request\n",
      "\u001B[36mFile \u001B[39m\u001B[32mC:\\!University\\RAI_research\\raiforukraine-MARIA\\src\\.venv\\Lib\\site-packages\\httpx\\_transports\\default.py:250\u001B[39m, in \u001B[36mHTTPTransport.handle_request\u001B[39m\u001B[34m(self, request)\u001B[39m\n\u001B[32m    237\u001B[39m req = httpcore.Request(\n\u001B[32m    238\u001B[39m     method=request.method,\n\u001B[32m    239\u001B[39m     url=httpcore.URL(\n\u001B[32m   (...)\u001B[39m\u001B[32m    247\u001B[39m     extensions=request.extensions,\n\u001B[32m    248\u001B[39m )\n\u001B[32m    249\u001B[39m \u001B[38;5;28;01mwith\u001B[39;00m map_httpcore_exceptions():\n\u001B[32m--> \u001B[39m\u001B[32m250\u001B[39m     resp = \u001B[38;5;28;43mself\u001B[39;49m\u001B[43m.\u001B[49m\u001B[43m_pool\u001B[49m\u001B[43m.\u001B[49m\u001B[43mhandle_request\u001B[49m\u001B[43m(\u001B[49m\u001B[43mreq\u001B[49m\u001B[43m)\u001B[49m\n\u001B[32m    252\u001B[39m \u001B[38;5;28;01massert\u001B[39;00m \u001B[38;5;28misinstance\u001B[39m(resp.stream, typing.Iterable)\n\u001B[32m    254\u001B[39m \u001B[38;5;28;01mreturn\u001B[39;00m Response(\n\u001B[32m    255\u001B[39m     status_code=resp.status,\n\u001B[32m    256\u001B[39m     headers=resp.headers,\n\u001B[32m    257\u001B[39m     stream=ResponseStream(resp.stream),\n\u001B[32m    258\u001B[39m     extensions=resp.extensions,\n\u001B[32m    259\u001B[39m )\n",
      "\u001B[36mFile \u001B[39m\u001B[32mC:\\!University\\RAI_research\\raiforukraine-MARIA\\src\\.venv\\Lib\\site-packages\\httpcore\\_sync\\connection_pool.py:256\u001B[39m, in \u001B[36mConnectionPool.handle_request\u001B[39m\u001B[34m(self, request)\u001B[39m\n\u001B[32m    253\u001B[39m         closing = \u001B[38;5;28mself\u001B[39m._assign_requests_to_connections()\n\u001B[32m    255\u001B[39m     \u001B[38;5;28mself\u001B[39m._close_connections(closing)\n\u001B[32m--> \u001B[39m\u001B[32m256\u001B[39m     \u001B[38;5;28;01mraise\u001B[39;00m exc \u001B[38;5;28;01mfrom\u001B[39;00m\u001B[38;5;250m \u001B[39m\u001B[38;5;28;01mNone\u001B[39;00m\n\u001B[32m    258\u001B[39m \u001B[38;5;66;03m# Return the response. Note that in this case we still have to manage\u001B[39;00m\n\u001B[32m    259\u001B[39m \u001B[38;5;66;03m# the point at which the response is closed.\u001B[39;00m\n\u001B[32m    260\u001B[39m \u001B[38;5;28;01massert\u001B[39;00m \u001B[38;5;28misinstance\u001B[39m(response.stream, typing.Iterable)\n",
      "\u001B[36mFile \u001B[39m\u001B[32mC:\\!University\\RAI_research\\raiforukraine-MARIA\\src\\.venv\\Lib\\site-packages\\httpcore\\_sync\\connection_pool.py:236\u001B[39m, in \u001B[36mConnectionPool.handle_request\u001B[39m\u001B[34m(self, request)\u001B[39m\n\u001B[32m    232\u001B[39m connection = pool_request.wait_for_connection(timeout=timeout)\n\u001B[32m    234\u001B[39m \u001B[38;5;28;01mtry\u001B[39;00m:\n\u001B[32m    235\u001B[39m     \u001B[38;5;66;03m# Send the request on the assigned connection.\u001B[39;00m\n\u001B[32m--> \u001B[39m\u001B[32m236\u001B[39m     response = \u001B[43mconnection\u001B[49m\u001B[43m.\u001B[49m\u001B[43mhandle_request\u001B[49m\u001B[43m(\u001B[49m\n\u001B[32m    237\u001B[39m \u001B[43m        \u001B[49m\u001B[43mpool_request\u001B[49m\u001B[43m.\u001B[49m\u001B[43mrequest\u001B[49m\n\u001B[32m    238\u001B[39m \u001B[43m    \u001B[49m\u001B[43m)\u001B[49m\n\u001B[32m    239\u001B[39m \u001B[38;5;28;01mexcept\u001B[39;00m ConnectionNotAvailable:\n\u001B[32m    240\u001B[39m     \u001B[38;5;66;03m# In some cases a connection may initially be available to\u001B[39;00m\n\u001B[32m    241\u001B[39m     \u001B[38;5;66;03m# handle a request, but then become unavailable.\u001B[39;00m\n\u001B[32m    242\u001B[39m     \u001B[38;5;66;03m#\u001B[39;00m\n\u001B[32m    243\u001B[39m     \u001B[38;5;66;03m# In this case we clear the connection and try again.\u001B[39;00m\n\u001B[32m    244\u001B[39m     pool_request.clear_connection()\n",
      "\u001B[36mFile \u001B[39m\u001B[32mC:\\!University\\RAI_research\\raiforukraine-MARIA\\src\\.venv\\Lib\\site-packages\\httpcore\\_sync\\connection.py:103\u001B[39m, in \u001B[36mHTTPConnection.handle_request\u001B[39m\u001B[34m(self, request)\u001B[39m\n\u001B[32m    100\u001B[39m     \u001B[38;5;28mself\u001B[39m._connect_failed = \u001B[38;5;28;01mTrue\u001B[39;00m\n\u001B[32m    101\u001B[39m     \u001B[38;5;28;01mraise\u001B[39;00m exc\n\u001B[32m--> \u001B[39m\u001B[32m103\u001B[39m \u001B[38;5;28;01mreturn\u001B[39;00m \u001B[38;5;28;43mself\u001B[39;49m\u001B[43m.\u001B[49m\u001B[43m_connection\u001B[49m\u001B[43m.\u001B[49m\u001B[43mhandle_request\u001B[49m\u001B[43m(\u001B[49m\u001B[43mrequest\u001B[49m\u001B[43m)\u001B[49m\n",
      "\u001B[36mFile \u001B[39m\u001B[32mC:\\!University\\RAI_research\\raiforukraine-MARIA\\src\\.venv\\Lib\\site-packages\\httpcore\\_sync\\http11.py:136\u001B[39m, in \u001B[36mHTTP11Connection.handle_request\u001B[39m\u001B[34m(self, request)\u001B[39m\n\u001B[32m    134\u001B[39m     \u001B[38;5;28;01mwith\u001B[39;00m Trace(\u001B[33m\"\u001B[39m\u001B[33mresponse_closed\u001B[39m\u001B[33m\"\u001B[39m, logger, request) \u001B[38;5;28;01mas\u001B[39;00m trace:\n\u001B[32m    135\u001B[39m         \u001B[38;5;28mself\u001B[39m._response_closed()\n\u001B[32m--> \u001B[39m\u001B[32m136\u001B[39m \u001B[38;5;28;01mraise\u001B[39;00m exc\n",
      "\u001B[36mFile \u001B[39m\u001B[32mC:\\!University\\RAI_research\\raiforukraine-MARIA\\src\\.venv\\Lib\\site-packages\\httpcore\\_sync\\http11.py:106\u001B[39m, in \u001B[36mHTTP11Connection.handle_request\u001B[39m\u001B[34m(self, request)\u001B[39m\n\u001B[32m     95\u001B[39m     \u001B[38;5;28;01mpass\u001B[39;00m\n\u001B[32m     97\u001B[39m \u001B[38;5;28;01mwith\u001B[39;00m Trace(\n\u001B[32m     98\u001B[39m     \u001B[33m\"\u001B[39m\u001B[33mreceive_response_headers\u001B[39m\u001B[33m\"\u001B[39m, logger, request, kwargs\n\u001B[32m     99\u001B[39m ) \u001B[38;5;28;01mas\u001B[39;00m trace:\n\u001B[32m    100\u001B[39m     (\n\u001B[32m    101\u001B[39m         http_version,\n\u001B[32m    102\u001B[39m         status,\n\u001B[32m    103\u001B[39m         reason_phrase,\n\u001B[32m    104\u001B[39m         headers,\n\u001B[32m    105\u001B[39m         trailing_data,\n\u001B[32m--> \u001B[39m\u001B[32m106\u001B[39m     ) = \u001B[38;5;28;43mself\u001B[39;49m\u001B[43m.\u001B[49m\u001B[43m_receive_response_headers\u001B[49m\u001B[43m(\u001B[49m\u001B[43m*\u001B[49m\u001B[43m*\u001B[49m\u001B[43mkwargs\u001B[49m\u001B[43m)\u001B[49m\n\u001B[32m    107\u001B[39m     trace.return_value = (\n\u001B[32m    108\u001B[39m         http_version,\n\u001B[32m    109\u001B[39m         status,\n\u001B[32m    110\u001B[39m         reason_phrase,\n\u001B[32m    111\u001B[39m         headers,\n\u001B[32m    112\u001B[39m     )\n\u001B[32m    114\u001B[39m network_stream = \u001B[38;5;28mself\u001B[39m._network_stream\n",
      "\u001B[36mFile \u001B[39m\u001B[32mC:\\!University\\RAI_research\\raiforukraine-MARIA\\src\\.venv\\Lib\\site-packages\\httpcore\\_sync\\http11.py:177\u001B[39m, in \u001B[36mHTTP11Connection._receive_response_headers\u001B[39m\u001B[34m(self, request)\u001B[39m\n\u001B[32m    174\u001B[39m timeout = timeouts.get(\u001B[33m\"\u001B[39m\u001B[33mread\u001B[39m\u001B[33m\"\u001B[39m, \u001B[38;5;28;01mNone\u001B[39;00m)\n\u001B[32m    176\u001B[39m \u001B[38;5;28;01mwhile\u001B[39;00m \u001B[38;5;28;01mTrue\u001B[39;00m:\n\u001B[32m--> \u001B[39m\u001B[32m177\u001B[39m     event = \u001B[38;5;28;43mself\u001B[39;49m\u001B[43m.\u001B[49m\u001B[43m_receive_event\u001B[49m\u001B[43m(\u001B[49m\u001B[43mtimeout\u001B[49m\u001B[43m=\u001B[49m\u001B[43mtimeout\u001B[49m\u001B[43m)\u001B[49m\n\u001B[32m    178\u001B[39m     \u001B[38;5;28;01mif\u001B[39;00m \u001B[38;5;28misinstance\u001B[39m(event, h11.Response):\n\u001B[32m    179\u001B[39m         \u001B[38;5;28;01mbreak\u001B[39;00m\n",
      "\u001B[36mFile \u001B[39m\u001B[32mC:\\!University\\RAI_research\\raiforukraine-MARIA\\src\\.venv\\Lib\\site-packages\\httpcore\\_sync\\http11.py:217\u001B[39m, in \u001B[36mHTTP11Connection._receive_event\u001B[39m\u001B[34m(self, timeout)\u001B[39m\n\u001B[32m    214\u001B[39m     event = \u001B[38;5;28mself\u001B[39m._h11_state.next_event()\n\u001B[32m    216\u001B[39m \u001B[38;5;28;01mif\u001B[39;00m event \u001B[38;5;129;01mis\u001B[39;00m h11.NEED_DATA:\n\u001B[32m--> \u001B[39m\u001B[32m217\u001B[39m     data = \u001B[38;5;28;43mself\u001B[39;49m\u001B[43m.\u001B[49m\u001B[43m_network_stream\u001B[49m\u001B[43m.\u001B[49m\u001B[43mread\u001B[49m\u001B[43m(\u001B[49m\n\u001B[32m    218\u001B[39m \u001B[43m        \u001B[49m\u001B[38;5;28;43mself\u001B[39;49m\u001B[43m.\u001B[49m\u001B[43mREAD_NUM_BYTES\u001B[49m\u001B[43m,\u001B[49m\u001B[43m \u001B[49m\u001B[43mtimeout\u001B[49m\u001B[43m=\u001B[49m\u001B[43mtimeout\u001B[49m\n\u001B[32m    219\u001B[39m \u001B[43m    \u001B[49m\u001B[43m)\u001B[49m\n\u001B[32m    221\u001B[39m     \u001B[38;5;66;03m# If we feed this case through h11 we'll raise an exception like:\u001B[39;00m\n\u001B[32m    222\u001B[39m     \u001B[38;5;66;03m#\u001B[39;00m\n\u001B[32m    223\u001B[39m     \u001B[38;5;66;03m#     httpcore.RemoteProtocolError: can't handle event type\u001B[39;00m\n\u001B[32m   (...)\u001B[39m\u001B[32m    227\u001B[39m     \u001B[38;5;66;03m# perspective. Instead we handle this case distinctly and treat\u001B[39;00m\n\u001B[32m    228\u001B[39m     \u001B[38;5;66;03m# it as a ConnectError.\u001B[39;00m\n\u001B[32m    229\u001B[39m     \u001B[38;5;28;01mif\u001B[39;00m data == \u001B[33mb\u001B[39m\u001B[33m\"\u001B[39m\u001B[33m\"\u001B[39m \u001B[38;5;129;01mand\u001B[39;00m \u001B[38;5;28mself\u001B[39m._h11_state.their_state == h11.SEND_RESPONSE:\n",
      "\u001B[36mFile \u001B[39m\u001B[32mC:\\!University\\RAI_research\\raiforukraine-MARIA\\src\\.venv\\Lib\\site-packages\\httpcore\\_backends\\sync.py:128\u001B[39m, in \u001B[36mSyncStream.read\u001B[39m\u001B[34m(self, max_bytes, timeout)\u001B[39m\n\u001B[32m    126\u001B[39m \u001B[38;5;28;01mwith\u001B[39;00m map_exceptions(exc_map):\n\u001B[32m    127\u001B[39m     \u001B[38;5;28mself\u001B[39m._sock.settimeout(timeout)\n\u001B[32m--> \u001B[39m\u001B[32m128\u001B[39m     \u001B[38;5;28;01mreturn\u001B[39;00m \u001B[38;5;28;43mself\u001B[39;49m\u001B[43m.\u001B[49m\u001B[43m_sock\u001B[49m\u001B[43m.\u001B[49m\u001B[43mrecv\u001B[49m\u001B[43m(\u001B[49m\u001B[43mmax_bytes\u001B[49m\u001B[43m)\u001B[49m\n",
      "\u001B[36mFile \u001B[39m\u001B[32m~\\AppData\\Local\\Programs\\Python\\Python312\\Lib\\ssl.py:1232\u001B[39m, in \u001B[36mSSLSocket.recv\u001B[39m\u001B[34m(self, buflen, flags)\u001B[39m\n\u001B[32m   1228\u001B[39m     \u001B[38;5;28;01mif\u001B[39;00m flags != \u001B[32m0\u001B[39m:\n\u001B[32m   1229\u001B[39m         \u001B[38;5;28;01mraise\u001B[39;00m \u001B[38;5;167;01mValueError\u001B[39;00m(\n\u001B[32m   1230\u001B[39m             \u001B[33m\"\u001B[39m\u001B[33mnon-zero flags not allowed in calls to recv() on \u001B[39m\u001B[38;5;132;01m%s\u001B[39;00m\u001B[33m\"\u001B[39m %\n\u001B[32m   1231\u001B[39m             \u001B[38;5;28mself\u001B[39m.\u001B[34m__class__\u001B[39m)\n\u001B[32m-> \u001B[39m\u001B[32m1232\u001B[39m     \u001B[38;5;28;01mreturn\u001B[39;00m \u001B[38;5;28;43mself\u001B[39;49m\u001B[43m.\u001B[49m\u001B[43mread\u001B[49m\u001B[43m(\u001B[49m\u001B[43mbuflen\u001B[49m\u001B[43m)\u001B[49m\n\u001B[32m   1233\u001B[39m \u001B[38;5;28;01melse\u001B[39;00m:\n\u001B[32m   1234\u001B[39m     \u001B[38;5;28;01mreturn\u001B[39;00m \u001B[38;5;28msuper\u001B[39m().recv(buflen, flags)\n",
      "\u001B[36mFile \u001B[39m\u001B[32m~\\AppData\\Local\\Programs\\Python\\Python312\\Lib\\ssl.py:1105\u001B[39m, in \u001B[36mSSLSocket.read\u001B[39m\u001B[34m(self, len, buffer)\u001B[39m\n\u001B[32m   1103\u001B[39m         \u001B[38;5;28;01mreturn\u001B[39;00m \u001B[38;5;28mself\u001B[39m._sslobj.read(\u001B[38;5;28mlen\u001B[39m, buffer)\n\u001B[32m   1104\u001B[39m     \u001B[38;5;28;01melse\u001B[39;00m:\n\u001B[32m-> \u001B[39m\u001B[32m1105\u001B[39m         \u001B[38;5;28;01mreturn\u001B[39;00m \u001B[38;5;28;43mself\u001B[39;49m\u001B[43m.\u001B[49m\u001B[43m_sslobj\u001B[49m\u001B[43m.\u001B[49m\u001B[43mread\u001B[49m\u001B[43m(\u001B[49m\u001B[38;5;28;43mlen\u001B[39;49m\u001B[43m)\u001B[49m\n\u001B[32m   1106\u001B[39m \u001B[38;5;28;01mexcept\u001B[39;00m SSLError \u001B[38;5;28;01mas\u001B[39;00m x:\n\u001B[32m   1107\u001B[39m     \u001B[38;5;28;01mif\u001B[39;00m x.args[\u001B[32m0\u001B[39m] == SSL_ERROR_EOF \u001B[38;5;129;01mand\u001B[39;00m \u001B[38;5;28mself\u001B[39m.suppress_ragged_eofs:\n",
      "\u001B[31mKeyboardInterrupt\u001B[39m: "
     ]
    }
   ],
   "execution_count": 51
  },
  {
   "cell_type": "code",
   "source": "print(df_sorted['content_raw'][1])",
   "metadata": {
    "trusted": true,
    "execution": {
     "iopub.status.busy": "2025-03-01T14:53:05.727375Z",
     "iopub.execute_input": "2025-03-01T14:53:05.727807Z",
     "iopub.status.idle": "2025-03-01T14:53:05.734296Z",
     "shell.execute_reply.started": "2025-03-01T14:53:05.727774Z",
     "shell.execute_reply": "2025-03-01T14:53:05.732511Z"
    },
    "ExecuteTime": {
     "end_time": "2025-03-01T15:11:51.345033Z",
     "start_time": "2025-03-01T15:11:51.327996Z"
    }
   },
   "outputs": [
    {
     "ename": "NameError",
     "evalue": "name 'df_sorted' is not defined",
     "output_type": "error",
     "traceback": [
      "\u001B[31m---------------------------------------------------------------------------\u001B[39m",
      "\u001B[31mNameError\u001B[39m                                 Traceback (most recent call last)",
      "\u001B[36mCell\u001B[39m\u001B[36m \u001B[39m\u001B[32mIn[32]\u001B[39m\u001B[32m, line 1\u001B[39m\n\u001B[32m----> \u001B[39m\u001B[32m1\u001B[39m \u001B[38;5;28mprint\u001B[39m(\u001B[43mdf_sorted\u001B[49m[\u001B[33m'\u001B[39m\u001B[33mcontent_raw\u001B[39m\u001B[33m'\u001B[39m][\u001B[32m1\u001B[39m])\n",
      "\u001B[31mNameError\u001B[39m: name 'df_sorted' is not defined"
     ]
    }
   ],
   "execution_count": 32
  },
  {
   "cell_type": "code",
   "source": "print(df_sorted['content_cleaned'][1])",
   "metadata": {
    "trusted": true,
    "execution": {
     "iopub.status.busy": "2025-03-01T14:53:08.650504Z",
     "iopub.execute_input": "2025-03-01T14:53:08.650915Z",
     "iopub.status.idle": "2025-03-01T14:53:08.656884Z",
     "shell.execute_reply.started": "2025-03-01T14:53:08.650884Z",
     "shell.execute_reply": "2025-03-01T14:53:08.655699Z"
    }
   },
   "outputs": [
    {
     "name": "stdout",
     "text": "**Item_parent:** Pneumothorax;\n**Title:** Knowing the elements for diagnosing the severity of a pneumothorax;\n**Description:** Refer to question on acute respiratory distress and acute respiratory failure. Item 355/356;\n**Item:** Identification of the emergency;\n\nThese elements are systematically sought on clinical examination.\n\n- Respiratory signs: signs of acute respiratory distress/desaturation.\n\n- Haemodynamic signs in the event of gas tamponade: right heart failure, shock, cardiac arrest.\n\nThey do not necessarily correlate with the size of the pneumothorax. A partial pneumothorax may be poorly tolerated from a respiratory point of view in a patient already suffering from respiratory insufficiency.\n",
     "output_type": "stream"
    }
   ],
   "execution_count": 137
  },
  {
   "cell_type": "code",
   "source": "df_sorted.to_csv('/kaggle/working/lisa_sheets_snippet.csv', index=False)",
   "metadata": {
    "trusted": true,
    "execution": {
     "iopub.status.busy": "2025-03-01T14:53:15.805761Z",
     "iopub.execute_input": "2025-03-01T14:53:15.806120Z",
     "iopub.status.idle": "2025-03-01T14:53:15.827933Z",
     "shell.execute_reply.started": "2025-03-01T14:53:15.806094Z",
     "shell.execute_reply": "2025-03-01T14:53:15.826568Z"
    }
   },
   "outputs": [],
   "execution_count": 138
  }
 ]
}
