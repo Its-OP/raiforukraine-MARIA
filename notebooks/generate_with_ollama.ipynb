{
 "cells": [
  {
   "cell_type": "code",
   "execution_count": 1,
   "id": "6e63a7eb-b729-4192-9c11-beeea4f999f0",
   "metadata": {},
   "outputs": [],
   "source": [
    "import ollama\n",
    "from ollama import chat\n",
    "from ollama import ChatResponse\n",
    "from pydantic import BaseModel\n",
    "import json\n",
    "import pandas as pd"
   ]
  },
  {
   "cell_type": "code",
   "execution_count": 2,
   "id": "914e1bb5-e7d4-40e5-a1be-a6e76772067e",
   "metadata": {},
   "outputs": [],
   "source": [
    "df = pd.read_csv(\"lisa_sheets.csv\")"
   ]
  },
  {
   "cell_type": "code",
   "execution_count": 3,
   "id": "ddc5a711-18a3-463f-9b9f-601365bfb871",
   "metadata": {},
   "outputs": [],
   "source": [
    "file_path = \"raiforukraine-MARIA/data/train_test_split/test_folders.json\""
   ]
  },
  {
   "cell_type": "code",
   "execution_count": 4,
   "id": "6c0dca29-b79d-4c38-99f3-2b91cf8dfefa",
   "metadata": {},
   "outputs": [],
   "source": [
    "with open(file_path, \"r\", encoding=\"utf-8\") as file:\n",
    "    test_folders = json.load(file)"
   ]
  },
  {
   "cell_type": "code",
   "execution_count": 5,
   "id": "a812fdfc-7dd4-4d2b-b253-88bfe75bbd02",
   "metadata": {},
   "outputs": [],
   "source": [
    "df_test = df[df.folder.isin(test_folders)]"
   ]
  },
  {
   "cell_type": "code",
   "execution_count": 32,
   "id": "eb4672c1-5400-4ffa-8d10-d8feecde00fa",
   "metadata": {},
   "outputs": [],
   "source": []
  },
  {
   "cell_type": "code",
   "execution_count": 8,
   "id": "3f0a9d28-75ca-4103-b386-20719c7b2d16",
   "metadata": {},
   "outputs": [],
   "source": [
    "class MCQQuestion(BaseModel):\n",
    "    question: str\n",
    "    option_a: str\n",
    "    option_b: str\n",
    "    option_c: str\n",
    "    option_d: str\n",
    "    correct_option: str"
   ]
  },
  {
   "cell_type": "code",
   "execution_count": null,
   "id": "031afb2c-29c3-4082-92e9-7ec881fb8cfb",
   "metadata": {},
   "outputs": [],
   "source": []
  },
  {
   "cell_type": "code",
   "execution_count": 9,
   "id": "eec0bced-8731-44a9-9b7a-64eec62afd6f",
   "metadata": {},
   "outputs": [],
   "source": [
    "from ollama import generate\n",
    "\n",
    "def generate_mcq(content, model_name, temperature):\n",
    "    prompt = f\"\"\"\n",
    "    Based on the following educational content, generate a multiple-choice question with four answer \n",
    "    options where only one is correct. The question should assess understanding of the main ideas, \n",
    "    and the options should be clear, informative, and relevant. Ensure that the distractors (incorrect options) \n",
    "    follow a logical but incorrect interpretation, based on common misconceptions or misunderstandings of the topic.\n",
    "    Answer options must be as short as possible.\n",
    "\n",
    "    **Educational Content**\n",
    "    {content}\n",
    "    \"\"\"\n",
    "    \n",
    "    generate_params = {\n",
    "        'model': model_name,\n",
    "        'options': {'temperature': temperature, 'num_ctx': 8192, 'top_p': 1}, \n",
    "        'prompt': prompt,\n",
    "        'format': MCQQuestion.model_json_schema()\n",
    "    }\n",
    "    \n",
    "    # Get a response\n",
    "    response = generate(**generate_params)\n",
    "    \n",
    "    return response['response']"
   ]
  },
  {
   "cell_type": "code",
   "execution_count": 13,
   "id": "341b8fff-0fcb-487c-bb07-ff1c42942f17",
   "metadata": {},
   "outputs": [
    {
     "name": "stdout",
     "output_type": "stream",
     "text": [
      "CPU times: user 3.69 s, sys: 232 ms, total: 3.92 s\n",
      "Wall time: 1h 26min 59s\n"
     ]
    },
    {
     "name": "stderr",
     "output_type": "stream",
     "text": [
      "<timed exec>:1: SettingWithCopyWarning: \n",
      "A value is trying to be set on a copy of a slice from a DataFrame.\n",
      "Try using .loc[row_indexer,col_indexer] = value instead\n",
      "\n",
      "See the caveats in the documentation: https://pandas.pydata.org/pandas-docs/stable/user_guide/indexing.html#returning-a-view-versus-a-copy\n"
     ]
    }
   ],
   "source": [
    "%%time\n",
    "df_test['generated_questions_0.1'] = df_test['content_gpt'].apply(\n",
    "    lambda content: generate_mcq(content, model_name=\"phi3.5:3.8b-mini-instruct-q8_0\", temperature=0.1)\n",
    ")"
   ]
  },
  {
   "cell_type": "code",
   "execution_count": 14,
   "id": "52aff97c-7f0a-4995-af11-af790010feb0",
   "metadata": {},
   "outputs": [
    {
     "name": "stderr",
     "output_type": "stream",
     "text": [
      "/var/tmp/ipykernel_2334643/1204912059.py:1: SettingWithCopyWarning: \n",
      "A value is trying to be set on a copy of a slice from a DataFrame.\n",
      "Try using .loc[row_indexer,col_indexer] = value instead\n",
      "\n",
      "See the caveats in the documentation: https://pandas.pydata.org/pandas-docs/stable/user_guide/indexing.html#returning-a-view-versus-a-copy\n",
      "  df_test['generated_questions_0.7'] = df_test['content_gpt'].apply(\n"
     ]
    }
   ],
   "source": [
    "df_test['generated_questions_0.7'] = df_test['content_gpt'].apply(\n",
    "    lambda content: generate_mcq(content, model_name=\"phi3.5:3.8b-mini-instruct-q8_0\", temperature=0.7)\n",
    ")"
   ]
  },
  {
   "cell_type": "code",
   "execution_count": null,
   "id": "09865edd-7109-4b5a-877c-0f544e8dcc2b",
   "metadata": {},
   "outputs": [],
   "source": []
  },
  {
   "cell_type": "code",
   "execution_count": 22,
   "id": "028082bc-a6b2-4f88-b137-806ae07fe581",
   "metadata": {},
   "outputs": [],
   "source": [
    "from pydantic import ValidationError"
   ]
  },
  {
   "cell_type": "code",
   "execution_count": 23,
   "id": "f4b5abb3-0aa3-42b1-921a-f72e04a19e5e",
   "metadata": {
    "scrolled": true
   },
   "outputs": [],
   "source": [
    "def validate_mcq(mcq_json):\n",
    "    try:\n",
    "        return MCQQuestion.model_validate_json(mcq_json)\n",
    "    except ValidationError as e:\n",
    "        print(f\"Validation failed: {e}\")\n",
    "        return None\n",
    "        \n"
   ]
  },
  {
   "cell_type": "code",
   "execution_count": null,
   "id": "06515d3a-7092-4c5f-a508-662f689b2f51",
   "metadata": {
    "scrolled": true
   },
   "outputs": [],
   "source": [
    "df[\"validated_mcq_0.7\"] = df['generated_questions_0.7'].apply(validate_mcq)"
   ]
  },
  {
   "cell_type": "code",
   "execution_count": null,
   "id": "3cd57ce5-7719-47b8-857b-8ed08e783403",
   "metadata": {},
   "outputs": [],
   "source": [
    "df[\"validated_mcq_0.1\"] = df['generated_questions_0.1'].apply(validate_mcq)"
   ]
  }
 ],
 "metadata": {
  "kernelspec": {
   "display_name": "Python (base)",
   "language": "python",
   "name": "base"
  },
  "language_info": {
   "codemirror_mode": {
    "name": "ipython",
    "version": 3
   },
   "file_extension": ".py",
   "mimetype": "text/x-python",
   "name": "python",
   "nbconvert_exporter": "python",
   "pygments_lexer": "ipython3",
   "version": "3.12.8"
  }
 },
 "nbformat": 4,
 "nbformat_minor": 5
}
