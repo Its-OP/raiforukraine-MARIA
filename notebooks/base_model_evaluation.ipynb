{
  "nbformat": 4,
  "nbformat_minor": 0,
  "metadata": {
    "colab": {
      "provenance": []
    },
    "kernelspec": {
      "name": "python3",
      "display_name": "Python 3"
    },
    "language_info": {
      "name": "python"
    }
  },
  "cells": [
    {
      "cell_type": "code",
      "execution_count": 2,
      "metadata": {
        "id": "XTL8_cenjf7a"
      },
      "outputs": [],
      "source": [
        "import pandas as pd\n",
        "import json\n",
        "import os\n",
        "import ast\n",
        "import matplotlib.pyplot as plt"
      ]
    },
    {
      "cell_type": "code",
      "source": [
        "df = pd.read_csv('gpt4_mcq_eval.csv')\n",
        "df.head()"
      ],
      "metadata": {
        "id": "AKWrq07-lwD7",
        "colab": {
          "base_uri": "https://localhost:8080/",
          "height": 573
        },
        "outputId": "95c768d3-841c-4ec4-c118-e99d9b08cc91"
      },
      "execution_count": 3,
      "outputs": [
        {
          "output_type": "execute_result",
          "data": {
            "text/plain": [
              "             id                                           mcq_json  \\\n",
              "0  OIC-360-01-A  {'question': 'What is a pneumothorax?', 'optio...   \n",
              "1  OIC-360-08-A  {'question': 'Which of the following is a key ...   \n",
              "2  OIC-360-03-A  {'question': 'Which of the following is a clin...   \n",
              "3  OIC-360-11-B  {'question': 'What is a recommended measure to...   \n",
              "4  OIC-360-10-B  {'question': 'What is a primary indication for...   \n",
              "\n",
              "               rubric                                           question  \\\n",
              "0          Definition                            What is a pneumothorax?   \n",
              "1                 NaN  Which of the following is a key element in dia...   \n",
              "2  Positive diagnosis  Which of the following is a clinical element u...   \n",
              "3                 NaN  What is a recommended measure to prevent the r...   \n",
              "4          Management  What is a primary indication for performing pl...   \n",
              "\n",
              "                                            option_a  \\\n",
              "0                    Fluid accumulation in the lungs   \n",
              "1                       The size of the pneumothorax   \n",
              "2                       Sudden 'stabbing' chest pain   \n",
              "3                       Increasing physical activity   \n",
              "4  When the pneumothorax is primary and exsufflat...   \n",
              "\n",
              "                                            option_b  \\\n",
              "0                 Gas effusion in the pleural cavity   \n",
              "1                   Presence of respiratory distress   \n",
              "2                         Increased vesicular murmur   \n",
              "3                                  Smoking cessation   \n",
              "4  When the pneumothorax is primary and there is ...   \n",
              "\n",
              "                                            option_c  \\\n",
              "0                    Infection of the pleural lining   \n",
              "1                                      Patient's age   \n",
              "2                                        Moist cough   \n",
              "3                              Reducing water intake   \n",
              "4  When the pneumothorax is secondary and exsuffl...   \n",
              "\n",
              "                                            option_d correct_option  \\\n",
              "0                    Inflammation of the lung tissue              b   \n",
              "1                       Location of the pneumothorax              b   \n",
              "2                    Decreased tympany on percussion              a   \n",
              "3                            Avoiding dairy products              b   \n",
              "4  When the pneumothorax is primary and there is ...              a   \n",
              "\n",
              "   originality  readability  starts_with_negation  is_question  relevance  \\\n",
              "0     0.000000     6.620000                 False         True   0.789512   \n",
              "1     0.500000    11.500000                 False         True   0.841534   \n",
              "2     1.000000    12.690000                 False         True   0.788986   \n",
              "3     0.333333    13.372727                 False         True   0.826552   \n",
              "4     1.000000    15.155714                 False         True   0.877802   \n",
              "\n",
              "   ambiguity gpt_answer                                        content_gpt  \n",
              "0   0.690330          b  **Item Parent:** Pneumothorax  \\n**Title:** De...  \n",
              "1   0.621677          b  **Item Parent:** Pneumothorax  \\n**Title:** Kn...  \n",
              "2   0.566794          a  **Item Parent:** Pneumothorax  \\n**Title:** Kn...  \n",
              "3   0.532753          b  **Item Parent:** Pneumothorax  \\n**Title:** Kn...  \n",
              "4   0.816469          a  **Item Parent:** Pneumothorax  \\n**Title:** Kn...  "
            ],
            "text/html": [
              "\n",
              "  <div id=\"df-ff39dd47-784b-4a1f-b87c-d3dc8cc3b494\" class=\"colab-df-container\">\n",
              "    <div>\n",
              "<style scoped>\n",
              "    .dataframe tbody tr th:only-of-type {\n",
              "        vertical-align: middle;\n",
              "    }\n",
              "\n",
              "    .dataframe tbody tr th {\n",
              "        vertical-align: top;\n",
              "    }\n",
              "\n",
              "    .dataframe thead th {\n",
              "        text-align: right;\n",
              "    }\n",
              "</style>\n",
              "<table border=\"1\" class=\"dataframe\">\n",
              "  <thead>\n",
              "    <tr style=\"text-align: right;\">\n",
              "      <th></th>\n",
              "      <th>id</th>\n",
              "      <th>mcq_json</th>\n",
              "      <th>rubric</th>\n",
              "      <th>question</th>\n",
              "      <th>option_a</th>\n",
              "      <th>option_b</th>\n",
              "      <th>option_c</th>\n",
              "      <th>option_d</th>\n",
              "      <th>correct_option</th>\n",
              "      <th>originality</th>\n",
              "      <th>readability</th>\n",
              "      <th>starts_with_negation</th>\n",
              "      <th>is_question</th>\n",
              "      <th>relevance</th>\n",
              "      <th>ambiguity</th>\n",
              "      <th>gpt_answer</th>\n",
              "      <th>content_gpt</th>\n",
              "    </tr>\n",
              "  </thead>\n",
              "  <tbody>\n",
              "    <tr>\n",
              "      <th>0</th>\n",
              "      <td>OIC-360-01-A</td>\n",
              "      <td>{'question': 'What is a pneumothorax?', 'optio...</td>\n",
              "      <td>Definition</td>\n",
              "      <td>What is a pneumothorax?</td>\n",
              "      <td>Fluid accumulation in the lungs</td>\n",
              "      <td>Gas effusion in the pleural cavity</td>\n",
              "      <td>Infection of the pleural lining</td>\n",
              "      <td>Inflammation of the lung tissue</td>\n",
              "      <td>b</td>\n",
              "      <td>0.000000</td>\n",
              "      <td>6.620000</td>\n",
              "      <td>False</td>\n",
              "      <td>True</td>\n",
              "      <td>0.789512</td>\n",
              "      <td>0.690330</td>\n",
              "      <td>b</td>\n",
              "      <td>**Item Parent:** Pneumothorax  \\n**Title:** De...</td>\n",
              "    </tr>\n",
              "    <tr>\n",
              "      <th>1</th>\n",
              "      <td>OIC-360-08-A</td>\n",
              "      <td>{'question': 'Which of the following is a key ...</td>\n",
              "      <td>NaN</td>\n",
              "      <td>Which of the following is a key element in dia...</td>\n",
              "      <td>The size of the pneumothorax</td>\n",
              "      <td>Presence of respiratory distress</td>\n",
              "      <td>Patient's age</td>\n",
              "      <td>Location of the pneumothorax</td>\n",
              "      <td>b</td>\n",
              "      <td>0.500000</td>\n",
              "      <td>11.500000</td>\n",
              "      <td>False</td>\n",
              "      <td>True</td>\n",
              "      <td>0.841534</td>\n",
              "      <td>0.621677</td>\n",
              "      <td>b</td>\n",
              "      <td>**Item Parent:** Pneumothorax  \\n**Title:** Kn...</td>\n",
              "    </tr>\n",
              "    <tr>\n",
              "      <th>2</th>\n",
              "      <td>OIC-360-03-A</td>\n",
              "      <td>{'question': 'Which of the following is a clin...</td>\n",
              "      <td>Positive diagnosis</td>\n",
              "      <td>Which of the following is a clinical element u...</td>\n",
              "      <td>Sudden 'stabbing' chest pain</td>\n",
              "      <td>Increased vesicular murmur</td>\n",
              "      <td>Moist cough</td>\n",
              "      <td>Decreased tympany on percussion</td>\n",
              "      <td>a</td>\n",
              "      <td>1.000000</td>\n",
              "      <td>12.690000</td>\n",
              "      <td>False</td>\n",
              "      <td>True</td>\n",
              "      <td>0.788986</td>\n",
              "      <td>0.566794</td>\n",
              "      <td>a</td>\n",
              "      <td>**Item Parent:** Pneumothorax  \\n**Title:** Kn...</td>\n",
              "    </tr>\n",
              "    <tr>\n",
              "      <th>3</th>\n",
              "      <td>OIC-360-11-B</td>\n",
              "      <td>{'question': 'What is a recommended measure to...</td>\n",
              "      <td>NaN</td>\n",
              "      <td>What is a recommended measure to prevent the r...</td>\n",
              "      <td>Increasing physical activity</td>\n",
              "      <td>Smoking cessation</td>\n",
              "      <td>Reducing water intake</td>\n",
              "      <td>Avoiding dairy products</td>\n",
              "      <td>b</td>\n",
              "      <td>0.333333</td>\n",
              "      <td>13.372727</td>\n",
              "      <td>False</td>\n",
              "      <td>True</td>\n",
              "      <td>0.826552</td>\n",
              "      <td>0.532753</td>\n",
              "      <td>b</td>\n",
              "      <td>**Item Parent:** Pneumothorax  \\n**Title:** Kn...</td>\n",
              "    </tr>\n",
              "    <tr>\n",
              "      <th>4</th>\n",
              "      <td>OIC-360-10-B</td>\n",
              "      <td>{'question': 'What is a primary indication for...</td>\n",
              "      <td>Management</td>\n",
              "      <td>What is a primary indication for performing pl...</td>\n",
              "      <td>When the pneumothorax is primary and exsufflat...</td>\n",
              "      <td>When the pneumothorax is primary and there is ...</td>\n",
              "      <td>When the pneumothorax is secondary and exsuffl...</td>\n",
              "      <td>When the pneumothorax is primary and there is ...</td>\n",
              "      <td>a</td>\n",
              "      <td>1.000000</td>\n",
              "      <td>15.155714</td>\n",
              "      <td>False</td>\n",
              "      <td>True</td>\n",
              "      <td>0.877802</td>\n",
              "      <td>0.816469</td>\n",
              "      <td>a</td>\n",
              "      <td>**Item Parent:** Pneumothorax  \\n**Title:** Kn...</td>\n",
              "    </tr>\n",
              "  </tbody>\n",
              "</table>\n",
              "</div>\n",
              "    <div class=\"colab-df-buttons\">\n",
              "\n",
              "  <div class=\"colab-df-container\">\n",
              "    <button class=\"colab-df-convert\" onclick=\"convertToInteractive('df-ff39dd47-784b-4a1f-b87c-d3dc8cc3b494')\"\n",
              "            title=\"Convert this dataframe to an interactive table.\"\n",
              "            style=\"display:none;\">\n",
              "\n",
              "  <svg xmlns=\"http://www.w3.org/2000/svg\" height=\"24px\" viewBox=\"0 -960 960 960\">\n",
              "    <path d=\"M120-120v-720h720v720H120Zm60-500h600v-160H180v160Zm220 220h160v-160H400v160Zm0 220h160v-160H400v160ZM180-400h160v-160H180v160Zm440 0h160v-160H620v160ZM180-180h160v-160H180v160Zm440 0h160v-160H620v160Z\"/>\n",
              "  </svg>\n",
              "    </button>\n",
              "\n",
              "  <style>\n",
              "    .colab-df-container {\n",
              "      display:flex;\n",
              "      gap: 12px;\n",
              "    }\n",
              "\n",
              "    .colab-df-convert {\n",
              "      background-color: #E8F0FE;\n",
              "      border: none;\n",
              "      border-radius: 50%;\n",
              "      cursor: pointer;\n",
              "      display: none;\n",
              "      fill: #1967D2;\n",
              "      height: 32px;\n",
              "      padding: 0 0 0 0;\n",
              "      width: 32px;\n",
              "    }\n",
              "\n",
              "    .colab-df-convert:hover {\n",
              "      background-color: #E2EBFA;\n",
              "      box-shadow: 0px 1px 2px rgba(60, 64, 67, 0.3), 0px 1px 3px 1px rgba(60, 64, 67, 0.15);\n",
              "      fill: #174EA6;\n",
              "    }\n",
              "\n",
              "    .colab-df-buttons div {\n",
              "      margin-bottom: 4px;\n",
              "    }\n",
              "\n",
              "    [theme=dark] .colab-df-convert {\n",
              "      background-color: #3B4455;\n",
              "      fill: #D2E3FC;\n",
              "    }\n",
              "\n",
              "    [theme=dark] .colab-df-convert:hover {\n",
              "      background-color: #434B5C;\n",
              "      box-shadow: 0px 1px 3px 1px rgba(0, 0, 0, 0.15);\n",
              "      filter: drop-shadow(0px 1px 2px rgba(0, 0, 0, 0.3));\n",
              "      fill: #FFFFFF;\n",
              "    }\n",
              "  </style>\n",
              "\n",
              "    <script>\n",
              "      const buttonEl =\n",
              "        document.querySelector('#df-ff39dd47-784b-4a1f-b87c-d3dc8cc3b494 button.colab-df-convert');\n",
              "      buttonEl.style.display =\n",
              "        google.colab.kernel.accessAllowed ? 'block' : 'none';\n",
              "\n",
              "      async function convertToInteractive(key) {\n",
              "        const element = document.querySelector('#df-ff39dd47-784b-4a1f-b87c-d3dc8cc3b494');\n",
              "        const dataTable =\n",
              "          await google.colab.kernel.invokeFunction('convertToInteractive',\n",
              "                                                    [key], {});\n",
              "        if (!dataTable) return;\n",
              "\n",
              "        const docLinkHtml = 'Like what you see? Visit the ' +\n",
              "          '<a target=\"_blank\" href=https://colab.research.google.com/notebooks/data_table.ipynb>data table notebook</a>'\n",
              "          + ' to learn more about interactive tables.';\n",
              "        element.innerHTML = '';\n",
              "        dataTable['output_type'] = 'display_data';\n",
              "        await google.colab.output.renderOutput(dataTable, element);\n",
              "        const docLink = document.createElement('div');\n",
              "        docLink.innerHTML = docLinkHtml;\n",
              "        element.appendChild(docLink);\n",
              "      }\n",
              "    </script>\n",
              "  </div>\n",
              "\n",
              "\n",
              "<div id=\"df-7b4c6dcc-3bde-46a4-8aca-d951bd0a18cd\">\n",
              "  <button class=\"colab-df-quickchart\" onclick=\"quickchart('df-7b4c6dcc-3bde-46a4-8aca-d951bd0a18cd')\"\n",
              "            title=\"Suggest charts\"\n",
              "            style=\"display:none;\">\n",
              "\n",
              "<svg xmlns=\"http://www.w3.org/2000/svg\" height=\"24px\"viewBox=\"0 0 24 24\"\n",
              "     width=\"24px\">\n",
              "    <g>\n",
              "        <path d=\"M19 3H5c-1.1 0-2 .9-2 2v14c0 1.1.9 2 2 2h14c1.1 0 2-.9 2-2V5c0-1.1-.9-2-2-2zM9 17H7v-7h2v7zm4 0h-2V7h2v10zm4 0h-2v-4h2v4z\"/>\n",
              "    </g>\n",
              "</svg>\n",
              "  </button>\n",
              "\n",
              "<style>\n",
              "  .colab-df-quickchart {\n",
              "      --bg-color: #E8F0FE;\n",
              "      --fill-color: #1967D2;\n",
              "      --hover-bg-color: #E2EBFA;\n",
              "      --hover-fill-color: #174EA6;\n",
              "      --disabled-fill-color: #AAA;\n",
              "      --disabled-bg-color: #DDD;\n",
              "  }\n",
              "\n",
              "  [theme=dark] .colab-df-quickchart {\n",
              "      --bg-color: #3B4455;\n",
              "      --fill-color: #D2E3FC;\n",
              "      --hover-bg-color: #434B5C;\n",
              "      --hover-fill-color: #FFFFFF;\n",
              "      --disabled-bg-color: #3B4455;\n",
              "      --disabled-fill-color: #666;\n",
              "  }\n",
              "\n",
              "  .colab-df-quickchart {\n",
              "    background-color: var(--bg-color);\n",
              "    border: none;\n",
              "    border-radius: 50%;\n",
              "    cursor: pointer;\n",
              "    display: none;\n",
              "    fill: var(--fill-color);\n",
              "    height: 32px;\n",
              "    padding: 0;\n",
              "    width: 32px;\n",
              "  }\n",
              "\n",
              "  .colab-df-quickchart:hover {\n",
              "    background-color: var(--hover-bg-color);\n",
              "    box-shadow: 0 1px 2px rgba(60, 64, 67, 0.3), 0 1px 3px 1px rgba(60, 64, 67, 0.15);\n",
              "    fill: var(--button-hover-fill-color);\n",
              "  }\n",
              "\n",
              "  .colab-df-quickchart-complete:disabled,\n",
              "  .colab-df-quickchart-complete:disabled:hover {\n",
              "    background-color: var(--disabled-bg-color);\n",
              "    fill: var(--disabled-fill-color);\n",
              "    box-shadow: none;\n",
              "  }\n",
              "\n",
              "  .colab-df-spinner {\n",
              "    border: 2px solid var(--fill-color);\n",
              "    border-color: transparent;\n",
              "    border-bottom-color: var(--fill-color);\n",
              "    animation:\n",
              "      spin 1s steps(1) infinite;\n",
              "  }\n",
              "\n",
              "  @keyframes spin {\n",
              "    0% {\n",
              "      border-color: transparent;\n",
              "      border-bottom-color: var(--fill-color);\n",
              "      border-left-color: var(--fill-color);\n",
              "    }\n",
              "    20% {\n",
              "      border-color: transparent;\n",
              "      border-left-color: var(--fill-color);\n",
              "      border-top-color: var(--fill-color);\n",
              "    }\n",
              "    30% {\n",
              "      border-color: transparent;\n",
              "      border-left-color: var(--fill-color);\n",
              "      border-top-color: var(--fill-color);\n",
              "      border-right-color: var(--fill-color);\n",
              "    }\n",
              "    40% {\n",
              "      border-color: transparent;\n",
              "      border-right-color: var(--fill-color);\n",
              "      border-top-color: var(--fill-color);\n",
              "    }\n",
              "    60% {\n",
              "      border-color: transparent;\n",
              "      border-right-color: var(--fill-color);\n",
              "    }\n",
              "    80% {\n",
              "      border-color: transparent;\n",
              "      border-right-color: var(--fill-color);\n",
              "      border-bottom-color: var(--fill-color);\n",
              "    }\n",
              "    90% {\n",
              "      border-color: transparent;\n",
              "      border-bottom-color: var(--fill-color);\n",
              "    }\n",
              "  }\n",
              "</style>\n",
              "\n",
              "  <script>\n",
              "    async function quickchart(key) {\n",
              "      const quickchartButtonEl =\n",
              "        document.querySelector('#' + key + ' button');\n",
              "      quickchartButtonEl.disabled = true;  // To prevent multiple clicks.\n",
              "      quickchartButtonEl.classList.add('colab-df-spinner');\n",
              "      try {\n",
              "        const charts = await google.colab.kernel.invokeFunction(\n",
              "            'suggestCharts', [key], {});\n",
              "      } catch (error) {\n",
              "        console.error('Error during call to suggestCharts:', error);\n",
              "      }\n",
              "      quickchartButtonEl.classList.remove('colab-df-spinner');\n",
              "      quickchartButtonEl.classList.add('colab-df-quickchart-complete');\n",
              "    }\n",
              "    (() => {\n",
              "      let quickchartButtonEl =\n",
              "        document.querySelector('#df-7b4c6dcc-3bde-46a4-8aca-d951bd0a18cd button');\n",
              "      quickchartButtonEl.style.display =\n",
              "        google.colab.kernel.accessAllowed ? 'block' : 'none';\n",
              "    })();\n",
              "  </script>\n",
              "</div>\n",
              "    </div>\n",
              "  </div>\n"
            ],
            "application/vnd.google.colaboratory.intrinsic+json": {
              "type": "dataframe",
              "variable_name": "df",
              "summary": "{\n  \"name\": \"df\",\n  \"rows\": 4693,\n  \"fields\": [\n    {\n      \"column\": \"id\",\n      \"properties\": {\n        \"dtype\": \"string\",\n        \"num_unique_values\": 4693,\n        \"samples\": [\n          \"OIC-071-30-A\",\n          \"OIC-155-28-A\",\n          \"OIC-115-11-A\"\n        ],\n        \"semantic_type\": \"\",\n        \"description\": \"\"\n      }\n    },\n    {\n      \"column\": \"mcq_json\",\n      \"properties\": {\n        \"dtype\": \"string\",\n        \"num_unique_values\": 4693,\n        \"samples\": [\n          \"{'question': 'Which of the following is NOT a differential diagnosis to consider when evaluating for bulimia?', 'option_a': 'Kl\\u00fcver-Bucy syndrome', 'option_b': 'Metabolic or genetic obesity', 'option_c': 'Generalized anxiety disorder', 'option_d': 'Borderline personality disorder', 'correct_option': 'C'}\",\n          \"{'question': 'What is the primary lesion characteristic of bacterial and mycotic skin infections?', 'option_a': 'A solid nodule that does not rupture', 'option_b': 'A vesiculo-bubble that rapidly ruptures to form a crusty erosion', 'option_c': 'A flat, non-crusty patch on the skin', 'option_d': 'A deep ulcer that heals without crusting', 'correct_option': 'B'}\",\n          \"{'question': 'Which of the following is a characteristic feature of DRESS syndrome?', 'option_a': 'Immediate reaction within hours of drug administration', 'option_b': 'Hyper-eosinophilia and/or lymphocytosis with mononucleosis syndrome', 'option_c': 'Localized rash confined to the injection site', 'option_d': 'No systemic symptoms or fever', 'correct_option': 'B'}\"\n        ],\n        \"semantic_type\": \"\",\n        \"description\": \"\"\n      }\n    },\n    {\n      \"column\": \"rubric\",\n      \"properties\": {\n        \"dtype\": \"category\",\n        \"num_unique_values\": 56,\n        \"samples\": [\n          \"Definition\",\n          \"Physiopathology\",\n          \"Epidemiology, prevalence\"\n        ],\n        \"semantic_type\": \"\",\n        \"description\": \"\"\n      }\n    },\n    {\n      \"column\": \"question\",\n      \"properties\": {\n        \"dtype\": \"string\",\n        \"num_unique_values\": 4682,\n        \"samples\": [\n          \"What is the most common form of uveitis and what does it affect?\",\n          \"What is a key reason for conducting an emergency spinal MRI according to the red flags for secondary spinal pain?\",\n          \"Which of the following is a systematic approach to assessing psycho-behavioural symptoms in demented elderly patients?\"\n        ],\n        \"semantic_type\": \"\",\n        \"description\": \"\"\n      }\n    },\n    {\n      \"column\": \"option_a\",\n      \"properties\": {\n        \"dtype\": \"string\",\n        \"num_unique_values\": 4402,\n        \"samples\": [\n          \"Presence of septal haematoma\",\n          \"Exposure to arsenic\",\n          \"Topical aciclovir ointment\"\n        ],\n        \"semantic_type\": \"\",\n        \"description\": \"\"\n      }\n    },\n    {\n      \"column\": \"option_b\",\n      \"properties\": {\n        \"dtype\": \"string\",\n        \"num_unique_values\": 4474,\n        \"samples\": [\n          \"Premature QRS complex not preceded by a P wave\",\n          \"Psychological disorders\",\n          \"Assuming symptoms are due to aging.\"\n        ],\n        \"semantic_type\": \"\",\n        \"description\": \"\"\n      }\n    },\n    {\n      \"column\": \"option_c\",\n      \"properties\": {\n        \"dtype\": \"string\",\n        \"num_unique_values\": 4464,\n        \"samples\": [\n          \"Increased mouth opening\",\n          \"Two-tailed test\",\n          \"CT scan\"\n        ],\n        \"semantic_type\": \"\",\n        \"description\": \"\"\n      }\n    },\n    {\n      \"column\": \"option_d\",\n      \"properties\": {\n        \"dtype\": \"string\",\n        \"num_unique_values\": 4448,\n        \"samples\": [\n          \"No treatment until microbiological results are available\",\n          \"Sinusitis\",\n          \"Pelvic infections\"\n        ],\n        \"semantic_type\": \"\",\n        \"description\": \"\"\n      }\n    },\n    {\n      \"column\": \"correct_option\",\n      \"properties\": {\n        \"dtype\": \"category\",\n        \"num_unique_values\": 7,\n        \"samples\": [\n          \"b\",\n          \"a\",\n          \"option_c\"\n        ],\n        \"semantic_type\": \"\",\n        \"description\": \"\"\n      }\n    },\n    {\n      \"column\": \"originality\",\n      \"properties\": {\n        \"dtype\": \"number\",\n        \"std\": 0.25319377371622587,\n        \"min\": 0.0,\n        \"max\": 1.0,\n        \"num_unique_values\": 53,\n        \"samples\": [\n          0.8333333333333334,\n          0.2307692307692307,\n          0.3\n        ],\n        \"semantic_type\": \"\",\n        \"description\": \"\"\n      }\n    },\n    {\n      \"column\": \"readability\",\n      \"properties\": {\n        \"dtype\": \"number\",\n        \"std\": 3.5007282889349702,\n        \"min\": 2.342222222222226,\n        \"max\": 32.65428571428572,\n        \"num_unique_values\": 399,\n        \"samples\": [\n          18.52526315789473,\n          23.320000000000004,\n          10.208888888888891\n        ],\n        \"semantic_type\": \"\",\n        \"description\": \"\"\n      }\n    },\n    {\n      \"column\": \"starts_with_negation\",\n      \"properties\": {\n        \"dtype\": \"boolean\",\n        \"num_unique_values\": 1,\n        \"samples\": [\n          false\n        ],\n        \"semantic_type\": \"\",\n        \"description\": \"\"\n      }\n    },\n    {\n      \"column\": \"is_question\",\n      \"properties\": {\n        \"dtype\": \"boolean\",\n        \"num_unique_values\": 1,\n        \"samples\": [\n          true\n        ],\n        \"semantic_type\": \"\",\n        \"description\": \"\"\n      }\n    },\n    {\n      \"column\": \"relevance\",\n      \"properties\": {\n        \"dtype\": \"number\",\n        \"std\": 0.046978500153450335,\n        \"min\": 0.5607020854949951,\n        \"max\": 0.9350766539573668,\n        \"num_unique_values\": 4690,\n        \"samples\": [\n          0.7459173798561096\n        ],\n        \"semantic_type\": \"\",\n        \"description\": \"\"\n      }\n    },\n    {\n      \"column\": \"ambiguity\",\n      \"properties\": {\n        \"dtype\": \"number\",\n        \"std\": 0.10480969637231122,\n        \"min\": 0.0,\n        \"max\": 0.9945091803868612,\n        \"num_unique_values\": 4671,\n        \"samples\": [\n          0.486848920583725\n        ],\n        \"semantic_type\": \"\",\n        \"description\": \"\"\n      }\n    },\n    {\n      \"column\": \"gpt_answer\",\n      \"properties\": {\n        \"dtype\": \"category\",\n        \"num_unique_values\": 191,\n        \"samples\": [\n          \"a) Venous stasis, endothelial damage, hypercoagulability\"\n        ],\n        \"semantic_type\": \"\",\n        \"description\": \"\"\n      }\n    },\n    {\n      \"column\": \"content_gpt\",\n      \"properties\": {\n        \"dtype\": \"string\",\n        \"num_unique_values\": 4693,\n        \"samples\": [\n          \"**Item Parent:** Eating disorders in adolescents and adults (see item 253)\\n\\n**Title:** Knowing Differential Diagnoses\\n\\n**Description:** Know the pathologies to rule out.\\n\\nThe differential diagnoses are similar to those for bulimia:\\n\\n- Brain tumors, epilepsy, Kleine-Levin syndrome, and Kl\\u00fcver-Bucy syndrome\\n- Bulimia\\n- Metabolic or genetic obesity\\n- Characterized depressive episode and bipolar disorder\\n- Borderline and avoidant-dependent personality disorders\"\n        ],\n        \"semantic_type\": \"\",\n        \"description\": \"\"\n      }\n    }\n  ]\n}"
            }
          },
          "metadata": {},
          "execution_count": 3
        }
      ]
    },
    {
      "cell_type": "markdown",
      "metadata": {
        "id": "HG-SVqoPmO1B"
      },
      "source": [
        "# Question mark"
      ]
    },
    {
      "cell_type": "code",
      "execution_count": 7,
      "metadata": {
        "execution": {
          "iopub.execute_input": "2024-11-12T12:14:38.446623Z",
          "iopub.status.busy": "2024-11-12T12:14:38.445718Z",
          "iopub.status.idle": "2024-11-12T12:14:38.456114Z",
          "shell.execute_reply": "2024-11-12T12:14:38.455017Z",
          "shell.execute_reply.started": "2024-11-12T12:14:38.446566Z"
        },
        "id": "LC9P1ozSmO1B",
        "colab": {
          "base_uri": "https://localhost:8080/"
        },
        "outputId": "905eaa0f-b6dd-4cd7-8f39-f895b347cb4d"
      },
      "outputs": [
        {
          "output_type": "execute_result",
          "data": {
            "text/plain": [
              "{'True': 4693, 'False': 0}"
            ]
          },
          "metadata": {},
          "execution_count": 7
        }
      ],
      "source": [
        "# We want to maximize 'True'\n",
        "question_count = {\n",
        "    'True': df['is_question'].sum(),\n",
        "    'False': len(df) - df['is_question'].sum()\n",
        "}\n",
        "\n",
        "question_count"
      ]
    },
    {
      "cell_type": "markdown",
      "source": [
        "# Negation"
      ],
      "metadata": {
        "id": "gL6ogPiJszsC"
      }
    },
    {
      "cell_type": "code",
      "source": [
        "# We want to minimze 'True'\n",
        "starts_with_negation_count = {\n",
        "    'True': df['starts_with_negation'].sum(),\n",
        "    'False': len(df) - df['starts_with_negation'].sum()\n",
        "}\n",
        "\n",
        "starts_with_negation_count"
      ],
      "metadata": {
        "colab": {
          "base_uri": "https://localhost:8080/"
        },
        "id": "zlz17fiUs4MX",
        "outputId": "3715ec13-d620-4c01-d748-c62bb72b12f3"
      },
      "execution_count": 26,
      "outputs": [
        {
          "output_type": "execute_result",
          "data": {
            "text/plain": [
              "{'True': 0, 'False': 4693}"
            ]
          },
          "metadata": {},
          "execution_count": 26
        }
      ]
    },
    {
      "cell_type": "markdown",
      "source": [
        "# Originality"
      ],
      "metadata": {
        "id": "xb4mzA8Zw1je"
      }
    },
    {
      "cell_type": "code",
      "source": [
        "plt.figure(figsize=(10, 6))\n",
        "counts, bins, patches = plt.hist(df['originality'], bins=10, range=(0, 1), edgecolor='black')\n",
        "\n",
        "plt.xticks([round(x * 0.1, 1) for x in range(11)])\n",
        "\n",
        "for count, patch in zip(counts, patches):\n",
        "    if count > 0:\n",
        "        plt.text(patch.get_x() + patch.get_width() / 2, count, int(count),\n",
        "                 ha='center', va='bottom')\n",
        "\n",
        "plt.xlabel('Originality score')\n",
        "plt.ylabel('Frequency')\n",
        "plt.show()"
      ],
      "metadata": {
        "colab": {
          "base_uri": "https://localhost:8080/",
          "height": 0
        },
        "id": "IFhbkFGGz7Ky",
        "outputId": "39cd0c34-6386-4da8-8cc1-07891b1d470d"
      },
      "execution_count": 5,
      "outputs": [
        {
          "output_type": "display_data",
          "data": {
            "text/plain": [
              "<Figure size 1000x600 with 1 Axes>"
            ],
            "image/png": "[encoded data removed]"
          },
          "metadata": {}
        }
      ]
    },
    {
      "cell_type": "markdown",
      "source": [
        "# Readability"
      ],
      "metadata": {
        "id": "rAmz_WnJqoo0"
      }
    },
    {
      "cell_type": "code",
      "source": [
        "plt.figure(figsize=(10, 6))\n",
        "counts, bins, patches = plt.hist(df['readability'], bins=range(0, 19, 1), edgecolor='black')\n",
        "\n",
        "# Set x-axis ticks from 0 to 18\n",
        "plt.xticks(range(0, 19))\n",
        "\n",
        "# Add frequency labels on top of each bar where frequency > 0\n",
        "for count, patch in zip(counts, patches):\n",
        "    if count > 0:\n",
        "        plt.text(patch.get_x() + patch.get_width() / 2, count, int(count),\n",
        "                 ha='center', va='bottom')\n",
        "plt.xlabel('Readability Score')\n",
        "plt.ylabel('Frequency')\n",
        "plt.title('Histogram of Readability Scores')\n",
        "plt.show()"
      ],
      "metadata": {
        "colab": {
          "base_uri": "https://localhost:8080/",
          "height": 564
        },
        "id": "d8x1qyWJtQXd",
        "outputId": "8282eee8-7623-42d9-c6f0-5d69ac0381f8"
      },
      "execution_count": 4,
      "outputs": [
        {
          "output_type": "display_data",
          "data": {
            "text/plain": [
              "<Figure size 1000x600 with 1 Axes>"
            ],
            "image/png": "[encoded data removed]"
          },
          "metadata": {}
        }
      ]
    },
    {
      "cell_type": "markdown",
      "source": [
        "# Answer Length"
      ],
      "metadata": {
        "id": "DzfadWMVtSy5"
      }
    },
    {
      "cell_type": "code",
      "source": [
        "option_cols = ['option_a', 'option_b', 'option_c', 'option_d']\n",
        "\n",
        "# Create new columns with word counts for each option column\n",
        "for col in option_cols:\n",
        "    df[f'{col}_word_count'] = df[col].astype(str).apply(lambda x: len(x.split()))"
      ],
      "metadata": {
        "id": "dbNhxSY_ugcf"
      },
      "execution_count": 32,
      "outputs": []
    },
    {
      "cell_type": "code",
      "source": [
        "def get_correct_option_rank(row):\n",
        "    # Get the original word counts for each option\n",
        "    counts = [\n",
        "        row['option_a_word_count'],\n",
        "        row['option_b_word_count'],\n",
        "        row['option_c_word_count'],\n",
        "        row['option_d_word_count']\n",
        "    ]\n",
        "\n",
        "    # Map correct_option letter to its index (0 for A, 1 for B, etc.)\n",
        "    letter_to_index = {'A': 0, 'a':0, 'B': 1, 'b':1, 'C': 2, 'c':2, 'D': 3, 'd':3}\n",
        "    correct_idx = letter_to_index[row['correct_option']]\n",
        "\n",
        "    # Determine the word count of the correct option\n",
        "    correct_count = counts[correct_idx]\n",
        "\n",
        "    # Create an effective counts list:\n",
        "    # For non-correct options, if their word count equals the correct option's word count,\n",
        "    # treat them as if they had one extra word.\n",
        "    effective_counts = []\n",
        "    for i, count in enumerate(counts):\n",
        "        if i != correct_idx and count == correct_count:\n",
        "            effective_counts.append(count + 1)\n",
        "        else:\n",
        "            effective_counts.append(count)\n",
        "\n",
        "    # Sort the option indices by descending effective count.\n",
        "    ordering = sorted(range(4), key=lambda i: effective_counts[i], reverse=True)\n",
        "\n",
        "    # Compute the rank as the 1-indexed position of the correct option in the ordering.\n",
        "    rank = ordering.index(correct_idx) + 1\n",
        "    return rank"
      ],
      "metadata": {
        "id": "6znWPWARt6NU"
      },
      "execution_count": 33,
      "outputs": []
    },
    {
      "cell_type": "code",
      "source": [
        "def get_rank_distribution(df):\n",
        "  rank_distribution = df['correct_option_rank'].value_counts().sort_index()\n",
        "  rank_distribution = round(rank_distribution / len(df), 2) * 100\n",
        "\n",
        "  plt.figure(figsize=(8, 6))\n",
        "  plt.bar(rank_distribution.index, rank_distribution.values, color='skyblue', edgecolor='black')\n",
        "  plt.xlabel('N (1 = Longest, 4 = Shortest)')\n",
        "  plt.ylabel('Frequency, %')\n",
        "  plt.title('How often the correct option is N`th longest')\n",
        "  plt.xticks([1, 2, 3, 4])\n",
        "  plt.show()"
      ],
      "metadata": {
        "id": "blakrAIIt8gZ"
      },
      "execution_count": 34,
      "outputs": []
    },
    {
      "cell_type": "code",
      "source": [
        "df['correct_option_rank'] = df.apply(get_correct_option_rank, axis=1)\n",
        "get_rank_distribution(df)"
      ],
      "metadata": {
        "colab": {
          "base_uri": "https://localhost:8080/",
          "height": 565
        },
        "id": "Y9bKBBcut-tv",
        "outputId": "14514fb0-399c-4dfa-bbbd-46e6379e133a"
      },
      "execution_count": 36,
      "outputs": [
        {
          "output_type": "display_data",
          "data": {
            "text/plain": [
              "<Figure size 800x600 with 1 Axes>"
            ],
            "image/png": "[encoded data removed]"
          },
          "metadata": {}
        }
      ]
    },
    {
      "cell_type": "markdown",
      "source": [
        "# Disclosure"
      ],
      "metadata": {
        "id": "klcHFsMjzp3m"
      }
    },
    {
      "cell_type": "markdown",
      "source": [
        "## TODO:\n",
        "**Collect metrics on disclosure**"
      ],
      "metadata": {
        "id": "qNaDL0ggV9yx"
      }
    },
    {
      "cell_type": "markdown",
      "metadata": {
        "id": "nb_L81b9mO1C"
      },
      "source": [
        "# Relevance to the input material"
      ]
    },
    {
      "cell_type": "code",
      "execution_count": 9,
      "metadata": {
        "execution": {
          "iopub.execute_input": "2024-11-18T20:39:21.545396Z",
          "iopub.status.busy": "2024-11-18T20:39:21.54466Z",
          "iopub.status.idle": "2024-11-18T20:39:29.033346Z",
          "shell.execute_reply": "2024-11-18T20:39:29.032397Z",
          "shell.execute_reply.started": "2024-11-18T20:39:21.54536Z"
        },
        "id": "EbIfjd7ImO1C",
        "colab": {
          "base_uri": "https://localhost:8080/",
          "height": 542
        },
        "outputId": "dfd2992e-b57c-446f-ab97-5495b6cdc984"
      },
      "outputs": [
        {
          "output_type": "display_data",
          "data": {
            "text/plain": [
              "<Figure size 1000x600 with 1 Axes>"
            ],
            "image/png": "[encoded data removed]"
          },
          "metadata": {}
        }
      ],
      "source": [
        "plt.figure(figsize=(10, 6))\n",
        "counts, bins, patches = plt.hist(df['relevance'], bins=10, range=(0, 1), edgecolor='black')\n",
        "\n",
        "plt.xticks([round(x * 0.1, 1) for x in range(11)])\n",
        "\n",
        "for count, patch in zip(counts, patches):\n",
        "    if count > 0:\n",
        "        plt.text(patch.get_x() + patch.get_width() / 2, count, int(count),\n",
        "                 ha='center', va='bottom')\n",
        "\n",
        "plt.xlabel('Relevance Score')\n",
        "plt.ylabel('Frequency')\n",
        "plt.show()"
      ]
    },
    {
      "cell_type": "markdown",
      "source": [
        "# Ambiguity (difficulty)"
      ],
      "metadata": {
        "id": "6ue_cVZzrpi4"
      }
    },
    {
      "cell_type": "markdown",
      "source": [
        "## Collect metrics on ambiguity"
      ],
      "metadata": {
        "id": "AMc-fd_nsKld"
      }
    },
    {
      "cell_type": "markdown",
      "source": [],
      "metadata": {
        "id": "lrQ9nj2MqjB4"
      }
    },
    {
      "cell_type": "markdown",
      "source": [
        "# Answerability\n",
        "can judge model answer the generated question with context provided?"
      ],
      "metadata": {
        "id": "rLiUkNeToPYR"
      }
    },
    {
      "cell_type": "code",
      "source": [
        "df['gpt_answer'] = df['gpt_answer'].str.replace(')', '').str.split(' ').str[0]"
      ],
      "metadata": {
        "id": "QGj2Bem3oaA5"
      },
      "execution_count": 17,
      "outputs": []
    },
    {
      "cell_type": "code",
      "source": [
        "df['gpt_answer'].unique()"
      ],
      "metadata": {
        "colab": {
          "base_uri": "https://localhost:8080/"
        },
        "id": "RsEaI2fOplIU",
        "outputId": "ce5328c5-852e-419a-809d-e6595d2f8943"
      },
      "execution_count": 18,
      "outputs": [
        {
          "output_type": "execute_result",
          "data": {
            "text/plain": [
              "array(['b', 'a', 'c', 'd'], dtype=object)"
            ]
          },
          "metadata": {},
          "execution_count": 18
        }
      ]
    },
    {
      "cell_type": "code",
      "source": [
        "df['correct_option'] = df['correct_option'].str.replace('option_b', 'b').str.replace('option_c', 'c').str.replace('option_d', 'd')"
      ],
      "metadata": {
        "id": "JXzGAYQtppPE"
      },
      "execution_count": 20,
      "outputs": []
    },
    {
      "cell_type": "code",
      "source": [
        "df['correct_option'].unique()"
      ],
      "metadata": {
        "colab": {
          "base_uri": "https://localhost:8080/"
        },
        "id": "vjj90iEfp-TV",
        "outputId": "d1b4812f-8e29-45a7-baf8-d8ce96c9315b"
      },
      "execution_count": 21,
      "outputs": [
        {
          "output_type": "execute_result",
          "data": {
            "text/plain": [
              "array(['b', 'a', 'c', 'd'], dtype=object)"
            ]
          },
          "metadata": {},
          "execution_count": 21
        }
      ]
    },
    {
      "cell_type": "code",
      "source": [
        "answerability_count = {\n",
        "    'True': (df['correct_option'] == df['gpt_answer']).sum(),\n",
        "    'False': len(df) - (df['correct_option'] == df['gpt_answer']).sum()\n",
        "}\n",
        "\n",
        "answerability_count"
      ],
      "metadata": {
        "colab": {
          "base_uri": "https://localhost:8080/"
        },
        "id": "sP21LFtNqBYO",
        "outputId": "85a9df9b-0448-4d93-e063-f5c66f5d17df"
      },
      "execution_count": 23,
      "outputs": [
        {
          "output_type": "execute_result",
          "data": {
            "text/plain": [
              "{'True': 4676, 'False': 17}"
            ]
          },
          "metadata": {},
          "execution_count": 23
        }
      ]
    }
  ]
}