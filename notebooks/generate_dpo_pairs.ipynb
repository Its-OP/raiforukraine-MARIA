{
 "cells": [
  {
   "cell_type": "code",
   "execution_count": 1,
   "id": "9f8c9719",
   "metadata": {},
   "outputs": [
    {
     "name": "stderr",
     "output_type": "stream",
     "text": [
      "/home/vhodlevskyi/miniconda3/lib/python3.12/site-packages/IPython/core/interactiveshell.py:3508: LangChainDeprecationWarning: As of langchain-core 0.3.0, LangChain uses pydantic v2 internally. The langchain_core.pydantic_v1 module was a compatibility shim for pydantic v1, and should no longer be used. Please update the code to import from Pydantic directly.\n",
      "\n",
      "For example, replace imports like: `from langchain_core.pydantic_v1 import BaseModel`\n",
      "with: `from pydantic import BaseModel`\n",
      "or the v1 compatibility namespace if you are working in a code base that has not been fully upgraded to pydantic 2 yet. \tfrom pydantic.v1 import BaseModel\n",
      "\n",
      "  exec(code_obj, self.user_global_ns, self.user_ns)\n"
     ]
    }
   ],
   "source": [
    "import pandas as pd\n",
    "import itertools\n",
    "import os\n",
    "import random\n",
    "from tqdm import tqdm\n",
    "from langchain_core.output_parsers import JsonOutputParser\n",
    "from langchain_core.prompts import PromptTemplate\n",
    "from langchain_core.pydantic_v1 import BaseModel, Field\n",
    "from langchain_openai import ChatOpenAI\n",
    "from openai import OpenAI"
   ]
  },
  {
   "cell_type": "code",
   "execution_count": 2,
   "id": "faf77250-4ed5-4b1c-9c20-84a6f492a6ba",
   "metadata": {},
   "outputs": [
    {
     "data": {
      "text/plain": [
       "True"
      ]
     },
     "execution_count": 2,
     "metadata": {},
     "output_type": "execute_result"
    }
   ],
   "source": [
    "from dotenv import load_dotenv\n",
    "\n",
    "load_dotenv()"
   ]
  },
  {
   "cell_type": "code",
   "execution_count": 3,
   "id": "59284e85-7a76-4f41-aea8-654c05a383b0",
   "metadata": {},
   "outputs": [],
   "source": [
    "level_quality = 2  # Threshold for good/bad MCQs\n",
    "data_dir = \"raiforukraine-MARIA/data/data_for_finetuning/Training_mcqs/\"\n",
    "datasets = ['gemma_9b_distractor_quality', 'Llama8B_0.1_distractor_quality', 'Llama1b_distractor_quality']  # Add 'phi3.5' when available\n",
    "OPENAI_KEY = os.getenv('OPENAI_KEY')\n",
    "max_gpt4o_attempts = 3"
   ]
  },
  {
   "cell_type": "code",
   "execution_count": 4,
   "id": "c8a69070-05d4-47e4-800a-cb92a31e622b",
   "metadata": {},
   "outputs": [],
   "source": [
    "client = OpenAI(api_key=OPENAI_KEY)"
   ]
  },
  {
   "cell_type": "code",
   "execution_count": 5,
   "id": "ed1603f2-205a-40aa-b1fa-4c8328dd43ed",
   "metadata": {},
   "outputs": [],
   "source": [
    "class MCQQuestion(BaseModel):\n",
    "    question: str = Field(description=\"The multiple-choice question\")\n",
    "    option_a: str = Field(description=\"The first answer option labeled 'A'\")\n",
    "    option_b: str = Field(description=\"The second answer option labeled 'B'\")\n",
    "    option_c: str = Field(description=\"The third answer option labeled 'C'\")\n",
    "    option_d: str = Field(description=\"The fourth answer option labeled 'D'\")\n",
    "    correct_option: str = Field(description=\"This consists only a letter of the correct option\")\n",
    "\n",
    "mcq_parser = JsonOutputParser(pydantic_object=MCQQuestion)"
   ]
  },
  {
   "cell_type": "code",
   "execution_count": 6,
   "id": "e6c58a83-2b81-49c7-b9ab-7c41b3f9e6e2",
   "metadata": {},
   "outputs": [],
   "source": [
    "DEFAULT_PROMPT = \"\"\"You are an expert in creating high-quality medical multiple-choice questions.\n",
    "Create a challenging medical multiple-choice question with exactly one correct answer and three plausible distractors.\n",
    "\n",
    "The distractors (incorrect options) quality is extremely important and should meet these criteria:\n",
    "- They should be plausible to most test-takers\n",
    "- They should represent common misconceptions\n",
    "- They should require deep understanding to eliminate\n",
    "- They should not be obviously incorrect or unrelated to the question\n",
    "- They should not be easy to eliminate for knowledgeable test-takers\n",
    "\n",
    "The question should test medical knowledge and critical thinking skills.\n",
    "\"\"\""
   ]
  },
  {
   "cell_type": "code",
   "execution_count": 7,
   "id": "1fe4bfd7-ab2e-450f-b874-c594e0b0afa0",
   "metadata": {},
   "outputs": [],
   "source": [
    "DISTRACTORS_QUALITY_PROMPT = \"\"\"You are tasked to evaluate the quality of the distractors of a multiple-choice question (incorrect options) on a scale of 1-5, where:\n",
    "1 = POOR: Implausible, obviously incorrect, or unrelated to the question\n",
    "2 = BELOW AVERAGE: Easy to eliminate, lacks plausibility for knowledgeable test-takers  \n",
    "3 = AVERAGE: Somewhat plausible but contains minor flaws that make it distinguishable\n",
    "4 = GOOD: Plausible to most test-takers, represents common misconceptions\n",
    "5 = EXCELLENT: Highly plausible, represents sophisticated misconceptions, requires deep understanding to eliminate\n",
    "Provide only a numerical score from 1 to 5 the best represents the level of distractor quality\"\"\"\n"
   ]
  },
  {
   "cell_type": "code",
   "execution_count": 8,
   "id": "8b7572ec-c097-4603-8af1-77d03f1289f9",
   "metadata": {},
   "outputs": [],
   "source": [
    "def create_prompt_chain(prompt_text=DEFAULT_PROMPT):\n",
    "    prompt_template = PromptTemplate(\n",
    "        template=\"{prompt}.\\n{format_instructions}\\n{query}\\n\",\n",
    "        input_variables=[\"query\"],\n",
    "        partial_variables={\n",
    "            \"prompt\": prompt_text,\n",
    "            \"format_instructions\": mcq_parser.get_format_instructions(),\n",
    "        },\n",
    "    )\n",
    "    model = ChatOpenAI(model=\"gpt-4o\", temperature=0.5, api_key=OPENAI_KEY)\n",
    "    \n",
    "    chain = prompt_template | model | mcq_parser\n",
    "    return chain"
   ]
  },
  {
   "cell_type": "code",
   "execution_count": 9,
   "id": "ecf48e73-a39b-425a-8216-65f45d190017",
   "metadata": {},
   "outputs": [],
   "source": [
    "def call_openai_api(client, system_prompt, user_prompt, temp=0.5, max_completion_tokens=1):\n",
    "    try:\n",
    "        response = client.chat.completions.create(\n",
    "            model=\"gpt-4o\",\n",
    "            temperature=temp,\n",
    "            max_tokens=max_completion_tokens,\n",
    "            messages=[\n",
    "                {\"role\": \"system\", \"content\": system_prompt},\n",
    "                {\"role\": \"user\", \"content\": user_prompt}\n",
    "            ],\n",
    "        )\n",
    "        return response.choices[0].message.content\n",
    "    except Exception as e:\n",
    "        print(f\"Error occurred: {e}\")\n",
    "        return None"
   ]
  },
  {
   "cell_type": "code",
   "execution_count": 10,
   "id": "be7c54cb-2ba6-464b-ac2c-313c471b11f7",
   "metadata": {},
   "outputs": [],
   "source": [
    "def generate_prompt_for_question(row,\n",
    "                                question_col='question',\n",
    "                                option_a_col='option_a',\n",
    "                                option_b_col='option_b',\n",
    "                                option_c_col='option_c',\n",
    "                                option_d_col='option_d',\n",
    "                                correct_option='correct_option',\n",
    "                                include_options=True,\n",
    "                                include_correct_option=True,\n",
    "                                context_col=None):\n",
    "    question_text = row[question_col]\n",
    "    options = f\"a) {row[option_a_col]}\\nb) {row[option_b_col]}\\nc) {row[option_c_col]}\\nd) {row[option_d_col]}\"\n",
    "    correct_opt = row[correct_option]\n",
    "    \n",
    "    user_prompt_delimiter = \"-----\\n\"\n",
    "    user_prompt_question = f\"Question:\\n{question_text}\\n\"\n",
    "    user_prompt_options = f\"Options:\\n{options}\\n\"\n",
    "    user_prompt = user_prompt_delimiter + user_prompt_question\n",
    "    if include_options:\n",
    "        user_prompt += user_prompt_options\n",
    "    if include_correct_option:\n",
    "        correct_option_text = f\"Correct option: {correct_opt}\\n\"\n",
    "        user_prompt += correct_option_text\n",
    "    user_prompt += user_prompt_delimiter\n",
    "    \n",
    "    if context_col is not None and context_col in row:\n",
    "        mcq_context = f\"\"\"Context:\\n-----\\n{row[context_col]}\\n-----\\n\"\"\"\n",
    "        user_prompt = mcq_context + user_prompt\n",
    "    return user_prompt"
   ]
  },
  {
   "cell_type": "code",
   "execution_count": 11,
   "id": "e02ef66d-97be-445e-ac55-a27942593c95",
   "metadata": {},
   "outputs": [],
   "source": [
    "def evaluate_distractor_quality(mcq_dict):\n",
    "    # Convert dictionary to a pandas Series for use with generate_prompt_for_question\n",
    "    row = pd.Series(mcq_dict)\n",
    "    \n",
    "    # Generate prompt for evaluation\n",
    "    user_prompt = generate_prompt_for_question(\n",
    "        row,\n",
    "        question_col='question',\n",
    "        option_a_col='option_a',\n",
    "        option_b_col='option_b',\n",
    "        option_c_col='option_c',\n",
    "        option_d_col='option_d',\n",
    "        correct_option='correct_option',\n",
    "        include_options=True,\n",
    "        include_correct_option=True\n",
    "    )\n",
    "    \n",
    "    # Call API to evaluate\n",
    "    quality_score = call_openai_api(\n",
    "        client,\n",
    "        DISTRACTORS_QUALITY_PROMPT,\n",
    "        user_prompt,\n",
    "        temp=0.5,\n",
    "        max_completion_tokens=1\n",
    "    )\n",
    "    \n",
    "    try:\n",
    "        return int(quality_score.strip())\n",
    "    except (ValueError, TypeError):\n",
    "        print(f\"Error parsing quality score: {quality_score}\")\n",
    "        return 0"
   ]
  },
  {
   "cell_type": "code",
   "execution_count": 12,
   "id": "34fdabc4-acbc-41a1-8567-5f717464af5f",
   "metadata": {},
   "outputs": [],
   "source": [
    "def generate_good_mcq_with_gpt4o(question_text):\n",
    "    try:\n",
    "        # Create the chain\n",
    "        chain = create_prompt_chain()\n",
    "        \n",
    "        # Generate MCQ using the DEFAULT_PROMPT\n",
    "        # Just pass the question topic without additional instructions\n",
    "        query = question_text\n",
    "        generated_mcq = chain.invoke({\"query\": query})\n",
    "        \n",
    "        # Evaluate distractor quality\n",
    "        quality = evaluate_distractor_quality(generated_mcq)\n",
    "        \n",
    "        return generated_mcq, quality\n",
    "        \n",
    "    except Exception as e:\n",
    "        print(f\"Error generating MCQ with GPT-4o: {e}\")\n",
    "        return None, 0"
   ]
  },
  {
   "cell_type": "code",
   "execution_count": 13,
   "id": "20d67399-03d8-487f-a651-c82139a38daa",
   "metadata": {},
   "outputs": [],
   "source": [
    "def create_mcq_text(mcq_dict):\n",
    "    return (\n",
    "        f\"Question: {mcq_dict['question']}\\n\"\n",
    "        f\"a) {mcq_dict['option_a']}\\n\"\n",
    "        f\"b) {mcq_dict['option_b']}\\n\"\n",
    "        f\"c) {mcq_dict['option_c']}\\n\"\n",
    "        f\"d) {mcq_dict['option_d']}\"\n",
    "    )\n",
    "\n",
    "# Function to create a pair dictionary\n",
    "def create_pair(lisa_id, good_mcq, bad_mcq, good_source=\"\", bad_source=\"\"):\n",
    "    good_text = create_mcq_text(good_mcq)\n",
    "    bad_text = create_mcq_text(bad_mcq)\n",
    "    \n",
    "    return {\n",
    "        \"id\": lisa_id,\n",
    "        \"chosen\": good_text,\n",
    "        \"rejected\": bad_text,\n",
    "        \"chosen_source\": good_source,\n",
    "        \"rejected_source\": bad_source\n",
    "    }"
   ]
  },
  {
   "cell_type": "code",
   "execution_count": 14,
   "id": "4c6a928a-261c-49b1-8dd1-bb52f487937d",
   "metadata": {},
   "outputs": [
    {
     "name": "stdout",
     "output_type": "stream",
     "text": [
      "Processing MCQ datasets...\n"
     ]
    }
   ],
   "source": [
    "print(\"Processing MCQ datasets...\")\n",
    "\n",
    "id2mcqs = dict()  # Key: dataset, Value: {id: mcq_dict}\n",
    "ids = set()       # Set of all common IDs across datasets\n",
    "good_mcqs = dict() # Key: id, Value: list of datasets with good MCQs\n",
    "bad_mcqs = dict()  # Key: id, Value: list of datasets with bad MCQs"
   ]
  },
  {
   "cell_type": "code",
   "execution_count": 15,
   "id": "11cbec37-6411-4ebd-80e8-4c5d9ddc6d33",
   "metadata": {},
   "outputs": [
    {
     "name": "stdout",
     "output_type": "stream",
     "text": [
      "Found 3163 common IDs across all datasets\n"
     ]
    }
   ],
   "source": [
    "for dataset in datasets:\n",
    "    try:\n",
    "        file_path = os.path.join(data_dir, f\"{dataset}.csv\")\n",
    "        df = pd.read_csv(file_path)\n",
    "        # df = df.iloc[:50]\n",
    "        \n",
    "        # Extract MCQ content and ensure correct_option is included\n",
    "        temp = df[['id', 'question', 'option_a', 'option_b', 'option_c', 'option_d', 'correct_option']].set_index('id').T.to_dict()\n",
    "        \n",
    "        # Update set of common IDs\n",
    "        if len(ids) == 0:\n",
    "            ids = set(temp.keys())\n",
    "        else:\n",
    "            ids = ids.intersection(set(temp.keys()))\n",
    "        \n",
    "        # Store MCQs by dataset\n",
    "        id2mcqs[dataset] = temp.copy()\n",
    "        \n",
    "        # Categorize MCQs by quality\n",
    "        for idx, row in df[['id', 'distractor_quality']].iterrows():\n",
    "            lisa_id, quality = row\n",
    "            \n",
    "            # Good MCQ\n",
    "            if quality > level_quality:\n",
    "                if lisa_id in good_mcqs:\n",
    "                    good_mcqs[lisa_id].append(dataset)\n",
    "                else:\n",
    "                    good_mcqs[lisa_id] = [dataset]\n",
    "            else:\n",
    "                if lisa_id in bad_mcqs:\n",
    "                    bad_mcqs[lisa_id].append(dataset)\n",
    "                else:\n",
    "                    bad_mcqs[lisa_id] = [dataset]\n",
    "                    \n",
    "    except Exception as e:\n",
    "        print(f\"Error processing dataset {dataset}: {e}\")\n",
    "\n",
    "print(f\"Found {len(ids)} common IDs across all datasets\")"
   ]
  },
  {
   "cell_type": "code",
   "execution_count": 19,
   "id": "3dfe1790-8267-4161-a379-2a44d9458279",
   "metadata": {},
   "outputs": [
    {
     "name": "stdout",
     "output_type": "stream",
     "text": [
      "gemma_9b_distractor_quality quality distribution:\n",
      "distractor_quality\n",
      "4    1488\n",
      "3    1177\n",
      "2     257\n",
      "1     150\n",
      "5      97\n",
      "Name: count, dtype: int64\n",
      "Llama8B_0.1_distractor_quality quality distribution:\n",
      "distractor_quality\n",
      "1    1176\n",
      "3     939\n",
      "2     827\n",
      "4     219\n",
      "5       2\n",
      "Name: count, dtype: int64\n",
      "Llama1b_distractor_quality quality distribution:\n",
      "distractor_quality\n",
      "3    1246\n",
      "4     957\n",
      "2     560\n",
      "1     388\n",
      "5      18\n",
      "Name: count, dtype: int64\n",
      "IDs with all good MCQs: 746\n",
      "IDs with all bad MCQs: 95\n",
      "IDs with mixed quality MCQs: 2322\n"
     ]
    }
   ],
   "source": [
    "for dataset in datasets:\n",
    "    file_path = os.path.join(data_dir, f\"{dataset}.csv\")\n",
    "    df = pd.read_csv(file_path)\n",
    "    print(f\"{dataset} quality distribution:\")\n",
    "    print(df['distractor_quality'].value_counts())\n",
    "\n",
    "# Check how many IDs have all good or all bad MCQs\n",
    "print(f\"IDs with all good MCQs: {nb_good_only}\")\n",
    "print(f\"IDs with all bad MCQs: {nb_bad_only}\")\n",
    "print(f\"IDs with mixed quality MCQs: {len(ids) - nb_good_only - nb_bad_only}\")"
   ]
  },
  {
   "cell_type": "code",
   "execution_count": null,
   "id": "fac4a75b-919c-4c0f-ac55-60720ef10b0d",
   "metadata": {},
   "outputs": [],
   "source": []
  },
  {
   "cell_type": "code",
   "execution_count": 18,
   "id": "378b2e04-c40c-4b9a-a1bb-ac2772bb8364",
   "metadata": {
    "scrolled": true
   },
   "outputs": [
    {
     "name": "stderr",
     "output_type": "stream",
     "text": [
      "Creating pairs:   4%|██▉                                                                     | 128/3163 [00:02<00:59, 50.74it/s]"
     ]
    },
    {
     "name": "stdout",
     "output_type": "stream",
     "text": [
      "Successfully generated MCQ with quality score 4 for ID OIC-182-03-B\n"
     ]
    },
    {
     "name": "stderr",
     "output_type": "stream",
     "text": [
      "Creating pairs:   5%|███▉                                                                    | 171/3163 [00:05<01:43, 29.02it/s]"
     ]
    },
    {
     "name": "stdout",
     "output_type": "stream",
     "text": [
      "Successfully generated MCQ with quality score 3 for ID OIC-177-02-A\n"
     ]
    },
    {
     "name": "stderr",
     "output_type": "stream",
     "text": [
      "Creating pairs:   7%|████▊                                                                   | 209/3163 [00:07<02:09, 22.76it/s]"
     ]
    },
    {
     "name": "stdout",
     "output_type": "stream",
     "text": [
      "Successfully generated MCQ with quality score 4 for ID OIC-154-04-A\n"
     ]
    },
    {
     "name": "stderr",
     "output_type": "stream",
     "text": [
      "Creating pairs:   8%|█████▍                                                                  | 241/3163 [00:11<03:08, 15.47it/s]"
     ]
    },
    {
     "name": "stdout",
     "output_type": "stream",
     "text": [
      "Successfully generated MCQ with quality score 4 for ID OIC-012-09-A\n"
     ]
    },
    {
     "name": "stderr",
     "output_type": "stream",
     "text": [
      "Creating pairs:   8%|█████▉                                                                  | 259/3163 [00:17<05:07,  9.43it/s]"
     ]
    },
    {
     "name": "stdout",
     "output_type": "stream",
     "text": [
      "Successfully generated MCQ with quality score 4 for ID OIC-189-07-B\n"
     ]
    },
    {
     "name": "stderr",
     "output_type": "stream",
     "text": [
      "Creating pairs:   8%|██████                                                                  | 266/3163 [00:19<06:03,  7.98it/s]"
     ]
    },
    {
     "name": "stdout",
     "output_type": "stream",
     "text": [
      "Successfully generated MCQ with quality score 4 for ID OIC-231-14-A\n"
     ]
    },
    {
     "name": "stderr",
     "output_type": "stream",
     "text": [
      "Creating pairs:  11%|███████▌                                                                | 333/3163 [00:21<03:25, 13.78it/s]"
     ]
    },
    {
     "name": "stdout",
     "output_type": "stream",
     "text": [
      "Successfully generated MCQ with quality score 4 for ID OIC-292-01-A\n"
     ]
    },
    {
     "name": "stderr",
     "output_type": "stream",
     "text": [
      "Creating pairs:  11%|████████                                                                | 354/3163 [00:24<04:03, 11.54it/s]"
     ]
    },
    {
     "name": "stdout",
     "output_type": "stream",
     "text": [
      "Successfully generated MCQ with quality score 4 for ID OIC-066-35-B\n"
     ]
    },
    {
     "name": "stderr",
     "output_type": "stream",
     "text": [
      "Creating pairs:  12%|████████▉                                                               | 395/3163 [00:26<03:30, 13.18it/s]"
     ]
    },
    {
     "name": "stdout",
     "output_type": "stream",
     "text": [
      "Successfully generated MCQ with quality score 4 for ID OIC-213-10-A\n"
     ]
    },
    {
     "name": "stderr",
     "output_type": "stream",
     "text": [
      "Creating pairs:  13%|█████████▍                                                              | 413/3163 [00:29<03:58, 11.51it/s]"
     ]
    },
    {
     "name": "stdout",
     "output_type": "stream",
     "text": [
      "Successfully generated MCQ with quality score 3 for ID OIC-031-03-A\n"
     ]
    },
    {
     "name": "stderr",
     "output_type": "stream",
     "text": [
      "Creating pairs:  17%|████████████▎                                                           | 539/3163 [00:31<01:51, 23.61it/s]"
     ]
    },
    {
     "name": "stdout",
     "output_type": "stream",
     "text": [
      "Successfully generated MCQ with quality score 4 for ID OIC-175-05-A\n"
     ]
    },
    {
     "name": "stderr",
     "output_type": "stream",
     "text": [
      "Creating pairs:  19%|█████████████▌                                                          | 598/3163 [00:34<01:50, 23.28it/s]"
     ]
    },
    {
     "name": "stdout",
     "output_type": "stream",
     "text": [
      "Successfully generated MCQ with quality score 4 for ID OIC-172-02-A\n"
     ]
    },
    {
     "name": "stderr",
     "output_type": "stream",
     "text": [
      "Creating pairs:  19%|█████████████▊                                                          | 608/3163 [00:36<02:23, 17.78it/s]"
     ]
    },
    {
     "name": "stdout",
     "output_type": "stream",
     "text": [
      "Successfully generated MCQ with quality score 4 for ID OIC-220-02-A\n"
     ]
    },
    {
     "name": "stderr",
     "output_type": "stream",
     "text": [
      "Creating pairs:  19%|█████████████▉                                                          | 613/3163 [00:39<03:23, 12.51it/s]"
     ]
    },
    {
     "name": "stdout",
     "output_type": "stream",
     "text": [
      "Successfully generated MCQ with quality score 4 for ID OIC-023-11-A\n"
     ]
    },
    {
     "name": "stderr",
     "output_type": "stream",
     "text": [
      "Creating pairs:  20%|██████████████▌                                                         | 641/3163 [00:42<03:40, 11.42it/s]"
     ]
    },
    {
     "name": "stdout",
     "output_type": "stream",
     "text": [
      "Successfully generated MCQ with quality score 4 for ID OIC-337-08-B\n"
     ]
    },
    {
     "name": "stderr",
     "output_type": "stream",
     "text": [
      "Creating pairs:  21%|███████████████                                                         | 660/3163 [00:44<03:59, 10.44it/s]"
     ]
    },
    {
     "name": "stdout",
     "output_type": "stream",
     "text": [
      "Successfully generated MCQ with quality score 4 for ID OIC-088-03-A\n"
     ]
    },
    {
     "name": "stderr",
     "output_type": "stream",
     "text": [
      "Creating pairs:  21%|███████████████▎                                                        | 673/3163 [00:48<05:30,  7.53it/s]"
     ]
    },
    {
     "name": "stdout",
     "output_type": "stream",
     "text": [
      "Successfully generated MCQ with quality score 3 for ID OIC-335-08-B\n"
     ]
    },
    {
     "name": "stderr",
     "output_type": "stream",
     "text": [
      "Creating pairs:  28%|███████████████████▉                                                    | 877/3163 [00:51<01:29, 25.66it/s]"
     ]
    },
    {
     "name": "stdout",
     "output_type": "stream",
     "text": [
      "Successfully generated MCQ with quality score 4 for ID OIC-003-10-B\n"
     ]
    },
    {
     "name": "stderr",
     "output_type": "stream",
     "text": [
      "Creating pairs:  28%|████████████████████                                                    | 883/3163 [00:55<02:07, 17.89it/s]"
     ]
    },
    {
     "name": "stdout",
     "output_type": "stream",
     "text": [
      "Successfully generated MCQ with quality score 5 for ID OIC-062-04-B\n"
     ]
    },
    {
     "name": "stderr",
     "output_type": "stream",
     "text": [
      "Creating pairs:  28%|████████████████████▏                                                   | 889/3163 [00:57<02:41, 14.04it/s]"
     ]
    },
    {
     "name": "stdout",
     "output_type": "stream",
     "text": [
      "Successfully generated MCQ with quality score 4 for ID OIC-163-04-A\n"
     ]
    },
    {
     "name": "stderr",
     "output_type": "stream",
     "text": [
      "Creating pairs:  30%|█████████████████████▊                                                  | 956/3163 [01:00<02:15, 16.31it/s]"
     ]
    },
    {
     "name": "stdout",
     "output_type": "stream",
     "text": [
      "Successfully generated MCQ with quality score 4 for ID OIC-123-04-A\n"
     ]
    },
    {
     "name": "stderr",
     "output_type": "stream",
     "text": [
      "Creating pairs:  31%|██████████████████████▏                                                 | 973/3163 [01:04<03:00, 12.12it/s]"
     ]
    },
    {
     "name": "stdout",
     "output_type": "stream",
     "text": [
      "Successfully generated MCQ with quality score 4 for ID OIC-007-03-B\n"
     ]
    },
    {
     "name": "stderr",
     "output_type": "stream",
     "text": [
      "Creating pairs:  33%|███████████████████████                                                | 1029/3163 [01:09<02:53, 12.31it/s]"
     ]
    },
    {
     "name": "stdout",
     "output_type": "stream",
     "text": [
      "Successfully generated MCQ with quality score 4 for ID OIC-331-06-A\n"
     ]
    },
    {
     "name": "stderr",
     "output_type": "stream",
     "text": [
      "Creating pairs:  33%|███████████████████████▏                                               | 1031/3163 [01:11<03:39,  9.70it/s]"
     ]
    },
    {
     "name": "stdout",
     "output_type": "stream",
     "text": [
      "Successfully generated MCQ with quality score 4 for ID OIC-128-06-A\n"
     ]
    },
    {
     "name": "stderr",
     "output_type": "stream",
     "text": [
      "Creating pairs:  33%|███████████████████████▌                                               | 1050/3163 [01:14<04:09,  8.46it/s]"
     ]
    },
    {
     "name": "stdout",
     "output_type": "stream",
     "text": [
      "Successfully generated MCQ with quality score 4 for ID OIC-295-07-B\n"
     ]
    },
    {
     "name": "stderr",
     "output_type": "stream",
     "text": [
      "Creating pairs:  35%|█████████████████████████▏                                             | 1120/3163 [01:21<03:41,  9.22it/s]"
     ]
    },
    {
     "name": "stdout",
     "output_type": "stream",
     "text": [
      "Successfully generated MCQ with quality score 4 for ID OIC-337-10-A\n"
     ]
    },
    {
     "name": "stderr",
     "output_type": "stream",
     "text": [
      "Creating pairs:  36%|█████████████████████████▍                                             | 1132/3163 [01:24<04:07,  8.20it/s]"
     ]
    },
    {
     "name": "stdout",
     "output_type": "stream",
     "text": [
      "Successfully generated MCQ with quality score 4 for ID OIC-054-03-A\n"
     ]
    },
    {
     "name": "stderr",
     "output_type": "stream",
     "text": [
      "Creating pairs:  37%|██████████████████████████▏                                            | 1164/3163 [01:30<04:40,  7.12it/s]"
     ]
    },
    {
     "name": "stdout",
     "output_type": "stream",
     "text": [
      "Successfully generated MCQ with quality score 4 for ID OIC-004-24-B\n"
     ]
    },
    {
     "name": "stderr",
     "output_type": "stream",
     "text": [
      "Creating pairs:  40%|████████████████████████████▎                                          | 1264/3163 [01:33<02:29, 12.73it/s]"
     ]
    },
    {
     "name": "stdout",
     "output_type": "stream",
     "text": [
      "Successfully generated MCQ with quality score 4 for ID OIC-023-05-B\n"
     ]
    },
    {
     "name": "stderr",
     "output_type": "stream",
     "text": [
      "Creating pairs:  40%|████████████████████████████▍                                          | 1266/3163 [01:35<02:58, 10.62it/s]"
     ]
    },
    {
     "name": "stdout",
     "output_type": "stream",
     "text": [
      "Successfully generated MCQ with quality score 4 for ID OIC-367-04-B\n"
     ]
    },
    {
     "name": "stderr",
     "output_type": "stream",
     "text": [
      "Creating pairs:  40%|████████████████████████████▌                                          | 1271/3163 [01:38<03:51,  8.17it/s]"
     ]
    },
    {
     "name": "stdout",
     "output_type": "stream",
     "text": [
      "Successfully generated MCQ with quality score 4 for ID OIC-289-06-A\n",
      "Attempt 1: Generated MCQ quality (1) below threshold of 2 for ID OIC-031-01-A\n"
     ]
    },
    {
     "name": "stderr",
     "output_type": "stream",
     "text": [
      "Creating pairs:  41%|█████████████████████████████                                          | 1293/3163 [01:44<04:53,  6.38it/s]"
     ]
    },
    {
     "name": "stdout",
     "output_type": "stream",
     "text": [
      "Successfully generated MCQ with quality score 2 for ID OIC-031-01-A\n"
     ]
    },
    {
     "name": "stderr",
     "output_type": "stream",
     "text": [
      "Creating pairs:  42%|█████████████████████████████▌                                         | 1316/3163 [01:47<04:28,  6.87it/s]"
     ]
    },
    {
     "name": "stdout",
     "output_type": "stream",
     "text": [
      "Successfully generated MCQ with quality score 4 for ID OIC-275-01-A\n"
     ]
    },
    {
     "name": "stderr",
     "output_type": "stream",
     "text": [
      "Creating pairs:  42%|█████████████████████████████▌                                         | 1319/3163 [01:50<05:58,  5.15it/s]"
     ]
    },
    {
     "name": "stdout",
     "output_type": "stream",
     "text": [
      "Successfully generated MCQ with quality score 4 for ID OIC-341-10-A\n"
     ]
    },
    {
     "name": "stderr",
     "output_type": "stream",
     "text": [
      "Creating pairs:  42%|██████████████████████████████                                         | 1340/3163 [01:53<05:24,  5.61it/s]"
     ]
    },
    {
     "name": "stdout",
     "output_type": "stream",
     "text": [
      "Successfully generated MCQ with quality score 4 for ID OIC-277-08-A\n"
     ]
    },
    {
     "name": "stderr",
     "output_type": "stream",
     "text": [
      "Creating pairs:  42%|██████████████████████████████▏                                        | 1343/3163 [01:56<06:53,  4.40it/s]"
     ]
    },
    {
     "name": "stdout",
     "output_type": "stream",
     "text": [
      "Successfully generated MCQ with quality score 4 for ID OIC-091-01-A\n"
     ]
    },
    {
     "name": "stderr",
     "output_type": "stream",
     "text": [
      "Creating pairs:  44%|███████████████████████████████▎                                       | 1396/3163 [01:58<03:15,  9.06it/s]"
     ]
    },
    {
     "name": "stdout",
     "output_type": "stream",
     "text": [
      "Successfully generated MCQ with quality score 4 for ID OIC-163-10-B\n"
     ]
    },
    {
     "name": "stderr",
     "output_type": "stream",
     "text": [
      "Creating pairs:  45%|███████████████████████████████▊                                       | 1415/3163 [02:01<03:44,  7.80it/s]"
     ]
    },
    {
     "name": "stdout",
     "output_type": "stream",
     "text": [
      "Successfully generated MCQ with quality score 4 for ID OIC-366-07-B\n"
     ]
    },
    {
     "name": "stderr",
     "output_type": "stream",
     "text": [
      "Creating pairs:  45%|████████████████████████████████                                       | 1427/3163 [02:04<04:03,  7.14it/s]"
     ]
    },
    {
     "name": "stdout",
     "output_type": "stream",
     "text": [
      "Successfully generated MCQ with quality score 4 for ID OIC-264-04-B\n"
     ]
    },
    {
     "name": "stderr",
     "output_type": "stream",
     "text": [
      "Creating pairs:  47%|█████████████████████████████████▎                                     | 1482/3163 [02:06<02:29, 11.27it/s]"
     ]
    },
    {
     "name": "stdout",
     "output_type": "stream",
     "text": [
      "Successfully generated MCQ with quality score 4 for ID OIC-155-40-B\n"
     ]
    },
    {
     "name": "stderr",
     "output_type": "stream",
     "text": [
      "Creating pairs:  49%|██████████████████████████████████▌                                    | 1540/3163 [02:09<01:51, 14.53it/s]"
     ]
    },
    {
     "name": "stdout",
     "output_type": "stream",
     "text": [
      "Successfully generated MCQ with quality score 4 for ID OIC-122-03-A\n"
     ]
    },
    {
     "name": "stderr",
     "output_type": "stream",
     "text": [
      "Creating pairs:  49%|██████████████████████████████████▋                                    | 1547/3163 [02:12<02:31, 10.64it/s]"
     ]
    },
    {
     "name": "stdout",
     "output_type": "stream",
     "text": [
      "Successfully generated MCQ with quality score 4 for ID OIC-069-02-B\n"
     ]
    },
    {
     "name": "stderr",
     "output_type": "stream",
     "text": [
      "Creating pairs:  50%|███████████████████████████████████▏                                   | 1567/3163 [02:14<02:29, 10.69it/s]"
     ]
    },
    {
     "name": "stdout",
     "output_type": "stream",
     "text": [
      "Successfully generated MCQ with quality score 3 for ID OIC-323-08-A\n"
     ]
    },
    {
     "name": "stderr",
     "output_type": "stream",
     "text": [
      "Creating pairs:  52%|████████████████████████████████████▉                                  | 1646/3163 [02:16<01:31, 16.54it/s]"
     ]
    },
    {
     "name": "stdout",
     "output_type": "stream",
     "text": [
      "Successfully generated MCQ with quality score 4 for ID OIC-150-05-B\n"
     ]
    },
    {
     "name": "stderr",
     "output_type": "stream",
     "text": [
      "Creating pairs:  52%|█████████████████████████████████████▏                                 | 1656/3163 [02:19<01:54, 13.21it/s]"
     ]
    },
    {
     "name": "stdout",
     "output_type": "stream",
     "text": [
      "Successfully generated MCQ with quality score 4 for ID OIC-003-09-B\n"
     ]
    },
    {
     "name": "stderr",
     "output_type": "stream",
     "text": [
      "Creating pairs:  53%|█████████████████████████████████████▍                                 | 1666/3163 [02:21<02:22, 10.48it/s]"
     ]
    },
    {
     "name": "stdout",
     "output_type": "stream",
     "text": [
      "Successfully generated MCQ with quality score 4 for ID OIC-023-18-A\n"
     ]
    },
    {
     "name": "stderr",
     "output_type": "stream",
     "text": [
      "Creating pairs:  54%|██████████████████████████████████████▌                                | 1719/3163 [02:23<01:38, 14.72it/s]"
     ]
    },
    {
     "name": "stdout",
     "output_type": "stream",
     "text": [
      "Successfully generated MCQ with quality score 4 for ID OIC-286-13-A\n"
     ]
    },
    {
     "name": "stderr",
     "output_type": "stream",
     "text": [
      "Creating pairs:  55%|███████████████████████████████████████                                | 1741/3163 [02:25<01:46, 13.39it/s]"
     ]
    },
    {
     "name": "stdout",
     "output_type": "stream",
     "text": [
      "Successfully generated MCQ with quality score 4 for ID OIC-300-09-B\n"
     ]
    },
    {
     "name": "stderr",
     "output_type": "stream",
     "text": [
      "Creating pairs:  55%|███████████████████████████████████████▏                               | 1746/3163 [02:28<02:39,  8.86it/s]"
     ]
    },
    {
     "name": "stdout",
     "output_type": "stream",
     "text": [
      "Successfully generated MCQ with quality score 4 for ID OIC-337-21-B\n"
     ]
    },
    {
     "name": "stderr",
     "output_type": "stream",
     "text": [
      "Creating pairs:  56%|███████████████████████████████████████▋                               | 1769/3163 [02:31<02:36,  8.93it/s]"
     ]
    },
    {
     "name": "stdout",
     "output_type": "stream",
     "text": [
      "Successfully generated MCQ with quality score 4 for ID OIC-308-02-B\n"
     ]
    },
    {
     "name": "stderr",
     "output_type": "stream",
     "text": [
      "Creating pairs:  57%|████████████████████████████████████████▍                              | 1803/3163 [02:34<02:19,  9.75it/s]"
     ]
    },
    {
     "name": "stdout",
     "output_type": "stream",
     "text": [
      "Successfully generated MCQ with quality score 3 for ID OIC-231-20-A\n"
     ]
    },
    {
     "name": "stderr",
     "output_type": "stream",
     "text": [
      "Creating pairs:  57%|████████████████████████████████████████▋                              | 1810/3163 [02:38<03:15,  6.91it/s]"
     ]
    },
    {
     "name": "stdout",
     "output_type": "stream",
     "text": [
      "Successfully generated MCQ with quality score 4 for ID OIC-248-11-B\n"
     ]
    },
    {
     "name": "stderr",
     "output_type": "stream",
     "text": [
      "Creating pairs:  60%|██████████████████████████████████████████▎                            | 1887/3163 [02:41<01:40, 12.67it/s]"
     ]
    },
    {
     "name": "stdout",
     "output_type": "stream",
     "text": [
      "Successfully generated MCQ with quality score 4 for ID OIC-231-08-B\n"
     ]
    },
    {
     "name": "stderr",
     "output_type": "stream",
     "text": [
      "Creating pairs:  60%|██████████████████████████████████████████▊                            | 1910/3163 [02:43<01:47, 11.67it/s]"
     ]
    },
    {
     "name": "stdout",
     "output_type": "stream",
     "text": [
      "Successfully generated MCQ with quality score 4 for ID OIC-023-15-A\n"
     ]
    },
    {
     "name": "stderr",
     "output_type": "stream",
     "text": [
      "Creating pairs:  66%|███████████████████████████████████████████████▏                       | 2101/3163 [02:45<00:35, 29.92it/s]"
     ]
    },
    {
     "name": "stdout",
     "output_type": "stream",
     "text": [
      "Successfully generated MCQ with quality score 4 for ID OIC-366-05-A\n"
     ]
    },
    {
     "name": "stderr",
     "output_type": "stream",
     "text": [
      "Creating pairs:  67%|███████████████████████████████████████████████▋                       | 2126/3163 [02:48<00:41, 25.24it/s]"
     ]
    },
    {
     "name": "stdout",
     "output_type": "stream",
     "text": [
      "Successfully generated MCQ with quality score 4 for ID OIC-355-16-B\n"
     ]
    },
    {
     "name": "stderr",
     "output_type": "stream",
     "text": [
      "Creating pairs:  68%|████████████████████████████████████████████████▍                      | 2157/3163 [02:50<00:44, 22.44it/s]"
     ]
    },
    {
     "name": "stdout",
     "output_type": "stream",
     "text": [
      "Successfully generated MCQ with quality score 4 for ID OIC-185-09-B\n",
      "Attempt 1: Generated MCQ quality (1) below threshold of 2 for ID OIC-118-07-A\n"
     ]
    },
    {
     "name": "stderr",
     "output_type": "stream",
     "text": [
      "Creating pairs:  68%|████████████████████████████████████████████████▌                      | 2165/3163 [02:54<01:14, 13.46it/s]"
     ]
    },
    {
     "name": "stdout",
     "output_type": "stream",
     "text": [
      "Successfully generated MCQ with quality score 4 for ID OIC-118-07-A\n"
     ]
    },
    {
     "name": "stderr",
     "output_type": "stream",
     "text": [
      "Creating pairs:  69%|█████████████████████████████████████████████████▎                     | 2196/3163 [02:59<01:30, 10.70it/s]"
     ]
    },
    {
     "name": "stdout",
     "output_type": "stream",
     "text": [
      "Successfully generated MCQ with quality score 3 for ID OIC-289-01-A\n"
     ]
    },
    {
     "name": "stderr",
     "output_type": "stream",
     "text": [
      "Creating pairs:  71%|██████████████████████████████████████████████████▏                    | 2238/3163 [03:01<01:13, 12.57it/s]"
     ]
    },
    {
     "name": "stdout",
     "output_type": "stream",
     "text": [
      "Successfully generated MCQ with quality score 4 for ID OIC-337-06-B\n",
      "Successfully generated MCQ with quality score 4 for ID OIC-366-01-A\n"
     ]
    },
    {
     "name": "stderr",
     "output_type": "stream",
     "text": [
      "Creating pairs:  71%|██████████████████████████████████████████████████▎                    | 2240/3163 [03:08<02:22,  6.46it/s]"
     ]
    },
    {
     "name": "stdout",
     "output_type": "stream",
     "text": [
      "Successfully generated MCQ with quality score 4 for ID OIC-155-03-A\n"
     ]
    },
    {
     "name": "stderr",
     "output_type": "stream",
     "text": [
      "Creating pairs:  71%|██████████████████████████████████████████████████▎                    | 2242/3163 [03:11<02:53,  5.29it/s]"
     ]
    },
    {
     "name": "stdout",
     "output_type": "stream",
     "text": [
      "Successfully generated MCQ with quality score 4 for ID OIC-152-01-A\n"
     ]
    },
    {
     "name": "stderr",
     "output_type": "stream",
     "text": [
      "Creating pairs:  74%|████████████████████████████████████████████████████▎                  | 2329/3163 [03:13<01:07, 12.38it/s]"
     ]
    },
    {
     "name": "stdout",
     "output_type": "stream",
     "text": [
      "Successfully generated MCQ with quality score 4 for ID OIC-118-13-B\n"
     ]
    },
    {
     "name": "stderr",
     "output_type": "stream",
     "text": [
      "Creating pairs:  75%|████████████████████████████████████████████████████▉                  | 2360/3163 [03:16<01:11, 11.25it/s]"
     ]
    },
    {
     "name": "stdout",
     "output_type": "stream",
     "text": [
      "Successfully generated MCQ with quality score 4 for ID OIC-250-04-A\n"
     ]
    },
    {
     "name": "stderr",
     "output_type": "stream",
     "text": [
      "Creating pairs:  77%|██████████████████████████████████████████████████████▍                | 2423/3163 [03:18<00:49, 14.84it/s]"
     ]
    },
    {
     "name": "stdout",
     "output_type": "stream",
     "text": [
      "Successfully generated MCQ with quality score 4 for ID OIC-211-10-B\n"
     ]
    },
    {
     "name": "stderr",
     "output_type": "stream",
     "text": [
      "Creating pairs:  77%|██████████████████████████████████████████████████████▌                | 2429/3163 [03:22<01:08, 10.71it/s]"
     ]
    },
    {
     "name": "stdout",
     "output_type": "stream",
     "text": [
      "Successfully generated MCQ with quality score 4 for ID OIC-057-27-A\n"
     ]
    },
    {
     "name": "stderr",
     "output_type": "stream",
     "text": [
      "Creating pairs:  78%|███████████████████████████████████████████████████████▏               | 2460/3163 [03:25<01:09, 10.13it/s]"
     ]
    },
    {
     "name": "stdout",
     "output_type": "stream",
     "text": [
      "Successfully generated MCQ with quality score 4 for ID OIC-334-08-B\n"
     ]
    },
    {
     "name": "stderr",
     "output_type": "stream",
     "text": [
      "Creating pairs:  78%|███████████████████████████████████████████████████████▍               | 2471/3163 [03:28<01:21,  8.47it/s]"
     ]
    },
    {
     "name": "stdout",
     "output_type": "stream",
     "text": [
      "Successfully generated MCQ with quality score 4 for ID OIC-195-16-B\n"
     ]
    },
    {
     "name": "stderr",
     "output_type": "stream",
     "text": [
      "Creating pairs:  79%|███████████████████████████████████████████████████████▋               | 2483/3163 [03:31<01:34,  7.22it/s]"
     ]
    },
    {
     "name": "stdout",
     "output_type": "stream",
     "text": [
      "Successfully generated MCQ with quality score 4 for ID OIC-324-01-A\n"
     ]
    },
    {
     "name": "stderr",
     "output_type": "stream",
     "text": [
      "Creating pairs:  79%|███████████████████████████████████████████████████████▉               | 2491/3163 [03:34<01:58,  5.66it/s]"
     ]
    },
    {
     "name": "stdout",
     "output_type": "stream",
     "text": [
      "Successfully generated MCQ with quality score 4 for ID OIC-149-23-B\n"
     ]
    },
    {
     "name": "stderr",
     "output_type": "stream",
     "text": [
      "Creating pairs:  79%|███████████████████████████████████████████████████████▉               | 2494/3163 [03:37<02:28,  4.51it/s]"
     ]
    },
    {
     "name": "stdout",
     "output_type": "stream",
     "text": [
      "Successfully generated MCQ with quality score 4 for ID OIC-036-11-B\n"
     ]
    },
    {
     "name": "stderr",
     "output_type": "stream",
     "text": [
      "Creating pairs:  79%|████████████████████████████████████████████████████████               | 2500/3163 [03:41<03:13,  3.43it/s]"
     ]
    },
    {
     "name": "stdout",
     "output_type": "stream",
     "text": [
      "Successfully generated MCQ with quality score 3 for ID OIC-276-02-B\n"
     ]
    },
    {
     "name": "stderr",
     "output_type": "stream",
     "text": [
      "Creating pairs:  79%|████████████████████████████████████████████████████████▎              | 2510/3163 [03:44<03:15,  3.34it/s]"
     ]
    },
    {
     "name": "stdout",
     "output_type": "stream",
     "text": [
      "Successfully generated MCQ with quality score 4 for ID OIC-334-35-A\n"
     ]
    },
    {
     "name": "stderr",
     "output_type": "stream",
     "text": [
      "Creating pairs:  79%|████████████████████████████████████████████████████████▍              | 2512/3163 [03:46<04:00,  2.70it/s]"
     ]
    },
    {
     "name": "stdout",
     "output_type": "stream",
     "text": [
      "Successfully generated MCQ with quality score 4 for ID OIC-079-05-A\n"
     ]
    },
    {
     "name": "stderr",
     "output_type": "stream",
     "text": [
      "Creating pairs:  80%|████████████████████████████████████████████████████████▌              | 2520/3163 [03:50<04:09,  2.58it/s]"
     ]
    },
    {
     "name": "stdout",
     "output_type": "stream",
     "text": [
      "Successfully generated MCQ with quality score 4 for ID OIC-122-12-B\n"
     ]
    },
    {
     "name": "stderr",
     "output_type": "stream",
     "text": [
      "Creating pairs:  80%|████████████████████████████████████████████████████████▋              | 2525/3163 [03:54<04:58,  2.14it/s]"
     ]
    },
    {
     "name": "stdout",
     "output_type": "stream",
     "text": [
      "Successfully generated MCQ with quality score 3 for ID OIC-139-07-B\n"
     ]
    },
    {
     "name": "stderr",
     "output_type": "stream",
     "text": [
      "Creating pairs:  80%|████████████████████████████████████████████████████████▉              | 2539/3163 [03:56<03:23,  3.07it/s]"
     ]
    },
    {
     "name": "stdout",
     "output_type": "stream",
     "text": [
      "Successfully generated MCQ with quality score 4 for ID OIC-196-04-A\n"
     ]
    },
    {
     "name": "stderr",
     "output_type": "stream",
     "text": [
      "Creating pairs:  81%|█████████████████████████████████████████████████████████▎             | 2552/3163 [03:58<02:45,  3.69it/s]"
     ]
    },
    {
     "name": "stdout",
     "output_type": "stream",
     "text": [
      "Successfully generated MCQ with quality score 4 for ID OIC-335-23-A\n"
     ]
    },
    {
     "name": "stderr",
     "output_type": "stream",
     "text": [
      "Creating pairs:  85%|████████████████████████████████████████████████████████████▎          | 2689/3163 [04:02<00:30, 15.67it/s]"
     ]
    },
    {
     "name": "stdout",
     "output_type": "stream",
     "text": [
      "Successfully generated MCQ with quality score 3 for ID OIC-120-02-A\n"
     ]
    },
    {
     "name": "stderr",
     "output_type": "stream",
     "text": [
      "Creating pairs:  85%|████████████████████████████████████████████████████████████▍          | 2693/3163 [04:04<00:37, 12.40it/s]"
     ]
    },
    {
     "name": "stdout",
     "output_type": "stream",
     "text": [
      "Successfully generated MCQ with quality score 3 for ID OIC-113-05-B\n"
     ]
    },
    {
     "name": "stderr",
     "output_type": "stream",
     "text": [
      "Creating pairs:  85%|████████████████████████████████████████████████████████████▍          | 2695/3163 [04:07<00:53,  8.82it/s]"
     ]
    },
    {
     "name": "stdout",
     "output_type": "stream",
     "text": [
      "Successfully generated MCQ with quality score 4 for ID OIC-061-05-A\n"
     ]
    },
    {
     "name": "stderr",
     "output_type": "stream",
     "text": [
      "Creating pairs:  86%|████████████████████████████████████████████████████████████▉          | 2717/3163 [04:13<01:09,  6.41it/s]"
     ]
    },
    {
     "name": "stdout",
     "output_type": "stream",
     "text": [
      "Successfully generated MCQ with quality score 3 for ID OIC-066-14-A\n"
     ]
    },
    {
     "name": "stderr",
     "output_type": "stream",
     "text": [
      "Creating pairs:  88%|██████████████████████████████████████████████████████████████▎        | 2774/3163 [04:16<00:40,  9.71it/s]"
     ]
    },
    {
     "name": "stdout",
     "output_type": "stream",
     "text": [
      "Successfully generated MCQ with quality score 4 for ID OIC-129-02-B\n"
     ]
    },
    {
     "name": "stderr",
     "output_type": "stream",
     "text": [
      "Creating pairs:  88%|██████████████████████████████████████████████████████████████▎        | 2778/3163 [04:20<00:55,  6.92it/s]"
     ]
    },
    {
     "name": "stdout",
     "output_type": "stream",
     "text": [
      "Successfully generated MCQ with quality score 5 for ID OIC-064-01-A\n"
     ]
    },
    {
     "name": "stderr",
     "output_type": "stream",
     "text": [
      "Creating pairs:  88%|██████████████████████████████████████████████████████████████▊        | 2796/3163 [04:23<00:55,  6.60it/s]"
     ]
    },
    {
     "name": "stdout",
     "output_type": "stream",
     "text": [
      "Successfully generated MCQ with quality score 4 for ID OIC-177-31-A\n"
     ]
    },
    {
     "name": "stderr",
     "output_type": "stream",
     "text": [
      "Creating pairs:  89%|███████████████████████████████████████████████████████████████▌       | 2830/3163 [04:26<00:42,  7.82it/s]"
     ]
    },
    {
     "name": "stdout",
     "output_type": "stream",
     "text": [
      "Successfully generated MCQ with quality score 4 for ID OIC-080-09-B\n"
     ]
    },
    {
     "name": "stderr",
     "output_type": "stream",
     "text": [
      "Creating pairs:  95%|███████████████████████████████████████████████████████████████████▏   | 2991/3163 [04:31<00:09, 17.54it/s]"
     ]
    },
    {
     "name": "stdout",
     "output_type": "stream",
     "text": [
      "Successfully generated MCQ with quality score 4 for ID OIC-149-17-B\n"
     ]
    },
    {
     "name": "stderr",
     "output_type": "stream",
     "text": [
      "Creating pairs:  95%|███████████████████████████████████████████████████████████████████▏   | 2995/3163 [04:33<00:11, 14.19it/s]"
     ]
    },
    {
     "name": "stdout",
     "output_type": "stream",
     "text": [
      "Successfully generated MCQ with quality score 4 for ID OIC-155-26-B\n"
     ]
    },
    {
     "name": "stderr",
     "output_type": "stream",
     "text": [
      "Creating pairs:  96%|███████████████████████████████████████████████████████████████████▉   | 3028/3163 [04:36<00:09, 14.07it/s]"
     ]
    },
    {
     "name": "stdout",
     "output_type": "stream",
     "text": [
      "Successfully generated MCQ with quality score 4 for ID OIC-012-01-A\n"
     ]
    },
    {
     "name": "stderr",
     "output_type": "stream",
     "text": [
      "Creating pairs:  97%|█████████████████████████████████████████████████████████████████████  | 3074/3163 [04:38<00:05, 15.44it/s]"
     ]
    },
    {
     "name": "stdout",
     "output_type": "stream",
     "text": [
      "Successfully generated MCQ with quality score 4 for ID OIC-111-08-B\n"
     ]
    },
    {
     "name": "stderr",
     "output_type": "stream",
     "text": [
      "Creating pairs:  97%|█████████████████████████████████████████████████████████████████████▏ | 3082/3163 [04:41<00:06, 11.96it/s]"
     ]
    },
    {
     "name": "stdout",
     "output_type": "stream",
     "text": [
      "Successfully generated MCQ with quality score 4 for ID OIC-166-14-A\n"
     ]
    },
    {
     "name": "stderr",
     "output_type": "stream",
     "text": [
      "Creating pairs:  98%|█████████████████████████████████████████████████████████████████████▌ | 3100/3163 [04:43<00:05, 11.00it/s]"
     ]
    },
    {
     "name": "stdout",
     "output_type": "stream",
     "text": [
      "Successfully generated MCQ with quality score 5 for ID OIC-287-05-A\n"
     ]
    },
    {
     "name": "stderr",
     "output_type": "stream",
     "text": [
      "Creating pairs:  99%|██████████████████████████████████████████████████████████████████████▎| 3130/3163 [04:47<00:03,  9.56it/s]"
     ]
    },
    {
     "name": "stdout",
     "output_type": "stream",
     "text": [
      "Successfully generated MCQ with quality score 3 for ID OIC-060-01-A\n"
     ]
    },
    {
     "name": "stderr",
     "output_type": "stream",
     "text": [
      "Creating pairs: 100%|███████████████████████████████████████████████████████████████████████| 3163/3163 [04:50<00:00, 10.90it/s]"
     ]
    },
    {
     "name": "stdout",
     "output_type": "stream",
     "text": [
      "Successfully generated MCQ with quality score 4 for ID OIC-040-01-A\n"
     ]
    },
    {
     "name": "stderr",
     "output_type": "stream",
     "text": [
      "\n"
     ]
    }
   ],
   "source": [
    "nb_good_only = 0\n",
    "nb_bad_only = 0\n",
    "nb_mixed = 0\n",
    "nb_gpt4o_generated = 0\n",
    "all_pairs = []\n",
    "\n",
    "# Process each ID to create pairs\n",
    "for idx in tqdm(ids, desc=\"Creating pairs\"):\n",
    "    bad_mcqs_list = []\n",
    "    good_mcqs_list = []\n",
    "    \n",
    "    if idx in bad_mcqs:\n",
    "        bad_datasets = bad_mcqs[idx]\n",
    "        for dataset in bad_datasets:\n",
    "            if idx in id2mcqs[dataset]:\n",
    "                bad_mcqs_list.append((id2mcqs[dataset][idx], dataset))\n",
    "    else:\n",
    "        # All MCQs are good\n",
    "        nb_good_only += 1\n",
    "        continue\n",
    "        \n",
    "    if idx in good_mcqs:\n",
    "        good_datasets = good_mcqs[idx]\n",
    "        for dataset in good_datasets:\n",
    "            if idx in id2mcqs[dataset]:\n",
    "                good_mcqs_list.append((id2mcqs[dataset][idx], dataset))\n",
    "        nb_mixed += 1\n",
    "    else:\n",
    "        # All MCQs are bad - try to generate a good one with GPT-4o\n",
    "        nb_bad_only += 1\n",
    "        \n",
    "        # Get sample question from one of the bad MCQs\n",
    "        sample_question = bad_mcqs_list[0][0][\"question\"]\n",
    "        \n",
    "        # Try to generate a good MCQ with GPT-4o (up to max_attempts times)\n",
    "        for attempt in range(max_gpt4o_attempts):\n",
    "            generated_mcq, quality = generate_good_mcq_with_gpt4o(sample_question)\n",
    "            \n",
    "            if generated_mcq and quality >= level_quality:  # Aim for quality 3 or higher\n",
    "                good_mcqs_list.append((generated_mcq, \"gpt-4o\"))\n",
    "                nb_gpt4o_generated += 1\n",
    "                print(f\"Successfully generated MCQ with quality score {quality} for ID {idx}\")\n",
    "                break\n",
    "            else:\n",
    "                print(f\"Attempt {attempt+1}: Generated MCQ quality ({quality}) below threshold of {level_quality} for ID {idx}\")\n",
    "        \n",
    "        # If we couldn't generate a good MCQ, skip this ID\n",
    "        if not good_mcqs_list:\n",
    "            print(f\"Could not generate good MCQ for ID {idx} after {max_gpt4o_attempts} attempts. Skipping.\")\n",
    "            continue\n",
    "    \n",
    "    # Create all possible (good, bad) pairs\n",
    "    for good_item, bad_item in itertools.product(good_mcqs_list, bad_mcqs_list):\n",
    "        good_mcq, good_source = good_item\n",
    "        bad_mcq, bad_source = bad_item\n",
    "        \n",
    "        pair = create_pair(idx, good_mcq, bad_mcq, good_source, bad_source)\n",
    "        all_pairs.append(pair)\n",
    "\n",
    "# Convert to DataFrame\n",
    "pairs_df = pd.DataFrame(all_pairs)"
   ]
  },
  {
   "cell_type": "code",
   "execution_count": 21,
   "id": "a1f77f09-e4b7-42a8-b4e0-5e2d676cf680",
   "metadata": {},
   "outputs": [
    {
     "data": {
      "text/html": [
       "<div>\n",
       "<style scoped>\n",
       "    .dataframe tbody tr th:only-of-type {\n",
       "        vertical-align: middle;\n",
       "    }\n",
       "\n",
       "    .dataframe tbody tr th {\n",
       "        vertical-align: top;\n",
       "    }\n",
       "\n",
       "    .dataframe thead th {\n",
       "        text-align: right;\n",
       "    }\n",
       "</style>\n",
       "<table border=\"1\" class=\"dataframe\">\n",
       "  <thead>\n",
       "    <tr style=\"text-align: right;\">\n",
       "      <th></th>\n",
       "      <th>id</th>\n",
       "      <th>chosen</th>\n",
       "      <th>rejected</th>\n",
       "      <th>chosen_source</th>\n",
       "      <th>rejected_source</th>\n",
       "    </tr>\n",
       "  </thead>\n",
       "  <tbody>\n",
       "    <tr>\n",
       "      <th>0</th>\n",
       "      <td>OIC-131-17-A</td>\n",
       "      <td>Question: Which of the following is NOT a pote...</td>\n",
       "      <td>Question: What is a priority etiological diagn...</td>\n",
       "      <td>gemma_9b_distractor_quality</td>\n",
       "      <td>Llama8B_0.1_distractor_quality</td>\n",
       "    </tr>\n",
       "    <tr>\n",
       "      <th>1</th>\n",
       "      <td>OIC-131-17-A</td>\n",
       "      <td>Question: Which of the following is NOT a pote...</td>\n",
       "      <td>Question: What is the primary etiological fact...</td>\n",
       "      <td>gemma_9b_distractor_quality</td>\n",
       "      <td>Llama1b_distractor_quality</td>\n",
       "    </tr>\n",
       "    <tr>\n",
       "      <th>2</th>\n",
       "      <td>OIC-340-11-A</td>\n",
       "      <td>Question: What is the main purpose of confirmi...</td>\n",
       "      <td>Question: Which imaging technique is most effe...</td>\n",
       "      <td>Llama1b_distractor_quality</td>\n",
       "      <td>gemma_9b_distractor_quality</td>\n",
       "    </tr>\n",
       "    <tr>\n",
       "      <th>3</th>\n",
       "      <td>OIC-340-11-A</td>\n",
       "      <td>Question: What is the main purpose of confirmi...</td>\n",
       "      <td>Question: What is the purpose of additional in...</td>\n",
       "      <td>Llama1b_distractor_quality</td>\n",
       "      <td>Llama8B_0.1_distractor_quality</td>\n",
       "    </tr>\n",
       "    <tr>\n",
       "      <th>4</th>\n",
       "      <td>OIC-091-12-A</td>\n",
       "      <td>Question: Which of the following is a characte...</td>\n",
       "      <td>Question: What are the three main causes of re...</td>\n",
       "      <td>gemma_9b_distractor_quality</td>\n",
       "      <td>Llama8B_0.1_distractor_quality</td>\n",
       "    </tr>\n",
       "    <tr>\n",
       "      <th>...</th>\n",
       "      <td>...</td>\n",
       "      <td>...</td>\n",
       "      <td>...</td>\n",
       "      <td>...</td>\n",
       "      <td>...</td>\n",
       "    </tr>\n",
       "    <tr>\n",
       "      <th>4924</th>\n",
       "      <td>OIC-040-01-A</td>\n",
       "      <td>Question: A 45-year-old woman presents with su...</td>\n",
       "      <td>Question: What is the main difference between ...</td>\n",
       "      <td>gpt-4o</td>\n",
       "      <td>Llama1b_distractor_quality</td>\n",
       "    </tr>\n",
       "    <tr>\n",
       "      <th>4925</th>\n",
       "      <td>OIC-152-06-B</td>\n",
       "      <td>Question: Which of the following heart conditi...</td>\n",
       "      <td>Question: What is the main difference between ...</td>\n",
       "      <td>gemma_9b_distractor_quality</td>\n",
       "      <td>Llama1b_distractor_quality</td>\n",
       "    </tr>\n",
       "    <tr>\n",
       "      <th>4926</th>\n",
       "      <td>OIC-152-06-B</td>\n",
       "      <td>Question: Which group of heart diseases is con...</td>\n",
       "      <td>Question: What is the main difference between ...</td>\n",
       "      <td>Llama8B_0.1_distractor_quality</td>\n",
       "      <td>Llama1b_distractor_quality</td>\n",
       "    </tr>\n",
       "    <tr>\n",
       "      <th>4927</th>\n",
       "      <td>OIC-249-03-B</td>\n",
       "      <td>Question: What is the main purpose of psychoso...</td>\n",
       "      <td>Question: Which of the following is NOT a psyc...</td>\n",
       "      <td>Llama1b_distractor_quality</td>\n",
       "      <td>gemma_9b_distractor_quality</td>\n",
       "    </tr>\n",
       "    <tr>\n",
       "      <th>4928</th>\n",
       "      <td>OIC-249-03-B</td>\n",
       "      <td>Question: What is the main purpose of psychoso...</td>\n",
       "      <td>Question: What is a key determinant of overall...</td>\n",
       "      <td>Llama1b_distractor_quality</td>\n",
       "      <td>Llama8B_0.1_distractor_quality</td>\n",
       "    </tr>\n",
       "  </tbody>\n",
       "</table>\n",
       "<p>4929 rows × 5 columns</p>\n",
       "</div>"
      ],
      "text/plain": [
       "                id                                             chosen  \\\n",
       "0     OIC-131-17-A  Question: Which of the following is NOT a pote...   \n",
       "1     OIC-131-17-A  Question: Which of the following is NOT a pote...   \n",
       "2     OIC-340-11-A  Question: What is the main purpose of confirmi...   \n",
       "3     OIC-340-11-A  Question: What is the main purpose of confirmi...   \n",
       "4     OIC-091-12-A  Question: Which of the following is a characte...   \n",
       "...            ...                                                ...   \n",
       "4924  OIC-040-01-A  Question: A 45-year-old woman presents with su...   \n",
       "4925  OIC-152-06-B  Question: Which of the following heart conditi...   \n",
       "4926  OIC-152-06-B  Question: Which group of heart diseases is con...   \n",
       "4927  OIC-249-03-B  Question: What is the main purpose of psychoso...   \n",
       "4928  OIC-249-03-B  Question: What is the main purpose of psychoso...   \n",
       "\n",
       "                                               rejected  \\\n",
       "0     Question: What is a priority etiological diagn...   \n",
       "1     Question: What is the primary etiological fact...   \n",
       "2     Question: Which imaging technique is most effe...   \n",
       "3     Question: What is the purpose of additional in...   \n",
       "4     Question: What are the three main causes of re...   \n",
       "...                                                 ...   \n",
       "4924  Question: What is the main difference between ...   \n",
       "4925  Question: What is the main difference between ...   \n",
       "4926  Question: What is the main difference between ...   \n",
       "4927  Question: Which of the following is NOT a psyc...   \n",
       "4928  Question: What is a key determinant of overall...   \n",
       "\n",
       "                       chosen_source                 rejected_source  \n",
       "0        gemma_9b_distractor_quality  Llama8B_0.1_distractor_quality  \n",
       "1        gemma_9b_distractor_quality      Llama1b_distractor_quality  \n",
       "2         Llama1b_distractor_quality     gemma_9b_distractor_quality  \n",
       "3         Llama1b_distractor_quality  Llama8B_0.1_distractor_quality  \n",
       "4        gemma_9b_distractor_quality  Llama8B_0.1_distractor_quality  \n",
       "...                              ...                             ...  \n",
       "4924                          gpt-4o      Llama1b_distractor_quality  \n",
       "4925     gemma_9b_distractor_quality      Llama1b_distractor_quality  \n",
       "4926  Llama8B_0.1_distractor_quality      Llama1b_distractor_quality  \n",
       "4927      Llama1b_distractor_quality     gemma_9b_distractor_quality  \n",
       "4928      Llama1b_distractor_quality  Llama8B_0.1_distractor_quality  \n",
       "\n",
       "[4929 rows x 5 columns]"
      ]
     },
     "execution_count": 21,
     "metadata": {},
     "output_type": "execute_result"
    }
   ],
   "source": [
    "pairs_df"
   ]
  },
  {
   "cell_type": "code",
   "execution_count": null,
   "id": "46927dee-4e80-4cbe-9f40-66eb009ce36d",
   "metadata": {},
   "outputs": [],
   "source": []
  },
  {
   "cell_type": "code",
   "execution_count": 125,
   "id": "ccdb09fc",
   "metadata": {},
   "outputs": [],
   "source": [
    "# Statistics\n",
    "print(f\"Statistics:\")\n",
    "print(f\"  IDs with all good MCQs: {nb_good_only}\")\n",
    "print(f\"  IDs with all bad MCQs: {nb_bad_only}\")\n",
    "print(f\"  IDs with mixed quality MCQs: {nb_mixed}\")\n",
    "print(f\"  MCQs generated with GPT-4o: {nb_gpt4o_generated}\")\n",
    "print(f\"  Total pairs created: {len(pairs_df)}\")\n",
    "\n",
    "# Split into training and evaluation datasets\n",
    "eval_size = min(len(pairs_df) // 10, 200)  # 10% or max 200 samples for evaluation\n",
    "eval_pairs = pairs_df.sample(n=eval_size, random_state=42)\n",
    "train_pairs = pairs_df.drop(eval_pairs.index)\n",
    "\n",
    "# Save to CSV\n",
    "pairs_df.to_csv(\"all_mcq_pairs.csv\", index=False)\n",
    "train_pairs.to_csv(\"train_mcq_pairs.csv\", index=False)\n",
    "eval_pairs.to_csv(\"eval_mcq_pairs.csv\", index=False)\n",
    "\n",
    "print(f\"Created {len(train_pairs)} training pairs and {len(eval_pairs)} evaluation pairs\")\n",
    "print(\"Files saved as all_mcq_pairs.csv, train_mcq_pairs.csv, and eval_mcq_pairs.csv\")"
   ]
  },
  {
   "cell_type": "code",
   "execution_count": 127,
   "id": "7916f655",
   "metadata": {},
   "outputs": [],
   "source": []
  },
  {
   "cell_type": "code",
   "execution_count": 128,
   "id": "93b6982a",
   "metadata": {},
   "outputs": [
    {
     "name": "stdout",
     "output_type": "stream",
     "text": [
      "746 of Lisa sheets (23.5852039203288%) gives only good MCQs across all LLMs\n",
      "95 of Lisa sheets (3.0034777110338284%) gives only bad MCQs across all LLMs\n"
     ]
    }
   ],
   "source": [
    "print(f'{nb_good_only} of Lisa sheets ({nb_good_only/len(ids)*100}%) gives only good MCQs across all LLMs')\n",
    "print(f'{nb_bad_only} of Lisa sheets ({nb_bad_only/len(ids)*100}%) gives only bad MCQs across all LLMs')"
   ]
  },
  {
   "cell_type": "code",
   "execution_count": null,
   "id": "ec234f5e",
   "metadata": {},
   "outputs": [],
   "source": []
  },
  {
   "cell_type": "code",
   "execution_count": null,
   "id": "15ce5f6d",
   "metadata": {},
   "outputs": [],
   "source": []
  },
  {
   "cell_type": "code",
   "execution_count": null,
   "id": "2abab1d6",
   "metadata": {},
   "outputs": [],
   "source": []
  },
  {
   "cell_type": "code",
   "execution_count": null,
   "id": "02eb50a0",
   "metadata": {},
   "outputs": [],
   "source": []
  },
  {
   "cell_type": "code",
   "execution_count": null,
   "id": "9ad1ffd6",
   "metadata": {},
   "outputs": [],
   "source": []
  },
  {
   "cell_type": "code",
   "execution_count": null,
   "id": "84859dad",
   "metadata": {},
   "outputs": [],
   "source": []
  },
  {
   "cell_type": "code",
   "execution_count": null,
   "id": "9a6cb313",
   "metadata": {},
   "outputs": [],
   "source": []
  },
  {
   "cell_type": "code",
   "execution_count": null,
   "id": "61a114e4",
   "metadata": {},
   "outputs": [],
   "source": []
  },
  {
   "cell_type": "code",
   "execution_count": null,
   "id": "1bc2b089",
   "metadata": {},
   "outputs": [],
   "source": []
  }
 ],
 "metadata": {
  "kernelspec": {
   "display_name": "Python (base)",
   "language": "python",
   "name": "base"
  },
  "language_info": {
   "codemirror_mode": {
    "name": "ipython",
    "version": 3
   },
   "file_extension": ".py",
   "mimetype": "text/x-python",
   "name": "python",
   "nbconvert_exporter": "python",
   "pygments_lexer": "ipython3",
   "version": "3.12.8"
  }
 },
 "nbformat": 4,
 "nbformat_minor": 5
}
